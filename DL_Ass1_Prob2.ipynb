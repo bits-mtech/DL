{
 "cells": [
  {
   "cell_type": "code",
   "execution_count": 1,
   "metadata": {},
   "outputs": [],
   "source": [
    "# Assignment : DL Assignment 1 Question 2\n",
    "# Group No. 82\n",
    "# Mriganka Gayen\n",
    "# Subodh Kant Mishra\n",
    "# Ashutosh Sahebrao Dhok"
   ]
  },
  {
   "cell_type": "code",
   "execution_count": 3,
   "metadata": {
    "scrolled": true
   },
   "outputs": [
    {
     "ename": "ImportError",
     "evalue": "cannot import name 'LayerNormalization' from 'tensorflow.python.keras.layers.normalization' (D:\\ProgramData\\Anaconda3\\lib\\site-packages\\tensorflow\\python\\keras\\layers\\normalization\\__init__.py)",
     "output_type": "error",
     "traceback": [
      "\u001b[1;31m---------------------------------------------------------------------------\u001b[0m",
      "\u001b[1;31mImportError\u001b[0m                               Traceback (most recent call last)",
      "\u001b[1;32m~\\AppData\\Local\\Temp/ipykernel_28940/3108417572.py\u001b[0m in \u001b[0;36m<module>\u001b[1;34m\u001b[0m\n\u001b[0;32m      3\u001b[0m \u001b[1;32mimport\u001b[0m \u001b[0mpandas\u001b[0m \u001b[1;32mas\u001b[0m \u001b[0mpd\u001b[0m\u001b[1;33m\u001b[0m\u001b[1;33m\u001b[0m\u001b[0m\n\u001b[0;32m      4\u001b[0m \u001b[1;32mimport\u001b[0m \u001b[0mnumpy\u001b[0m \u001b[1;32mas\u001b[0m \u001b[0mnp\u001b[0m\u001b[1;33m\u001b[0m\u001b[1;33m\u001b[0m\u001b[0m\n\u001b[1;32m----> 5\u001b[1;33m \u001b[1;32mimport\u001b[0m \u001b[0mtensorflow\u001b[0m\u001b[1;33m\u001b[0m\u001b[1;33m\u001b[0m\u001b[0m\n\u001b[0m\u001b[0;32m      6\u001b[0m \u001b[1;32mimport\u001b[0m \u001b[0mkeras\u001b[0m\u001b[1;33m\u001b[0m\u001b[1;33m\u001b[0m\u001b[0m\n\u001b[0;32m      7\u001b[0m \u001b[1;32mfrom\u001b[0m \u001b[0mtensorflow\u001b[0m\u001b[1;33m.\u001b[0m\u001b[0mkeras\u001b[0m\u001b[1;33m.\u001b[0m\u001b[0mmodels\u001b[0m \u001b[1;32mimport\u001b[0m \u001b[0mSequential\u001b[0m\u001b[1;33m\u001b[0m\u001b[1;33m\u001b[0m\u001b[0m\n",
      "\u001b[1;32mD:\\ProgramData\\Anaconda3\\lib\\site-packages\\tensorflow\\__init__.py\u001b[0m in \u001b[0;36m<module>\u001b[1;34m\u001b[0m\n\u001b[0;32m     39\u001b[0m \u001b[1;32mimport\u001b[0m \u001b[0msys\u001b[0m \u001b[1;32mas\u001b[0m \u001b[0m_sys\u001b[0m\u001b[1;33m\u001b[0m\u001b[1;33m\u001b[0m\u001b[0m\n\u001b[0;32m     40\u001b[0m \u001b[1;33m\u001b[0m\u001b[0m\n\u001b[1;32m---> 41\u001b[1;33m \u001b[1;32mfrom\u001b[0m \u001b[0mtensorflow\u001b[0m\u001b[1;33m.\u001b[0m\u001b[0mpython\u001b[0m\u001b[1;33m.\u001b[0m\u001b[0mtools\u001b[0m \u001b[1;32mimport\u001b[0m \u001b[0mmodule_util\u001b[0m \u001b[1;32mas\u001b[0m \u001b[0m_module_util\u001b[0m\u001b[1;33m\u001b[0m\u001b[1;33m\u001b[0m\u001b[0m\n\u001b[0m\u001b[0;32m     42\u001b[0m \u001b[1;32mfrom\u001b[0m \u001b[0mtensorflow\u001b[0m\u001b[1;33m.\u001b[0m\u001b[0mpython\u001b[0m\u001b[1;33m.\u001b[0m\u001b[0mutil\u001b[0m\u001b[1;33m.\u001b[0m\u001b[0mlazy_loader\u001b[0m \u001b[1;32mimport\u001b[0m \u001b[0mLazyLoader\u001b[0m \u001b[1;32mas\u001b[0m \u001b[0m_LazyLoader\u001b[0m\u001b[1;33m\u001b[0m\u001b[1;33m\u001b[0m\u001b[0m\n\u001b[0;32m     43\u001b[0m \u001b[1;33m\u001b[0m\u001b[0m\n",
      "\u001b[1;32mD:\\ProgramData\\Anaconda3\\lib\\site-packages\\tensorflow\\python\\__init__.py\u001b[0m in \u001b[0;36m<module>\u001b[1;34m\u001b[0m\n\u001b[0;32m     45\u001b[0m \u001b[1;32mfrom\u001b[0m \u001b[0mtensorflow\u001b[0m\u001b[1;33m.\u001b[0m\u001b[0mpython\u001b[0m \u001b[1;32mimport\u001b[0m \u001b[0mdata\u001b[0m\u001b[1;33m\u001b[0m\u001b[1;33m\u001b[0m\u001b[0m\n\u001b[0;32m     46\u001b[0m \u001b[1;32mfrom\u001b[0m \u001b[0mtensorflow\u001b[0m\u001b[1;33m.\u001b[0m\u001b[0mpython\u001b[0m \u001b[1;32mimport\u001b[0m \u001b[0mdistribute\u001b[0m\u001b[1;33m\u001b[0m\u001b[1;33m\u001b[0m\u001b[0m\n\u001b[1;32m---> 47\u001b[1;33m \u001b[1;32mfrom\u001b[0m \u001b[0mtensorflow\u001b[0m\u001b[1;33m.\u001b[0m\u001b[0mpython\u001b[0m \u001b[1;32mimport\u001b[0m \u001b[0mkeras\u001b[0m\u001b[1;33m\u001b[0m\u001b[1;33m\u001b[0m\u001b[0m\n\u001b[0m\u001b[0;32m     48\u001b[0m \u001b[1;32mfrom\u001b[0m \u001b[0mtensorflow\u001b[0m\u001b[1;33m.\u001b[0m\u001b[0mpython\u001b[0m\u001b[1;33m.\u001b[0m\u001b[0mfeature_column\u001b[0m \u001b[1;32mimport\u001b[0m \u001b[0mfeature_column_lib\u001b[0m \u001b[1;32mas\u001b[0m \u001b[0mfeature_column\u001b[0m\u001b[1;33m\u001b[0m\u001b[1;33m\u001b[0m\u001b[0m\n\u001b[0;32m     49\u001b[0m \u001b[1;32mfrom\u001b[0m \u001b[0mtensorflow\u001b[0m\u001b[1;33m.\u001b[0m\u001b[0mpython\u001b[0m\u001b[1;33m.\u001b[0m\u001b[0mlayers\u001b[0m \u001b[1;32mimport\u001b[0m \u001b[0mlayers\u001b[0m\u001b[1;33m\u001b[0m\u001b[1;33m\u001b[0m\u001b[0m\n",
      "\u001b[1;32mD:\\ProgramData\\Anaconda3\\lib\\site-packages\\tensorflow\\python\\keras\\__init__.py\u001b[0m in \u001b[0;36m<module>\u001b[1;34m\u001b[0m\n\u001b[0;32m     25\u001b[0m \u001b[1;33m\u001b[0m\u001b[0m\n\u001b[0;32m     26\u001b[0m \u001b[1;31m# See b/110718070#comment18 for more details about this import.\u001b[0m\u001b[1;33m\u001b[0m\u001b[1;33m\u001b[0m\u001b[1;33m\u001b[0m\u001b[0m\n\u001b[1;32m---> 27\u001b[1;33m \u001b[1;32mfrom\u001b[0m \u001b[0mtensorflow\u001b[0m\u001b[1;33m.\u001b[0m\u001b[0mpython\u001b[0m\u001b[1;33m.\u001b[0m\u001b[0mkeras\u001b[0m \u001b[1;32mimport\u001b[0m \u001b[0mmodels\u001b[0m\u001b[1;33m\u001b[0m\u001b[1;33m\u001b[0m\u001b[0m\n\u001b[0m\u001b[0;32m     28\u001b[0m \u001b[1;33m\u001b[0m\u001b[0m\n\u001b[0;32m     29\u001b[0m \u001b[1;32mfrom\u001b[0m \u001b[0mtensorflow\u001b[0m\u001b[1;33m.\u001b[0m\u001b[0mpython\u001b[0m\u001b[1;33m.\u001b[0m\u001b[0mkeras\u001b[0m\u001b[1;33m.\u001b[0m\u001b[0mengine\u001b[0m\u001b[1;33m.\u001b[0m\u001b[0minput_layer\u001b[0m \u001b[1;32mimport\u001b[0m \u001b[0mInput\u001b[0m\u001b[1;33m\u001b[0m\u001b[1;33m\u001b[0m\u001b[0m\n",
      "\u001b[1;32mD:\\ProgramData\\Anaconda3\\lib\\site-packages\\tensorflow\\python\\keras\\models.py\u001b[0m in \u001b[0;36m<module>\u001b[1;34m\u001b[0m\n\u001b[0;32m     25\u001b[0m \u001b[1;32mfrom\u001b[0m \u001b[0mtensorflow\u001b[0m\u001b[1;33m.\u001b[0m\u001b[0mpython\u001b[0m\u001b[1;33m.\u001b[0m\u001b[0mkeras\u001b[0m \u001b[1;32mimport\u001b[0m \u001b[0moptimizers\u001b[0m\u001b[1;33m\u001b[0m\u001b[1;33m\u001b[0m\u001b[0m\n\u001b[0;32m     26\u001b[0m \u001b[1;32mfrom\u001b[0m \u001b[0mtensorflow\u001b[0m\u001b[1;33m.\u001b[0m\u001b[0mpython\u001b[0m\u001b[1;33m.\u001b[0m\u001b[0mkeras\u001b[0m\u001b[1;33m.\u001b[0m\u001b[0mengine\u001b[0m \u001b[1;32mimport\u001b[0m \u001b[0mfunctional\u001b[0m\u001b[1;33m\u001b[0m\u001b[1;33m\u001b[0m\u001b[0m\n\u001b[1;32m---> 27\u001b[1;33m \u001b[1;32mfrom\u001b[0m \u001b[0mtensorflow\u001b[0m\u001b[1;33m.\u001b[0m\u001b[0mpython\u001b[0m\u001b[1;33m.\u001b[0m\u001b[0mkeras\u001b[0m\u001b[1;33m.\u001b[0m\u001b[0mengine\u001b[0m \u001b[1;32mimport\u001b[0m \u001b[0msequential\u001b[0m\u001b[1;33m\u001b[0m\u001b[1;33m\u001b[0m\u001b[0m\n\u001b[0m\u001b[0;32m     28\u001b[0m \u001b[1;32mfrom\u001b[0m \u001b[0mtensorflow\u001b[0m\u001b[1;33m.\u001b[0m\u001b[0mpython\u001b[0m\u001b[1;33m.\u001b[0m\u001b[0mkeras\u001b[0m\u001b[1;33m.\u001b[0m\u001b[0mengine\u001b[0m \u001b[1;32mimport\u001b[0m \u001b[0mtraining\u001b[0m\u001b[1;33m\u001b[0m\u001b[1;33m\u001b[0m\u001b[0m\n\u001b[0;32m     29\u001b[0m \u001b[1;32mfrom\u001b[0m \u001b[0mtensorflow\u001b[0m\u001b[1;33m.\u001b[0m\u001b[0mpython\u001b[0m\u001b[1;33m.\u001b[0m\u001b[0mkeras\u001b[0m\u001b[1;33m.\u001b[0m\u001b[0mengine\u001b[0m \u001b[1;32mimport\u001b[0m \u001b[0mtraining_v1\u001b[0m\u001b[1;33m\u001b[0m\u001b[1;33m\u001b[0m\u001b[0m\n",
      "\u001b[1;32mD:\\ProgramData\\Anaconda3\\lib\\site-packages\\tensorflow\\python\\keras\\engine\\sequential.py\u001b[0m in \u001b[0;36m<module>\u001b[1;34m\u001b[0m\n\u001b[0;32m     25\u001b[0m \u001b[1;32mfrom\u001b[0m \u001b[0mtensorflow\u001b[0m\u001b[1;33m.\u001b[0m\u001b[0mpython\u001b[0m\u001b[1;33m.\u001b[0m\u001b[0mframework\u001b[0m \u001b[1;32mimport\u001b[0m \u001b[0mops\u001b[0m\u001b[1;33m\u001b[0m\u001b[1;33m\u001b[0m\u001b[0m\n\u001b[0;32m     26\u001b[0m \u001b[1;32mfrom\u001b[0m \u001b[0mtensorflow\u001b[0m\u001b[1;33m.\u001b[0m\u001b[0mpython\u001b[0m\u001b[1;33m.\u001b[0m\u001b[0mframework\u001b[0m \u001b[1;32mimport\u001b[0m \u001b[0mtensor_util\u001b[0m\u001b[1;33m\u001b[0m\u001b[1;33m\u001b[0m\u001b[0m\n\u001b[1;32m---> 27\u001b[1;33m \u001b[1;32mfrom\u001b[0m \u001b[0mtensorflow\u001b[0m\u001b[1;33m.\u001b[0m\u001b[0mpython\u001b[0m\u001b[1;33m.\u001b[0m\u001b[0mkeras\u001b[0m \u001b[1;32mimport\u001b[0m \u001b[0mlayers\u001b[0m \u001b[1;32mas\u001b[0m \u001b[0mlayer_module\u001b[0m\u001b[1;33m\u001b[0m\u001b[1;33m\u001b[0m\u001b[0m\n\u001b[0m\u001b[0;32m     28\u001b[0m \u001b[1;32mfrom\u001b[0m \u001b[0mtensorflow\u001b[0m\u001b[1;33m.\u001b[0m\u001b[0mpython\u001b[0m\u001b[1;33m.\u001b[0m\u001b[0mkeras\u001b[0m\u001b[1;33m.\u001b[0m\u001b[0mengine\u001b[0m \u001b[1;32mimport\u001b[0m \u001b[0mbase_layer\u001b[0m\u001b[1;33m\u001b[0m\u001b[1;33m\u001b[0m\u001b[0m\n\u001b[0;32m     29\u001b[0m \u001b[1;32mfrom\u001b[0m \u001b[0mtensorflow\u001b[0m\u001b[1;33m.\u001b[0m\u001b[0mpython\u001b[0m\u001b[1;33m.\u001b[0m\u001b[0mkeras\u001b[0m\u001b[1;33m.\u001b[0m\u001b[0mengine\u001b[0m \u001b[1;32mimport\u001b[0m \u001b[0mfunctional\u001b[0m\u001b[1;33m\u001b[0m\u001b[1;33m\u001b[0m\u001b[0m\n",
      "\u001b[1;32mD:\\ProgramData\\Anaconda3\\lib\\site-packages\\tensorflow\\python\\keras\\layers\\__init__.py\u001b[0m in \u001b[0;36m<module>\u001b[1;34m\u001b[0m\n\u001b[0;32m    172\u001b[0m \u001b[1;33m\u001b[0m\u001b[0m\n\u001b[0;32m    173\u001b[0m \u001b[1;31m# Normalization layers.\u001b[0m\u001b[1;33m\u001b[0m\u001b[1;33m\u001b[0m\u001b[1;33m\u001b[0m\u001b[0m\n\u001b[1;32m--> 174\u001b[1;33m \u001b[1;32mfrom\u001b[0m \u001b[0mtensorflow\u001b[0m\u001b[1;33m.\u001b[0m\u001b[0mpython\u001b[0m\u001b[1;33m.\u001b[0m\u001b[0mkeras\u001b[0m\u001b[1;33m.\u001b[0m\u001b[0mlayers\u001b[0m\u001b[1;33m.\u001b[0m\u001b[0mnormalization\u001b[0m \u001b[1;32mimport\u001b[0m \u001b[0mLayerNormalization\u001b[0m\u001b[1;33m\u001b[0m\u001b[1;33m\u001b[0m\u001b[0m\n\u001b[0m\u001b[0;32m    175\u001b[0m \u001b[1;32mfrom\u001b[0m \u001b[0mtensorflow\u001b[0m\u001b[1;33m.\u001b[0m\u001b[0mpython\u001b[0m\u001b[1;33m.\u001b[0m\u001b[0mkeras\u001b[0m\u001b[1;33m.\u001b[0m\u001b[0mlayers\u001b[0m\u001b[1;33m.\u001b[0m\u001b[0mnormalization_v2\u001b[0m \u001b[1;32mimport\u001b[0m \u001b[0mSyncBatchNormalization\u001b[0m\u001b[1;33m\u001b[0m\u001b[1;33m\u001b[0m\u001b[0m\n\u001b[0;32m    176\u001b[0m \u001b[1;33m\u001b[0m\u001b[0m\n",
      "\u001b[1;31mImportError\u001b[0m: cannot import name 'LayerNormalization' from 'tensorflow.python.keras.layers.normalization' (D:\\ProgramData\\Anaconda3\\lib\\site-packages\\tensorflow\\python\\keras\\layers\\normalization\\__init__.py)"
     ]
    }
   ],
   "source": [
    "# Importing all the necessary libraries\n",
    "\n",
    "import pandas as pd\n",
    "import numpy as np\n",
    "import tensorflow\n",
    "import keras\n",
    "from tensorflow.keras.models import Sequential\n",
    "from tensorflow.keras.layers import Dense\n",
    "from tensorflow.keras.layers import Dropout\n",
    "from tensorflow.keras import regularizers\n",
    "import matplotlib.pyplot as plt\n",
    "import seaborn as sns\n",
    "from sklearn.preprocessing import MinMaxScaler\n",
    "from sklearn.model_selection import train_test_split"
   ]
  },
  {
   "cell_type": "code",
   "execution_count": 4,
   "metadata": {},
   "outputs": [
    {
     "data": {
      "text/html": [
       "<div>\n",
       "<style scoped>\n",
       "    .dataframe tbody tr th:only-of-type {\n",
       "        vertical-align: middle;\n",
       "    }\n",
       "\n",
       "    .dataframe tbody tr th {\n",
       "        vertical-align: top;\n",
       "    }\n",
       "\n",
       "    .dataframe thead th {\n",
       "        text-align: right;\n",
       "    }\n",
       "</style>\n",
       "<table border=\"1\" class=\"dataframe\">\n",
       "  <thead>\n",
       "    <tr style=\"text-align: right;\">\n",
       "      <th></th>\n",
       "      <th>0.156326772</th>\n",
       "      <th>0.011856755</th>\n",
       "      <th>0</th>\n",
       "    </tr>\n",
       "  </thead>\n",
       "  <tbody>\n",
       "    <tr>\n",
       "      <th>0</th>\n",
       "      <td>0.211109</td>\n",
       "      <td>0.032209</td>\n",
       "      <td>0</td>\n",
       "    </tr>\n",
       "    <tr>\n",
       "      <th>1</th>\n",
       "      <td>0.263386</td>\n",
       "      <td>0.060866</td>\n",
       "      <td>0</td>\n",
       "    </tr>\n",
       "    <tr>\n",
       "      <th>2</th>\n",
       "      <td>0.312221</td>\n",
       "      <td>0.097541</td>\n",
       "      <td>0</td>\n",
       "    </tr>\n",
       "    <tr>\n",
       "      <th>3</th>\n",
       "      <td>0.356707</td>\n",
       "      <td>0.141855</td>\n",
       "      <td>0</td>\n",
       "    </tr>\n",
       "    <tr>\n",
       "      <th>4</th>\n",
       "      <td>0.395976</td>\n",
       "      <td>0.193337</td>\n",
       "      <td>0</td>\n",
       "    </tr>\n",
       "  </tbody>\n",
       "</table>\n",
       "</div>"
      ],
      "text/plain": [
       "   0.156326772  0.011856755  0\n",
       "0     0.211109     0.032209  0\n",
       "1     0.263386     0.060866  0\n",
       "2     0.312221     0.097541  0\n",
       "3     0.356707     0.141855  0\n",
       "4     0.395976     0.193337  0"
      ]
     },
     "execution_count": 4,
     "metadata": {},
     "output_type": "execute_result"
    }
   ],
   "source": [
    "# Reading the data from csv\n",
    "df=pd.read_csv(\"https://raw.githubusercontent.com/bits-mtech/DL/main/data2_0.75_6.csv\")\n",
    "df.head()"
   ]
  },
  {
   "cell_type": "code",
   "execution_count": 5,
   "metadata": {},
   "outputs": [
    {
     "data": {
      "text/html": [
       "<div>\n",
       "<style scoped>\n",
       "    .dataframe tbody tr th:only-of-type {\n",
       "        vertical-align: middle;\n",
       "    }\n",
       "\n",
       "    .dataframe tbody tr th {\n",
       "        vertical-align: top;\n",
       "    }\n",
       "\n",
       "    .dataframe thead th {\n",
       "        text-align: right;\n",
       "    }\n",
       "</style>\n",
       "<table border=\"1\" class=\"dataframe\">\n",
       "  <thead>\n",
       "    <tr style=\"text-align: right;\">\n",
       "      <th></th>\n",
       "      <th>Feature_1</th>\n",
       "      <th>Feature_2</th>\n",
       "      <th>Class_Label</th>\n",
       "    </tr>\n",
       "  </thead>\n",
       "  <tbody>\n",
       "    <tr>\n",
       "      <th>0</th>\n",
       "      <td>0.211109</td>\n",
       "      <td>0.032209</td>\n",
       "      <td>0</td>\n",
       "    </tr>\n",
       "    <tr>\n",
       "      <th>1</th>\n",
       "      <td>0.263386</td>\n",
       "      <td>0.060866</td>\n",
       "      <td>0</td>\n",
       "    </tr>\n",
       "    <tr>\n",
       "      <th>2</th>\n",
       "      <td>0.312221</td>\n",
       "      <td>0.097541</td>\n",
       "      <td>0</td>\n",
       "    </tr>\n",
       "    <tr>\n",
       "      <th>3</th>\n",
       "      <td>0.356707</td>\n",
       "      <td>0.141855</td>\n",
       "      <td>0</td>\n",
       "    </tr>\n",
       "    <tr>\n",
       "      <th>4</th>\n",
       "      <td>0.395976</td>\n",
       "      <td>0.193337</td>\n",
       "      <td>0</td>\n",
       "    </tr>\n",
       "  </tbody>\n",
       "</table>\n",
       "</div>"
      ],
      "text/plain": [
       "   Feature_1  Feature_2  Class_Label\n",
       "0   0.211109   0.032209            0\n",
       "1   0.263386   0.060866            0\n",
       "2   0.312221   0.097541            0\n",
       "3   0.356707   0.141855            0\n",
       "4   0.395976   0.193337            0"
      ]
     },
     "execution_count": 5,
     "metadata": {},
     "output_type": "execute_result"
    }
   ],
   "source": [
    "# Including the header for each row - feature 1, feature 2, class label.\n",
    "\n",
    "df.columns = [\"Feature_1\", \"Feature_2\", \"Class_Label\"]\n",
    "df.head()"
   ]
  },
  {
   "cell_type": "code",
   "execution_count": 8,
   "metadata": {},
   "outputs": [],
   "source": [
    "# a. Train two single/double hidden layer deep networks\n",
    "# b. By varying the number of hidden nodes (4, 8, 12, 16) in each layer \n",
    "# c. with 70% training and 30% validation data. \n",
    "# d. Use appropriate learning rate, activation, and loss functions and also mention the reason for choosing the same. \n",
    "# e. Report, compare, and explain the observed accuracy and minimum loss achieved."
   ]
  },
  {
   "cell_type": "code",
   "execution_count": 6,
   "metadata": {},
   "outputs": [],
   "source": [
    "# Seperating the input variables and the output variables\n",
    "\n",
    "X = df.drop(\"Class_Label\",axis=1)\n",
    "Y = df[\"Class_Label\"]\n"
   ]
  },
  {
   "cell_type": "code",
   "execution_count": 7,
   "metadata": {},
   "outputs": [
    {
     "ename": "NameError",
     "evalue": "name 'train_test_split' is not defined",
     "output_type": "error",
     "traceback": [
      "\u001b[1;31m---------------------------------------------------------------------------\u001b[0m",
      "\u001b[1;31mNameError\u001b[0m                                 Traceback (most recent call last)",
      "\u001b[1;32m~\\AppData\\Local\\Temp/ipykernel_28940/4196211654.py\u001b[0m in \u001b[0;36m<module>\u001b[1;34m\u001b[0m\n\u001b[0;32m      1\u001b[0m \u001b[1;31m# Splitting the dataset into 70% training and 30% validation data.\u001b[0m\u001b[1;33m\u001b[0m\u001b[1;33m\u001b[0m\u001b[1;33m\u001b[0m\u001b[0m\n\u001b[0;32m      2\u001b[0m \u001b[1;33m\u001b[0m\u001b[0m\n\u001b[1;32m----> 3\u001b[1;33m \u001b[0mXtrain\u001b[0m\u001b[1;33m,\u001b[0m\u001b[0mXtest\u001b[0m\u001b[1;33m,\u001b[0m\u001b[0mYtrain\u001b[0m\u001b[1;33m,\u001b[0m\u001b[0mYtest\u001b[0m \u001b[1;33m=\u001b[0m \u001b[0mtrain_test_split\u001b[0m\u001b[1;33m(\u001b[0m\u001b[0mX\u001b[0m\u001b[1;33m,\u001b[0m \u001b[0mY\u001b[0m\u001b[1;33m,\u001b[0m \u001b[0mtest_size\u001b[0m \u001b[1;33m=\u001b[0m \u001b[1;36m0.3\u001b[0m\u001b[1;33m,\u001b[0m \u001b[0mrandom_state\u001b[0m \u001b[1;33m=\u001b[0m \u001b[1;36m42\u001b[0m\u001b[1;33m)\u001b[0m\u001b[1;33m\u001b[0m\u001b[1;33m\u001b[0m\u001b[0m\n\u001b[0m",
      "\u001b[1;31mNameError\u001b[0m: name 'train_test_split' is not defined"
     ]
    }
   ],
   "source": [
    "# Splitting the dataset into 70% training and 30% validation data.\n",
    "\n",
    "Xtrain,Xtest,Ytrain,Ytest = train_test_split(X, Y, test_size = 0.3, random_state = 42)"
   ]
  },
  {
   "cell_type": "code",
   "execution_count": 36,
   "metadata": {},
   "outputs": [
    {
     "name": "stdout",
     "output_type": "stream",
     "text": [
      "2\n"
     ]
    }
   ],
   "source": [
    "Xtrain_shape = Xtrain.shape[1]\n",
    "print (Xtrain_shape)"
   ]
  },
  {
   "cell_type": "code",
   "execution_count": 41,
   "metadata": {},
   "outputs": [
    {
     "name": "stdout",
     "output_type": "stream",
     "text": [
      "Model: \"sequential_9\"\n",
      "_________________________________________________________________\n",
      " Layer (type)                Output Shape              Param #   \n",
      "=================================================================\n",
      " dense_10 (Dense)            (None, 4)                 12        \n",
      "                                                                 \n",
      " dense_11 (Dense)            (None, 8)                 40        \n",
      "                                                                 \n",
      " dense_12 (Dense)            (None, 12)                108       \n",
      "                                                                 \n",
      " dense_13 (Dense)            (None, 1)                 13        \n",
      "                                                                 \n",
      "=================================================================\n",
      "Total params: 173\n",
      "Trainable params: 173\n",
      "Non-trainable params: 0\n",
      "_________________________________________________________________\n"
     ]
    }
   ],
   "source": [
    "# Train two single/double hidden layer deep networks by varying the number of hidden nodes (4, 8, 12, 16) \n",
    "\n",
    "# Model 1\n",
    "\n",
    "\n",
    "dnnModel = Sequential()\n",
    "# layer 1 = input layer\n",
    "dnnModel.add(Dense(4, activation = 'relu', input_shape = (Xtrain_shape,)))\n",
    "# layer 2 = hidden layer\n",
    "dnnModel.add(Dense(8, activation = 'relu'))\n",
    "# layer 3 = hidden layer\n",
    "dnnModel.add(Dense(12, activation = 'relu'))\n",
    "# layer 4 = output layer\n",
    "dnnModel.add(Dense(1, activation = 'softmax'))\n",
    "dnnModel.compile(optimizer = 'adam', loss = 'binary_crossentropy', metrics = ['accuracy'])\n",
    "\n",
    "dnnModel.summary()"
   ]
  },
  {
   "cell_type": "code",
   "execution_count": 42,
   "metadata": {},
   "outputs": [
    {
     "name": "stdout",
     "output_type": "stream",
     "text": [
      "Epoch 1/25\n",
      "11/11 [==============================] - 1s 15ms/step - loss: 1.3021 - accuracy: 0.5072 - val_loss: 1.2095 - val_accuracy: 0.4933\n",
      "Epoch 2/25\n",
      "11/11 [==============================] - 0s 4ms/step - loss: 1.1404 - accuracy: 0.5072 - val_loss: 1.0680 - val_accuracy: 0.4933\n",
      "Epoch 3/25\n",
      "11/11 [==============================] - 0s 4ms/step - loss: 1.0084 - accuracy: 0.5072 - val_loss: 0.9576 - val_accuracy: 0.4933\n",
      "Epoch 4/25\n",
      "11/11 [==============================] - 0s 4ms/step - loss: 0.9024 - accuracy: 0.5072 - val_loss: 0.8768 - val_accuracy: 0.4933\n",
      "Epoch 5/25\n",
      "11/11 [==============================] - 0s 4ms/step - loss: 0.8321 - accuracy: 0.5072 - val_loss: 0.8191 - val_accuracy: 0.4933\n",
      "Epoch 6/25\n",
      "11/11 [==============================] - 0s 3ms/step - loss: 0.7845 - accuracy: 0.5072 - val_loss: 0.7801 - val_accuracy: 0.4933\n",
      "Epoch 7/25\n",
      "11/11 [==============================] - 0s 3ms/step - loss: 0.7527 - accuracy: 0.5072 - val_loss: 0.7561 - val_accuracy: 0.4933\n",
      "Epoch 8/25\n",
      "11/11 [==============================] - 0s 3ms/step - loss: 0.7323 - accuracy: 0.5072 - val_loss: 0.7402 - val_accuracy: 0.4933\n",
      "Epoch 9/25\n",
      "11/11 [==============================] - 0s 3ms/step - loss: 0.7184 - accuracy: 0.5072 - val_loss: 0.7303 - val_accuracy: 0.4933\n",
      "Epoch 10/25\n",
      "11/11 [==============================] - 0s 4ms/step - loss: 0.7091 - accuracy: 0.5072 - val_loss: 0.7224 - val_accuracy: 0.4933\n",
      "Epoch 11/25\n",
      "11/11 [==============================] - 0s 4ms/step - loss: 0.7001 - accuracy: 0.5072 - val_loss: 0.7193 - val_accuracy: 0.4933\n",
      "Epoch 12/25\n",
      "11/11 [==============================] - 0s 4ms/step - loss: 0.6955 - accuracy: 0.5072 - val_loss: 0.7166 - val_accuracy: 0.4933\n",
      "Epoch 13/25\n",
      "11/11 [==============================] - 0s 3ms/step - loss: 0.6922 - accuracy: 0.5072 - val_loss: 0.7154 - val_accuracy: 0.4933\n",
      "Epoch 14/25\n",
      "11/11 [==============================] - 0s 4ms/step - loss: 0.6894 - accuracy: 0.5072 - val_loss: 0.7157 - val_accuracy: 0.4933\n",
      "Epoch 15/25\n",
      "11/11 [==============================] - 0s 3ms/step - loss: 0.6876 - accuracy: 0.5072 - val_loss: 0.7154 - val_accuracy: 0.4933\n",
      "Epoch 16/25\n",
      "11/11 [==============================] - 0s 4ms/step - loss: 0.6867 - accuracy: 0.5072 - val_loss: 0.7145 - val_accuracy: 0.4933\n",
      "Epoch 17/25\n",
      "11/11 [==============================] - 0s 3ms/step - loss: 0.6854 - accuracy: 0.5072 - val_loss: 0.7149 - val_accuracy: 0.4933\n",
      "Epoch 18/25\n",
      "11/11 [==============================] - 0s 4ms/step - loss: 0.6849 - accuracy: 0.5072 - val_loss: 0.7157 - val_accuracy: 0.4933\n",
      "Epoch 19/25\n",
      "11/11 [==============================] - 0s 3ms/step - loss: 0.6847 - accuracy: 0.5072 - val_loss: 0.7156 - val_accuracy: 0.4933\n",
      "Epoch 20/25\n",
      "11/11 [==============================] - 0s 4ms/step - loss: 0.6842 - accuracy: 0.5072 - val_loss: 0.7152 - val_accuracy: 0.4933\n",
      "Epoch 21/25\n",
      "11/11 [==============================] - 0s 3ms/step - loss: 0.6837 - accuracy: 0.5072 - val_loss: 0.7151 - val_accuracy: 0.4933\n",
      "Epoch 22/25\n",
      "11/11 [==============================] - 0s 4ms/step - loss: 0.6835 - accuracy: 0.5072 - val_loss: 0.7148 - val_accuracy: 0.4933\n",
      "Epoch 23/25\n",
      "11/11 [==============================] - 0s 3ms/step - loss: 0.6831 - accuracy: 0.5072 - val_loss: 0.7144 - val_accuracy: 0.4933\n",
      "Epoch 24/25\n",
      "11/11 [==============================] - 0s 6ms/step - loss: 0.6827 - accuracy: 0.5072 - val_loss: 0.7141 - val_accuracy: 0.4933\n",
      "Epoch 25/25\n",
      "11/11 [==============================] - 0s 4ms/step - loss: 0.6822 - accuracy: 0.5072 - val_loss: 0.7149 - val_accuracy: 0.4933\n"
     ]
    }
   ],
   "source": [
    "# Trainning the model\n",
    "h = dnnModel.fit(Xtrain,Ytrain,validation_data = (Xtest, Ytest), epochs = 25,verbose = 1)"
   ]
  },
  {
   "cell_type": "code",
   "execution_count": 52,
   "metadata": {},
   "outputs": [],
   "source": [
    "# plotting the training accuracy\n",
    "def plot_history(h):\n",
    " \n",
    "    plt.plot(h.history['val_accuracy'], label='validation accuracy')\n",
    "    plt.plot(h.history['accuracy'], label='train accuracy')\n",
    "    plt.xlabel('Epochs')\n",
    "    plt.ylabel('Accuracy')    \n",
    "    plt.legend()\n",
    "    plt.title(\"Plot of Accuracy\")\n",
    "    \n",
    "    plt.show()"
   ]
  },
  {
   "cell_type": "code",
   "execution_count": 53,
   "metadata": {},
   "outputs": [
    {
     "data": {
      "image/png": "[encoded data removed]",
      "text/plain": [
       "<Figure size 432x288 with 1 Axes>"
      ]
     },
     "metadata": {
      "needs_background": "light"
     },
     "output_type": "display_data"
    }
   ],
   "source": [
    "hist = plot_history(h)"
   ]
  },
  {
   "cell_type": "code",
   "execution_count": 54,
   "metadata": {},
   "outputs": [],
   "source": [
    "# plotting the training accuracy\n",
    "def plot_history(h):\n",
    "    \n",
    "    plt.plot(h.history['val_loss'], label='validation loss')\n",
    "    plt.plot(h.history['loss'], label='train loss')\n",
    "    plt.xlabel('Epochs')\n",
    "    plt.ylabel('Loss')\n",
    "    plt.legend()\n",
    "    plt.title(\"Plot of Loss\")\n",
    "    \n",
    "    \n",
    "\n",
    "    plt.show()"
   ]
  },
  {
   "cell_type": "code",
   "execution_count": 55,
   "metadata": {},
   "outputs": [
    {
     "data": {
      "image/png": "[encoded data removed]",
      "text/plain": [
       "<Figure size 432x288 with 1 Axes>"
      ]
     },
     "metadata": {
      "needs_background": "light"
     },
     "output_type": "display_data"
    }
   ],
   "source": [
    "hist = plot_history(h)"
   ]
  },
  {
   "cell_type": "code",
   "execution_count": 57,
   "metadata": {},
   "outputs": [
    {
     "name": "stdout",
     "output_type": "stream",
     "text": [
      "Model: \"sequential_11\"\n",
      "_________________________________________________________________\n",
      " Layer (type)                Output Shape              Param #   \n",
      "=================================================================\n",
      " dense_16 (Dense)            (None, 4)                 12        \n",
      "                                                                 \n",
      " dense_17 (Dense)            (None, 8)                 40        \n",
      "                                                                 \n",
      " dropout (Dropout)           (None, 8)                 0         \n",
      "                                                                 \n",
      " dense_18 (Dense)            (None, 12)                108       \n",
      "                                                                 \n",
      " dropout_1 (Dropout)         (None, 12)                0         \n",
      "                                                                 \n",
      " dense_19 (Dense)            (None, 1)                 13        \n",
      "                                                                 \n",
      "=================================================================\n",
      "Total params: 173\n",
      "Trainable params: 173\n",
      "Non-trainable params: 0\n",
      "_________________________________________________________________\n"
     ]
    }
   ],
   "source": [
    "# Train two single/double hidden layer deep networks by varying the number of hidden nodes (4, 8, 12, 16) \n",
    "\n",
    "# Model 2\n",
    "\n",
    "\n",
    "dnnModel = Sequential()\n",
    "# layer 1 = input layer\n",
    "dnnModel.add(Dense(4, activation = 'relu', input_shape = (Xtrain_shape,)))\n",
    "# layer 2 = hidden layer\n",
    "dnnModel.add(Dense(8, activation = 'relu'))\n",
    "# Add dropout of 25% to layer 2\n",
    "dnnModel.add(Dropout(0.25))\n",
    "# layer 3 = hidden layer\n",
    "dnnModel.add(Dense(12, activation = 'relu'))\n",
    "# Add dropout of 25% to layer 3\n",
    "dnnModel.add(Dropout(0.25))\n",
    "# layer 4 = output layer\n",
    "dnnModel.add(Dense(1, activation = 'softmax'))\n",
    "dnnModel.compile(optimizer = 'adam', loss = 'binary_crossentropy', metrics = ['accuracy'])\n",
    "\n",
    "dnnModel.summary()"
   ]
  },
  {
   "cell_type": "code",
   "execution_count": 58,
   "metadata": {},
   "outputs": [
    {
     "name": "stdout",
     "output_type": "stream",
     "text": [
      "Epoch 1/25\n",
      "11/11 [==============================] - 0s 11ms/step - loss: 0.8144 - accuracy: 0.5072 - val_loss: 0.7322 - val_accuracy: 0.4933\n",
      "Epoch 2/25\n",
      "11/11 [==============================] - 0s 4ms/step - loss: 0.8372 - accuracy: 0.5072 - val_loss: 0.7244 - val_accuracy: 0.4933\n",
      "Epoch 3/25\n",
      "11/11 [==============================] - 0s 3ms/step - loss: 0.7731 - accuracy: 0.5072 - val_loss: 0.7204 - val_accuracy: 0.4933\n",
      "Epoch 4/25\n",
      "11/11 [==============================] - 0s 4ms/step - loss: 0.7466 - accuracy: 0.5072 - val_loss: 0.7180 - val_accuracy: 0.4933\n",
      "Epoch 5/25\n",
      "11/11 [==============================] - 0s 4ms/step - loss: 0.7502 - accuracy: 0.5072 - val_loss: 0.7171 - val_accuracy: 0.4933\n",
      "Epoch 6/25\n",
      "11/11 [==============================] - 0s 4ms/step - loss: 0.7228 - accuracy: 0.5072 - val_loss: 0.7160 - val_accuracy: 0.4933\n",
      "Epoch 7/25\n",
      "11/11 [==============================] - 0s 4ms/step - loss: 0.7501 - accuracy: 0.5072 - val_loss: 0.7122 - val_accuracy: 0.4933\n",
      "Epoch 8/25\n",
      "11/11 [==============================] - 0s 3ms/step - loss: 0.7142 - accuracy: 0.5072 - val_loss: 0.7098 - val_accuracy: 0.4933\n",
      "Epoch 9/25\n",
      "11/11 [==============================] - 0s 3ms/step - loss: 0.7579 - accuracy: 0.5072 - val_loss: 0.7100 - val_accuracy: 0.4933\n",
      "Epoch 10/25\n",
      "11/11 [==============================] - 0s 5ms/step - loss: 0.7232 - accuracy: 0.5072 - val_loss: 0.7107 - val_accuracy: 0.4933\n",
      "Epoch 11/25\n",
      "11/11 [==============================] - 0s 3ms/step - loss: 0.7497 - accuracy: 0.5072 - val_loss: 0.7106 - val_accuracy: 0.4933\n",
      "Epoch 12/25\n",
      "11/11 [==============================] - 0s 4ms/step - loss: 0.7084 - accuracy: 0.5072 - val_loss: 0.7095 - val_accuracy: 0.4933\n",
      "Epoch 13/25\n",
      "11/11 [==============================] - 0s 3ms/step - loss: 0.7199 - accuracy: 0.5072 - val_loss: 0.7082 - val_accuracy: 0.4933\n",
      "Epoch 14/25\n",
      "11/11 [==============================] - 0s 6ms/step - loss: 0.7267 - accuracy: 0.5072 - val_loss: 0.7072 - val_accuracy: 0.4933\n",
      "Epoch 15/25\n",
      "11/11 [==============================] - 0s 4ms/step - loss: 0.7218 - accuracy: 0.5072 - val_loss: 0.7079 - val_accuracy: 0.4933\n",
      "Epoch 16/25\n",
      "11/11 [==============================] - 0s 4ms/step - loss: 0.7085 - accuracy: 0.5072 - val_loss: 0.7067 - val_accuracy: 0.4933\n",
      "Epoch 17/25\n",
      "11/11 [==============================] - 0s 4ms/step - loss: 0.7031 - accuracy: 0.5072 - val_loss: 0.7077 - val_accuracy: 0.4933\n",
      "Epoch 18/25\n",
      "11/11 [==============================] - 0s 4ms/step - loss: 0.7203 - accuracy: 0.5072 - val_loss: 0.7085 - val_accuracy: 0.4933\n",
      "Epoch 19/25\n",
      "11/11 [==============================] - 0s 4ms/step - loss: 0.6923 - accuracy: 0.5072 - val_loss: 0.7075 - val_accuracy: 0.4933\n",
      "Epoch 20/25\n",
      "11/11 [==============================] - 0s 4ms/step - loss: 0.7113 - accuracy: 0.5072 - val_loss: 0.7069 - val_accuracy: 0.4933\n",
      "Epoch 21/25\n",
      "11/11 [==============================] - 0s 3ms/step - loss: 0.6973 - accuracy: 0.5072 - val_loss: 0.7064 - val_accuracy: 0.4933\n",
      "Epoch 22/25\n",
      "11/11 [==============================] - 0s 3ms/step - loss: 0.6912 - accuracy: 0.5072 - val_loss: 0.7053 - val_accuracy: 0.4933\n",
      "Epoch 23/25\n",
      "11/11 [==============================] - 0s 3ms/step - loss: 0.6945 - accuracy: 0.5072 - val_loss: 0.7053 - val_accuracy: 0.4933\n",
      "Epoch 24/25\n",
      "11/11 [==============================] - 0s 3ms/step - loss: 0.7087 - accuracy: 0.5072 - val_loss: 0.7054 - val_accuracy: 0.4933\n",
      "Epoch 25/25\n",
      "11/11 [==============================] - 0s 4ms/step - loss: 0.7142 - accuracy: 0.5072 - val_loss: 0.7051 - val_accuracy: 0.4933\n"
     ]
    }
   ],
   "source": [
    "# Trainning the model\n",
    "h = dnnModel.fit(Xtrain,Ytrain,validation_data = (Xtest, Ytest), epochs = 25,verbose = 1)"
   ]
  },
  {
   "cell_type": "code",
   "execution_count": 59,
   "metadata": {},
   "outputs": [],
   "source": [
    "# plotting the training accuracy\n",
    "def plot_history(h):\n",
    "   \n",
    "    plt.plot(h.history['val_accuracy'], label='validation accuracy')\n",
    "    plt.plot(h.history['accuracy'], label='train accuracy')\n",
    "    plt.xlabel('Epochs')\n",
    "    plt.ylabel('Accuracy')    \n",
    "    plt.legend()\n",
    "    plt.title(\"Plot of Accuracy\")\n",
    "    \n",
    "    plt.show()"
   ]
  },
  {
   "cell_type": "code",
   "execution_count": 60,
   "metadata": {},
   "outputs": [
    {
     "data": {
      "image/png": "[encoded data removed]",
      "text/plain": [
       "<Figure size 432x288 with 1 Axes>"
      ]
     },
     "metadata": {
      "needs_background": "light"
     },
     "output_type": "display_data"
    }
   ],
   "source": [
    "hist = plot_history(h)"
   ]
  },
  {
   "cell_type": "code",
   "execution_count": 61,
   "metadata": {},
   "outputs": [],
   "source": [
    "# plotting the training accuracy\n",
    "def plot_history(h):\n",
    "    \n",
    "    plt.plot(h.history['val_loss'], label='validation loss')\n",
    "    plt.plot(h.history['loss'], label='train loss')\n",
    "    plt.xlabel('Epochs')\n",
    "    plt.ylabel('Loss')\n",
    "    plt.legend()\n",
    "    plt.title(\"Plot of Loss\")\n",
    "    \n",
    "    \n",
    "\n",
    "    plt.show()"
   ]
  },
  {
   "cell_type": "code",
   "execution_count": 62,
   "metadata": {},
   "outputs": [
    {
     "data": {
      "image/png": "[encoded data removed]",
      "text/plain": [
       "<Figure size 432x288 with 1 Axes>"
      ]
     },
     "metadata": {
      "needs_background": "light"
     },
     "output_type": "display_data"
    }
   ],
   "source": [
    "hist = plot_history(h)"
   ]
  },
  {
   "cell_type": "code",
   "execution_count": 63,
   "metadata": {},
   "outputs": [
    {
     "name": "stdout",
     "output_type": "stream",
     "text": [
      "Model: \"sequential_12\"\n",
      "_________________________________________________________________\n",
      " Layer (type)                Output Shape              Param #   \n",
      "=================================================================\n",
      " dense_20 (Dense)            (None, 8)                 24        \n",
      "                                                                 \n",
      " dense_21 (Dense)            (None, 12)                108       \n",
      "                                                                 \n",
      " dense_22 (Dense)            (None, 16)                208       \n",
      "                                                                 \n",
      " dense_23 (Dense)            (None, 1)                 17        \n",
      "                                                                 \n",
      "=================================================================\n",
      "Total params: 357\n",
      "Trainable params: 357\n",
      "Non-trainable params: 0\n",
      "_________________________________________________________________\n"
     ]
    }
   ],
   "source": [
    "# Train two single/double hidden layer deep networks by varying the number of hidden nodes (4, 8, 12, 16) \n",
    "\n",
    "# Model 3\n",
    "\n",
    "\n",
    "dnnModel = Sequential()\n",
    "# layer 1 = input layer\n",
    "dnnModel.add(Dense(8, activation = 'relu', input_shape = (Xtrain_shape,)))\n",
    "# layer 2 = hidden layer\n",
    "dnnModel.add(Dense(12, activation = 'relu'))\n",
    "# layer 3 = hidden layer\n",
    "dnnModel.add(Dense(16, activation = 'relu'))\n",
    "# layer 4 = output layer\n",
    "dnnModel.add(Dense(1, activation = 'softmax'))\n",
    "dnnModel.compile(optimizer = 'adam', loss = 'binary_crossentropy', metrics = ['accuracy'])\n",
    "\n",
    "dnnModel.summary()"
   ]
  },
  {
   "cell_type": "code",
   "execution_count": 64,
   "metadata": {},
   "outputs": [
    {
     "name": "stdout",
     "output_type": "stream",
     "text": [
      "Epoch 1/25\n",
      "11/11 [==============================] - 0s 12ms/step - loss: 0.7849 - accuracy: 0.5072 - val_loss: 0.7020 - val_accuracy: 0.4933\n",
      "Epoch 2/25\n",
      "11/11 [==============================] - 0s 3ms/step - loss: 0.7286 - accuracy: 0.5072 - val_loss: 0.6819 - val_accuracy: 0.4933\n",
      "Epoch 3/25\n",
      "11/11 [==============================] - 0s 4ms/step - loss: 0.7041 - accuracy: 0.5072 - val_loss: 0.6818 - val_accuracy: 0.4933\n",
      "Epoch 4/25\n",
      "11/11 [==============================] - 0s 3ms/step - loss: 0.6936 - accuracy: 0.5072 - val_loss: 0.6854 - val_accuracy: 0.4933\n",
      "Epoch 5/25\n",
      "11/11 [==============================] - 0s 3ms/step - loss: 0.6873 - accuracy: 0.5072 - val_loss: 0.6906 - val_accuracy: 0.4933\n",
      "Epoch 6/25\n",
      "11/11 [==============================] - 0s 3ms/step - loss: 0.6829 - accuracy: 0.5072 - val_loss: 0.6956 - val_accuracy: 0.4933\n",
      "Epoch 7/25\n",
      "11/11 [==============================] - 0s 3ms/step - loss: 0.6804 - accuracy: 0.5072 - val_loss: 0.7005 - val_accuracy: 0.4933\n",
      "Epoch 8/25\n",
      "11/11 [==============================] - 0s 3ms/step - loss: 0.6788 - accuracy: 0.5072 - val_loss: 0.7034 - val_accuracy: 0.4933\n",
      "Epoch 9/25\n",
      "11/11 [==============================] - 0s 3ms/step - loss: 0.6772 - accuracy: 0.5072 - val_loss: 0.7079 - val_accuracy: 0.4933\n",
      "Epoch 10/25\n",
      "11/11 [==============================] - 0s 4ms/step - loss: 0.6765 - accuracy: 0.5072 - val_loss: 0.7110 - val_accuracy: 0.4933\n",
      "Epoch 11/25\n",
      "11/11 [==============================] - 0s 3ms/step - loss: 0.6754 - accuracy: 0.5072 - val_loss: 0.7148 - val_accuracy: 0.4933\n",
      "Epoch 12/25\n",
      "11/11 [==============================] - 0s 3ms/step - loss: 0.6751 - accuracy: 0.5072 - val_loss: 0.7148 - val_accuracy: 0.4933\n",
      "Epoch 13/25\n",
      "11/11 [==============================] - 0s 3ms/step - loss: 0.6748 - accuracy: 0.5072 - val_loss: 0.7190 - val_accuracy: 0.4933\n",
      "Epoch 14/25\n",
      "11/11 [==============================] - 0s 3ms/step - loss: 0.6739 - accuracy: 0.5072 - val_loss: 0.7187 - val_accuracy: 0.4933\n",
      "Epoch 15/25\n",
      "11/11 [==============================] - 0s 4ms/step - loss: 0.6730 - accuracy: 0.5072 - val_loss: 0.7197 - val_accuracy: 0.4933\n",
      "Epoch 16/25\n",
      "11/11 [==============================] - 0s 3ms/step - loss: 0.6730 - accuracy: 0.5072 - val_loss: 0.7187 - val_accuracy: 0.4933\n",
      "Epoch 17/25\n",
      "11/11 [==============================] - 0s 3ms/step - loss: 0.6723 - accuracy: 0.5072 - val_loss: 0.7201 - val_accuracy: 0.4933\n",
      "Epoch 18/25\n",
      "11/11 [==============================] - 0s 4ms/step - loss: 0.6722 - accuracy: 0.5072 - val_loss: 0.7213 - val_accuracy: 0.4933\n",
      "Epoch 19/25\n",
      "11/11 [==============================] - 0s 3ms/step - loss: 0.6714 - accuracy: 0.5072 - val_loss: 0.7199 - val_accuracy: 0.4933\n",
      "Epoch 20/25\n",
      "11/11 [==============================] - 0s 3ms/step - loss: 0.6706 - accuracy: 0.5072 - val_loss: 0.7195 - val_accuracy: 0.4933\n",
      "Epoch 21/25\n",
      "11/11 [==============================] - 0s 3ms/step - loss: 0.6706 - accuracy: 0.5072 - val_loss: 0.7210 - val_accuracy: 0.4933\n",
      "Epoch 22/25\n",
      "11/11 [==============================] - 0s 3ms/step - loss: 0.6710 - accuracy: 0.5072 - val_loss: 0.7213 - val_accuracy: 0.4933\n",
      "Epoch 23/25\n",
      "11/11 [==============================] - 0s 4ms/step - loss: 0.6703 - accuracy: 0.5072 - val_loss: 0.7212 - val_accuracy: 0.4933\n",
      "Epoch 24/25\n",
      "11/11 [==============================] - 0s 3ms/step - loss: 0.6692 - accuracy: 0.5072 - val_loss: 0.7219 - val_accuracy: 0.4933\n",
      "Epoch 25/25\n",
      "11/11 [==============================] - 0s 3ms/step - loss: 0.6693 - accuracy: 0.5072 - val_loss: 0.7216 - val_accuracy: 0.4933\n"
     ]
    }
   ],
   "source": [
    "# Trainning the model\n",
    "h = dnnModel.fit(Xtrain,Ytrain,validation_data = (Xtest, Ytest), epochs = 25,verbose = 1)"
   ]
  },
  {
   "cell_type": "code",
   "execution_count": 65,
   "metadata": {},
   "outputs": [],
   "source": [
    "# plotting the training accuracy\n",
    "def plot_history(h):\n",
    "   \n",
    "    plt.plot(h.history['val_accuracy'], label='validation accuracy')\n",
    "    plt.plot(h.history['accuracy'], label='train accuracy')\n",
    "    plt.xlabel('Epochs')\n",
    "    plt.ylabel('Accuracy')    \n",
    "    plt.legend()\n",
    "    plt.title(\"Plot of Accuracy\")\n",
    "    \n",
    "    plt.show()"
   ]
  },
  {
   "cell_type": "code",
   "execution_count": 66,
   "metadata": {},
   "outputs": [
    {
     "data": {
      "image/png": "[encoded data removed]",
      "text/plain": [
       "<Figure size 432x288 with 1 Axes>"
      ]
     },
     "metadata": {
      "needs_background": "light"
     },
     "output_type": "display_data"
    }
   ],
   "source": [
    "hist = plot_history(h)"
   ]
  },
  {
   "cell_type": "code",
   "execution_count": 67,
   "metadata": {},
   "outputs": [],
   "source": [
    "# plotting the training accuracy\n",
    "def plot_history(h):\n",
    "    \n",
    "    plt.plot(h.history['val_loss'], label='validation loss')\n",
    "    plt.plot(h.history['loss'], label='train loss')\n",
    "    plt.xlabel('Epochs')\n",
    "    plt.ylabel('Loss')\n",
    "    plt.legend()\n",
    "    plt.title(\"Plot of Loss\")\n",
    "    \n",
    "    \n",
    "\n",
    "    plt.show()"
   ]
  },
  {
   "cell_type": "code",
   "execution_count": 68,
   "metadata": {},
   "outputs": [
    {
     "data": {
      "image/png": "[encoded data removed]",
      "text/plain": [
       "<Figure size 432x288 with 1 Axes>"
      ]
     },
     "metadata": {
      "needs_background": "light"
     },
     "output_type": "display_data"
    }
   ],
   "source": [
    "hist = plot_history(h)"
   ]
  },
  {
   "cell_type": "code",
   "execution_count": 69,
   "metadata": {},
   "outputs": [
    {
     "name": "stdout",
     "output_type": "stream",
     "text": [
      "Model: \"sequential_13\"\n",
      "_________________________________________________________________\n",
      " Layer (type)                Output Shape              Param #   \n",
      "=================================================================\n",
      " dense_24 (Dense)            (None, 8)                 24        \n",
      "                                                                 \n",
      " dense_25 (Dense)            (None, 12)                108       \n",
      "                                                                 \n",
      " dropout_2 (Dropout)         (None, 12)                0         \n",
      "                                                                 \n",
      " dense_26 (Dense)            (None, 16)                208       \n",
      "                                                                 \n",
      " dropout_3 (Dropout)         (None, 16)                0         \n",
      "                                                                 \n",
      " dense_27 (Dense)            (None, 1)                 17        \n",
      "                                                                 \n",
      "=================================================================\n",
      "Total params: 357\n",
      "Trainable params: 357\n",
      "Non-trainable params: 0\n",
      "_________________________________________________________________\n"
     ]
    }
   ],
   "source": [
    "# Train two single/double hidden layer deep networks by varying the number of hidden nodes (4, 8, 12, 16) \n",
    "\n",
    "# Model 4\n",
    "\n",
    "\n",
    "dnnModel = Sequential()\n",
    "# layer 1 = input layer\n",
    "dnnModel.add(Dense(8, activation = 'relu', input_shape = (Xtrain_shape,)))\n",
    "# layer 2 = hidden layer\n",
    "dnnModel.add(Dense(12, activation = 'relu'))\n",
    "# Add dropout of 25% to layer 2\n",
    "dnnModel.add(Dropout(0.25))\n",
    "# layer 3 = hidden layer\n",
    "dnnModel.add(Dense(16, activation = 'relu'))\n",
    "# Add dropout of 25% to layer 3\n",
    "dnnModel.add(Dropout(0.25))\n",
    "# layer 4 = output layer\n",
    "dnnModel.add(Dense(1, activation = 'softmax'))\n",
    "dnnModel.compile(optimizer = 'adam', loss = 'binary_crossentropy', metrics = ['accuracy'])\n",
    "\n",
    "dnnModel.summary()"
   ]
  },
  {
   "cell_type": "code",
   "execution_count": 70,
   "metadata": {},
   "outputs": [
    {
     "name": "stdout",
     "output_type": "stream",
     "text": [
      "Epoch 1/25\n",
      "11/11 [==============================] - 0s 11ms/step - loss: 1.4196 - accuracy: 0.5072 - val_loss: 1.3656 - val_accuracy: 0.4933\n",
      "Epoch 2/25\n",
      "11/11 [==============================] - 0s 4ms/step - loss: 1.2145 - accuracy: 0.5072 - val_loss: 1.1178 - val_accuracy: 0.4933\n",
      "Epoch 3/25\n",
      "11/11 [==============================] - 0s 5ms/step - loss: 1.0960 - accuracy: 0.5072 - val_loss: 0.9273 - val_accuracy: 0.4933\n",
      "Epoch 4/25\n",
      "11/11 [==============================] - 0s 4ms/step - loss: 1.0327 - accuracy: 0.5072 - val_loss: 0.7971 - val_accuracy: 0.4933\n",
      "Epoch 5/25\n",
      "11/11 [==============================] - 0s 3ms/step - loss: 0.9481 - accuracy: 0.5072 - val_loss: 0.7447 - val_accuracy: 0.4933\n",
      "Epoch 6/25\n",
      "11/11 [==============================] - 0s 4ms/step - loss: 0.9027 - accuracy: 0.5072 - val_loss: 0.7310 - val_accuracy: 0.4933\n",
      "Epoch 7/25\n",
      "11/11 [==============================] - 0s 3ms/step - loss: 0.9359 - accuracy: 0.5072 - val_loss: 0.7284 - val_accuracy: 0.4933\n",
      "Epoch 8/25\n",
      "11/11 [==============================] - 0s 3ms/step - loss: 0.8211 - accuracy: 0.5072 - val_loss: 0.7311 - val_accuracy: 0.4933\n",
      "Epoch 9/25\n",
      "11/11 [==============================] - 0s 3ms/step - loss: 0.8662 - accuracy: 0.5072 - val_loss: 0.7296 - val_accuracy: 0.4933\n",
      "Epoch 10/25\n",
      "11/11 [==============================] - 0s 4ms/step - loss: 0.8315 - accuracy: 0.5072 - val_loss: 0.7305 - val_accuracy: 0.4933\n",
      "Epoch 11/25\n",
      "11/11 [==============================] - 0s 4ms/step - loss: 0.8745 - accuracy: 0.5072 - val_loss: 0.7327 - val_accuracy: 0.4933\n",
      "Epoch 12/25\n",
      "11/11 [==============================] - 0s 4ms/step - loss: 0.7818 - accuracy: 0.5072 - val_loss: 0.7335 - val_accuracy: 0.4933\n",
      "Epoch 13/25\n",
      "11/11 [==============================] - 0s 4ms/step - loss: 0.7889 - accuracy: 0.5072 - val_loss: 0.7311 - val_accuracy: 0.4933\n",
      "Epoch 14/25\n",
      "11/11 [==============================] - 0s 3ms/step - loss: 0.7874 - accuracy: 0.5072 - val_loss: 0.7290 - val_accuracy: 0.4933\n",
      "Epoch 15/25\n",
      "11/11 [==============================] - 0s 4ms/step - loss: 0.8213 - accuracy: 0.5072 - val_loss: 0.7264 - val_accuracy: 0.4933\n",
      "Epoch 16/25\n",
      "11/11 [==============================] - 0s 4ms/step - loss: 0.7574 - accuracy: 0.5072 - val_loss: 0.7222 - val_accuracy: 0.4933\n",
      "Epoch 17/25\n",
      "11/11 [==============================] - 0s 3ms/step - loss: 0.7705 - accuracy: 0.5072 - val_loss: 0.7219 - val_accuracy: 0.4933\n",
      "Epoch 18/25\n",
      "11/11 [==============================] - 0s 4ms/step - loss: 0.7065 - accuracy: 0.5072 - val_loss: 0.7192 - val_accuracy: 0.4933\n",
      "Epoch 19/25\n",
      "11/11 [==============================] - 0s 4ms/step - loss: 0.7836 - accuracy: 0.5072 - val_loss: 0.7178 - val_accuracy: 0.4933\n",
      "Epoch 20/25\n",
      "11/11 [==============================] - 0s 4ms/step - loss: 0.7650 - accuracy: 0.5072 - val_loss: 0.7182 - val_accuracy: 0.4933\n",
      "Epoch 21/25\n",
      "11/11 [==============================] - 0s 4ms/step - loss: 0.7362 - accuracy: 0.5072 - val_loss: 0.7172 - val_accuracy: 0.4933\n",
      "Epoch 22/25\n",
      "11/11 [==============================] - 0s 3ms/step - loss: 0.7308 - accuracy: 0.5072 - val_loss: 0.7167 - val_accuracy: 0.4933\n",
      "Epoch 23/25\n",
      "11/11 [==============================] - 0s 4ms/step - loss: 0.7070 - accuracy: 0.5072 - val_loss: 0.7166 - val_accuracy: 0.4933\n",
      "Epoch 24/25\n",
      "11/11 [==============================] - 0s 3ms/step - loss: 0.7155 - accuracy: 0.5072 - val_loss: 0.7163 - val_accuracy: 0.4933\n",
      "Epoch 25/25\n",
      "11/11 [==============================] - 0s 3ms/step - loss: 0.7437 - accuracy: 0.5072 - val_loss: 0.7161 - val_accuracy: 0.4933\n"
     ]
    }
   ],
   "source": [
    "# Trainning the model\n",
    "h = dnnModel.fit(Xtrain,Ytrain,validation_data = (Xtest, Ytest), epochs = 25,verbose = 1)"
   ]
  },
  {
   "cell_type": "code",
   "execution_count": 71,
   "metadata": {},
   "outputs": [
    {
     "name": "stdout",
     "output_type": "stream",
     "text": [
      "Model: \"sequential_14\"\n",
      "_________________________________________________________________\n",
      " Layer (type)                Output Shape              Param #   \n",
      "=================================================================\n",
      " dense_28 (Dense)            (None, 8)                 24        \n",
      "                                                                 \n",
      " dense_29 (Dense)            (None, 12)                108       \n",
      "                                                                 \n",
      " dropout_4 (Dropout)         (None, 12)                0         \n",
      "                                                                 \n",
      " dense_30 (Dense)            (None, 16)                208       \n",
      "                                                                 \n",
      " dropout_5 (Dropout)         (None, 16)                0         \n",
      "                                                                 \n",
      " dense_31 (Dense)            (None, 1)                 17        \n",
      "                                                                 \n",
      "=================================================================\n",
      "Total params: 357\n",
      "Trainable params: 357\n",
      "Non-trainable params: 0\n",
      "_________________________________________________________________\n"
     ]
    }
   ],
   "source": [
    "# Train two single/double hidden layer deep networks by varying the number of hidden nodes (4, 8, 12, 16) \n",
    "\n",
    "# Model 5\n",
    "\n",
    "\n",
    "dnnModel = Sequential()\n",
    "# layer 1 = input layer\n",
    "dnnModel.add(Dense(8, activation = 'relu', input_shape = (Xtrain_shape,)))\n",
    "# layer 2 = hidden layer\n",
    "dnnModel.add(Dense(12, activation = 'relu'))\n",
    "# Add dropout of 5% to layer 2\n",
    "dnnModel.add(Dropout(0.5))\n",
    "# layer 3 = hidden layer\n",
    "dnnModel.add(Dense(16, activation = 'relu'))\n",
    "# Add dropout of 5% to layer 3\n",
    "dnnModel.add(Dropout(0.5))\n",
    "# layer 4 = output layer\n",
    "dnnModel.add(Dense(1, activation = 'softmax'))\n",
    "dnnModel.compile(optimizer = 'adam', loss = 'binary_crossentropy', metrics = ['accuracy'])\n",
    "\n",
    "dnnModel.summary()"
   ]
  },
  {
   "cell_type": "code",
   "execution_count": 72,
   "metadata": {},
   "outputs": [
    {
     "name": "stdout",
     "output_type": "stream",
     "text": [
      "Epoch 1/25\n",
      "11/11 [==============================] - 2s 12ms/step - loss: 1.0822 - accuracy: 0.5072 - val_loss: 0.6731 - val_accuracy: 0.4933\n",
      "Epoch 2/25\n",
      "11/11 [==============================] - 0s 4ms/step - loss: 0.9241 - accuracy: 0.5072 - val_loss: 0.6724 - val_accuracy: 0.4933\n",
      "Epoch 3/25\n",
      "11/11 [==============================] - 0s 4ms/step - loss: 0.9504 - accuracy: 0.5072 - val_loss: 0.6753 - val_accuracy: 0.4933\n",
      "Epoch 4/25\n",
      "11/11 [==============================] - 0s 3ms/step - loss: 0.8895 - accuracy: 0.5072 - val_loss: 0.6786 - val_accuracy: 0.4933\n",
      "Epoch 5/25\n",
      "11/11 [==============================] - 0s 4ms/step - loss: 0.8722 - accuracy: 0.5072 - val_loss: 0.6836 - val_accuracy: 0.4933\n",
      "Epoch 6/25\n",
      "11/11 [==============================] - 0s 3ms/step - loss: 0.7932 - accuracy: 0.5072 - val_loss: 0.6906 - val_accuracy: 0.4933\n",
      "Epoch 7/25\n",
      "11/11 [==============================] - 0s 4ms/step - loss: 0.8631 - accuracy: 0.5072 - val_loss: 0.6942 - val_accuracy: 0.4933\n",
      "Epoch 8/25\n",
      "11/11 [==============================] - 0s 3ms/step - loss: 0.8222 - accuracy: 0.5072 - val_loss: 0.6949 - val_accuracy: 0.4933\n",
      "Epoch 9/25\n",
      "11/11 [==============================] - 0s 4ms/step - loss: 0.8389 - accuracy: 0.5072 - val_loss: 0.6988 - val_accuracy: 0.4933\n",
      "Epoch 10/25\n",
      "11/11 [==============================] - 0s 3ms/step - loss: 0.7593 - accuracy: 0.5072 - val_loss: 0.7003 - val_accuracy: 0.4933\n",
      "Epoch 11/25\n",
      "11/11 [==============================] - 0s 3ms/step - loss: 0.7550 - accuracy: 0.5072 - val_loss: 0.7027 - val_accuracy: 0.4933\n",
      "Epoch 12/25\n",
      "11/11 [==============================] - 0s 3ms/step - loss: 0.7507 - accuracy: 0.5072 - val_loss: 0.7067 - val_accuracy: 0.4933\n",
      "Epoch 13/25\n",
      "11/11 [==============================] - 0s 3ms/step - loss: 0.7438 - accuracy: 0.5072 - val_loss: 0.7065 - val_accuracy: 0.4933\n",
      "Epoch 14/25\n",
      "11/11 [==============================] - 0s 4ms/step - loss: 0.7430 - accuracy: 0.5072 - val_loss: 0.7082 - val_accuracy: 0.4933\n",
      "Epoch 15/25\n",
      "11/11 [==============================] - 0s 5ms/step - loss: 0.7574 - accuracy: 0.5072 - val_loss: 0.7070 - val_accuracy: 0.4933\n",
      "Epoch 16/25\n",
      "11/11 [==============================] - 0s 4ms/step - loss: 0.7837 - accuracy: 0.5072 - val_loss: 0.7032 - val_accuracy: 0.4933\n",
      "Epoch 17/25\n",
      "11/11 [==============================] - 0s 4ms/step - loss: 0.7932 - accuracy: 0.5072 - val_loss: 0.7010 - val_accuracy: 0.4933\n",
      "Epoch 18/25\n",
      "11/11 [==============================] - 0s 3ms/step - loss: 0.7272 - accuracy: 0.5072 - val_loss: 0.7001 - val_accuracy: 0.4933\n",
      "Epoch 19/25\n",
      "11/11 [==============================] - 0s 4ms/step - loss: 0.7029 - accuracy: 0.5072 - val_loss: 0.6999 - val_accuracy: 0.4933\n",
      "Epoch 20/25\n",
      "11/11 [==============================] - 0s 3ms/step - loss: 0.7207 - accuracy: 0.5072 - val_loss: 0.7005 - val_accuracy: 0.4933\n",
      "Epoch 21/25\n",
      "11/11 [==============================] - 0s 3ms/step - loss: 0.7479 - accuracy: 0.5072 - val_loss: 0.7021 - val_accuracy: 0.4933\n",
      "Epoch 22/25\n",
      "11/11 [==============================] - 0s 3ms/step - loss: 0.7540 - accuracy: 0.5072 - val_loss: 0.7024 - val_accuracy: 0.4933\n",
      "Epoch 23/25\n",
      "11/11 [==============================] - 0s 4ms/step - loss: 0.7016 - accuracy: 0.5072 - val_loss: 0.7036 - val_accuracy: 0.4933\n",
      "Epoch 24/25\n",
      "11/11 [==============================] - 0s 3ms/step - loss: 0.7284 - accuracy: 0.5072 - val_loss: 0.7045 - val_accuracy: 0.4933\n",
      "Epoch 25/25\n",
      "11/11 [==============================] - 0s 4ms/step - loss: 0.7276 - accuracy: 0.5072 - val_loss: 0.7074 - val_accuracy: 0.4933\n"
     ]
    }
   ],
   "source": [
    "# Trainning the model\n",
    "h = dnnModel.fit(Xtrain,Ytrain,validation_data = (Xtest, Ytest), epochs = 25,verbose = 1)"
   ]
  },
  {
   "cell_type": "code",
   "execution_count": 73,
   "metadata": {},
   "outputs": [
    {
     "name": "stdout",
     "output_type": "stream",
     "text": [
      "Model: \"sequential_15\"\n",
      "_________________________________________________________________\n",
      " Layer (type)                Output Shape              Param #   \n",
      "=================================================================\n",
      " dense_32 (Dense)            (None, 16)                48        \n",
      "                                                                 \n",
      " dense_33 (Dense)            (None, 12)                204       \n",
      "                                                                 \n",
      " dense_34 (Dense)            (None, 8)                 104       \n",
      "                                                                 \n",
      " dense_35 (Dense)            (None, 1)                 9         \n",
      "                                                                 \n",
      "=================================================================\n",
      "Total params: 365\n",
      "Trainable params: 365\n",
      "Non-trainable params: 0\n",
      "_________________________________________________________________\n"
     ]
    }
   ],
   "source": [
    "# Train two single/double hidden layer deep networks by varying the number of hidden nodes (4, 8, 12, 16) \n",
    "\n",
    "# Model 6\n",
    "\n",
    "\n",
    "dnnModel = Sequential()\n",
    "# layer 1 = input layer\n",
    "dnnModel.add(Dense(16, activation = 'relu', input_shape = (Xtrain_shape,)))\n",
    "# layer 2 = hidden layer\n",
    "dnnModel.add(Dense(12, activation = 'relu'))\n",
    "# layer 3 = hidden layer\n",
    "dnnModel.add(Dense(8, activation = 'relu'))\n",
    "# layer 4 = output layer\n",
    "dnnModel.add(Dense(1, activation = 'softmax'))\n",
    "dnnModel.compile(optimizer = 'adam', loss = 'binary_crossentropy', metrics = ['accuracy'])\n",
    "\n",
    "dnnModel.summary()"
   ]
  },
  {
   "cell_type": "code",
   "execution_count": 74,
   "metadata": {},
   "outputs": [
    {
     "name": "stdout",
     "output_type": "stream",
     "text": [
      "Epoch 1/25\n",
      "11/11 [==============================] - 0s 12ms/step - loss: 1.1080 - accuracy: 0.5072 - val_loss: 0.8482 - val_accuracy: 0.4933\n",
      "Epoch 2/25\n",
      "11/11 [==============================] - 0s 3ms/step - loss: 0.9677 - accuracy: 0.5072 - val_loss: 0.7754 - val_accuracy: 0.4933\n",
      "Epoch 3/25\n",
      "11/11 [==============================] - 0s 4ms/step - loss: 0.8761 - accuracy: 0.5072 - val_loss: 0.7276 - val_accuracy: 0.4933\n",
      "Epoch 4/25\n",
      "11/11 [==============================] - 0s 3ms/step - loss: 0.8123 - accuracy: 0.5072 - val_loss: 0.6976 - val_accuracy: 0.4933\n",
      "Epoch 5/25\n",
      "11/11 [==============================] - 0s 3ms/step - loss: 0.7726 - accuracy: 0.5072 - val_loss: 0.6817 - val_accuracy: 0.4933\n",
      "Epoch 6/25\n",
      "11/11 [==============================] - 0s 3ms/step - loss: 0.7456 - accuracy: 0.5072 - val_loss: 0.6745 - val_accuracy: 0.4933\n",
      "Epoch 7/25\n",
      "11/11 [==============================] - 0s 4ms/step - loss: 0.7296 - accuracy: 0.5072 - val_loss: 0.6717 - val_accuracy: 0.4933\n",
      "Epoch 8/25\n",
      "11/11 [==============================] - 0s 3ms/step - loss: 0.7185 - accuracy: 0.5072 - val_loss: 0.6722 - val_accuracy: 0.4933\n",
      "Epoch 9/25\n",
      "11/11 [==============================] - 0s 4ms/step - loss: 0.7097 - accuracy: 0.5072 - val_loss: 0.6743 - val_accuracy: 0.4933\n",
      "Epoch 10/25\n",
      "11/11 [==============================] - 0s 3ms/step - loss: 0.7051 - accuracy: 0.5072 - val_loss: 0.6793 - val_accuracy: 0.4933\n",
      "Epoch 11/25\n",
      "11/11 [==============================] - 0s 3ms/step - loss: 0.6996 - accuracy: 0.5072 - val_loss: 0.6835 - val_accuracy: 0.4933\n",
      "Epoch 12/25\n",
      "11/11 [==============================] - 0s 4ms/step - loss: 0.6967 - accuracy: 0.5072 - val_loss: 0.6863 - val_accuracy: 0.4933\n",
      "Epoch 13/25\n",
      "11/11 [==============================] - 0s 3ms/step - loss: 0.6945 - accuracy: 0.5072 - val_loss: 0.6909 - val_accuracy: 0.4933\n",
      "Epoch 14/25\n",
      "11/11 [==============================] - 0s 3ms/step - loss: 0.6934 - accuracy: 0.5072 - val_loss: 0.6909 - val_accuracy: 0.4933\n",
      "Epoch 15/25\n",
      "11/11 [==============================] - 0s 4ms/step - loss: 0.6917 - accuracy: 0.5072 - val_loss: 0.6944 - val_accuracy: 0.4933\n",
      "Epoch 16/25\n",
      "11/11 [==============================] - 0s 3ms/step - loss: 0.6902 - accuracy: 0.5072 - val_loss: 0.6938 - val_accuracy: 0.4933\n",
      "Epoch 17/25\n",
      "11/11 [==============================] - 0s 4ms/step - loss: 0.6896 - accuracy: 0.5072 - val_loss: 0.6963 - val_accuracy: 0.4933\n",
      "Epoch 18/25\n",
      "11/11 [==============================] - 0s 4ms/step - loss: 0.6903 - accuracy: 0.5072 - val_loss: 0.6953 - val_accuracy: 0.4933\n",
      "Epoch 19/25\n",
      "11/11 [==============================] - 0s 3ms/step - loss: 0.6892 - accuracy: 0.5072 - val_loss: 0.6973 - val_accuracy: 0.4933\n",
      "Epoch 20/25\n",
      "11/11 [==============================] - 0s 3ms/step - loss: 0.6877 - accuracy: 0.5072 - val_loss: 0.6965 - val_accuracy: 0.4933\n",
      "Epoch 21/25\n",
      "11/11 [==============================] - 0s 3ms/step - loss: 0.6868 - accuracy: 0.5072 - val_loss: 0.6981 - val_accuracy: 0.4933\n",
      "Epoch 22/25\n",
      "11/11 [==============================] - 0s 3ms/step - loss: 0.6864 - accuracy: 0.5072 - val_loss: 0.7001 - val_accuracy: 0.4933\n",
      "Epoch 23/25\n",
      "11/11 [==============================] - 0s 3ms/step - loss: 0.6856 - accuracy: 0.5072 - val_loss: 0.6993 - val_accuracy: 0.4933\n",
      "Epoch 24/25\n",
      "11/11 [==============================] - 0s 5ms/step - loss: 0.6849 - accuracy: 0.5072 - val_loss: 0.7013 - val_accuracy: 0.4933\n",
      "Epoch 25/25\n",
      "11/11 [==============================] - 0s 3ms/step - loss: 0.6844 - accuracy: 0.5072 - val_loss: 0.7017 - val_accuracy: 0.4933\n"
     ]
    }
   ],
   "source": [
    "# Trainning the model\n",
    "h = dnnModel.fit(Xtrain,Ytrain,validation_data = (Xtest, Ytest), epochs = 25,verbose = 1)"
   ]
  },
  {
   "cell_type": "code",
   "execution_count": 75,
   "metadata": {},
   "outputs": [],
   "source": [
    "# Splitting the dataset into 70% training and 30% validation data.\n",
    "\n",
    "Xtrain,Xtest,Ytrain,Ytest = train_test_split(X, Y, test_size = 0.3, random_state = 0)"
   ]
  },
  {
   "cell_type": "code",
   "execution_count": 76,
   "metadata": {},
   "outputs": [
    {
     "name": "stdout",
     "output_type": "stream",
     "text": [
      "2\n"
     ]
    }
   ],
   "source": [
    "Xtrain_shape = Xtrain.shape[1]\n",
    "print (Xtrain_shape)"
   ]
  },
  {
   "cell_type": "code",
   "execution_count": 77,
   "metadata": {},
   "outputs": [
    {
     "name": "stdout",
     "output_type": "stream",
     "text": [
      "Model: \"sequential_16\"\n",
      "_________________________________________________________________\n",
      " Layer (type)                Output Shape              Param #   \n",
      "=================================================================\n",
      " dense_36 (Dense)            (None, 16)                48        \n",
      "                                                                 \n",
      " dense_37 (Dense)            (None, 12)                204       \n",
      "                                                                 \n",
      " dense_38 (Dense)            (None, 8)                 104       \n",
      "                                                                 \n",
      " dense_39 (Dense)            (None, 1)                 9         \n",
      "                                                                 \n",
      "=================================================================\n",
      "Total params: 365\n",
      "Trainable params: 365\n",
      "Non-trainable params: 0\n",
      "_________________________________________________________________\n"
     ]
    }
   ],
   "source": [
    "# Train two single/double hidden layer deep networks by varying the number of hidden nodes (4, 8, 12, 16) \n",
    "\n",
    "# Model 7\n",
    "\n",
    "\n",
    "dnnModel = Sequential()\n",
    "# layer 1 = input layer\n",
    "dnnModel.add(Dense(16, activation = 'relu', input_shape = (Xtrain_shape,)))\n",
    "# layer 2 = hidden layer\n",
    "dnnModel.add(Dense(12, activation = 'relu'))\n",
    "# layer 3 = hidden layer\n",
    "dnnModel.add(Dense(8, activation = 'relu'))\n",
    "# layer 4 = output layer\n",
    "dnnModel.add(Dense(1, activation = 'softmax'))\n",
    "dnnModel.compile(optimizer = 'adam', loss = 'binary_crossentropy', metrics = ['accuracy'])\n",
    "\n",
    "dnnModel.summary()"
   ]
  },
  {
   "cell_type": "code",
   "execution_count": 78,
   "metadata": {},
   "outputs": [
    {
     "name": "stdout",
     "output_type": "stream",
     "text": [
      "Epoch 1/25\n",
      "11/11 [==============================] - 0s 11ms/step - loss: 0.6960 - accuracy: 0.5014 - val_loss: 0.6824 - val_accuracy: 0.5067\n",
      "Epoch 2/25\n",
      "11/11 [==============================] - 0s 3ms/step - loss: 0.6927 - accuracy: 0.5014 - val_loss: 0.6821 - val_accuracy: 0.5067\n",
      "Epoch 3/25\n",
      "11/11 [==============================] - 0s 3ms/step - loss: 0.6899 - accuracy: 0.5014 - val_loss: 0.6831 - val_accuracy: 0.5067\n",
      "Epoch 4/25\n",
      "11/11 [==============================] - 0s 4ms/step - loss: 0.6882 - accuracy: 0.5014 - val_loss: 0.6845 - val_accuracy: 0.5067\n",
      "Epoch 5/25\n",
      "11/11 [==============================] - 0s 4ms/step - loss: 0.6872 - accuracy: 0.5014 - val_loss: 0.6845 - val_accuracy: 0.5067\n",
      "Epoch 6/25\n",
      "11/11 [==============================] - 0s 3ms/step - loss: 0.6858 - accuracy: 0.5014 - val_loss: 0.6842 - val_accuracy: 0.5067\n",
      "Epoch 7/25\n",
      "11/11 [==============================] - 0s 3ms/step - loss: 0.6853 - accuracy: 0.5014 - val_loss: 0.6847 - val_accuracy: 0.5067\n",
      "Epoch 8/25\n",
      "11/11 [==============================] - 0s 3ms/step - loss: 0.6846 - accuracy: 0.5014 - val_loss: 0.6849 - val_accuracy: 0.5067\n",
      "Epoch 9/25\n",
      "11/11 [==============================] - 0s 3ms/step - loss: 0.6841 - accuracy: 0.5014 - val_loss: 0.6851 - val_accuracy: 0.5067\n",
      "Epoch 10/25\n",
      "11/11 [==============================] - 0s 3ms/step - loss: 0.6837 - accuracy: 0.5014 - val_loss: 0.6855 - val_accuracy: 0.5067\n",
      "Epoch 11/25\n",
      "11/11 [==============================] - 0s 4ms/step - loss: 0.6829 - accuracy: 0.5014 - val_loss: 0.6860 - val_accuracy: 0.5067\n",
      "Epoch 12/25\n",
      "11/11 [==============================] - 0s 3ms/step - loss: 0.6831 - accuracy: 0.5014 - val_loss: 0.6855 - val_accuracy: 0.5067\n",
      "Epoch 13/25\n",
      "11/11 [==============================] - 0s 3ms/step - loss: 0.6822 - accuracy: 0.5014 - val_loss: 0.6864 - val_accuracy: 0.5067\n",
      "Epoch 14/25\n",
      "11/11 [==============================] - 0s 3ms/step - loss: 0.6819 - accuracy: 0.5014 - val_loss: 0.6865 - val_accuracy: 0.5067\n",
      "Epoch 15/25\n",
      "11/11 [==============================] - 0s 4ms/step - loss: 0.6814 - accuracy: 0.5014 - val_loss: 0.6863 - val_accuracy: 0.5067\n",
      "Epoch 16/25\n",
      "11/11 [==============================] - 0s 3ms/step - loss: 0.6814 - accuracy: 0.5014 - val_loss: 0.6863 - val_accuracy: 0.5067\n",
      "Epoch 17/25\n",
      "11/11 [==============================] - 0s 4ms/step - loss: 0.6809 - accuracy: 0.5014 - val_loss: 0.6868 - val_accuracy: 0.5067\n",
      "Epoch 18/25\n",
      "11/11 [==============================] - 0s 3ms/step - loss: 0.6806 - accuracy: 0.5014 - val_loss: 0.6868 - val_accuracy: 0.5067\n",
      "Epoch 19/25\n",
      "11/11 [==============================] - 0s 3ms/step - loss: 0.6804 - accuracy: 0.5014 - val_loss: 0.6876 - val_accuracy: 0.5067\n",
      "Epoch 20/25\n",
      "11/11 [==============================] - 0s 3ms/step - loss: 0.6801 - accuracy: 0.5014 - val_loss: 0.6875 - val_accuracy: 0.5067\n",
      "Epoch 21/25\n",
      "11/11 [==============================] - 0s 4ms/step - loss: 0.6794 - accuracy: 0.5014 - val_loss: 0.6879 - val_accuracy: 0.5067\n",
      "Epoch 22/25\n",
      "11/11 [==============================] - 0s 3ms/step - loss: 0.6791 - accuracy: 0.5014 - val_loss: 0.6884 - val_accuracy: 0.5067\n",
      "Epoch 23/25\n",
      "11/11 [==============================] - 0s 4ms/step - loss: 0.6790 - accuracy: 0.5014 - val_loss: 0.6885 - val_accuracy: 0.5067\n",
      "Epoch 24/25\n",
      "11/11 [==============================] - 0s 4ms/step - loss: 0.6785 - accuracy: 0.5014 - val_loss: 0.6881 - val_accuracy: 0.5067\n",
      "Epoch 25/25\n",
      "11/11 [==============================] - 0s 4ms/step - loss: 0.6787 - accuracy: 0.5014 - val_loss: 0.6887 - val_accuracy: 0.5067\n"
     ]
    }
   ],
   "source": [
    "# Trainning the model\n",
    "h = dnnModel.fit(Xtrain,Ytrain,validation_data = (Xtest, Ytest), epochs = 25,verbose = 1)"
   ]
  },
  {
   "cell_type": "code",
   "execution_count": 79,
   "metadata": {},
   "outputs": [],
   "source": [
    "# Splitting the dataset into 70% training and 30% validation data.\n",
    "\n",
    "Xtrain,Xtest,Ytrain,Ytest = train_test_split(X, Y, test_size = 0.3, random_state = 1)"
   ]
  },
  {
   "cell_type": "code",
   "execution_count": 80,
   "metadata": {},
   "outputs": [
    {
     "name": "stdout",
     "output_type": "stream",
     "text": [
      "2\n"
     ]
    }
   ],
   "source": [
    "Xtrain_shape = Xtrain.shape[1]\n",
    "print (Xtrain_shape)"
   ]
  },
  {
   "cell_type": "code",
   "execution_count": 82,
   "metadata": {},
   "outputs": [
    {
     "name": "stdout",
     "output_type": "stream",
     "text": [
      "Model: \"sequential_18\"\n",
      "_________________________________________________________________\n",
      " Layer (type)                Output Shape              Param #   \n",
      "=================================================================\n",
      " dense_44 (Dense)            (None, 16)                48        \n",
      "                                                                 \n",
      " dense_45 (Dense)            (None, 12)                204       \n",
      "                                                                 \n",
      " dense_46 (Dense)            (None, 8)                 104       \n",
      "                                                                 \n",
      " dense_47 (Dense)            (None, 1)                 9         \n",
      "                                                                 \n",
      "=================================================================\n",
      "Total params: 365\n",
      "Trainable params: 365\n",
      "Non-trainable params: 0\n",
      "_________________________________________________________________\n"
     ]
    }
   ],
   "source": [
    "# Train two single/double hidden layer deep networks by varying the number of hidden nodes (4, 8, 12, 16) \n",
    "\n",
    "# Model 8\n",
    "\n",
    "\n",
    "dnnModel = Sequential()\n",
    "# layer 1 = input layer\n",
    "dnnModel.add(Dense(16, activation = 'relu', input_shape = (Xtrain_shape,)))\n",
    "# layer 2 = hidden layer\n",
    "dnnModel.add(Dense(12, activation = 'relu'))\n",
    "# layer 3 = hidden layer\n",
    "dnnModel.add(Dense(8, activation = 'relu'))\n",
    "# layer 4 = output layer\n",
    "dnnModel.add(Dense(1, activation = 'softmax'))\n",
    "dnnModel.compile(optimizer = 'adam', loss = 'binary_crossentropy', metrics = ['accuracy'])\n",
    "\n",
    "dnnModel.summary()"
   ]
  },
  {
   "cell_type": "code",
   "execution_count": 83,
   "metadata": {},
   "outputs": [
    {
     "name": "stdout",
     "output_type": "stream",
     "text": [
      "Epoch 1/25\n",
      "11/11 [==============================] - 0s 10ms/step - loss: 1.0145 - accuracy: 0.4841 - val_loss: 1.0464 - val_accuracy: 0.5467\n",
      "Epoch 2/25\n",
      "11/11 [==============================] - 0s 4ms/step - loss: 0.8804 - accuracy: 0.4841 - val_loss: 0.9073 - val_accuracy: 0.5467\n",
      "Epoch 3/25\n",
      "11/11 [==============================] - 0s 4ms/step - loss: 0.7915 - accuracy: 0.4841 - val_loss: 0.8098 - val_accuracy: 0.5467\n",
      "Epoch 4/25\n",
      "11/11 [==============================] - 0s 4ms/step - loss: 0.7380 - accuracy: 0.4841 - val_loss: 0.7601 - val_accuracy: 0.5467\n",
      "Epoch 5/25\n",
      "11/11 [==============================] - 0s 3ms/step - loss: 0.7216 - accuracy: 0.4841 - val_loss: 0.7390 - val_accuracy: 0.5467\n",
      "Epoch 6/25\n",
      "11/11 [==============================] - 0s 4ms/step - loss: 0.7114 - accuracy: 0.4841 - val_loss: 0.7296 - val_accuracy: 0.5467\n",
      "Epoch 7/25\n",
      "11/11 [==============================] - 0s 4ms/step - loss: 0.7054 - accuracy: 0.4841 - val_loss: 0.7195 - val_accuracy: 0.5467\n",
      "Epoch 8/25\n",
      "11/11 [==============================] - 0s 3ms/step - loss: 0.7016 - accuracy: 0.4841 - val_loss: 0.7155 - val_accuracy: 0.5467\n",
      "Epoch 9/25\n",
      "11/11 [==============================] - 0s 3ms/step - loss: 0.6963 - accuracy: 0.4841 - val_loss: 0.7118 - val_accuracy: 0.5467\n",
      "Epoch 10/25\n",
      "11/11 [==============================] - 0s 3ms/step - loss: 0.6930 - accuracy: 0.4841 - val_loss: 0.7101 - val_accuracy: 0.5467\n",
      "Epoch 11/25\n",
      "11/11 [==============================] - 0s 3ms/step - loss: 0.6905 - accuracy: 0.4841 - val_loss: 0.7123 - val_accuracy: 0.5467\n",
      "Epoch 12/25\n",
      "11/11 [==============================] - 0s 3ms/step - loss: 0.6890 - accuracy: 0.4841 - val_loss: 0.7092 - val_accuracy: 0.5467\n",
      "Epoch 13/25\n",
      "11/11 [==============================] - 0s 3ms/step - loss: 0.6871 - accuracy: 0.4841 - val_loss: 0.7035 - val_accuracy: 0.5467\n",
      "Epoch 14/25\n",
      "11/11 [==============================] - 0s 3ms/step - loss: 0.6852 - accuracy: 0.4841 - val_loss: 0.7051 - val_accuracy: 0.5467\n",
      "Epoch 15/25\n",
      "11/11 [==============================] - 0s 3ms/step - loss: 0.6860 - accuracy: 0.4841 - val_loss: 0.7115 - val_accuracy: 0.5467\n",
      "Epoch 16/25\n",
      "11/11 [==============================] - 0s 3ms/step - loss: 0.6840 - accuracy: 0.4841 - val_loss: 0.7114 - val_accuracy: 0.5467\n",
      "Epoch 17/25\n",
      "11/11 [==============================] - 0s 4ms/step - loss: 0.6807 - accuracy: 0.4841 - val_loss: 0.7013 - val_accuracy: 0.5467\n",
      "Epoch 18/25\n",
      "11/11 [==============================] - 0s 4ms/step - loss: 0.6806 - accuracy: 0.4841 - val_loss: 0.7014 - val_accuracy: 0.5467\n",
      "Epoch 19/25\n",
      "11/11 [==============================] - 0s 5ms/step - loss: 0.6789 - accuracy: 0.4841 - val_loss: 0.7003 - val_accuracy: 0.5467\n",
      "Epoch 20/25\n",
      "11/11 [==============================] - 0s 5ms/step - loss: 0.6800 - accuracy: 0.4841 - val_loss: 0.6960 - val_accuracy: 0.5467\n",
      "Epoch 21/25\n",
      "11/11 [==============================] - 0s 4ms/step - loss: 0.6785 - accuracy: 0.4841 - val_loss: 0.7029 - val_accuracy: 0.5467\n",
      "Epoch 22/25\n",
      "11/11 [==============================] - 0s 5ms/step - loss: 0.6775 - accuracy: 0.4841 - val_loss: 0.7017 - val_accuracy: 0.5467\n",
      "Epoch 23/25\n",
      "11/11 [==============================] - 0s 3ms/step - loss: 0.6771 - accuracy: 0.4841 - val_loss: 0.7017 - val_accuracy: 0.5467\n",
      "Epoch 24/25\n",
      "11/11 [==============================] - 0s 4ms/step - loss: 0.6766 - accuracy: 0.4841 - val_loss: 0.7018 - val_accuracy: 0.5467\n",
      "Epoch 25/25\n",
      "11/11 [==============================] - 0s 4ms/step - loss: 0.6752 - accuracy: 0.4841 - val_loss: 0.7019 - val_accuracy: 0.5467\n"
     ]
    }
   ],
   "source": [
    "# Trainning the model\n",
    "h = dnnModel.fit(Xtrain,Ytrain,validation_data = (Xtest, Ytest), epochs = 25,verbose = 1)"
   ]
  },
  {
   "cell_type": "code",
   "execution_count": 84,
   "metadata": {},
   "outputs": [],
   "source": [
    "# Splitting the dataset into 70% training and 30% validation data.\n",
    "\n",
    "Xtrain,Xtest,Ytrain,Ytest = train_test_split(X, Y, test_size = 0.3, random_state = 7)"
   ]
  },
  {
   "cell_type": "code",
   "execution_count": 85,
   "metadata": {},
   "outputs": [
    {
     "name": "stdout",
     "output_type": "stream",
     "text": [
      "2\n"
     ]
    }
   ],
   "source": [
    "Xtrain_shape = Xtrain.shape[1]\n",
    "print (Xtrain_shape)"
   ]
  },
  {
   "cell_type": "code",
   "execution_count": 86,
   "metadata": {},
   "outputs": [
    {
     "name": "stdout",
     "output_type": "stream",
     "text": [
      "Model: \"sequential_19\"\n",
      "_________________________________________________________________\n",
      " Layer (type)                Output Shape              Param #   \n",
      "=================================================================\n",
      " dense_48 (Dense)            (None, 16)                48        \n",
      "                                                                 \n",
      " dense_49 (Dense)            (None, 12)                204       \n",
      "                                                                 \n",
      " dense_50 (Dense)            (None, 8)                 104       \n",
      "                                                                 \n",
      " dense_51 (Dense)            (None, 1)                 9         \n",
      "                                                                 \n",
      "=================================================================\n",
      "Total params: 365\n",
      "Trainable params: 365\n",
      "Non-trainable params: 0\n",
      "_________________________________________________________________\n"
     ]
    }
   ],
   "source": [
    "# Train two single/double hidden layer deep networks by varying the number of hidden nodes (4, 8, 12, 16) \n",
    "\n",
    "# Model 9\n",
    "\n",
    "\n",
    "dnnModel = Sequential()\n",
    "# layer 1 = input layer\n",
    "dnnModel.add(Dense(16, activation = 'relu', input_shape = (Xtrain_shape,)))\n",
    "# layer 2 = hidden layer\n",
    "dnnModel.add(Dense(12, activation = 'relu'))\n",
    "# layer 3 = hidden layer\n",
    "dnnModel.add(Dense(8, activation = 'relu'))\n",
    "# layer 4 = output layer\n",
    "dnnModel.add(Dense(1, activation = 'softmax'))\n",
    "dnnModel.compile(optimizer = 'adam', loss = 'binary_crossentropy', metrics = ['accuracy'])\n",
    "\n",
    "dnnModel.summary()"
   ]
  },
  {
   "cell_type": "code",
   "execution_count": 87,
   "metadata": {},
   "outputs": [
    {
     "name": "stdout",
     "output_type": "stream",
     "text": [
      "Epoch 1/25\n",
      "11/11 [==============================] - 0s 10ms/step - loss: 0.8997 - accuracy: 0.5014 - val_loss: 0.8327 - val_accuracy: 0.5067\n",
      "Epoch 2/25\n",
      "11/11 [==============================] - 0s 4ms/step - loss: 0.7908 - accuracy: 0.5014 - val_loss: 0.7601 - val_accuracy: 0.5067\n",
      "Epoch 3/25\n",
      "11/11 [==============================] - 0s 4ms/step - loss: 0.7404 - accuracy: 0.5014 - val_loss: 0.7288 - val_accuracy: 0.5067\n",
      "Epoch 4/25\n",
      "11/11 [==============================] - 0s 5ms/step - loss: 0.7194 - accuracy: 0.5014 - val_loss: 0.7170 - val_accuracy: 0.5067\n",
      "Epoch 5/25\n",
      "11/11 [==============================] - 0s 3ms/step - loss: 0.7103 - accuracy: 0.5014 - val_loss: 0.7106 - val_accuracy: 0.5067\n",
      "Epoch 6/25\n",
      "11/11 [==============================] - 0s 4ms/step - loss: 0.7054 - accuracy: 0.5014 - val_loss: 0.7068 - val_accuracy: 0.5067\n",
      "Epoch 7/25\n",
      "11/11 [==============================] - 0s 4ms/step - loss: 0.7024 - accuracy: 0.5014 - val_loss: 0.7028 - val_accuracy: 0.5067\n",
      "Epoch 8/25\n",
      "11/11 [==============================] - 0s 4ms/step - loss: 0.6988 - accuracy: 0.5014 - val_loss: 0.7007 - val_accuracy: 0.5067\n",
      "Epoch 9/25\n",
      "11/11 [==============================] - 0s 3ms/step - loss: 0.6966 - accuracy: 0.5014 - val_loss: 0.6996 - val_accuracy: 0.5067\n",
      "Epoch 10/25\n",
      "11/11 [==============================] - 0s 3ms/step - loss: 0.6944 - accuracy: 0.5014 - val_loss: 0.6989 - val_accuracy: 0.5067\n",
      "Epoch 11/25\n",
      "11/11 [==============================] - 0s 4ms/step - loss: 0.6932 - accuracy: 0.5014 - val_loss: 0.6971 - val_accuracy: 0.5067\n",
      "Epoch 12/25\n",
      "11/11 [==============================] - 0s 3ms/step - loss: 0.6923 - accuracy: 0.5014 - val_loss: 0.6955 - val_accuracy: 0.5067\n",
      "Epoch 13/25\n",
      "11/11 [==============================] - 0s 3ms/step - loss: 0.6913 - accuracy: 0.5014 - val_loss: 0.6947 - val_accuracy: 0.5067\n",
      "Epoch 14/25\n",
      "11/11 [==============================] - 0s 4ms/step - loss: 0.6905 - accuracy: 0.5014 - val_loss: 0.6954 - val_accuracy: 0.5067\n",
      "Epoch 15/25\n",
      "11/11 [==============================] - 0s 3ms/step - loss: 0.6899 - accuracy: 0.5014 - val_loss: 0.6939 - val_accuracy: 0.5067\n",
      "Epoch 16/25\n",
      "11/11 [==============================] - 0s 4ms/step - loss: 0.6893 - accuracy: 0.5014 - val_loss: 0.6938 - val_accuracy: 0.5067\n",
      "Epoch 17/25\n",
      "11/11 [==============================] - 0s 4ms/step - loss: 0.6889 - accuracy: 0.5014 - val_loss: 0.6924 - val_accuracy: 0.5067\n",
      "Epoch 18/25\n",
      "11/11 [==============================] - 0s 4ms/step - loss: 0.6884 - accuracy: 0.5014 - val_loss: 0.6924 - val_accuracy: 0.5067\n",
      "Epoch 19/25\n",
      "11/11 [==============================] - 0s 3ms/step - loss: 0.6876 - accuracy: 0.5014 - val_loss: 0.6909 - val_accuracy: 0.5067\n",
      "Epoch 20/25\n",
      "11/11 [==============================] - 0s 3ms/step - loss: 0.6876 - accuracy: 0.5014 - val_loss: 0.6906 - val_accuracy: 0.5067\n",
      "Epoch 21/25\n",
      "11/11 [==============================] - 0s 4ms/step - loss: 0.6872 - accuracy: 0.5014 - val_loss: 0.6903 - val_accuracy: 0.5067\n",
      "Epoch 22/25\n",
      "11/11 [==============================] - 0s 5ms/step - loss: 0.6870 - accuracy: 0.5014 - val_loss: 0.6894 - val_accuracy: 0.5067\n",
      "Epoch 23/25\n",
      "11/11 [==============================] - 0s 4ms/step - loss: 0.6865 - accuracy: 0.5014 - val_loss: 0.6894 - val_accuracy: 0.5067\n",
      "Epoch 24/25\n",
      "11/11 [==============================] - 0s 4ms/step - loss: 0.6861 - accuracy: 0.5014 - val_loss: 0.6893 - val_accuracy: 0.5067\n",
      "Epoch 25/25\n",
      "11/11 [==============================] - 0s 5ms/step - loss: 0.6860 - accuracy: 0.5014 - val_loss: 0.6896 - val_accuracy: 0.5067\n"
     ]
    }
   ],
   "source": [
    "# Trainning the model\n",
    "h = dnnModel.fit(Xtrain,Ytrain,validation_data = (Xtest, Ytest), epochs = 25,verbose = 1)"
   ]
  },
  {
   "cell_type": "code",
   "execution_count": null,
   "metadata": {},
   "outputs": [],
   "source": []
  }
 ],
 "metadata": {
  "kernelspec": {
   "display_name": "Python 3 (ipykernel)",
   "language": "python",
   "name": "python3"
  },
  "language_info": {
   "codemirror_mode": {
    "name": "ipython",
    "version": 3
   },
   "file_extension": ".py",
   "mimetype": "text/x-python",
   "name": "python",
   "nbconvert_exporter": "python",
   "pygments_lexer": "ipython3",
   "version": "3.7.11"
  }
 },
 "nbformat": 4,
 "nbformat_minor": 4
}
