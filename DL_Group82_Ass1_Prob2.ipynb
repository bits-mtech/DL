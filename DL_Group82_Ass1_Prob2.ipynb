{
 "cells": [
  {
   "cell_type": "code",
   "execution_count": 1,
   "metadata": {},
   "outputs": [],
   "source": [
    "# Assignment : DL Assignment 1 Question 2\n",
    "# Group No. 82\n",
    "# Mriganka Gayen\n",
    "# Subodh Kant Mishra\n",
    "# Ashutosh Sahebrao Dhok"
   ]
  },
  {
   "cell_type": "code",
   "execution_count": 2,
   "metadata": {
    "scrolled": true
   },
   "outputs": [],
   "source": [
    "# Importing all the necessary libraries\n",
    "\n",
    "import pandas as pd\n",
    "import numpy as np\n",
    "import tensorflow\n",
    "import keras\n",
    "from keras.models import Sequential\n",
    "from keras.layers import Dense\n",
    "from keras.layers import Dropout\n",
    "from keras import regularizers\n",
    "import matplotlib.pyplot as plt\n",
    "import seaborn as sns\n",
    "from sklearn.preprocessing import MinMaxScaler\n",
    "from sklearn.model_selection import train_test_split"
   ]
  },
  {
   "cell_type": "code",
   "execution_count": 3,
   "metadata": {},
   "outputs": [
    {
     "data": {
      "text/html": [
       "<div>\n",
       "<style scoped>\n",
       "    .dataframe tbody tr th:only-of-type {\n",
       "        vertical-align: middle;\n",
       "    }\n",
       "\n",
       "    .dataframe tbody tr th {\n",
       "        vertical-align: top;\n",
       "    }\n",
       "\n",
       "    .dataframe thead th {\n",
       "        text-align: right;\n",
       "    }\n",
       "</style>\n",
       "<table border=\"1\" class=\"dataframe\">\n",
       "  <thead>\n",
       "    <tr style=\"text-align: right;\">\n",
       "      <th></th>\n",
       "      <th>0.156326772</th>\n",
       "      <th>0.011856755</th>\n",
       "      <th>0</th>\n",
       "    </tr>\n",
       "  </thead>\n",
       "  <tbody>\n",
       "    <tr>\n",
       "      <th>0</th>\n",
       "      <td>0.211109</td>\n",
       "      <td>0.032209</td>\n",
       "      <td>0</td>\n",
       "    </tr>\n",
       "    <tr>\n",
       "      <th>1</th>\n",
       "      <td>0.263386</td>\n",
       "      <td>0.060866</td>\n",
       "      <td>0</td>\n",
       "    </tr>\n",
       "    <tr>\n",
       "      <th>2</th>\n",
       "      <td>0.312221</td>\n",
       "      <td>0.097541</td>\n",
       "      <td>0</td>\n",
       "    </tr>\n",
       "    <tr>\n",
       "      <th>3</th>\n",
       "      <td>0.356707</td>\n",
       "      <td>0.141855</td>\n",
       "      <td>0</td>\n",
       "    </tr>\n",
       "    <tr>\n",
       "      <th>4</th>\n",
       "      <td>0.395976</td>\n",
       "      <td>0.193337</td>\n",
       "      <td>0</td>\n",
       "    </tr>\n",
       "  </tbody>\n",
       "</table>\n",
       "</div>"
      ],
      "text/plain": [
       "   0.156326772  0.011856755  0\n",
       "0     0.211109     0.032209  0\n",
       "1     0.263386     0.060866  0\n",
       "2     0.312221     0.097541  0\n",
       "3     0.356707     0.141855  0\n",
       "4     0.395976     0.193337  0"
      ]
     },
     "execution_count": 3,
     "metadata": {},
     "output_type": "execute_result"
    }
   ],
   "source": [
    "# Reading the data from csv\n",
    "df=pd.read_csv(\"data2_0.75_6.csv\")\n",
    "df.head()"
   ]
  },
  {
   "cell_type": "code",
   "execution_count": 4,
   "metadata": {},
   "outputs": [
    {
     "data": {
      "text/html": [
       "<div>\n",
       "<style scoped>\n",
       "    .dataframe tbody tr th:only-of-type {\n",
       "        vertical-align: middle;\n",
       "    }\n",
       "\n",
       "    .dataframe tbody tr th {\n",
       "        vertical-align: top;\n",
       "    }\n",
       "\n",
       "    .dataframe thead th {\n",
       "        text-align: right;\n",
       "    }\n",
       "</style>\n",
       "<table border=\"1\" class=\"dataframe\">\n",
       "  <thead>\n",
       "    <tr style=\"text-align: right;\">\n",
       "      <th></th>\n",
       "      <th>Feature_1</th>\n",
       "      <th>Feature_2</th>\n",
       "      <th>Class_Label</th>\n",
       "    </tr>\n",
       "  </thead>\n",
       "  <tbody>\n",
       "    <tr>\n",
       "      <th>0</th>\n",
       "      <td>0.211109</td>\n",
       "      <td>0.032209</td>\n",
       "      <td>0</td>\n",
       "    </tr>\n",
       "    <tr>\n",
       "      <th>1</th>\n",
       "      <td>0.263386</td>\n",
       "      <td>0.060866</td>\n",
       "      <td>0</td>\n",
       "    </tr>\n",
       "    <tr>\n",
       "      <th>2</th>\n",
       "      <td>0.312221</td>\n",
       "      <td>0.097541</td>\n",
       "      <td>0</td>\n",
       "    </tr>\n",
       "    <tr>\n",
       "      <th>3</th>\n",
       "      <td>0.356707</td>\n",
       "      <td>0.141855</td>\n",
       "      <td>0</td>\n",
       "    </tr>\n",
       "    <tr>\n",
       "      <th>4</th>\n",
       "      <td>0.395976</td>\n",
       "      <td>0.193337</td>\n",
       "      <td>0</td>\n",
       "    </tr>\n",
       "  </tbody>\n",
       "</table>\n",
       "</div>"
      ],
      "text/plain": [
       "   Feature_1  Feature_2  Class_Label\n",
       "0   0.211109   0.032209            0\n",
       "1   0.263386   0.060866            0\n",
       "2   0.312221   0.097541            0\n",
       "3   0.356707   0.141855            0\n",
       "4   0.395976   0.193337            0"
      ]
     },
     "execution_count": 4,
     "metadata": {},
     "output_type": "execute_result"
    }
   ],
   "source": [
    "# Including the header for each row - feature 1, feature 2, class label.\n",
    "\n",
    "df.columns = [\"Feature_1\", \"Feature_2\", \"Class_Label\"]\n",
    "df.head()"
   ]
  },
  {
   "cell_type": "code",
   "execution_count": 5,
   "metadata": {},
   "outputs": [],
   "source": [
    "# a. Train two single/double hidden layer deep networks\n",
    "# b. By varying the number of hidden nodes (4, 8, 12, 16) in each layer \n",
    "# c. with 70% training and 30% validation data. \n",
    "# d. Use appropriate learning rate, activation, and loss functions and also mention the reason for choosing the same. \n",
    "# e. Report, compare, and explain the observed accuracy and minimum loss achieved."
   ]
  },
  {
   "cell_type": "code",
   "execution_count": 6,
   "metadata": {},
   "outputs": [],
   "source": [
    "# Seperating the input variables and the output variables\n",
    "\n",
    "X = df.drop(\"Class_Label\",axis=1)\n",
    "Y = df[\"Class_Label\"]\n"
   ]
  },
  {
   "cell_type": "code",
   "execution_count": 7,
   "metadata": {},
   "outputs": [],
   "source": [
    "# Splitting the dataset into 70% training and 30% validation data.\n",
    "\n",
    "Xtrain,Xtest,Ytrain,Ytest = train_test_split(X, Y, test_size = 0.3, random_state = 42)"
   ]
  },
  {
   "cell_type": "code",
   "execution_count": 8,
   "metadata": {},
   "outputs": [
    {
     "name": "stdout",
     "output_type": "stream",
     "text": [
      "2\n"
     ]
    }
   ],
   "source": [
    "Xtrain_shape = Xtrain.shape[1]\n",
    "print (Xtrain_shape)"
   ]
  },
  {
   "cell_type": "code",
   "execution_count": 9,
   "metadata": {},
   "outputs": [
    {
     "name": "stdout",
     "output_type": "stream",
     "text": [
      "Model: \"sequential\"\n",
      "_________________________________________________________________\n",
      " Layer (type)                Output Shape              Param #   \n",
      "=================================================================\n",
      " dense (Dense)               (None, 4)                 12        \n",
      "                                                                 \n",
      " dense_1 (Dense)             (None, 8)                 40        \n",
      "                                                                 \n",
      " dense_2 (Dense)             (None, 12)                108       \n",
      "                                                                 \n",
      " dense_3 (Dense)             (None, 1)                 13        \n",
      "                                                                 \n",
      "=================================================================\n",
      "Total params: 173\n",
      "Trainable params: 173\n",
      "Non-trainable params: 0\n",
      "_________________________________________________________________\n"
     ]
    }
   ],
   "source": [
    "# Train two single/double hidden layer deep networks by varying the number of hidden nodes (4, 8, 12, 16) \n",
    "\n",
    "# Model 1\n",
    "\n",
    "\n",
    "dnnModel = Sequential()\n",
    "# layer 1 = input layer\n",
    "dnnModel.add(Dense(4, activation = 'relu', input_shape = (Xtrain_shape,)))\n",
    "# layer 2 = hidden layer\n",
    "dnnModel.add(Dense(8, activation = 'relu'))\n",
    "# layer 3 = hidden layer\n",
    "dnnModel.add(Dense(12, activation = 'relu'))\n",
    "# layer 4 = output layer\n",
    "dnnModel.add(Dense(1, activation = 'softmax'))\n",
    "dnnModel.compile(optimizer = 'adam', loss = 'binary_crossentropy', metrics = ['accuracy'])\n",
    "\n",
    "dnnModel.summary()"
   ]
  },
  {
   "cell_type": "code",
   "execution_count": 10,
   "metadata": {},
   "outputs": [
    {
     "name": "stdout",
     "output_type": "stream",
     "text": [
      "Epoch 1/25\n",
      "11/11 [==============================] - 1s 12ms/step - loss: 0.9270 - accuracy: 0.5072 - val_loss: 1.1120 - val_accuracy: 0.4933\n",
      "Epoch 2/25\n",
      "11/11 [==============================] - 0s 3ms/step - loss: 0.8189 - accuracy: 0.5072 - val_loss: 0.9568 - val_accuracy: 0.4933\n",
      "Epoch 3/25\n",
      "11/11 [==============================] - 0s 3ms/step - loss: 0.7472 - accuracy: 0.5072 - val_loss: 0.8705 - val_accuracy: 0.4933\n",
      "Epoch 4/25\n",
      "11/11 [==============================] - 0s 3ms/step - loss: 0.7181 - accuracy: 0.5072 - val_loss: 0.8225 - val_accuracy: 0.4933\n",
      "Epoch 5/25\n",
      "11/11 [==============================] - 0s 3ms/step - loss: 0.7063 - accuracy: 0.5072 - val_loss: 0.7877 - val_accuracy: 0.4933\n",
      "Epoch 6/25\n",
      "11/11 [==============================] - 0s 3ms/step - loss: 0.6985 - accuracy: 0.5072 - val_loss: 0.7622 - val_accuracy: 0.4933\n",
      "Epoch 7/25\n",
      "11/11 [==============================] - 0s 5ms/step - loss: 0.6923 - accuracy: 0.5072 - val_loss: 0.7514 - val_accuracy: 0.4933\n",
      "Epoch 8/25\n",
      "11/11 [==============================] - 0s 4ms/step - loss: 0.6898 - accuracy: 0.5072 - val_loss: 0.7427 - val_accuracy: 0.4933\n",
      "Epoch 9/25\n",
      "11/11 [==============================] - 0s 4ms/step - loss: 0.6873 - accuracy: 0.5072 - val_loss: 0.7368 - val_accuracy: 0.4933\n",
      "Epoch 10/25\n",
      "11/11 [==============================] - 0s 4ms/step - loss: 0.6868 - accuracy: 0.5072 - val_loss: 0.7334 - val_accuracy: 0.4933\n",
      "Epoch 11/25\n",
      "11/11 [==============================] - 0s 3ms/step - loss: 0.6854 - accuracy: 0.5072 - val_loss: 0.7304 - val_accuracy: 0.4933\n",
      "Epoch 12/25\n",
      "11/11 [==============================] - 0s 4ms/step - loss: 0.6857 - accuracy: 0.5072 - val_loss: 0.7293 - val_accuracy: 0.4933\n",
      "Epoch 13/25\n",
      "11/11 [==============================] - 0s 4ms/step - loss: 0.6849 - accuracy: 0.5072 - val_loss: 0.7240 - val_accuracy: 0.4933\n",
      "Epoch 14/25\n",
      "11/11 [==============================] - 0s 3ms/step - loss: 0.6847 - accuracy: 0.5072 - val_loss: 0.7267 - val_accuracy: 0.4933\n",
      "Epoch 15/25\n",
      "11/11 [==============================] - 0s 3ms/step - loss: 0.6845 - accuracy: 0.5072 - val_loss: 0.7261 - val_accuracy: 0.4933\n",
      "Epoch 16/25\n",
      "11/11 [==============================] - 0s 4ms/step - loss: 0.6835 - accuracy: 0.5072 - val_loss: 0.7244 - val_accuracy: 0.4933\n",
      "Epoch 17/25\n",
      "11/11 [==============================] - 0s 3ms/step - loss: 0.6837 - accuracy: 0.5072 - val_loss: 0.7294 - val_accuracy: 0.4933\n",
      "Epoch 18/25\n",
      "11/11 [==============================] - 0s 3ms/step - loss: 0.6825 - accuracy: 0.5072 - val_loss: 0.7263 - val_accuracy: 0.4933\n",
      "Epoch 19/25\n",
      "11/11 [==============================] - 0s 3ms/step - loss: 0.6821 - accuracy: 0.5072 - val_loss: 0.7242 - val_accuracy: 0.4933\n",
      "Epoch 20/25\n",
      "11/11 [==============================] - 0s 3ms/step - loss: 0.6820 - accuracy: 0.5072 - val_loss: 0.7250 - val_accuracy: 0.4933\n",
      "Epoch 21/25\n",
      "11/11 [==============================] - 0s 3ms/step - loss: 0.6817 - accuracy: 0.5072 - val_loss: 0.7246 - val_accuracy: 0.4933\n",
      "Epoch 22/25\n",
      "11/11 [==============================] - 0s 3ms/step - loss: 0.6821 - accuracy: 0.5072 - val_loss: 0.7255 - val_accuracy: 0.4933\n",
      "Epoch 23/25\n",
      "11/11 [==============================] - 0s 3ms/step - loss: 0.6810 - accuracy: 0.5072 - val_loss: 0.7264 - val_accuracy: 0.4933\n",
      "Epoch 24/25\n",
      "11/11 [==============================] - 0s 4ms/step - loss: 0.6805 - accuracy: 0.5072 - val_loss: 0.7258 - val_accuracy: 0.4933\n",
      "Epoch 25/25\n",
      "11/11 [==============================] - 0s 3ms/step - loss: 0.6803 - accuracy: 0.5072 - val_loss: 0.7241 - val_accuracy: 0.4933\n"
     ]
    }
   ],
   "source": [
    "# Trainning the model\n",
    "h = dnnModel.fit(Xtrain,Ytrain,validation_data = (Xtest, Ytest), epochs = 25,verbose = 1)"
   ]
  },
  {
   "cell_type": "code",
   "execution_count": 11,
   "metadata": {},
   "outputs": [],
   "source": [
    "# plotting the training accuracy\n",
    "def plot_history(h):\n",
    " \n",
    "    plt.plot(h.history['val_accuracy'], label='validation accuracy')\n",
    "    plt.plot(h.history['accuracy'], label='train accuracy')\n",
    "    plt.xlabel('Epochs')\n",
    "    plt.ylabel('Accuracy')    \n",
    "    plt.legend()\n",
    "    plt.title(\"Plot of Accuracy\")\n",
    "    \n",
    "    plt.show()"
   ]
  },
  {
   "cell_type": "code",
   "execution_count": 12,
   "metadata": {},
   "outputs": [
    {
     "data": {
      "image/png": "[encoded data removed]",
      "text/plain": [
       "<Figure size 432x288 with 1 Axes>"
      ]
     },
     "metadata": {
      "needs_background": "light"
     },
     "output_type": "display_data"
    }
   ],
   "source": [
    "hist = plot_history(h)"
   ]
  },
  {
   "cell_type": "code",
   "execution_count": 13,
   "metadata": {},
   "outputs": [],
   "source": [
    "# plotting the training accuracy\n",
    "def plot_history(h):\n",
    "    \n",
    "    plt.plot(h.history['val_loss'], label='validation loss')\n",
    "    plt.plot(h.history['loss'], label='train loss')\n",
    "    plt.xlabel('Epochs')\n",
    "    plt.ylabel('Loss')\n",
    "    plt.legend()\n",
    "    plt.title(\"Plot of Loss\")\n",
    "    \n",
    "    \n",
    "\n",
    "    plt.show()"
   ]
  },
  {
   "cell_type": "code",
   "execution_count": 14,
   "metadata": {},
   "outputs": [
    {
     "data": {
      "image/png": "[encoded data removed]",
      "text/plain": [
       "<Figure size 432x288 with 1 Axes>"
      ]
     },
     "metadata": {
      "needs_background": "light"
     },
     "output_type": "display_data"
    }
   ],
   "source": [
    "hist = plot_history(h)"
   ]
  },
  {
   "cell_type": "code",
   "execution_count": 15,
   "metadata": {},
   "outputs": [
    {
     "name": "stdout",
     "output_type": "stream",
     "text": [
      "Model: \"sequential_1\"\n",
      "_________________________________________________________________\n",
      " Layer (type)                Output Shape              Param #   \n",
      "=================================================================\n",
      " dense_4 (Dense)             (None, 4)                 12        \n",
      "                                                                 \n",
      " dense_5 (Dense)             (None, 8)                 40        \n",
      "                                                                 \n",
      " dropout (Dropout)           (None, 8)                 0         \n",
      "                                                                 \n",
      " dense_6 (Dense)             (None, 12)                108       \n",
      "                                                                 \n",
      " dropout_1 (Dropout)         (None, 12)                0         \n",
      "                                                                 \n",
      " dense_7 (Dense)             (None, 1)                 13        \n",
      "                                                                 \n",
      "=================================================================\n",
      "Total params: 173\n",
      "Trainable params: 173\n",
      "Non-trainable params: 0\n",
      "_________________________________________________________________\n"
     ]
    }
   ],
   "source": [
    "# Train two single/double hidden layer deep networks by varying the number of hidden nodes (4, 8, 12, 16) \n",
    "\n",
    "# Model 2\n",
    "\n",
    "\n",
    "dnnModel = Sequential()\n",
    "# layer 1 = input layer\n",
    "dnnModel.add(Dense(4, activation = 'relu', input_shape = (Xtrain_shape,)))\n",
    "# layer 2 = hidden layer\n",
    "dnnModel.add(Dense(8, activation = 'relu'))\n",
    "# Add dropout of 25% to layer 2\n",
    "dnnModel.add(Dropout(0.25))\n",
    "# layer 3 = hidden layer\n",
    "dnnModel.add(Dense(12, activation = 'relu'))\n",
    "# Add dropout of 25% to layer 3\n",
    "dnnModel.add(Dropout(0.25))\n",
    "# layer 4 = output layer\n",
    "dnnModel.add(Dense(1, activation = 'softmax'))\n",
    "dnnModel.compile(optimizer = 'adam', loss = 'binary_crossentropy', metrics = ['accuracy'])\n",
    "\n",
    "dnnModel.summary()"
   ]
  },
  {
   "cell_type": "code",
   "execution_count": 16,
   "metadata": {},
   "outputs": [
    {
     "name": "stdout",
     "output_type": "stream",
     "text": [
      "Epoch 1/25\n",
      "11/11 [==============================] - 0s 10ms/step - loss: 0.7532 - accuracy: 0.5072 - val_loss: 0.7201 - val_accuracy: 0.4933\n",
      "Epoch 2/25\n",
      "11/11 [==============================] - 0s 4ms/step - loss: 0.7361 - accuracy: 0.5072 - val_loss: 0.7105 - val_accuracy: 0.4933\n",
      "Epoch 3/25\n",
      "11/11 [==============================] - 0s 3ms/step - loss: 0.7353 - accuracy: 0.5072 - val_loss: 0.7033 - val_accuracy: 0.4933\n",
      "Epoch 4/25\n",
      "11/11 [==============================] - 0s 3ms/step - loss: 0.7141 - accuracy: 0.5072 - val_loss: 0.6994 - val_accuracy: 0.4933\n",
      "Epoch 5/25\n",
      "11/11 [==============================] - 0s 3ms/step - loss: 0.7153 - accuracy: 0.5072 - val_loss: 0.6968 - val_accuracy: 0.4933\n",
      "Epoch 6/25\n",
      "11/11 [==============================] - 0s 3ms/step - loss: 0.6918 - accuracy: 0.5072 - val_loss: 0.6956 - val_accuracy: 0.4933\n",
      "Epoch 7/25\n",
      "11/11 [==============================] - 0s 3ms/step - loss: 0.7086 - accuracy: 0.5072 - val_loss: 0.6946 - val_accuracy: 0.4933\n",
      "Epoch 8/25\n",
      "11/11 [==============================] - 0s 3ms/step - loss: 0.7000 - accuracy: 0.5072 - val_loss: 0.6943 - val_accuracy: 0.4933\n",
      "Epoch 9/25\n",
      "11/11 [==============================] - 0s 3ms/step - loss: 0.7034 - accuracy: 0.5072 - val_loss: 0.6939 - val_accuracy: 0.4933\n",
      "Epoch 10/25\n",
      "11/11 [==============================] - 0s 3ms/step - loss: 0.7071 - accuracy: 0.5072 - val_loss: 0.6937 - val_accuracy: 0.4933\n",
      "Epoch 11/25\n",
      "11/11 [==============================] - 0s 3ms/step - loss: 0.6943 - accuracy: 0.5072 - val_loss: 0.6937 - val_accuracy: 0.4933\n",
      "Epoch 12/25\n",
      "11/11 [==============================] - 0s 3ms/step - loss: 0.6997 - accuracy: 0.5072 - val_loss: 0.6933 - val_accuracy: 0.4933\n",
      "Epoch 13/25\n",
      "11/11 [==============================] - 0s 3ms/step - loss: 0.6856 - accuracy: 0.5072 - val_loss: 0.6932 - val_accuracy: 0.4933\n",
      "Epoch 14/25\n",
      "11/11 [==============================] - 0s 3ms/step - loss: 0.6944 - accuracy: 0.5072 - val_loss: 0.6933 - val_accuracy: 0.4933\n",
      "Epoch 15/25\n",
      "11/11 [==============================] - 0s 3ms/step - loss: 0.6892 - accuracy: 0.5072 - val_loss: 0.6928 - val_accuracy: 0.4933\n",
      "Epoch 16/25\n",
      "11/11 [==============================] - 0s 3ms/step - loss: 0.6820 - accuracy: 0.5072 - val_loss: 0.6927 - val_accuracy: 0.4933\n",
      "Epoch 17/25\n",
      "11/11 [==============================] - 0s 3ms/step - loss: 0.7012 - accuracy: 0.5072 - val_loss: 0.6929 - val_accuracy: 0.4933\n",
      "Epoch 18/25\n",
      "11/11 [==============================] - 0s 3ms/step - loss: 0.6943 - accuracy: 0.5072 - val_loss: 0.6931 - val_accuracy: 0.4933\n",
      "Epoch 19/25\n",
      "11/11 [==============================] - 0s 3ms/step - loss: 0.6897 - accuracy: 0.5072 - val_loss: 0.6927 - val_accuracy: 0.4933\n",
      "Epoch 20/25\n",
      "11/11 [==============================] - 0s 3ms/step - loss: 0.7073 - accuracy: 0.5072 - val_loss: 0.6927 - val_accuracy: 0.4933\n",
      "Epoch 21/25\n",
      "11/11 [==============================] - 0s 3ms/step - loss: 0.6948 - accuracy: 0.5072 - val_loss: 0.6932 - val_accuracy: 0.4933\n",
      "Epoch 22/25\n",
      "11/11 [==============================] - 0s 3ms/step - loss: 0.6980 - accuracy: 0.5072 - val_loss: 0.6932 - val_accuracy: 0.4933\n",
      "Epoch 23/25\n",
      "11/11 [==============================] - 0s 3ms/step - loss: 0.7013 - accuracy: 0.5072 - val_loss: 0.6935 - val_accuracy: 0.4933\n",
      "Epoch 24/25\n",
      "11/11 [==============================] - 0s 3ms/step - loss: 0.6900 - accuracy: 0.5072 - val_loss: 0.6937 - val_accuracy: 0.4933\n",
      "Epoch 25/25\n",
      "11/11 [==============================] - 0s 3ms/step - loss: 0.6858 - accuracy: 0.5072 - val_loss: 0.6935 - val_accuracy: 0.4933\n"
     ]
    }
   ],
   "source": [
    "# Trainning the model\n",
    "h = dnnModel.fit(Xtrain,Ytrain,validation_data = (Xtest, Ytest), epochs = 25,verbose = 1)"
   ]
  },
  {
   "cell_type": "code",
   "execution_count": 17,
   "metadata": {},
   "outputs": [],
   "source": [
    "# plotting the training accuracy\n",
    "def plot_history(h):\n",
    "   \n",
    "    plt.plot(h.history['val_accuracy'], label='validation accuracy')\n",
    "    plt.plot(h.history['accuracy'], label='train accuracy')\n",
    "    plt.xlabel('Epochs')\n",
    "    plt.ylabel('Accuracy')    \n",
    "    plt.legend()\n",
    "    plt.title(\"Plot of Accuracy\")\n",
    "    \n",
    "    plt.show()"
   ]
  },
  {
   "cell_type": "code",
   "execution_count": 18,
   "metadata": {},
   "outputs": [
    {
     "data": {
      "image/png": "[encoded data removed]",
      "text/plain": [
       "<Figure size 432x288 with 1 Axes>"
      ]
     },
     "metadata": {
      "needs_background": "light"
     },
     "output_type": "display_data"
    }
   ],
   "source": [
    "hist = plot_history(h)"
   ]
  },
  {
   "cell_type": "code",
   "execution_count": 19,
   "metadata": {},
   "outputs": [],
   "source": [
    "# plotting the training accuracy\n",
    "def plot_history(h):\n",
    "    \n",
    "    plt.plot(h.history['val_loss'], label='validation loss')\n",
    "    plt.plot(h.history['loss'], label='train loss')\n",
    "    plt.xlabel('Epochs')\n",
    "    plt.ylabel('Loss')\n",
    "    plt.legend()\n",
    "    plt.title(\"Plot of Loss\")\n",
    "    \n",
    "    \n",
    "\n",
    "    plt.show()"
   ]
  },
  {
   "cell_type": "code",
   "execution_count": 20,
   "metadata": {},
   "outputs": [
    {
     "data": {
      "image/png": "[encoded data removed]",
      "text/plain": [
       "<Figure size 432x288 with 1 Axes>"
      ]
     },
     "metadata": {
      "needs_background": "light"
     },
     "output_type": "display_data"
    }
   ],
   "source": [
    "hist = plot_history(h)"
   ]
  },
  {
   "cell_type": "code",
   "execution_count": 21,
   "metadata": {},
   "outputs": [
    {
     "name": "stdout",
     "output_type": "stream",
     "text": [
      "Model: \"sequential_2\"\n",
      "_________________________________________________________________\n",
      " Layer (type)                Output Shape              Param #   \n",
      "=================================================================\n",
      " dense_8 (Dense)             (None, 8)                 24        \n",
      "                                                                 \n",
      " dense_9 (Dense)             (None, 12)                108       \n",
      "                                                                 \n",
      " dense_10 (Dense)            (None, 16)                208       \n",
      "                                                                 \n",
      " dense_11 (Dense)            (None, 1)                 17        \n",
      "                                                                 \n",
      "=================================================================\n",
      "Total params: 357\n",
      "Trainable params: 357\n",
      "Non-trainable params: 0\n",
      "_________________________________________________________________\n"
     ]
    }
   ],
   "source": [
    "# Train two single/double hidden layer deep networks by varying the number of hidden nodes (4, 8, 12, 16) \n",
    "\n",
    "# Model 3\n",
    "\n",
    "\n",
    "dnnModel = Sequential()\n",
    "# layer 1 = input layer\n",
    "dnnModel.add(Dense(8, activation = 'relu', input_shape = (Xtrain_shape,)))\n",
    "# layer 2 = hidden layer\n",
    "dnnModel.add(Dense(12, activation = 'relu'))\n",
    "# layer 3 = hidden layer\n",
    "dnnModel.add(Dense(16, activation = 'relu'))\n",
    "# layer 4 = output layer\n",
    "dnnModel.add(Dense(1, activation = 'softmax'))\n",
    "dnnModel.compile(optimizer = 'adam', loss = 'binary_crossentropy', metrics = ['accuracy'])\n",
    "\n",
    "dnnModel.summary()"
   ]
  },
  {
   "cell_type": "code",
   "execution_count": 22,
   "metadata": {},
   "outputs": [
    {
     "name": "stdout",
     "output_type": "stream",
     "text": [
      "Epoch 1/25\n",
      "11/11 [==============================] - 0s 10ms/step - loss: 0.6941 - accuracy: 0.5072 - val_loss: 0.6791 - val_accuracy: 0.4933\n",
      "Epoch 2/25\n",
      "11/11 [==============================] - 0s 3ms/step - loss: 0.6881 - accuracy: 0.5072 - val_loss: 0.6851 - val_accuracy: 0.4933\n",
      "Epoch 3/25\n",
      "11/11 [==============================] - 0s 3ms/step - loss: 0.6868 - accuracy: 0.5072 - val_loss: 0.6923 - val_accuracy: 0.4933\n",
      "Epoch 4/25\n",
      "11/11 [==============================] - 0s 3ms/step - loss: 0.6837 - accuracy: 0.5072 - val_loss: 0.6947 - val_accuracy: 0.4933\n",
      "Epoch 5/25\n",
      "11/11 [==============================] - 0s 3ms/step - loss: 0.6824 - accuracy: 0.5072 - val_loss: 0.6977 - val_accuracy: 0.4933\n",
      "Epoch 6/25\n",
      "11/11 [==============================] - 0s 3ms/step - loss: 0.6812 - accuracy: 0.5072 - val_loss: 0.6987 - val_accuracy: 0.4933\n",
      "Epoch 7/25\n",
      "11/11 [==============================] - 0s 3ms/step - loss: 0.6805 - accuracy: 0.5072 - val_loss: 0.6997 - val_accuracy: 0.4933\n",
      "Epoch 8/25\n",
      "11/11 [==============================] - 0s 3ms/step - loss: 0.6810 - accuracy: 0.5072 - val_loss: 0.7040 - val_accuracy: 0.4933\n",
      "Epoch 9/25\n",
      "11/11 [==============================] - 0s 3ms/step - loss: 0.6799 - accuracy: 0.5072 - val_loss: 0.7016 - val_accuracy: 0.4933\n",
      "Epoch 10/25\n",
      "11/11 [==============================] - 0s 2ms/step - loss: 0.6784 - accuracy: 0.5072 - val_loss: 0.7056 - val_accuracy: 0.4933\n",
      "Epoch 11/25\n",
      "11/11 [==============================] - 0s 3ms/step - loss: 0.6771 - accuracy: 0.5072 - val_loss: 0.7058 - val_accuracy: 0.4933\n",
      "Epoch 12/25\n",
      "11/11 [==============================] - 0s 5ms/step - loss: 0.6774 - accuracy: 0.5072 - val_loss: 0.7060 - val_accuracy: 0.4933\n",
      "Epoch 13/25\n",
      "11/11 [==============================] - 0s 3ms/step - loss: 0.6760 - accuracy: 0.5072 - val_loss: 0.7081 - val_accuracy: 0.4933\n",
      "Epoch 14/25\n",
      "11/11 [==============================] - 0s 3ms/step - loss: 0.6756 - accuracy: 0.5072 - val_loss: 0.7091 - val_accuracy: 0.4933\n",
      "Epoch 15/25\n",
      "11/11 [==============================] - 0s 3ms/step - loss: 0.6747 - accuracy: 0.5072 - val_loss: 0.7109 - val_accuracy: 0.4933\n",
      "Epoch 16/25\n",
      "11/11 [==============================] - 0s 4ms/step - loss: 0.6743 - accuracy: 0.5072 - val_loss: 0.7114 - val_accuracy: 0.4933\n",
      "Epoch 17/25\n",
      "11/11 [==============================] - 0s 3ms/step - loss: 0.6736 - accuracy: 0.5072 - val_loss: 0.7101 - val_accuracy: 0.4933\n",
      "Epoch 18/25\n",
      "11/11 [==============================] - 0s 3ms/step - loss: 0.6723 - accuracy: 0.5072 - val_loss: 0.7113 - val_accuracy: 0.4933\n",
      "Epoch 19/25\n",
      "11/11 [==============================] - 0s 4ms/step - loss: 0.6715 - accuracy: 0.5072 - val_loss: 0.7119 - val_accuracy: 0.4933\n",
      "Epoch 20/25\n",
      "11/11 [==============================] - 0s 3ms/step - loss: 0.6706 - accuracy: 0.5072 - val_loss: 0.7119 - val_accuracy: 0.4933\n",
      "Epoch 21/25\n",
      "11/11 [==============================] - 0s 3ms/step - loss: 0.6703 - accuracy: 0.5072 - val_loss: 0.7118 - val_accuracy: 0.4933\n",
      "Epoch 22/25\n",
      "11/11 [==============================] - 0s 3ms/step - loss: 0.6697 - accuracy: 0.5072 - val_loss: 0.7135 - val_accuracy: 0.4933\n",
      "Epoch 23/25\n",
      "11/11 [==============================] - 0s 4ms/step - loss: 0.6689 - accuracy: 0.5072 - val_loss: 0.7161 - val_accuracy: 0.4933\n",
      "Epoch 24/25\n",
      "11/11 [==============================] - 0s 5ms/step - loss: 0.6684 - accuracy: 0.5072 - val_loss: 0.7155 - val_accuracy: 0.4933\n",
      "Epoch 25/25\n",
      "11/11 [==============================] - 0s 5ms/step - loss: 0.6676 - accuracy: 0.5072 - val_loss: 0.7154 - val_accuracy: 0.4933\n"
     ]
    }
   ],
   "source": [
    "# Trainning the model\n",
    "h = dnnModel.fit(Xtrain,Ytrain,validation_data = (Xtest, Ytest), epochs = 25,verbose = 1)"
   ]
  },
  {
   "cell_type": "code",
   "execution_count": 23,
   "metadata": {},
   "outputs": [],
   "source": [
    "# plotting the training accuracy\n",
    "def plot_history(h):\n",
    "   \n",
    "    plt.plot(h.history['val_accuracy'], label='validation accuracy')\n",
    "    plt.plot(h.history['accuracy'], label='train accuracy')\n",
    "    plt.xlabel('Epochs')\n",
    "    plt.ylabel('Accuracy')    \n",
    "    plt.legend()\n",
    "    plt.title(\"Plot of Accuracy\")\n",
    "    \n",
    "    plt.show()"
   ]
  },
  {
   "cell_type": "code",
   "execution_count": 24,
   "metadata": {},
   "outputs": [
    {
     "data": {
      "image/png": "[encoded data removed]",
      "text/plain": [
       "<Figure size 432x288 with 1 Axes>"
      ]
     },
     "metadata": {
      "needs_background": "light"
     },
     "output_type": "display_data"
    }
   ],
   "source": [
    "hist = plot_history(h)"
   ]
  },
  {
   "cell_type": "code",
   "execution_count": 25,
   "metadata": {},
   "outputs": [],
   "source": [
    "# plotting the training accuracy\n",
    "def plot_history(h):\n",
    "    \n",
    "    plt.plot(h.history['val_loss'], label='validation loss')\n",
    "    plt.plot(h.history['loss'], label='train loss')\n",
    "    plt.xlabel('Epochs')\n",
    "    plt.ylabel('Loss')\n",
    "    plt.legend()\n",
    "    plt.title(\"Plot of Loss\")\n",
    "    \n",
    "    \n",
    "\n",
    "    plt.show()"
   ]
  },
  {
   "cell_type": "code",
   "execution_count": 26,
   "metadata": {},
   "outputs": [
    {
     "data": {
      "image/png": "[encoded data removed]",
      "text/plain": [
       "<Figure size 432x288 with 1 Axes>"
      ]
     },
     "metadata": {
      "needs_background": "light"
     },
     "output_type": "display_data"
    }
   ],
   "source": [
    "hist = plot_history(h)"
   ]
  },
  {
   "cell_type": "code",
   "execution_count": 27,
   "metadata": {},
   "outputs": [
    {
     "name": "stdout",
     "output_type": "stream",
     "text": [
      "Model: \"sequential_3\"\n",
      "_________________________________________________________________\n",
      " Layer (type)                Output Shape              Param #   \n",
      "=================================================================\n",
      " dense_12 (Dense)            (None, 8)                 24        \n",
      "                                                                 \n",
      " dense_13 (Dense)            (None, 12)                108       \n",
      "                                                                 \n",
      " dropout_2 (Dropout)         (None, 12)                0         \n",
      "                                                                 \n",
      " dense_14 (Dense)            (None, 16)                208       \n",
      "                                                                 \n",
      " dropout_3 (Dropout)         (None, 16)                0         \n",
      "                                                                 \n",
      " dense_15 (Dense)            (None, 1)                 17        \n",
      "                                                                 \n",
      "=================================================================\n",
      "Total params: 357\n",
      "Trainable params: 357\n",
      "Non-trainable params: 0\n",
      "_________________________________________________________________\n"
     ]
    }
   ],
   "source": [
    "# Train two single/double hidden layer deep networks by varying the number of hidden nodes (4, 8, 12, 16) \n",
    "\n",
    "# Model 4\n",
    "\n",
    "\n",
    "dnnModel = Sequential()\n",
    "# layer 1 = input layer\n",
    "dnnModel.add(Dense(8, activation = 'relu', input_shape = (Xtrain_shape,)))\n",
    "# layer 2 = hidden layer\n",
    "dnnModel.add(Dense(12, activation = 'relu'))\n",
    "# Add dropout of 25% to layer 2\n",
    "dnnModel.add(Dropout(0.25))\n",
    "# layer 3 = hidden layer\n",
    "dnnModel.add(Dense(16, activation = 'relu'))\n",
    "# Add dropout of 25% to layer 3\n",
    "dnnModel.add(Dropout(0.25))\n",
    "# layer 4 = output layer\n",
    "dnnModel.add(Dense(1, activation = 'softmax'))\n",
    "dnnModel.compile(optimizer = 'adam', loss = 'binary_crossentropy', metrics = ['accuracy'])\n",
    "\n",
    "dnnModel.summary()"
   ]
  },
  {
   "cell_type": "code",
   "execution_count": 28,
   "metadata": {},
   "outputs": [
    {
     "name": "stdout",
     "output_type": "stream",
     "text": [
      "Epoch 1/25\n",
      "11/11 [==============================] - 0s 10ms/step - loss: 1.0763 - accuracy: 0.5072 - val_loss: 0.8724 - val_accuracy: 0.4933\n",
      "Epoch 2/25\n",
      "11/11 [==============================] - 0s 3ms/step - loss: 0.9883 - accuracy: 0.5072 - val_loss: 0.8125 - val_accuracy: 0.4933\n",
      "Epoch 3/25\n",
      "11/11 [==============================] - 0s 3ms/step - loss: 0.8971 - accuracy: 0.5072 - val_loss: 0.7724 - val_accuracy: 0.4933\n",
      "Epoch 4/25\n",
      "11/11 [==============================] - 0s 3ms/step - loss: 0.8262 - accuracy: 0.5072 - val_loss: 0.7456 - val_accuracy: 0.4933\n",
      "Epoch 5/25\n",
      "11/11 [==============================] - 0s 3ms/step - loss: 0.8255 - accuracy: 0.5072 - val_loss: 0.7286 - val_accuracy: 0.4933\n",
      "Epoch 6/25\n",
      "11/11 [==============================] - 0s 3ms/step - loss: 0.7807 - accuracy: 0.5072 - val_loss: 0.7174 - val_accuracy: 0.4933\n",
      "Epoch 7/25\n",
      "11/11 [==============================] - 0s 3ms/step - loss: 0.7638 - accuracy: 0.5072 - val_loss: 0.7101 - val_accuracy: 0.4933\n",
      "Epoch 8/25\n",
      "11/11 [==============================] - 0s 3ms/step - loss: 0.7501 - accuracy: 0.5072 - val_loss: 0.7051 - val_accuracy: 0.4933\n",
      "Epoch 9/25\n",
      "11/11 [==============================] - 0s 3ms/step - loss: 0.7243 - accuracy: 0.5072 - val_loss: 0.7020 - val_accuracy: 0.4933\n",
      "Epoch 10/25\n",
      "11/11 [==============================] - 0s 3ms/step - loss: 0.7273 - accuracy: 0.5072 - val_loss: 0.6998 - val_accuracy: 0.4933\n",
      "Epoch 11/25\n",
      "11/11 [==============================] - 0s 3ms/step - loss: 0.7305 - accuracy: 0.5072 - val_loss: 0.6986 - val_accuracy: 0.4933\n",
      "Epoch 12/25\n",
      "11/11 [==============================] - 0s 3ms/step - loss: 0.7224 - accuracy: 0.5072 - val_loss: 0.6975 - val_accuracy: 0.4933\n",
      "Epoch 13/25\n",
      "11/11 [==============================] - 0s 3ms/step - loss: 0.7118 - accuracy: 0.5072 - val_loss: 0.6964 - val_accuracy: 0.4933\n",
      "Epoch 14/25\n",
      "11/11 [==============================] - 0s 3ms/step - loss: 0.7060 - accuracy: 0.5072 - val_loss: 0.6957 - val_accuracy: 0.4933\n",
      "Epoch 15/25\n",
      "11/11 [==============================] - 0s 3ms/step - loss: 0.7005 - accuracy: 0.5072 - val_loss: 0.6952 - val_accuracy: 0.4933\n",
      "Epoch 16/25\n",
      "11/11 [==============================] - 0s 3ms/step - loss: 0.7128 - accuracy: 0.5072 - val_loss: 0.6948 - val_accuracy: 0.4933\n",
      "Epoch 17/25\n",
      "11/11 [==============================] - 0s 4ms/step - loss: 0.6994 - accuracy: 0.5072 - val_loss: 0.6945 - val_accuracy: 0.4933\n",
      "Epoch 18/25\n",
      "11/11 [==============================] - 0s 3ms/step - loss: 0.7100 - accuracy: 0.5072 - val_loss: 0.6946 - val_accuracy: 0.4933\n",
      "Epoch 19/25\n",
      "11/11 [==============================] - 0s 3ms/step - loss: 0.6936 - accuracy: 0.5072 - val_loss: 0.6944 - val_accuracy: 0.4933\n",
      "Epoch 20/25\n",
      "11/11 [==============================] - 0s 3ms/step - loss: 0.7025 - accuracy: 0.5072 - val_loss: 0.6943 - val_accuracy: 0.4933\n",
      "Epoch 21/25\n",
      "11/11 [==============================] - 0s 3ms/step - loss: 0.6974 - accuracy: 0.5072 - val_loss: 0.6940 - val_accuracy: 0.4933\n",
      "Epoch 22/25\n",
      "11/11 [==============================] - 0s 3ms/step - loss: 0.6982 - accuracy: 0.5072 - val_loss: 0.6934 - val_accuracy: 0.4933\n",
      "Epoch 23/25\n",
      "11/11 [==============================] - 0s 3ms/step - loss: 0.6914 - accuracy: 0.5072 - val_loss: 0.6926 - val_accuracy: 0.4933\n",
      "Epoch 24/25\n",
      "11/11 [==============================] - 0s 4ms/step - loss: 0.6938 - accuracy: 0.5072 - val_loss: 0.6923 - val_accuracy: 0.4933\n",
      "Epoch 25/25\n",
      "11/11 [==============================] - 0s 3ms/step - loss: 0.6940 - accuracy: 0.5072 - val_loss: 0.6921 - val_accuracy: 0.4933\n"
     ]
    }
   ],
   "source": [
    "# Trainning the model\n",
    "h = dnnModel.fit(Xtrain,Ytrain,validation_data = (Xtest, Ytest), epochs = 25,verbose = 1)"
   ]
  },
  {
   "cell_type": "code",
   "execution_count": 29,
   "metadata": {},
   "outputs": [
    {
     "name": "stdout",
     "output_type": "stream",
     "text": [
      "Model: \"sequential_4\"\n",
      "_________________________________________________________________\n",
      " Layer (type)                Output Shape              Param #   \n",
      "=================================================================\n",
      " dense_16 (Dense)            (None, 8)                 24        \n",
      "                                                                 \n",
      " dense_17 (Dense)            (None, 12)                108       \n",
      "                                                                 \n",
      " dropout_4 (Dropout)         (None, 12)                0         \n",
      "                                                                 \n",
      " dense_18 (Dense)            (None, 16)                208       \n",
      "                                                                 \n",
      " dropout_5 (Dropout)         (None, 16)                0         \n",
      "                                                                 \n",
      " dense_19 (Dense)            (None, 1)                 17        \n",
      "                                                                 \n",
      "=================================================================\n",
      "Total params: 357\n",
      "Trainable params: 357\n",
      "Non-trainable params: 0\n",
      "_________________________________________________________________\n"
     ]
    }
   ],
   "source": [
    "# Train two single/double hidden layer deep networks by varying the number of hidden nodes (4, 8, 12, 16) \n",
    "\n",
    "# Model 5\n",
    "\n",
    "\n",
    "dnnModel = Sequential()\n",
    "# layer 1 = input layer\n",
    "dnnModel.add(Dense(8, activation = 'relu', input_shape = (Xtrain_shape,)))\n",
    "# layer 2 = hidden layer\n",
    "dnnModel.add(Dense(12, activation = 'relu'))\n",
    "# Add dropout of 5% to layer 2\n",
    "dnnModel.add(Dropout(0.5))\n",
    "# layer 3 = hidden layer\n",
    "dnnModel.add(Dense(16, activation = 'relu'))\n",
    "# Add dropout of 5% to layer 3\n",
    "dnnModel.add(Dropout(0.5))\n",
    "# layer 4 = output layer\n",
    "dnnModel.add(Dense(1, activation = 'softmax'))\n",
    "dnnModel.compile(optimizer = 'adam', loss = 'binary_crossentropy', metrics = ['accuracy'])\n",
    "\n",
    "dnnModel.summary()"
   ]
  },
  {
   "cell_type": "code",
   "execution_count": 30,
   "metadata": {},
   "outputs": [
    {
     "name": "stdout",
     "output_type": "stream",
     "text": [
      "Epoch 1/25\n",
      "11/11 [==============================] - 0s 11ms/step - loss: 0.9725 - accuracy: 0.5072 - val_loss: 0.7921 - val_accuracy: 0.4933\n",
      "Epoch 2/25\n",
      "11/11 [==============================] - 0s 3ms/step - loss: 1.0490 - accuracy: 0.5072 - val_loss: 0.7634 - val_accuracy: 0.4933\n",
      "Epoch 3/25\n",
      "11/11 [==============================] - 0s 3ms/step - loss: 0.9698 - accuracy: 0.5072 - val_loss: 0.7466 - val_accuracy: 0.4933\n",
      "Epoch 4/25\n",
      "11/11 [==============================] - 0s 3ms/step - loss: 0.9109 - accuracy: 0.5072 - val_loss: 0.7345 - val_accuracy: 0.4933\n",
      "Epoch 5/25\n",
      "11/11 [==============================] - 0s 3ms/step - loss: 0.9789 - accuracy: 0.5072 - val_loss: 0.7240 - val_accuracy: 0.4933\n",
      "Epoch 6/25\n",
      "11/11 [==============================] - 0s 3ms/step - loss: 0.8626 - accuracy: 0.5072 - val_loss: 0.7211 - val_accuracy: 0.4933\n",
      "Epoch 7/25\n",
      "11/11 [==============================] - 0s 3ms/step - loss: 0.8072 - accuracy: 0.5072 - val_loss: 0.7181 - val_accuracy: 0.4933\n",
      "Epoch 8/25\n",
      "11/11 [==============================] - 0s 3ms/step - loss: 0.7577 - accuracy: 0.5072 - val_loss: 0.7146 - val_accuracy: 0.4933\n",
      "Epoch 9/25\n",
      "11/11 [==============================] - 0s 3ms/step - loss: 0.7844 - accuracy: 0.5072 - val_loss: 0.7098 - val_accuracy: 0.4933\n",
      "Epoch 10/25\n",
      "11/11 [==============================] - 0s 4ms/step - loss: 0.7616 - accuracy: 0.5072 - val_loss: 0.7058 - val_accuracy: 0.4933\n",
      "Epoch 11/25\n",
      "11/11 [==============================] - 0s 3ms/step - loss: 0.7583 - accuracy: 0.5072 - val_loss: 0.7024 - val_accuracy: 0.4933\n",
      "Epoch 12/25\n",
      "11/11 [==============================] - 0s 4ms/step - loss: 0.7660 - accuracy: 0.5072 - val_loss: 0.7018 - val_accuracy: 0.4933\n",
      "Epoch 13/25\n",
      "11/11 [==============================] - 0s 4ms/step - loss: 0.7427 - accuracy: 0.5072 - val_loss: 0.7005 - val_accuracy: 0.4933\n",
      "Epoch 14/25\n",
      "11/11 [==============================] - 0s 3ms/step - loss: 0.7408 - accuracy: 0.5072 - val_loss: 0.7027 - val_accuracy: 0.4933\n",
      "Epoch 15/25\n",
      "11/11 [==============================] - 0s 3ms/step - loss: 0.7213 - accuracy: 0.5072 - val_loss: 0.7013 - val_accuracy: 0.4933\n",
      "Epoch 16/25\n",
      "11/11 [==============================] - 0s 3ms/step - loss: 0.7250 - accuracy: 0.5072 - val_loss: 0.6980 - val_accuracy: 0.4933\n",
      "Epoch 17/25\n",
      "11/11 [==============================] - 0s 3ms/step - loss: 0.7392 - accuracy: 0.5072 - val_loss: 0.6972 - val_accuracy: 0.4933\n",
      "Epoch 18/25\n",
      "11/11 [==============================] - 0s 4ms/step - loss: 0.7085 - accuracy: 0.5072 - val_loss: 0.6969 - val_accuracy: 0.4933\n",
      "Epoch 19/25\n",
      "11/11 [==============================] - 0s 3ms/step - loss: 0.7549 - accuracy: 0.5072 - val_loss: 0.6965 - val_accuracy: 0.4933\n",
      "Epoch 20/25\n",
      "11/11 [==============================] - 0s 3ms/step - loss: 0.7404 - accuracy: 0.5072 - val_loss: 0.6953 - val_accuracy: 0.4933\n",
      "Epoch 21/25\n",
      "11/11 [==============================] - 0s 4ms/step - loss: 0.7195 - accuracy: 0.5072 - val_loss: 0.6953 - val_accuracy: 0.4933\n",
      "Epoch 22/25\n",
      "11/11 [==============================] - 0s 3ms/step - loss: 0.7006 - accuracy: 0.5072 - val_loss: 0.6962 - val_accuracy: 0.4933\n",
      "Epoch 23/25\n",
      "11/11 [==============================] - 0s 4ms/step - loss: 0.6904 - accuracy: 0.5072 - val_loss: 0.6972 - val_accuracy: 0.4933\n",
      "Epoch 24/25\n",
      "11/11 [==============================] - 0s 4ms/step - loss: 0.7053 - accuracy: 0.5072 - val_loss: 0.6969 - val_accuracy: 0.4933\n",
      "Epoch 25/25\n",
      "11/11 [==============================] - 0s 4ms/step - loss: 0.7358 - accuracy: 0.5072 - val_loss: 0.6968 - val_accuracy: 0.4933\n"
     ]
    }
   ],
   "source": [
    "# Trainning the model\n",
    "h = dnnModel.fit(Xtrain,Ytrain,validation_data = (Xtest, Ytest), epochs = 25,verbose = 1)"
   ]
  },
  {
   "cell_type": "code",
   "execution_count": 31,
   "metadata": {},
   "outputs": [
    {
     "name": "stdout",
     "output_type": "stream",
     "text": [
      "Model: \"sequential_5\"\n",
      "_________________________________________________________________\n",
      " Layer (type)                Output Shape              Param #   \n",
      "=================================================================\n",
      " dense_20 (Dense)            (None, 16)                48        \n",
      "                                                                 \n",
      " dense_21 (Dense)            (None, 12)                204       \n",
      "                                                                 \n",
      " dense_22 (Dense)            (None, 8)                 104       \n",
      "                                                                 \n",
      " dense_23 (Dense)            (None, 1)                 9         \n",
      "                                                                 \n",
      "=================================================================\n",
      "Total params: 365\n",
      "Trainable params: 365\n",
      "Non-trainable params: 0\n",
      "_________________________________________________________________\n"
     ]
    }
   ],
   "source": [
    "# Train two single/double hidden layer deep networks by varying the number of hidden nodes (4, 8, 12, 16) \n",
    "\n",
    "# Model 6\n",
    "\n",
    "\n",
    "dnnModel = Sequential()\n",
    "# layer 1 = input layer\n",
    "dnnModel.add(Dense(16, activation = 'relu', input_shape = (Xtrain_shape,)))\n",
    "# layer 2 = hidden layer\n",
    "dnnModel.add(Dense(12, activation = 'relu'))\n",
    "# layer 3 = hidden layer\n",
    "dnnModel.add(Dense(8, activation = 'relu'))\n",
    "# layer 4 = output layer\n",
    "dnnModel.add(Dense(1, activation = 'softmax'))\n",
    "dnnModel.compile(optimizer = 'adam', loss = 'binary_crossentropy', metrics = ['accuracy'])\n",
    "\n",
    "dnnModel.summary()"
   ]
  },
  {
   "cell_type": "code",
   "execution_count": 32,
   "metadata": {},
   "outputs": [
    {
     "name": "stdout",
     "output_type": "stream",
     "text": [
      "Epoch 1/25\n",
      "11/11 [==============================] - 0s 10ms/step - loss: 0.9036 - accuracy: 0.5072 - val_loss: 0.7537 - val_accuracy: 0.4933\n",
      "Epoch 2/25\n",
      "11/11 [==============================] - 0s 3ms/step - loss: 0.7944 - accuracy: 0.5072 - val_loss: 0.7110 - val_accuracy: 0.4933\n",
      "Epoch 3/25\n",
      "11/11 [==============================] - 0s 4ms/step - loss: 0.7344 - accuracy: 0.5072 - val_loss: 0.6968 - val_accuracy: 0.4933\n",
      "Epoch 4/25\n",
      "11/11 [==============================] - 0s 3ms/step - loss: 0.7066 - accuracy: 0.5072 - val_loss: 0.6968 - val_accuracy: 0.4933\n",
      "Epoch 5/25\n",
      "11/11 [==============================] - 0s 3ms/step - loss: 0.6953 - accuracy: 0.5072 - val_loss: 0.6989 - val_accuracy: 0.4933\n",
      "Epoch 6/25\n",
      "11/11 [==============================] - 0s 3ms/step - loss: 0.6877 - accuracy: 0.5072 - val_loss: 0.7016 - val_accuracy: 0.4933\n",
      "Epoch 7/25\n",
      "11/11 [==============================] - 0s 3ms/step - loss: 0.6825 - accuracy: 0.5072 - val_loss: 0.7063 - val_accuracy: 0.4933\n",
      "Epoch 8/25\n",
      "11/11 [==============================] - 0s 3ms/step - loss: 0.6802 - accuracy: 0.5072 - val_loss: 0.7081 - val_accuracy: 0.4933\n",
      "Epoch 9/25\n",
      "11/11 [==============================] - 0s 3ms/step - loss: 0.6764 - accuracy: 0.5072 - val_loss: 0.7102 - val_accuracy: 0.4933\n",
      "Epoch 10/25\n",
      "11/11 [==============================] - 0s 3ms/step - loss: 0.6747 - accuracy: 0.5072 - val_loss: 0.7125 - val_accuracy: 0.4933\n",
      "Epoch 11/25\n",
      "11/11 [==============================] - 0s 3ms/step - loss: 0.6729 - accuracy: 0.5072 - val_loss: 0.7139 - val_accuracy: 0.4933\n",
      "Epoch 12/25\n",
      "11/11 [==============================] - 0s 3ms/step - loss: 0.6716 - accuracy: 0.5072 - val_loss: 0.7175 - val_accuracy: 0.4933\n",
      "Epoch 13/25\n",
      "11/11 [==============================] - 0s 3ms/step - loss: 0.6703 - accuracy: 0.5072 - val_loss: 0.7187 - val_accuracy: 0.4933\n",
      "Epoch 14/25\n",
      "11/11 [==============================] - 0s 5ms/step - loss: 0.6702 - accuracy: 0.5072 - val_loss: 0.7201 - val_accuracy: 0.4933\n",
      "Epoch 15/25\n",
      "11/11 [==============================] - 0s 3ms/step - loss: 0.6689 - accuracy: 0.5072 - val_loss: 0.7197 - val_accuracy: 0.4933\n",
      "Epoch 16/25\n",
      "11/11 [==============================] - 0s 3ms/step - loss: 0.6683 - accuracy: 0.5072 - val_loss: 0.7212 - val_accuracy: 0.4933\n",
      "Epoch 17/25\n",
      "11/11 [==============================] - 0s 4ms/step - loss: 0.6696 - accuracy: 0.5072 - val_loss: 0.7264 - val_accuracy: 0.4933\n",
      "Epoch 18/25\n",
      "11/11 [==============================] - 0s 3ms/step - loss: 0.6669 - accuracy: 0.5072 - val_loss: 0.7256 - val_accuracy: 0.4933\n",
      "Epoch 19/25\n",
      "11/11 [==============================] - 0s 4ms/step - loss: 0.6668 - accuracy: 0.5072 - val_loss: 0.7268 - val_accuracy: 0.4933\n",
      "Epoch 20/25\n",
      "11/11 [==============================] - 0s 3ms/step - loss: 0.6660 - accuracy: 0.5072 - val_loss: 0.7236 - val_accuracy: 0.4933\n",
      "Epoch 21/25\n",
      "11/11 [==============================] - 0s 4ms/step - loss: 0.6656 - accuracy: 0.5072 - val_loss: 0.7255 - val_accuracy: 0.4933\n",
      "Epoch 22/25\n",
      "11/11 [==============================] - 0s 3ms/step - loss: 0.6648 - accuracy: 0.5072 - val_loss: 0.7263 - val_accuracy: 0.4933\n",
      "Epoch 23/25\n",
      "11/11 [==============================] - 0s 3ms/step - loss: 0.6648 - accuracy: 0.5072 - val_loss: 0.7272 - val_accuracy: 0.4933\n",
      "Epoch 24/25\n",
      "11/11 [==============================] - 0s 3ms/step - loss: 0.6642 - accuracy: 0.5072 - val_loss: 0.7266 - val_accuracy: 0.4933\n",
      "Epoch 25/25\n",
      "11/11 [==============================] - 0s 3ms/step - loss: 0.6632 - accuracy: 0.5072 - val_loss: 0.7285 - val_accuracy: 0.4933\n"
     ]
    }
   ],
   "source": [
    "# Trainning the model\n",
    "h = dnnModel.fit(Xtrain,Ytrain,validation_data = (Xtest, Ytest), epochs = 25,verbose = 1)"
   ]
  },
  {
   "cell_type": "code",
   "execution_count": 33,
   "metadata": {},
   "outputs": [],
   "source": [
    "# Splitting the dataset into 70% training and 30% validation data.\n",
    "\n",
    "Xtrain,Xtest,Ytrain,Ytest = train_test_split(X, Y, test_size = 0.3, random_state = 0)"
   ]
  },
  {
   "cell_type": "code",
   "execution_count": 34,
   "metadata": {},
   "outputs": [
    {
     "name": "stdout",
     "output_type": "stream",
     "text": [
      "2\n"
     ]
    }
   ],
   "source": [
    "Xtrain_shape = Xtrain.shape[1]\n",
    "print (Xtrain_shape)"
   ]
  },
  {
   "cell_type": "code",
   "execution_count": 35,
   "metadata": {},
   "outputs": [
    {
     "name": "stdout",
     "output_type": "stream",
     "text": [
      "Model: \"sequential_6\"\n",
      "_________________________________________________________________\n",
      " Layer (type)                Output Shape              Param #   \n",
      "=================================================================\n",
      " dense_24 (Dense)            (None, 16)                48        \n",
      "                                                                 \n",
      " dense_25 (Dense)            (None, 12)                204       \n",
      "                                                                 \n",
      " dense_26 (Dense)            (None, 8)                 104       \n",
      "                                                                 \n",
      " dense_27 (Dense)            (None, 1)                 9         \n",
      "                                                                 \n",
      "=================================================================\n",
      "Total params: 365\n",
      "Trainable params: 365\n",
      "Non-trainable params: 0\n",
      "_________________________________________________________________\n"
     ]
    }
   ],
   "source": [
    "# Train two single/double hidden layer deep networks by varying the number of hidden nodes (4, 8, 12, 16) \n",
    "\n",
    "# Model 7\n",
    "\n",
    "\n",
    "dnnModel = Sequential()\n",
    "# layer 1 = input layer\n",
    "dnnModel.add(Dense(16, activation = 'relu', input_shape = (Xtrain_shape,)))\n",
    "# layer 2 = hidden layer\n",
    "dnnModel.add(Dense(12, activation = 'relu'))\n",
    "# layer 3 = hidden layer\n",
    "dnnModel.add(Dense(8, activation = 'relu'))\n",
    "# layer 4 = output layer\n",
    "dnnModel.add(Dense(1, activation = 'softmax'))\n",
    "dnnModel.compile(optimizer = 'adam', loss = 'binary_crossentropy', metrics = ['accuracy'])\n",
    "\n",
    "dnnModel.summary()"
   ]
  },
  {
   "cell_type": "code",
   "execution_count": 36,
   "metadata": {},
   "outputs": [
    {
     "name": "stdout",
     "output_type": "stream",
     "text": [
      "Epoch 1/25\n",
      "11/11 [==============================] - 0s 10ms/step - loss: 0.9391 - accuracy: 0.5014 - val_loss: 0.8093 - val_accuracy: 0.5067\n",
      "Epoch 2/25\n",
      "11/11 [==============================] - 0s 3ms/step - loss: 0.8179 - accuracy: 0.5014 - val_loss: 0.7233 - val_accuracy: 0.5067\n",
      "Epoch 3/25\n",
      "11/11 [==============================] - 0s 3ms/step - loss: 0.7561 - accuracy: 0.5014 - val_loss: 0.6902 - val_accuracy: 0.5067\n",
      "Epoch 4/25\n",
      "11/11 [==============================] - 0s 3ms/step - loss: 0.7272 - accuracy: 0.5014 - val_loss: 0.6784 - val_accuracy: 0.5067\n",
      "Epoch 5/25\n",
      "11/11 [==============================] - 0s 3ms/step - loss: 0.7116 - accuracy: 0.5014 - val_loss: 0.6758 - val_accuracy: 0.5067\n",
      "Epoch 6/25\n",
      "11/11 [==============================] - 0s 3ms/step - loss: 0.7037 - accuracy: 0.5014 - val_loss: 0.6755 - val_accuracy: 0.5067\n",
      "Epoch 7/25\n",
      "11/11 [==============================] - 0s 3ms/step - loss: 0.6992 - accuracy: 0.5014 - val_loss: 0.6765 - val_accuracy: 0.5067\n",
      "Epoch 8/25\n",
      "11/11 [==============================] - 0s 3ms/step - loss: 0.6951 - accuracy: 0.5014 - val_loss: 0.6774 - val_accuracy: 0.5067\n",
      "Epoch 9/25\n",
      "11/11 [==============================] - 0s 3ms/step - loss: 0.6915 - accuracy: 0.5014 - val_loss: 0.6794 - val_accuracy: 0.5067\n",
      "Epoch 10/25\n",
      "11/11 [==============================] - 0s 3ms/step - loss: 0.6904 - accuracy: 0.5014 - val_loss: 0.6818 - val_accuracy: 0.5067\n",
      "Epoch 11/25\n",
      "11/11 [==============================] - 0s 3ms/step - loss: 0.6884 - accuracy: 0.5014 - val_loss: 0.6845 - val_accuracy: 0.5067\n",
      "Epoch 12/25\n",
      "11/11 [==============================] - 0s 3ms/step - loss: 0.6871 - accuracy: 0.5014 - val_loss: 0.6855 - val_accuracy: 0.5067\n",
      "Epoch 13/25\n",
      "11/11 [==============================] - 0s 3ms/step - loss: 0.6861 - accuracy: 0.5014 - val_loss: 0.6860 - val_accuracy: 0.5067\n",
      "Epoch 14/25\n",
      "11/11 [==============================] - 0s 3ms/step - loss: 0.6856 - accuracy: 0.5014 - val_loss: 0.6865 - val_accuracy: 0.5067\n",
      "Epoch 15/25\n",
      "11/11 [==============================] - 0s 3ms/step - loss: 0.6849 - accuracy: 0.5014 - val_loss: 0.6860 - val_accuracy: 0.5067\n",
      "Epoch 16/25\n",
      "11/11 [==============================] - 0s 3ms/step - loss: 0.6842 - accuracy: 0.5014 - val_loss: 0.6871 - val_accuracy: 0.5067\n",
      "Epoch 17/25\n",
      "11/11 [==============================] - 0s 3ms/step - loss: 0.6833 - accuracy: 0.5014 - val_loss: 0.6869 - val_accuracy: 0.5067\n",
      "Epoch 18/25\n",
      "11/11 [==============================] - 0s 4ms/step - loss: 0.6831 - accuracy: 0.5014 - val_loss: 0.6866 - val_accuracy: 0.5067\n",
      "Epoch 19/25\n",
      "11/11 [==============================] - 0s 3ms/step - loss: 0.6827 - accuracy: 0.5014 - val_loss: 0.6886 - val_accuracy: 0.5067\n",
      "Epoch 20/25\n",
      "11/11 [==============================] - 0s 3ms/step - loss: 0.6819 - accuracy: 0.5014 - val_loss: 0.6870 - val_accuracy: 0.5067\n",
      "Epoch 21/25\n",
      "11/11 [==============================] - 0s 3ms/step - loss: 0.6813 - accuracy: 0.5014 - val_loss: 0.6867 - val_accuracy: 0.5067\n",
      "Epoch 22/25\n",
      "11/11 [==============================] - 0s 3ms/step - loss: 0.6812 - accuracy: 0.5014 - val_loss: 0.6868 - val_accuracy: 0.5067\n",
      "Epoch 23/25\n",
      "11/11 [==============================] - 0s 3ms/step - loss: 0.6806 - accuracy: 0.5014 - val_loss: 0.6862 - val_accuracy: 0.5067\n",
      "Epoch 24/25\n",
      "11/11 [==============================] - 0s 3ms/step - loss: 0.6795 - accuracy: 0.5014 - val_loss: 0.6878 - val_accuracy: 0.5067\n",
      "Epoch 25/25\n",
      "11/11 [==============================] - 0s 3ms/step - loss: 0.6793 - accuracy: 0.5014 - val_loss: 0.6884 - val_accuracy: 0.5067\n"
     ]
    }
   ],
   "source": [
    "# Trainning the model\n",
    "h = dnnModel.fit(Xtrain,Ytrain,validation_data = (Xtest, Ytest), epochs = 25,verbose = 1)"
   ]
  },
  {
   "cell_type": "code",
   "execution_count": 37,
   "metadata": {},
   "outputs": [],
   "source": [
    "# Splitting the dataset into 70% training and 30% validation data.\n",
    "\n",
    "Xtrain,Xtest,Ytrain,Ytest = train_test_split(X, Y, test_size = 0.3, random_state = 1)"
   ]
  },
  {
   "cell_type": "code",
   "execution_count": 38,
   "metadata": {},
   "outputs": [
    {
     "name": "stdout",
     "output_type": "stream",
     "text": [
      "2\n"
     ]
    }
   ],
   "source": [
    "Xtrain_shape = Xtrain.shape[1]\n",
    "print (Xtrain_shape)"
   ]
  },
  {
   "cell_type": "code",
   "execution_count": 39,
   "metadata": {},
   "outputs": [
    {
     "name": "stdout",
     "output_type": "stream",
     "text": [
      "Model: \"sequential_7\"\n",
      "_________________________________________________________________\n",
      " Layer (type)                Output Shape              Param #   \n",
      "=================================================================\n",
      " dense_28 (Dense)            (None, 16)                48        \n",
      "                                                                 \n",
      " dense_29 (Dense)            (None, 12)                204       \n",
      "                                                                 \n",
      " dense_30 (Dense)            (None, 8)                 104       \n",
      "                                                                 \n",
      " dense_31 (Dense)            (None, 1)                 9         \n",
      "                                                                 \n",
      "=================================================================\n",
      "Total params: 365\n",
      "Trainable params: 365\n",
      "Non-trainable params: 0\n",
      "_________________________________________________________________\n"
     ]
    }
   ],
   "source": [
    "# Train two single/double hidden layer deep networks by varying the number of hidden nodes (4, 8, 12, 16) \n",
    "\n",
    "# Model 8\n",
    "\n",
    "\n",
    "dnnModel = Sequential()\n",
    "# layer 1 = input layer\n",
    "dnnModel.add(Dense(16, activation = 'relu', input_shape = (Xtrain_shape,)))\n",
    "# layer 2 = hidden layer\n",
    "dnnModel.add(Dense(12, activation = 'relu'))\n",
    "# layer 3 = hidden layer\n",
    "dnnModel.add(Dense(8, activation = 'relu'))\n",
    "# layer 4 = output layer\n",
    "dnnModel.add(Dense(1, activation = 'softmax'))\n",
    "dnnModel.compile(optimizer = 'adam', loss = 'binary_crossentropy', metrics = ['accuracy'])\n",
    "\n",
    "dnnModel.summary()"
   ]
  },
  {
   "cell_type": "code",
   "execution_count": 40,
   "metadata": {},
   "outputs": [
    {
     "name": "stdout",
     "output_type": "stream",
     "text": [
      "Epoch 1/25\n",
      "11/11 [==============================] - 0s 10ms/step - loss: 0.7458 - accuracy: 0.4841 - val_loss: 0.7049 - val_accuracy: 0.5467\n",
      "Epoch 2/25\n",
      "11/11 [==============================] - 0s 4ms/step - loss: 0.7193 - accuracy: 0.4841 - val_loss: 0.6932 - val_accuracy: 0.5467\n",
      "Epoch 3/25\n",
      "11/11 [==============================] - 0s 4ms/step - loss: 0.7005 - accuracy: 0.4841 - val_loss: 0.6896 - val_accuracy: 0.5467\n",
      "Epoch 4/25\n",
      "11/11 [==============================] - 0s 4ms/step - loss: 0.6953 - accuracy: 0.4841 - val_loss: 0.6915 - val_accuracy: 0.5467\n",
      "Epoch 5/25\n",
      "11/11 [==============================] - 0s 3ms/step - loss: 0.6892 - accuracy: 0.4841 - val_loss: 0.6946 - val_accuracy: 0.5467\n",
      "Epoch 6/25\n",
      "11/11 [==============================] - 0s 4ms/step - loss: 0.6864 - accuracy: 0.4841 - val_loss: 0.6993 - val_accuracy: 0.5467\n",
      "Epoch 7/25\n",
      "11/11 [==============================] - 0s 4ms/step - loss: 0.6839 - accuracy: 0.4841 - val_loss: 0.7024 - val_accuracy: 0.5467\n",
      "Epoch 8/25\n",
      "11/11 [==============================] - 0s 4ms/step - loss: 0.6828 - accuracy: 0.4841 - val_loss: 0.7028 - val_accuracy: 0.5467\n",
      "Epoch 9/25\n",
      "11/11 [==============================] - 0s 3ms/step - loss: 0.6813 - accuracy: 0.4841 - val_loss: 0.7047 - val_accuracy: 0.5467\n",
      "Epoch 10/25\n",
      "11/11 [==============================] - 0s 4ms/step - loss: 0.6807 - accuracy: 0.4841 - val_loss: 0.7055 - val_accuracy: 0.5467\n",
      "Epoch 11/25\n",
      "11/11 [==============================] - 0s 4ms/step - loss: 0.6800 - accuracy: 0.4841 - val_loss: 0.7061 - val_accuracy: 0.5467\n",
      "Epoch 12/25\n",
      "11/11 [==============================] - 0s 4ms/step - loss: 0.6800 - accuracy: 0.4841 - val_loss: 0.7091 - val_accuracy: 0.5467\n",
      "Epoch 13/25\n",
      "11/11 [==============================] - 0s 4ms/step - loss: 0.6794 - accuracy: 0.4841 - val_loss: 0.7095 - val_accuracy: 0.5467\n",
      "Epoch 14/25\n",
      "11/11 [==============================] - 0s 4ms/step - loss: 0.6792 - accuracy: 0.4841 - val_loss: 0.7097 - val_accuracy: 0.5467\n",
      "Epoch 15/25\n",
      "11/11 [==============================] - 0s 4ms/step - loss: 0.6792 - accuracy: 0.4841 - val_loss: 0.7072 - val_accuracy: 0.5467\n",
      "Epoch 16/25\n",
      "11/11 [==============================] - 0s 5ms/step - loss: 0.6784 - accuracy: 0.4841 - val_loss: 0.7068 - val_accuracy: 0.5467\n",
      "Epoch 17/25\n",
      "11/11 [==============================] - 0s 4ms/step - loss: 0.6784 - accuracy: 0.4841 - val_loss: 0.7081 - val_accuracy: 0.5467\n",
      "Epoch 18/25\n",
      "11/11 [==============================] - 0s 4ms/step - loss: 0.6780 - accuracy: 0.4841 - val_loss: 0.7088 - val_accuracy: 0.5467\n",
      "Epoch 19/25\n",
      "11/11 [==============================] - 0s 3ms/step - loss: 0.6779 - accuracy: 0.4841 - val_loss: 0.7104 - val_accuracy: 0.5467\n",
      "Epoch 20/25\n",
      "11/11 [==============================] - 0s 3ms/step - loss: 0.6774 - accuracy: 0.4841 - val_loss: 0.7095 - val_accuracy: 0.5467\n",
      "Epoch 21/25\n",
      "11/11 [==============================] - 0s 4ms/step - loss: 0.6774 - accuracy: 0.4841 - val_loss: 0.7076 - val_accuracy: 0.5467\n",
      "Epoch 22/25\n",
      "11/11 [==============================] - 0s 4ms/step - loss: 0.6775 - accuracy: 0.4841 - val_loss: 0.7091 - val_accuracy: 0.5467\n",
      "Epoch 23/25\n",
      "11/11 [==============================] - 0s 3ms/step - loss: 0.6767 - accuracy: 0.4841 - val_loss: 0.7096 - val_accuracy: 0.5467\n",
      "Epoch 24/25\n",
      "11/11 [==============================] - 0s 4ms/step - loss: 0.6768 - accuracy: 0.4841 - val_loss: 0.7104 - val_accuracy: 0.5467\n",
      "Epoch 25/25\n",
      "11/11 [==============================] - 0s 4ms/step - loss: 0.6763 - accuracy: 0.4841 - val_loss: 0.7091 - val_accuracy: 0.5467\n"
     ]
    }
   ],
   "source": [
    "# Trainning the model\n",
    "h = dnnModel.fit(Xtrain,Ytrain,validation_data = (Xtest, Ytest), epochs = 25,verbose = 1)"
   ]
  },
  {
   "cell_type": "code",
   "execution_count": 41,
   "metadata": {},
   "outputs": [],
   "source": [
    "# Splitting the dataset into 70% training and 30% validation data.\n",
    "\n",
    "Xtrain,Xtest,Ytrain,Ytest = train_test_split(X, Y, test_size = 0.3, random_state = 7)"
   ]
  },
  {
   "cell_type": "code",
   "execution_count": 42,
   "metadata": {},
   "outputs": [
    {
     "name": "stdout",
     "output_type": "stream",
     "text": [
      "2\n"
     ]
    }
   ],
   "source": [
    "Xtrain_shape = Xtrain.shape[1]\n",
    "print (Xtrain_shape)"
   ]
  },
  {
   "cell_type": "code",
   "execution_count": 43,
   "metadata": {},
   "outputs": [
    {
     "name": "stdout",
     "output_type": "stream",
     "text": [
      "Model: \"sequential_8\"\n",
      "_________________________________________________________________\n",
      " Layer (type)                Output Shape              Param #   \n",
      "=================================================================\n",
      " dense_32 (Dense)            (None, 16)                48        \n",
      "                                                                 \n",
      " dense_33 (Dense)            (None, 12)                204       \n",
      "                                                                 \n",
      " dense_34 (Dense)            (None, 8)                 104       \n",
      "                                                                 \n",
      " dense_35 (Dense)            (None, 1)                 9         \n",
      "                                                                 \n",
      "=================================================================\n",
      "Total params: 365\n",
      "Trainable params: 365\n",
      "Non-trainable params: 0\n",
      "_________________________________________________________________\n"
     ]
    }
   ],
   "source": [
    "# Train two single/double hidden layer deep networks by varying the number of hidden nodes (4, 8, 12, 16) \n",
    "\n",
    "# Model 9\n",
    "\n",
    "\n",
    "dnnModel = Sequential()\n",
    "# layer 1 = input layer\n",
    "dnnModel.add(Dense(16, activation = 'relu', input_shape = (Xtrain_shape,)))\n",
    "# layer 2 = hidden layer\n",
    "dnnModel.add(Dense(12, activation = 'relu'))\n",
    "# layer 3 = hidden layer\n",
    "dnnModel.add(Dense(8, activation = 'relu'))\n",
    "# layer 4 = output layer\n",
    "dnnModel.add(Dense(1, activation = 'softmax'))\n",
    "dnnModel.compile(optimizer = 'adam', loss = 'binary_crossentropy', metrics = ['accuracy'])\n",
    "\n",
    "dnnModel.summary()"
   ]
  },
  {
   "cell_type": "code",
   "execution_count": 44,
   "metadata": {},
   "outputs": [
    {
     "name": "stdout",
     "output_type": "stream",
     "text": [
      "Epoch 1/25\n",
      "11/11 [==============================] - 0s 10ms/step - loss: 0.7016 - accuracy: 0.5014 - val_loss: 0.7010 - val_accuracy: 0.5067\n",
      "Epoch 2/25\n",
      "11/11 [==============================] - 0s 3ms/step - loss: 0.6945 - accuracy: 0.5014 - val_loss: 0.6947 - val_accuracy: 0.5067\n",
      "Epoch 3/25\n",
      "11/11 [==============================] - 0s 3ms/step - loss: 0.6907 - accuracy: 0.5014 - val_loss: 0.6919 - val_accuracy: 0.5067\n",
      "Epoch 4/25\n",
      "11/11 [==============================] - 0s 3ms/step - loss: 0.6879 - accuracy: 0.5014 - val_loss: 0.6912 - val_accuracy: 0.5067\n",
      "Epoch 5/25\n",
      "11/11 [==============================] - 0s 3ms/step - loss: 0.6870 - accuracy: 0.5014 - val_loss: 0.6913 - val_accuracy: 0.5067\n",
      "Epoch 6/25\n",
      "11/11 [==============================] - 0s 3ms/step - loss: 0.6859 - accuracy: 0.5014 - val_loss: 0.6904 - val_accuracy: 0.5067\n",
      "Epoch 7/25\n",
      "11/11 [==============================] - 0s 3ms/step - loss: 0.6857 - accuracy: 0.5014 - val_loss: 0.6897 - val_accuracy: 0.5067\n",
      "Epoch 8/25\n",
      "11/11 [==============================] - 0s 4ms/step - loss: 0.6844 - accuracy: 0.5014 - val_loss: 0.6905 - val_accuracy: 0.5067\n",
      "Epoch 9/25\n",
      "11/11 [==============================] - 0s 3ms/step - loss: 0.6843 - accuracy: 0.5014 - val_loss: 0.6907 - val_accuracy: 0.5067\n",
      "Epoch 10/25\n",
      "11/11 [==============================] - 0s 3ms/step - loss: 0.6831 - accuracy: 0.5014 - val_loss: 0.6920 - val_accuracy: 0.5067\n",
      "Epoch 11/25\n",
      "11/11 [==============================] - 0s 3ms/step - loss: 0.6828 - accuracy: 0.5014 - val_loss: 0.6919 - val_accuracy: 0.5067\n",
      "Epoch 12/25\n",
      "11/11 [==============================] - 0s 3ms/step - loss: 0.6817 - accuracy: 0.5014 - val_loss: 0.6930 - val_accuracy: 0.5067\n",
      "Epoch 13/25\n",
      "11/11 [==============================] - 0s 3ms/step - loss: 0.6813 - accuracy: 0.5014 - val_loss: 0.6947 - val_accuracy: 0.5067\n",
      "Epoch 14/25\n",
      "11/11 [==============================] - 0s 3ms/step - loss: 0.6813 - accuracy: 0.5014 - val_loss: 0.6944 - val_accuracy: 0.5067\n",
      "Epoch 15/25\n",
      "11/11 [==============================] - 0s 3ms/step - loss: 0.6806 - accuracy: 0.5014 - val_loss: 0.6934 - val_accuracy: 0.5067\n",
      "Epoch 16/25\n",
      "11/11 [==============================] - 0s 3ms/step - loss: 0.6796 - accuracy: 0.5014 - val_loss: 0.6938 - val_accuracy: 0.5067\n",
      "Epoch 17/25\n",
      "11/11 [==============================] - 0s 3ms/step - loss: 0.6795 - accuracy: 0.5014 - val_loss: 0.6933 - val_accuracy: 0.5067\n",
      "Epoch 18/25\n",
      "11/11 [==============================] - 0s 4ms/step - loss: 0.6790 - accuracy: 0.5014 - val_loss: 0.6943 - val_accuracy: 0.5067\n",
      "Epoch 19/25\n",
      "11/11 [==============================] - 0s 6ms/step - loss: 0.6785 - accuracy: 0.5014 - val_loss: 0.6946 - val_accuracy: 0.5067\n",
      "Epoch 20/25\n",
      "11/11 [==============================] - 0s 3ms/step - loss: 0.6778 - accuracy: 0.5014 - val_loss: 0.6930 - val_accuracy: 0.5067\n",
      "Epoch 21/25\n",
      "11/11 [==============================] - 0s 3ms/step - loss: 0.6772 - accuracy: 0.5014 - val_loss: 0.6928 - val_accuracy: 0.5067\n",
      "Epoch 22/25\n",
      "11/11 [==============================] - 0s 3ms/step - loss: 0.6763 - accuracy: 0.5014 - val_loss: 0.6925 - val_accuracy: 0.5067\n",
      "Epoch 23/25\n",
      "11/11 [==============================] - 0s 3ms/step - loss: 0.6756 - accuracy: 0.5014 - val_loss: 0.6911 - val_accuracy: 0.5067\n",
      "Epoch 24/25\n",
      "11/11 [==============================] - 0s 3ms/step - loss: 0.6748 - accuracy: 0.5014 - val_loss: 0.6922 - val_accuracy: 0.5067\n",
      "Epoch 25/25\n",
      "11/11 [==============================] - 0s 4ms/step - loss: 0.6739 - accuracy: 0.5014 - val_loss: 0.6923 - val_accuracy: 0.5067\n"
     ]
    }
   ],
   "source": [
    "# Trainning the model\n",
    "h = dnnModel.fit(Xtrain,Ytrain,validation_data = (Xtest, Ytest), epochs = 25,verbose = 1)"
   ]
  },
  {
   "cell_type": "code",
   "execution_count": 45,
   "metadata": {},
   "outputs": [],
   "source": [
    "# Splitting the dataset into 70% training and 30% validation data.\n",
    "Xtrain,Xtest,Ytrain,Ytest = train_test_split(X, Y, test_size = 0.3, random_state = 1)"
   ]
  },
  {
   "cell_type": "code",
   "execution_count": 46,
   "metadata": {},
   "outputs": [
    {
     "name": "stdout",
     "output_type": "stream",
     "text": [
      "2\n"
     ]
    }
   ],
   "source": [
    "Xtrain_shape = Xtrain.shape[1]\n",
    "print (Xtrain_shape)"
   ]
  },
  {
   "cell_type": "code",
   "execution_count": 47,
   "metadata": {},
   "outputs": [
    {
     "name": "stdout",
     "output_type": "stream",
     "text": [
      "Model: \"sequential_9\"\n",
      "_________________________________________________________________\n",
      " Layer (type)                Output Shape              Param #   \n",
      "=================================================================\n",
      " dense_36 (Dense)            (None, 12)                36        \n",
      "                                                                 \n",
      " dense_37 (Dense)            (None, 16)                208       \n",
      "                                                                 \n",
      " dropout_6 (Dropout)         (None, 16)                0         \n",
      "                                                                 \n",
      " dense_38 (Dense)            (None, 8)                 136       \n",
      "                                                                 \n",
      " dropout_7 (Dropout)         (None, 8)                 0         \n",
      "                                                                 \n",
      " dense_39 (Dense)            (None, 1)                 9         \n",
      "                                                                 \n",
      "=================================================================\n",
      "Total params: 389\n",
      "Trainable params: 389\n",
      "Non-trainable params: 0\n",
      "_________________________________________________________________\n"
     ]
    }
   ],
   "source": [
    "# Train two single/double hidden layer deep networks by varying the number of hidden nodes (4, 8, 12, 16) \n",
    "\n",
    "# Model 10\n",
    "\n",
    "\n",
    "dnnModel = Sequential()\n",
    "# layer 1 = input layer\n",
    "dnnModel.add(Dense(12, activation = 'relu', input_shape = (Xtrain_shape,)))\n",
    "# layer 2 = hidden layer\n",
    "dnnModel.add(Dense(16, activation = 'relu'))\n",
    "# Add dropout of 50% to layer 2\n",
    "dnnModel.add(Dropout(0.5))\n",
    "# layer 3 = hidden layer\n",
    "dnnModel.add(Dense(8, activation = 'relu'))\n",
    "# Add dropout of 50% to layer 3\n",
    "dnnModel.add(Dropout(0.5))\n",
    "# layer 4 = output layer\n",
    "dnnModel.add(Dense(1, activation = 'sigmoid'))\n",
    "dnnModel.compile(optimizer = 'adam', loss = 'binary_crossentropy', metrics = ['accuracy'])\n",
    "\n",
    "dnnModel.summary()"
   ]
  },
  {
   "cell_type": "code",
   "execution_count": 48,
   "metadata": {},
   "outputs": [
    {
     "name": "stdout",
     "output_type": "stream",
     "text": [
      "Epoch 1/25\n",
      "11/11 [==============================] - 0s 10ms/step - loss: 0.8529 - accuracy: 0.5274 - val_loss: 0.7367 - val_accuracy: 0.4333\n",
      "Epoch 2/25\n",
      "11/11 [==============================] - 0s 3ms/step - loss: 0.7857 - accuracy: 0.5216 - val_loss: 0.7197 - val_accuracy: 0.4667\n",
      "Epoch 3/25\n",
      "11/11 [==============================] - 0s 3ms/step - loss: 0.7489 - accuracy: 0.5648 - val_loss: 0.7082 - val_accuracy: 0.5133\n",
      "Epoch 4/25\n",
      "11/11 [==============================] - 0s 3ms/step - loss: 0.7486 - accuracy: 0.5101 - val_loss: 0.7007 - val_accuracy: 0.5000\n",
      "Epoch 5/25\n",
      "11/11 [==============================] - 0s 3ms/step - loss: 0.7535 - accuracy: 0.5331 - val_loss: 0.6983 - val_accuracy: 0.5200\n",
      "Epoch 6/25\n",
      "11/11 [==============================] - 0s 3ms/step - loss: 0.7558 - accuracy: 0.5216 - val_loss: 0.6962 - val_accuracy: 0.5333\n",
      "Epoch 7/25\n",
      "11/11 [==============================] - 0s 3ms/step - loss: 0.7293 - accuracy: 0.5043 - val_loss: 0.6948 - val_accuracy: 0.5200\n",
      "Epoch 8/25\n",
      "11/11 [==============================] - 0s 3ms/step - loss: 0.7295 - accuracy: 0.4784 - val_loss: 0.6940 - val_accuracy: 0.5200\n",
      "Epoch 9/25\n",
      "11/11 [==============================] - 0s 3ms/step - loss: 0.6960 - accuracy: 0.5418 - val_loss: 0.6934 - val_accuracy: 0.5267\n",
      "Epoch 10/25\n",
      "11/11 [==============================] - 0s 3ms/step - loss: 0.6997 - accuracy: 0.5043 - val_loss: 0.6931 - val_accuracy: 0.5267\n",
      "Epoch 11/25\n",
      "11/11 [==============================] - 0s 3ms/step - loss: 0.7026 - accuracy: 0.5274 - val_loss: 0.6926 - val_accuracy: 0.5267\n",
      "Epoch 12/25\n",
      "11/11 [==============================] - 0s 3ms/step - loss: 0.7089 - accuracy: 0.5303 - val_loss: 0.6922 - val_accuracy: 0.5200\n",
      "Epoch 13/25\n",
      "11/11 [==============================] - 0s 3ms/step - loss: 0.7131 - accuracy: 0.5101 - val_loss: 0.6915 - val_accuracy: 0.5067\n",
      "Epoch 14/25\n",
      "11/11 [==============================] - 0s 3ms/step - loss: 0.6975 - accuracy: 0.5101 - val_loss: 0.6911 - val_accuracy: 0.5200\n",
      "Epoch 15/25\n",
      "11/11 [==============================] - 0s 3ms/step - loss: 0.6973 - accuracy: 0.5447 - val_loss: 0.6911 - val_accuracy: 0.5133\n",
      "Epoch 16/25\n",
      "11/11 [==============================] - 0s 3ms/step - loss: 0.7009 - accuracy: 0.5130 - val_loss: 0.6909 - val_accuracy: 0.5133\n",
      "Epoch 17/25\n",
      "11/11 [==============================] - 0s 3ms/step - loss: 0.7115 - accuracy: 0.5130 - val_loss: 0.6905 - val_accuracy: 0.5133\n",
      "Epoch 18/25\n",
      "11/11 [==============================] - 0s 3ms/step - loss: 0.7039 - accuracy: 0.5043 - val_loss: 0.6902 - val_accuracy: 0.5000\n",
      "Epoch 19/25\n",
      "11/11 [==============================] - 0s 3ms/step - loss: 0.7033 - accuracy: 0.5187 - val_loss: 0.6900 - val_accuracy: 0.4933\n",
      "Epoch 20/25\n",
      "11/11 [==============================] - 0s 3ms/step - loss: 0.7045 - accuracy: 0.5389 - val_loss: 0.6897 - val_accuracy: 0.5000\n",
      "Epoch 21/25\n",
      "11/11 [==============================] - 0s 3ms/step - loss: 0.7039 - accuracy: 0.5331 - val_loss: 0.6894 - val_accuracy: 0.5133\n",
      "Epoch 22/25\n",
      "11/11 [==============================] - 0s 4ms/step - loss: 0.7031 - accuracy: 0.5245 - val_loss: 0.6895 - val_accuracy: 0.5133\n",
      "Epoch 23/25\n",
      "11/11 [==============================] - 0s 3ms/step - loss: 0.6951 - accuracy: 0.5187 - val_loss: 0.6896 - val_accuracy: 0.5067\n",
      "Epoch 24/25\n",
      "11/11 [==============================] - 0s 5ms/step - loss: 0.6937 - accuracy: 0.4899 - val_loss: 0.6895 - val_accuracy: 0.5067\n",
      "Epoch 25/25\n",
      "11/11 [==============================] - 0s 3ms/step - loss: 0.7056 - accuracy: 0.5072 - val_loss: 0.6894 - val_accuracy: 0.5133\n"
     ]
    }
   ],
   "source": [
    "# Trainning the model\n",
    "h = dnnModel.fit(Xtrain,Ytrain,validation_data = (Xtest, Ytest), epochs = 25,verbose = 1)"
   ]
  },
  {
   "cell_type": "code",
   "execution_count": 49,
   "metadata": {},
   "outputs": [],
   "source": [
    "# Splitting the dataset into 70% training and 30% validation data.\n",
    "Xtrain,Xtest,Ytrain,Ytest = train_test_split(X, Y, test_size = 0.3, random_state = 1)"
   ]
  },
  {
   "cell_type": "code",
   "execution_count": 50,
   "metadata": {},
   "outputs": [
    {
     "name": "stdout",
     "output_type": "stream",
     "text": [
      "2\n"
     ]
    }
   ],
   "source": [
    "Xtrain_shape = Xtrain.shape[1]\n",
    "print (Xtrain_shape)"
   ]
  },
  {
   "cell_type": "code",
   "execution_count": 51,
   "metadata": {},
   "outputs": [
    {
     "name": "stdout",
     "output_type": "stream",
     "text": [
      "Model: \"sequential_10\"\n",
      "_________________________________________________________________\n",
      " Layer (type)                Output Shape              Param #   \n",
      "=================================================================\n",
      " dense_40 (Dense)            (None, 12)                36        \n",
      "                                                                 \n",
      " dense_41 (Dense)            (None, 16)                208       \n",
      "                                                                 \n",
      " dropout_8 (Dropout)         (None, 16)                0         \n",
      "                                                                 \n",
      " dense_42 (Dense)            (None, 8)                 136       \n",
      "                                                                 \n",
      " dropout_9 (Dropout)         (None, 8)                 0         \n",
      "                                                                 \n",
      " dense_43 (Dense)            (None, 1)                 9         \n",
      "                                                                 \n",
      "=================================================================\n",
      "Total params: 389\n",
      "Trainable params: 389\n",
      "Non-trainable params: 0\n",
      "_________________________________________________________________\n"
     ]
    }
   ],
   "source": [
    "# Train two single/double hidden layer deep networks by varying the number of hidden nodes (4, 8, 12, 16) \n",
    "\n",
    "# Model 11\n",
    "\n",
    "\n",
    "dnnModel = Sequential()\n",
    "# layer 1 = input layer\n",
    "dnnModel.add(Dense(12, activation = 'relu', input_shape = (Xtrain_shape,)))\n",
    "# layer 2 = hidden layer\n",
    "dnnModel.add(Dense(16, activation = 'relu'))\n",
    "# Add dropout of 50% to layer 2\n",
    "dnnModel.add(Dropout(0.5))\n",
    "# layer 3 = hidden layer\n",
    "dnnModel.add(Dense(8, activation = 'relu'))\n",
    "# Add dropout of 50% to layer 3\n",
    "dnnModel.add(Dropout(0.5))\n",
    "# layer 4 = output layer\n",
    "dnnModel.add(Dense(1, activation = 'softmax'))\n",
    "dnnModel.compile(optimizer = 'adam', loss = 'binary_crossentropy', metrics = ['accuracy'])\n",
    "\n",
    "dnnModel.summary()"
   ]
  },
  {
   "cell_type": "code",
   "execution_count": 52,
   "metadata": {},
   "outputs": [
    {
     "name": "stdout",
     "output_type": "stream",
     "text": [
      "Epoch 1/25\n",
      "11/11 [==============================] - 0s 11ms/step - loss: 1.3226 - accuracy: 0.4841 - val_loss: 0.8497 - val_accuracy: 0.5467\n",
      "Epoch 2/25\n",
      "11/11 [==============================] - 0s 3ms/step - loss: 1.4886 - accuracy: 0.4841 - val_loss: 0.7693 - val_accuracy: 0.5467\n",
      "Epoch 3/25\n",
      "11/11 [==============================] - 0s 3ms/step - loss: 1.1425 - accuracy: 0.4841 - val_loss: 0.7096 - val_accuracy: 0.5467\n",
      "Epoch 4/25\n",
      "11/11 [==============================] - 0s 3ms/step - loss: 1.0183 - accuracy: 0.4841 - val_loss: 0.6911 - val_accuracy: 0.5467\n",
      "Epoch 5/25\n",
      "11/11 [==============================] - 0s 3ms/step - loss: 1.0375 - accuracy: 0.4841 - val_loss: 0.6887 - val_accuracy: 0.5467\n",
      "Epoch 6/25\n",
      "11/11 [==============================] - 0s 3ms/step - loss: 0.9139 - accuracy: 0.4841 - val_loss: 0.6874 - val_accuracy: 0.5467\n",
      "Epoch 7/25\n",
      "11/11 [==============================] - 0s 3ms/step - loss: 0.8454 - accuracy: 0.4841 - val_loss: 0.6872 - val_accuracy: 0.5467\n",
      "Epoch 8/25\n",
      "11/11 [==============================] - 0s 3ms/step - loss: 0.9154 - accuracy: 0.4841 - val_loss: 0.6879 - val_accuracy: 0.5467\n",
      "Epoch 9/25\n",
      "11/11 [==============================] - 0s 4ms/step - loss: 0.8853 - accuracy: 0.4841 - val_loss: 0.6886 - val_accuracy: 0.5467\n",
      "Epoch 10/25\n",
      "11/11 [==============================] - 0s 4ms/step - loss: 0.8936 - accuracy: 0.4841 - val_loss: 0.6867 - val_accuracy: 0.5467\n",
      "Epoch 11/25\n",
      "11/11 [==============================] - 0s 3ms/step - loss: 0.7643 - accuracy: 0.4841 - val_loss: 0.6845 - val_accuracy: 0.5467\n",
      "Epoch 12/25\n",
      "11/11 [==============================] - 0s 3ms/step - loss: 0.8483 - accuracy: 0.4841 - val_loss: 0.6835 - val_accuracy: 0.5467\n",
      "Epoch 13/25\n",
      "11/11 [==============================] - 0s 3ms/step - loss: 0.7989 - accuracy: 0.4841 - val_loss: 0.6832 - val_accuracy: 0.5467\n",
      "Epoch 14/25\n",
      "11/11 [==============================] - 0s 3ms/step - loss: 0.8308 - accuracy: 0.4841 - val_loss: 0.6844 - val_accuracy: 0.5467\n",
      "Epoch 15/25\n",
      "11/11 [==============================] - 0s 3ms/step - loss: 0.8063 - accuracy: 0.4841 - val_loss: 0.6841 - val_accuracy: 0.5467\n",
      "Epoch 16/25\n",
      "11/11 [==============================] - 0s 3ms/step - loss: 0.7340 - accuracy: 0.4841 - val_loss: 0.6847 - val_accuracy: 0.5467\n",
      "Epoch 17/25\n",
      "11/11 [==============================] - 0s 3ms/step - loss: 0.7286 - accuracy: 0.4841 - val_loss: 0.6857 - val_accuracy: 0.5467\n",
      "Epoch 18/25\n",
      "11/11 [==============================] - 0s 4ms/step - loss: 0.7519 - accuracy: 0.4841 - val_loss: 0.6870 - val_accuracy: 0.5467\n",
      "Epoch 19/25\n",
      "11/11 [==============================] - 0s 3ms/step - loss: 0.8038 - accuracy: 0.4841 - val_loss: 0.6876 - val_accuracy: 0.5467\n",
      "Epoch 20/25\n",
      "11/11 [==============================] - 0s 3ms/step - loss: 0.7361 - accuracy: 0.4841 - val_loss: 0.6881 - val_accuracy: 0.5467\n",
      "Epoch 21/25\n",
      "11/11 [==============================] - 0s 3ms/step - loss: 0.7141 - accuracy: 0.4841 - val_loss: 0.6884 - val_accuracy: 0.5467\n",
      "Epoch 22/25\n",
      "11/11 [==============================] - 0s 4ms/step - loss: 0.6991 - accuracy: 0.4841 - val_loss: 0.6883 - val_accuracy: 0.5467\n",
      "Epoch 23/25\n",
      "11/11 [==============================] - 0s 3ms/step - loss: 0.7205 - accuracy: 0.4841 - val_loss: 0.6888 - val_accuracy: 0.5467\n",
      "Epoch 24/25\n",
      "11/11 [==============================] - 0s 4ms/step - loss: 0.7030 - accuracy: 0.4841 - val_loss: 0.6894 - val_accuracy: 0.5467\n",
      "Epoch 25/25\n",
      "11/11 [==============================] - 0s 3ms/step - loss: 0.7183 - accuracy: 0.4841 - val_loss: 0.6898 - val_accuracy: 0.5467\n"
     ]
    }
   ],
   "source": [
    "# Trainning the model\n",
    "h = dnnModel.fit(Xtrain,Ytrain,validation_data = (Xtest, Ytest), epochs = 25,verbose = 1)"
   ]
  },
  {
   "cell_type": "code",
   "execution_count": 53,
   "metadata": {},
   "outputs": [
    {
     "name": "stdout",
     "output_type": "stream",
     "text": [
      "Epoch 1/100\n",
      "11/11 [==============================] - 0s 6ms/step - loss: 0.7191 - accuracy: 0.4841 - val_loss: 0.6905 - val_accuracy: 0.5467\n",
      "Epoch 2/100\n",
      "11/11 [==============================] - 0s 3ms/step - loss: 0.7156 - accuracy: 0.4841 - val_loss: 0.6913 - val_accuracy: 0.5467\n",
      "Epoch 3/100\n",
      "11/11 [==============================] - 0s 3ms/step - loss: 0.7166 - accuracy: 0.4841 - val_loss: 0.6920 - val_accuracy: 0.5467\n",
      "Epoch 4/100\n",
      "11/11 [==============================] - 0s 3ms/step - loss: 0.6967 - accuracy: 0.4841 - val_loss: 0.6926 - val_accuracy: 0.5467\n",
      "Epoch 5/100\n",
      "11/11 [==============================] - 0s 3ms/step - loss: 0.6936 - accuracy: 0.4841 - val_loss: 0.6927 - val_accuracy: 0.5467\n",
      "Epoch 6/100\n",
      "11/11 [==============================] - 0s 3ms/step - loss: 0.7041 - accuracy: 0.4841 - val_loss: 0.6935 - val_accuracy: 0.5467\n",
      "Epoch 7/100\n",
      "11/11 [==============================] - 0s 4ms/step - loss: 0.7011 - accuracy: 0.4841 - val_loss: 0.6941 - val_accuracy: 0.5467\n",
      "Epoch 8/100\n",
      "11/11 [==============================] - 0s 3ms/step - loss: 0.7044 - accuracy: 0.4841 - val_loss: 0.6943 - val_accuracy: 0.5467\n",
      "Epoch 9/100\n",
      "11/11 [==============================] - 0s 3ms/step - loss: 0.7107 - accuracy: 0.4841 - val_loss: 0.6947 - val_accuracy: 0.5467\n",
      "Epoch 10/100\n",
      "11/11 [==============================] - 0s 3ms/step - loss: 0.7014 - accuracy: 0.4841 - val_loss: 0.6949 - val_accuracy: 0.5467\n",
      "Epoch 11/100\n",
      "11/11 [==============================] - 0s 3ms/step - loss: 0.6934 - accuracy: 0.4841 - val_loss: 0.6951 - val_accuracy: 0.5467\n",
      "Epoch 12/100\n",
      "11/11 [==============================] - 0s 3ms/step - loss: 0.6811 - accuracy: 0.4841 - val_loss: 0.6954 - val_accuracy: 0.5467\n",
      "Epoch 13/100\n",
      "11/11 [==============================] - 0s 3ms/step - loss: 0.6924 - accuracy: 0.4841 - val_loss: 0.6956 - val_accuracy: 0.5467\n",
      "Epoch 14/100\n",
      "11/11 [==============================] - 0s 3ms/step - loss: 0.6967 - accuracy: 0.4841 - val_loss: 0.6957 - val_accuracy: 0.5467\n",
      "Epoch 15/100\n",
      "11/11 [==============================] - 0s 3ms/step - loss: 0.6800 - accuracy: 0.4841 - val_loss: 0.6961 - val_accuracy: 0.5467\n",
      "Epoch 16/100\n",
      "11/11 [==============================] - 0s 4ms/step - loss: 0.6839 - accuracy: 0.4841 - val_loss: 0.6963 - val_accuracy: 0.5467\n",
      "Epoch 17/100\n",
      "11/11 [==============================] - 0s 3ms/step - loss: 0.6934 - accuracy: 0.4841 - val_loss: 0.6963 - val_accuracy: 0.5467\n",
      "Epoch 18/100\n",
      "11/11 [==============================] - 0s 4ms/step - loss: 0.6900 - accuracy: 0.4841 - val_loss: 0.6963 - val_accuracy: 0.5467\n",
      "Epoch 19/100\n",
      "11/11 [==============================] - 0s 3ms/step - loss: 0.6839 - accuracy: 0.4841 - val_loss: 0.6962 - val_accuracy: 0.5467\n",
      "Epoch 20/100\n",
      "11/11 [==============================] - 0s 3ms/step - loss: 0.7028 - accuracy: 0.4841 - val_loss: 0.6961 - val_accuracy: 0.5467\n",
      "Epoch 21/100\n",
      "11/11 [==============================] - 0s 3ms/step - loss: 0.6935 - accuracy: 0.4841 - val_loss: 0.6963 - val_accuracy: 0.5467\n",
      "Epoch 22/100\n",
      "11/11 [==============================] - 0s 4ms/step - loss: 0.6982 - accuracy: 0.4841 - val_loss: 0.6965 - val_accuracy: 0.5467\n",
      "Epoch 23/100\n",
      "11/11 [==============================] - 0s 4ms/step - loss: 0.6960 - accuracy: 0.4841 - val_loss: 0.6967 - val_accuracy: 0.5467\n",
      "Epoch 24/100\n",
      "11/11 [==============================] - 0s 3ms/step - loss: 0.7102 - accuracy: 0.4841 - val_loss: 0.6967 - val_accuracy: 0.5467\n",
      "Epoch 25/100\n",
      "11/11 [==============================] - 0s 4ms/step - loss: 0.7031 - accuracy: 0.4841 - val_loss: 0.6969 - val_accuracy: 0.5467\n",
      "Epoch 26/100\n",
      "11/11 [==============================] - 0s 3ms/step - loss: 0.6858 - accuracy: 0.4841 - val_loss: 0.6970 - val_accuracy: 0.5467\n",
      "Epoch 27/100\n",
      "11/11 [==============================] - 0s 3ms/step - loss: 0.7030 - accuracy: 0.4841 - val_loss: 0.6968 - val_accuracy: 0.5467\n",
      "Epoch 28/100\n",
      "11/11 [==============================] - 0s 3ms/step - loss: 0.7053 - accuracy: 0.4841 - val_loss: 0.6969 - val_accuracy: 0.5467\n",
      "Epoch 29/100\n",
      "11/11 [==============================] - 0s 3ms/step - loss: 0.6943 - accuracy: 0.4841 - val_loss: 0.6969 - val_accuracy: 0.5467\n",
      "Epoch 30/100\n",
      "11/11 [==============================] - 0s 3ms/step - loss: 0.6961 - accuracy: 0.4841 - val_loss: 0.6970 - val_accuracy: 0.5467\n",
      "Epoch 31/100\n",
      "11/11 [==============================] - 0s 3ms/step - loss: 0.6898 - accuracy: 0.4841 - val_loss: 0.6970 - val_accuracy: 0.5467\n",
      "Epoch 32/100\n",
      "11/11 [==============================] - 0s 4ms/step - loss: 0.6881 - accuracy: 0.4841 - val_loss: 0.6970 - val_accuracy: 0.5467\n",
      "Epoch 33/100\n",
      "11/11 [==============================] - 0s 4ms/step - loss: 0.6868 - accuracy: 0.4841 - val_loss: 0.6967 - val_accuracy: 0.5467\n",
      "Epoch 34/100\n",
      "11/11 [==============================] - 0s 4ms/step - loss: 0.6997 - accuracy: 0.4841 - val_loss: 0.6966 - val_accuracy: 0.5467\n",
      "Epoch 35/100\n",
      "11/11 [==============================] - 0s 4ms/step - loss: 0.6993 - accuracy: 0.4841 - val_loss: 0.6969 - val_accuracy: 0.5467\n",
      "Epoch 36/100\n",
      "11/11 [==============================] - 0s 3ms/step - loss: 0.7002 - accuracy: 0.4841 - val_loss: 0.6971 - val_accuracy: 0.5467\n",
      "Epoch 37/100\n",
      "11/11 [==============================] - 0s 3ms/step - loss: 0.6982 - accuracy: 0.4841 - val_loss: 0.6972 - val_accuracy: 0.5467\n",
      "Epoch 38/100\n",
      "11/11 [==============================] - 0s 3ms/step - loss: 0.6960 - accuracy: 0.4841 - val_loss: 0.6970 - val_accuracy: 0.5467\n",
      "Epoch 39/100\n",
      "11/11 [==============================] - 0s 3ms/step - loss: 0.6858 - accuracy: 0.4841 - val_loss: 0.6969 - val_accuracy: 0.5467\n",
      "Epoch 40/100\n",
      "11/11 [==============================] - 0s 3ms/step - loss: 0.6939 - accuracy: 0.4841 - val_loss: 0.6967 - val_accuracy: 0.5467\n",
      "Epoch 41/100\n",
      "11/11 [==============================] - 0s 3ms/step - loss: 0.6940 - accuracy: 0.4841 - val_loss: 0.6968 - val_accuracy: 0.5467\n",
      "Epoch 42/100\n",
      "11/11 [==============================] - 0s 3ms/step - loss: 0.6862 - accuracy: 0.4841 - val_loss: 0.6967 - val_accuracy: 0.5467\n",
      "Epoch 43/100\n",
      "11/11 [==============================] - 0s 4ms/step - loss: 0.6925 - accuracy: 0.4841 - val_loss: 0.6966 - val_accuracy: 0.5467\n",
      "Epoch 44/100\n",
      "11/11 [==============================] - 0s 3ms/step - loss: 0.6900 - accuracy: 0.4841 - val_loss: 0.6965 - val_accuracy: 0.5467\n",
      "Epoch 45/100\n",
      "11/11 [==============================] - 0s 3ms/step - loss: 0.6835 - accuracy: 0.4841 - val_loss: 0.6966 - val_accuracy: 0.5467\n",
      "Epoch 46/100\n",
      "11/11 [==============================] - 0s 3ms/step - loss: 0.6936 - accuracy: 0.4841 - val_loss: 0.6963 - val_accuracy: 0.5467\n",
      "Epoch 47/100\n",
      "11/11 [==============================] - 0s 3ms/step - loss: 0.6938 - accuracy: 0.4841 - val_loss: 0.6964 - val_accuracy: 0.5467\n",
      "Epoch 48/100\n",
      "11/11 [==============================] - 0s 3ms/step - loss: 0.6970 - accuracy: 0.4841 - val_loss: 0.6967 - val_accuracy: 0.5467\n",
      "Epoch 49/100\n",
      "11/11 [==============================] - 0s 3ms/step - loss: 0.6936 - accuracy: 0.4841 - val_loss: 0.6967 - val_accuracy: 0.5467\n",
      "Epoch 50/100\n",
      "11/11 [==============================] - 0s 3ms/step - loss: 0.6935 - accuracy: 0.4841 - val_loss: 0.6967 - val_accuracy: 0.5467\n",
      "Epoch 51/100\n",
      "11/11 [==============================] - 0s 3ms/step - loss: 0.6904 - accuracy: 0.4841 - val_loss: 0.6966 - val_accuracy: 0.5467\n",
      "Epoch 52/100\n",
      "11/11 [==============================] - 0s 3ms/step - loss: 0.6874 - accuracy: 0.4841 - val_loss: 0.6965 - val_accuracy: 0.5467\n",
      "Epoch 53/100\n",
      "11/11 [==============================] - 0s 3ms/step - loss: 0.6900 - accuracy: 0.4841 - val_loss: 0.6964 - val_accuracy: 0.5467\n",
      "Epoch 54/100\n",
      "11/11 [==============================] - 0s 3ms/step - loss: 0.6878 - accuracy: 0.4841 - val_loss: 0.6962 - val_accuracy: 0.5467\n",
      "Epoch 55/100\n",
      "11/11 [==============================] - 0s 3ms/step - loss: 0.6906 - accuracy: 0.4841 - val_loss: 0.6961 - val_accuracy: 0.5467\n",
      "Epoch 56/100\n",
      "11/11 [==============================] - 0s 3ms/step - loss: 0.6859 - accuracy: 0.4841 - val_loss: 0.6959 - val_accuracy: 0.5467\n",
      "Epoch 57/100\n",
      "11/11 [==============================] - 0s 3ms/step - loss: 0.6973 - accuracy: 0.4841 - val_loss: 0.6959 - val_accuracy: 0.5467\n",
      "Epoch 58/100\n",
      "11/11 [==============================] - 0s 3ms/step - loss: 0.6872 - accuracy: 0.4841 - val_loss: 0.6958 - val_accuracy: 0.5467\n"
     ]
    },
    {
     "name": "stdout",
     "output_type": "stream",
     "text": [
      "Epoch 59/100\n",
      "11/11 [==============================] - 0s 3ms/step - loss: 0.6889 - accuracy: 0.4841 - val_loss: 0.6958 - val_accuracy: 0.5467\n",
      "Epoch 60/100\n",
      "11/11 [==============================] - 0s 3ms/step - loss: 0.6939 - accuracy: 0.4841 - val_loss: 0.6956 - val_accuracy: 0.5467\n",
      "Epoch 61/100\n",
      "11/11 [==============================] - 0s 2ms/step - loss: 0.6823 - accuracy: 0.4841 - val_loss: 0.6957 - val_accuracy: 0.5467\n",
      "Epoch 62/100\n",
      "11/11 [==============================] - 0s 3ms/step - loss: 0.6968 - accuracy: 0.4841 - val_loss: 0.6954 - val_accuracy: 0.5467\n",
      "Epoch 63/100\n",
      "11/11 [==============================] - 0s 3ms/step - loss: 0.6919 - accuracy: 0.4841 - val_loss: 0.6951 - val_accuracy: 0.5467\n",
      "Epoch 64/100\n",
      "11/11 [==============================] - 0s 3ms/step - loss: 0.6912 - accuracy: 0.4841 - val_loss: 0.6952 - val_accuracy: 0.5467\n",
      "Epoch 65/100\n",
      "11/11 [==============================] - 0s 3ms/step - loss: 0.6919 - accuracy: 0.4841 - val_loss: 0.6954 - val_accuracy: 0.5467\n",
      "Epoch 66/100\n",
      "11/11 [==============================] - 0s 3ms/step - loss: 0.6833 - accuracy: 0.4841 - val_loss: 0.6951 - val_accuracy: 0.5467\n",
      "Epoch 67/100\n",
      "11/11 [==============================] - 0s 3ms/step - loss: 0.6880 - accuracy: 0.4841 - val_loss: 0.6952 - val_accuracy: 0.5467\n",
      "Epoch 68/100\n",
      "11/11 [==============================] - 0s 3ms/step - loss: 0.6915 - accuracy: 0.4841 - val_loss: 0.6952 - val_accuracy: 0.5467\n",
      "Epoch 69/100\n",
      "11/11 [==============================] - 0s 3ms/step - loss: 0.6895 - accuracy: 0.4841 - val_loss: 0.6950 - val_accuracy: 0.5467\n",
      "Epoch 70/100\n",
      "11/11 [==============================] - 0s 3ms/step - loss: 0.6849 - accuracy: 0.4841 - val_loss: 0.6949 - val_accuracy: 0.5467\n",
      "Epoch 71/100\n",
      "11/11 [==============================] - 0s 3ms/step - loss: 0.6853 - accuracy: 0.4841 - val_loss: 0.6946 - val_accuracy: 0.5467\n",
      "Epoch 72/100\n",
      "11/11 [==============================] - 0s 3ms/step - loss: 0.6900 - accuracy: 0.4841 - val_loss: 0.6950 - val_accuracy: 0.5467\n",
      "Epoch 73/100\n",
      "11/11 [==============================] - 0s 4ms/step - loss: 0.6928 - accuracy: 0.4841 - val_loss: 0.6950 - val_accuracy: 0.5467\n",
      "Epoch 74/100\n",
      "11/11 [==============================] - 0s 3ms/step - loss: 0.6922 - accuracy: 0.4841 - val_loss: 0.6950 - val_accuracy: 0.5467\n",
      "Epoch 75/100\n",
      "11/11 [==============================] - 0s 3ms/step - loss: 0.6898 - accuracy: 0.4841 - val_loss: 0.6949 - val_accuracy: 0.5467\n",
      "Epoch 76/100\n",
      "11/11 [==============================] - 0s 3ms/step - loss: 0.6798 - accuracy: 0.4841 - val_loss: 0.6947 - val_accuracy: 0.5467\n",
      "Epoch 77/100\n",
      "11/11 [==============================] - 0s 3ms/step - loss: 0.6816 - accuracy: 0.4841 - val_loss: 0.6943 - val_accuracy: 0.5467\n",
      "Epoch 78/100\n",
      "11/11 [==============================] - 0s 3ms/step - loss: 0.6863 - accuracy: 0.4841 - val_loss: 0.6937 - val_accuracy: 0.5467\n",
      "Epoch 79/100\n",
      "11/11 [==============================] - 0s 3ms/step - loss: 0.6919 - accuracy: 0.4841 - val_loss: 0.6937 - val_accuracy: 0.5467\n",
      "Epoch 80/100\n",
      "11/11 [==============================] - 0s 3ms/step - loss: 0.6958 - accuracy: 0.4841 - val_loss: 0.6940 - val_accuracy: 0.5467\n",
      "Epoch 81/100\n",
      "11/11 [==============================] - 0s 3ms/step - loss: 0.6855 - accuracy: 0.4841 - val_loss: 0.6939 - val_accuracy: 0.5467\n",
      "Epoch 82/100\n",
      "11/11 [==============================] - 0s 3ms/step - loss: 0.6854 - accuracy: 0.4841 - val_loss: 0.6942 - val_accuracy: 0.5467\n",
      "Epoch 83/100\n",
      "11/11 [==============================] - 0s 3ms/step - loss: 0.6829 - accuracy: 0.4841 - val_loss: 0.6942 - val_accuracy: 0.5467\n",
      "Epoch 84/100\n",
      "11/11 [==============================] - 0s 3ms/step - loss: 0.6927 - accuracy: 0.4841 - val_loss: 0.6940 - val_accuracy: 0.5467\n",
      "Epoch 85/100\n",
      "11/11 [==============================] - 0s 3ms/step - loss: 0.6921 - accuracy: 0.4841 - val_loss: 0.6938 - val_accuracy: 0.5467\n",
      "Epoch 86/100\n",
      "11/11 [==============================] - 0s 3ms/step - loss: 0.6864 - accuracy: 0.4841 - val_loss: 0.6935 - val_accuracy: 0.5467\n",
      "Epoch 87/100\n",
      "11/11 [==============================] - 0s 3ms/step - loss: 0.6880 - accuracy: 0.4841 - val_loss: 0.6932 - val_accuracy: 0.5467\n",
      "Epoch 88/100\n",
      "11/11 [==============================] - 0s 3ms/step - loss: 0.6862 - accuracy: 0.4841 - val_loss: 0.6931 - val_accuracy: 0.5467\n",
      "Epoch 89/100\n",
      "11/11 [==============================] - 0s 3ms/step - loss: 0.6893 - accuracy: 0.4841 - val_loss: 0.6930 - val_accuracy: 0.5467\n",
      "Epoch 90/100\n",
      "11/11 [==============================] - 0s 3ms/step - loss: 0.6777 - accuracy: 0.4841 - val_loss: 0.6931 - val_accuracy: 0.5467\n",
      "Epoch 91/100\n",
      "11/11 [==============================] - 0s 3ms/step - loss: 0.6896 - accuracy: 0.4841 - val_loss: 0.6928 - val_accuracy: 0.5467\n",
      "Epoch 92/100\n",
      "11/11 [==============================] - 0s 3ms/step - loss: 0.6942 - accuracy: 0.4841 - val_loss: 0.6927 - val_accuracy: 0.5467\n",
      "Epoch 93/100\n",
      "11/11 [==============================] - 0s 3ms/step - loss: 0.6944 - accuracy: 0.4841 - val_loss: 0.6930 - val_accuracy: 0.5467\n",
      "Epoch 94/100\n",
      "11/11 [==============================] - 0s 3ms/step - loss: 0.6826 - accuracy: 0.4841 - val_loss: 0.6933 - val_accuracy: 0.5467\n",
      "Epoch 95/100\n",
      "11/11 [==============================] - 0s 3ms/step - loss: 0.6932 - accuracy: 0.4841 - val_loss: 0.6934 - val_accuracy: 0.5467\n",
      "Epoch 96/100\n",
      "11/11 [==============================] - 0s 3ms/step - loss: 0.6878 - accuracy: 0.4841 - val_loss: 0.6934 - val_accuracy: 0.5467\n",
      "Epoch 97/100\n",
      "11/11 [==============================] - 0s 3ms/step - loss: 0.6924 - accuracy: 0.4841 - val_loss: 0.6933 - val_accuracy: 0.5467\n",
      "Epoch 98/100\n",
      "11/11 [==============================] - 0s 3ms/step - loss: 0.6938 - accuracy: 0.4841 - val_loss: 0.6934 - val_accuracy: 0.5467\n",
      "Epoch 99/100\n",
      "11/11 [==============================] - 0s 3ms/step - loss: 0.6836 - accuracy: 0.4841 - val_loss: 0.6933 - val_accuracy: 0.5467\n",
      "Epoch 100/100\n",
      "11/11 [==============================] - 0s 3ms/step - loss: 0.6908 - accuracy: 0.4841 - val_loss: 0.6935 - val_accuracy: 0.5467\n"
     ]
    }
   ],
   "source": [
    "# Trainning the model\n",
    "h = dnnModel.fit(Xtrain,Ytrain,validation_data = (Xtest, Ytest), epochs = 100,verbose = 1)"
   ]
  },
  {
   "cell_type": "code",
   "execution_count": 54,
   "metadata": {},
   "outputs": [
    {
     "name": "stdout",
     "output_type": "stream",
     "text": [
      "Epoch 1/20\n",
      "11/11 [==============================] - 0s 6ms/step - loss: 0.6828 - accuracy: 0.4841 - val_loss: 0.6935 - val_accuracy: 0.5467\n",
      "Epoch 2/20\n",
      "11/11 [==============================] - 0s 3ms/step - loss: 0.6750 - accuracy: 0.4841 - val_loss: 0.6934 - val_accuracy: 0.5467\n",
      "Epoch 3/20\n",
      "11/11 [==============================] - 0s 3ms/step - loss: 0.6859 - accuracy: 0.4841 - val_loss: 0.6930 - val_accuracy: 0.5467\n",
      "Epoch 4/20\n",
      "11/11 [==============================] - 0s 3ms/step - loss: 0.6826 - accuracy: 0.4841 - val_loss: 0.6929 - val_accuracy: 0.5467\n",
      "Epoch 5/20\n",
      "11/11 [==============================] - 0s 3ms/step - loss: 0.6911 - accuracy: 0.4841 - val_loss: 0.6932 - val_accuracy: 0.5467\n",
      "Epoch 6/20\n",
      "11/11 [==============================] - 0s 3ms/step - loss: 0.6862 - accuracy: 0.4841 - val_loss: 0.6934 - val_accuracy: 0.5467\n",
      "Epoch 7/20\n",
      "11/11 [==============================] - 0s 4ms/step - loss: 0.6860 - accuracy: 0.4841 - val_loss: 0.6935 - val_accuracy: 0.5467\n",
      "Epoch 8/20\n",
      "11/11 [==============================] - 0s 4ms/step - loss: 0.6860 - accuracy: 0.4841 - val_loss: 0.6935 - val_accuracy: 0.5467\n",
      "Epoch 9/20\n",
      "11/11 [==============================] - 0s 4ms/step - loss: 0.6856 - accuracy: 0.4841 - val_loss: 0.6934 - val_accuracy: 0.5467\n",
      "Epoch 10/20\n",
      "11/11 [==============================] - 0s 4ms/step - loss: 0.6879 - accuracy: 0.4841 - val_loss: 0.6935 - val_accuracy: 0.5467\n",
      "Epoch 11/20\n",
      "11/11 [==============================] - 0s 3ms/step - loss: 0.6858 - accuracy: 0.4841 - val_loss: 0.6935 - val_accuracy: 0.5467\n",
      "Epoch 12/20\n",
      "11/11 [==============================] - 0s 3ms/step - loss: 0.6857 - accuracy: 0.4841 - val_loss: 0.6933 - val_accuracy: 0.5467\n",
      "Epoch 13/20\n",
      "11/11 [==============================] - 0s 4ms/step - loss: 0.6861 - accuracy: 0.4841 - val_loss: 0.6934 - val_accuracy: 0.5467\n",
      "Epoch 14/20\n",
      "11/11 [==============================] - 0s 3ms/step - loss: 0.6824 - accuracy: 0.4841 - val_loss: 0.6934 - val_accuracy: 0.5467\n",
      "Epoch 15/20\n",
      "11/11 [==============================] - 0s 3ms/step - loss: 0.6872 - accuracy: 0.4841 - val_loss: 0.6934 - val_accuracy: 0.5467\n",
      "Epoch 16/20\n",
      "11/11 [==============================] - 0s 4ms/step - loss: 0.6876 - accuracy: 0.4841 - val_loss: 0.6931 - val_accuracy: 0.5467\n",
      "Epoch 17/20\n",
      "11/11 [==============================] - 0s 3ms/step - loss: 0.6832 - accuracy: 0.4841 - val_loss: 0.6931 - val_accuracy: 0.5467\n",
      "Epoch 18/20\n",
      "11/11 [==============================] - 0s 3ms/step - loss: 0.6855 - accuracy: 0.4841 - val_loss: 0.6928 - val_accuracy: 0.5467\n",
      "Epoch 19/20\n",
      "11/11 [==============================] - 0s 2ms/step - loss: 0.6929 - accuracy: 0.4841 - val_loss: 0.6928 - val_accuracy: 0.5467\n",
      "Epoch 20/20\n",
      "11/11 [==============================] - 0s 3ms/step - loss: 0.6802 - accuracy: 0.4841 - val_loss: 0.6927 - val_accuracy: 0.5467\n"
     ]
    }
   ],
   "source": [
    "# Trainning the model\n",
    "h = dnnModel.fit(Xtrain,Ytrain,validation_data = (Xtest, Ytest), epochs = 20,verbose = 1)"
   ]
  },
  {
   "cell_type": "code",
   "execution_count": 55,
   "metadata": {},
   "outputs": [
    {
     "name": "stdout",
     "output_type": "stream",
     "text": [
      "Epoch 1/10\n",
      "11/11 [==============================] - 0s 6ms/step - loss: 0.6843 - accuracy: 0.4841 - val_loss: 0.6926 - val_accuracy: 0.5467\n",
      "Epoch 2/10\n",
      "11/11 [==============================] - 0s 3ms/step - loss: 0.6857 - accuracy: 0.4841 - val_loss: 0.6925 - val_accuracy: 0.5467\n",
      "Epoch 3/10\n",
      "11/11 [==============================] - 0s 3ms/step - loss: 0.6800 - accuracy: 0.4841 - val_loss: 0.6926 - val_accuracy: 0.5467\n",
      "Epoch 4/10\n",
      "11/11 [==============================] - 0s 3ms/step - loss: 0.6885 - accuracy: 0.4841 - val_loss: 0.6925 - val_accuracy: 0.5467\n",
      "Epoch 5/10\n",
      "11/11 [==============================] - 0s 4ms/step - loss: 0.6920 - accuracy: 0.4841 - val_loss: 0.6923 - val_accuracy: 0.5467\n",
      "Epoch 6/10\n",
      "11/11 [==============================] - 0s 3ms/step - loss: 0.6924 - accuracy: 0.4841 - val_loss: 0.6924 - val_accuracy: 0.5467\n",
      "Epoch 7/10\n",
      "11/11 [==============================] - 0s 4ms/step - loss: 0.6883 - accuracy: 0.4841 - val_loss: 0.6924 - val_accuracy: 0.5467\n",
      "Epoch 8/10\n",
      "11/11 [==============================] - 0s 3ms/step - loss: 0.6912 - accuracy: 0.4841 - val_loss: 0.6923 - val_accuracy: 0.5467\n",
      "Epoch 9/10\n",
      "11/11 [==============================] - 0s 3ms/step - loss: 0.6916 - accuracy: 0.4841 - val_loss: 0.6924 - val_accuracy: 0.5467\n",
      "Epoch 10/10\n",
      "11/11 [==============================] - 0s 3ms/step - loss: 0.6808 - accuracy: 0.4841 - val_loss: 0.6927 - val_accuracy: 0.5467\n"
     ]
    }
   ],
   "source": [
    "# Trainning the model\n",
    "h = dnnModel.fit(Xtrain,Ytrain,validation_data = (Xtest, Ytest), epochs = 10,verbose = 1)"
   ]
  },
  {
   "cell_type": "code",
   "execution_count": 56,
   "metadata": {},
   "outputs": [
    {
     "name": "stdout",
     "output_type": "stream",
     "text": [
      "Model: \"sequential_11\"\n",
      "_________________________________________________________________\n",
      " Layer (type)                Output Shape              Param #   \n",
      "=================================================================\n",
      " dense_44 (Dense)            (None, 8)                 24        \n",
      "                                                                 \n",
      " dense_45 (Dense)            (None, 16)                144       \n",
      "                                                                 \n",
      " dropout_10 (Dropout)        (None, 16)                0         \n",
      "                                                                 \n",
      " dense_46 (Dense)            (None, 12)                204       \n",
      "                                                                 \n",
      " dropout_11 (Dropout)        (None, 12)                0         \n",
      "                                                                 \n",
      " dense_47 (Dense)            (None, 1)                 13        \n",
      "                                                                 \n",
      "=================================================================\n",
      "Total params: 385\n",
      "Trainable params: 385\n",
      "Non-trainable params: 0\n",
      "_________________________________________________________________\n"
     ]
    }
   ],
   "source": [
    "# Train two single/double hidden layer deep networks by varying the number of hidden nodes (4, 8, 12, 16) \n",
    "\n",
    "# Model 12\n",
    "\n",
    "\n",
    "dnnModel = Sequential()\n",
    "# layer 1 = input layer\n",
    "dnnModel.add(Dense(8, activation = 'relu', input_shape = (Xtrain_shape,)))\n",
    "# layer 2 = hidden layer\n",
    "dnnModel.add(Dense(16, activation = 'relu'))\n",
    "# Add dropout of 50% to layer 2\n",
    "dnnModel.add(Dropout(0.5))\n",
    "# layer 3 = hidden layer\n",
    "dnnModel.add(Dense(12, activation = 'relu'))\n",
    "# Add dropout of 50% to layer 3\n",
    "dnnModel.add(Dropout(0.5))\n",
    "# layer 4 = output layer\n",
    "dnnModel.add(Dense(1, activation = 'softmax'))\n",
    "dnnModel.compile(optimizer = 'adam', loss = 'binary_crossentropy', metrics = ['accuracy'])\n",
    "\n",
    "dnnModel.summary()"
   ]
  },
  {
   "cell_type": "code",
   "execution_count": 57,
   "metadata": {},
   "outputs": [
    {
     "name": "stdout",
     "output_type": "stream",
     "text": [
      "Epoch 1/10\n",
      "11/11 [==============================] - 0s 10ms/step - loss: 0.8187 - accuracy: 0.4841 - val_loss: 0.7419 - val_accuracy: 0.5467\n",
      "Epoch 2/10\n",
      "11/11 [==============================] - 0s 3ms/step - loss: 0.7912 - accuracy: 0.4841 - val_loss: 0.7300 - val_accuracy: 0.5467\n",
      "Epoch 3/10\n",
      "11/11 [==============================] - 0s 3ms/step - loss: 0.8147 - accuracy: 0.4841 - val_loss: 0.7260 - val_accuracy: 0.5467\n",
      "Epoch 4/10\n",
      "11/11 [==============================] - 0s 4ms/step - loss: 0.7755 - accuracy: 0.4841 - val_loss: 0.7236 - val_accuracy: 0.5467\n",
      "Epoch 5/10\n",
      "11/11 [==============================] - 0s 3ms/step - loss: 0.7650 - accuracy: 0.4841 - val_loss: 0.7203 - val_accuracy: 0.5467\n",
      "Epoch 6/10\n",
      "11/11 [==============================] - 0s 3ms/step - loss: 0.7356 - accuracy: 0.4841 - val_loss: 0.7171 - val_accuracy: 0.5467\n",
      "Epoch 7/10\n",
      "11/11 [==============================] - 0s 3ms/step - loss: 0.7489 - accuracy: 0.4841 - val_loss: 0.7143 - val_accuracy: 0.5467\n",
      "Epoch 8/10\n",
      "11/11 [==============================] - 0s 3ms/step - loss: 0.7385 - accuracy: 0.4841 - val_loss: 0.7125 - val_accuracy: 0.5467\n",
      "Epoch 9/10\n",
      "11/11 [==============================] - 0s 3ms/step - loss: 0.7742 - accuracy: 0.4841 - val_loss: 0.7109 - val_accuracy: 0.5467\n",
      "Epoch 10/10\n",
      "11/11 [==============================] - 0s 3ms/step - loss: 0.7439 - accuracy: 0.4841 - val_loss: 0.7086 - val_accuracy: 0.5467\n"
     ]
    }
   ],
   "source": [
    "# Trainning the model\n",
    "h = dnnModel.fit(Xtrain,Ytrain,validation_data = (Xtest, Ytest), epochs = 10,verbose = 1)"
   ]
  },
  {
   "cell_type": "code",
   "execution_count": 58,
   "metadata": {},
   "outputs": [
    {
     "name": "stdout",
     "output_type": "stream",
     "text": [
      "Model: \"sequential_12\"\n",
      "_________________________________________________________________\n",
      " Layer (type)                Output Shape              Param #   \n",
      "=================================================================\n",
      " dense_48 (Dense)            (None, 4)                 12        \n",
      "                                                                 \n",
      " dense_49 (Dense)            (None, 12)                60        \n",
      "                                                                 \n",
      " dropout_12 (Dropout)        (None, 12)                0         \n",
      "                                                                 \n",
      " dense_50 (Dense)            (None, 8)                 104       \n",
      "                                                                 \n",
      " dropout_13 (Dropout)        (None, 8)                 0         \n",
      "                                                                 \n",
      " dense_51 (Dense)            (None, 1)                 9         \n",
      "                                                                 \n",
      "=================================================================\n",
      "Total params: 185\n",
      "Trainable params: 185\n",
      "Non-trainable params: 0\n",
      "_________________________________________________________________\n"
     ]
    }
   ],
   "source": [
    "# Train two single/double hidden layer deep networks by varying the number of hidden nodes (4, 8, 12, 16) \n",
    "\n",
    "# Model 13\n",
    "\n",
    "\n",
    "dnnModel = Sequential()\n",
    "# layer 1 = input layer\n",
    "dnnModel.add(Dense(4, activation = 'relu', input_shape = (Xtrain_shape,)))\n",
    "# layer 2 = hidden layer\n",
    "dnnModel.add(Dense(12, activation = 'relu'))\n",
    "# Add dropout of 50% to layer 2\n",
    "dnnModel.add(Dropout(0.5))\n",
    "# layer 3 = hidden layer\n",
    "dnnModel.add(Dense(8, activation = 'relu'))\n",
    "# Add dropout of 50% to layer 3\n",
    "dnnModel.add(Dropout(0.5))\n",
    "# layer 4 = output layer\n",
    "dnnModel.add(Dense(1, activation = 'softmax'))\n",
    "dnnModel.compile(optimizer = 'adam', loss = 'binary_crossentropy', metrics = ['accuracy'])\n",
    "\n",
    "dnnModel.summary()"
   ]
  },
  {
   "cell_type": "code",
   "execution_count": 59,
   "metadata": {},
   "outputs": [
    {
     "name": "stdout",
     "output_type": "stream",
     "text": [
      "Epoch 1/25\n",
      "11/11 [==============================] - 1s 23ms/step - loss: 1.0916 - accuracy: 0.4841 - val_loss: 0.8781 - val_accuracy: 0.5467\n",
      "Epoch 2/25\n",
      "11/11 [==============================] - 0s 5ms/step - loss: 0.9880 - accuracy: 0.4841 - val_loss: 0.8287 - val_accuracy: 0.5467\n",
      "Epoch 3/25\n",
      "11/11 [==============================] - 0s 5ms/step - loss: 0.9846 - accuracy: 0.4841 - val_loss: 0.7900 - val_accuracy: 0.5467\n",
      "Epoch 4/25\n",
      "11/11 [==============================] - 0s 5ms/step - loss: 0.8753 - accuracy: 0.4841 - val_loss: 0.7638 - val_accuracy: 0.5467\n",
      "Epoch 5/25\n",
      "11/11 [==============================] - 0s 5ms/step - loss: 0.9857 - accuracy: 0.4841 - val_loss: 0.7422 - val_accuracy: 0.5467\n",
      "Epoch 6/25\n",
      "11/11 [==============================] - 0s 4ms/step - loss: 0.9597 - accuracy: 0.4841 - val_loss: 0.7268 - val_accuracy: 0.5467\n",
      "Epoch 7/25\n",
      "11/11 [==============================] - 0s 5ms/step - loss: 0.9256 - accuracy: 0.4841 - val_loss: 0.7135 - val_accuracy: 0.5467\n",
      "Epoch 8/25\n",
      "11/11 [==============================] - 0s 5ms/step - loss: 0.7678 - accuracy: 0.4841 - val_loss: 0.7036 - val_accuracy: 0.5467\n",
      "Epoch 9/25\n",
      "11/11 [==============================] - 0s 5ms/step - loss: 0.8005 - accuracy: 0.4841 - val_loss: 0.6996 - val_accuracy: 0.5467\n",
      "Epoch 10/25\n",
      "11/11 [==============================] - 0s 5ms/step - loss: 0.7992 - accuracy: 0.4841 - val_loss: 0.6972 - val_accuracy: 0.5467\n",
      "Epoch 11/25\n",
      "11/11 [==============================] - 0s 5ms/step - loss: 0.8029 - accuracy: 0.4841 - val_loss: 0.6952 - val_accuracy: 0.5467\n",
      "Epoch 12/25\n",
      "11/11 [==============================] - 0s 5ms/step - loss: 0.8330 - accuracy: 0.4841 - val_loss: 0.6937 - val_accuracy: 0.5467\n",
      "Epoch 13/25\n",
      "11/11 [==============================] - 0s 5ms/step - loss: 0.7652 - accuracy: 0.4841 - val_loss: 0.6923 - val_accuracy: 0.5467\n",
      "Epoch 14/25\n",
      "11/11 [==============================] - 0s 4ms/step - loss: 0.7777 - accuracy: 0.4841 - val_loss: 0.6916 - val_accuracy: 0.5467\n",
      "Epoch 15/25\n",
      "11/11 [==============================] - 0s 4ms/step - loss: 0.7802 - accuracy: 0.4841 - val_loss: 0.6916 - val_accuracy: 0.5467\n",
      "Epoch 16/25\n",
      "11/11 [==============================] - 0s 4ms/step - loss: 0.7645 - accuracy: 0.4841 - val_loss: 0.6916 - val_accuracy: 0.5467\n",
      "Epoch 17/25\n",
      "11/11 [==============================] - 0s 5ms/step - loss: 0.7657 - accuracy: 0.4841 - val_loss: 0.6917 - val_accuracy: 0.5467\n",
      "Epoch 18/25\n",
      "11/11 [==============================] - 0s 5ms/step - loss: 0.7356 - accuracy: 0.4841 - val_loss: 0.6919 - val_accuracy: 0.5467\n",
      "Epoch 19/25\n",
      "11/11 [==============================] - 0s 5ms/step - loss: 0.7479 - accuracy: 0.4841 - val_loss: 0.6920 - val_accuracy: 0.5467\n",
      "Epoch 20/25\n",
      "11/11 [==============================] - 0s 5ms/step - loss: 0.7257 - accuracy: 0.4841 - val_loss: 0.6921 - val_accuracy: 0.5467\n",
      "Epoch 21/25\n",
      "11/11 [==============================] - 0s 5ms/step - loss: 0.7239 - accuracy: 0.4841 - val_loss: 0.6923 - val_accuracy: 0.5467\n",
      "Epoch 22/25\n",
      "11/11 [==============================] - 0s 5ms/step - loss: 0.7159 - accuracy: 0.4841 - val_loss: 0.6922 - val_accuracy: 0.5467\n",
      "Epoch 23/25\n",
      "11/11 [==============================] - 0s 4ms/step - loss: 0.7533 - accuracy: 0.4841 - val_loss: 0.6925 - val_accuracy: 0.5467\n",
      "Epoch 24/25\n",
      "11/11 [==============================] - 0s 4ms/step - loss: 0.7334 - accuracy: 0.4841 - val_loss: 0.6925 - val_accuracy: 0.5467\n",
      "Epoch 25/25\n",
      "11/11 [==============================] - 0s 5ms/step - loss: 0.6938 - accuracy: 0.4841 - val_loss: 0.6924 - val_accuracy: 0.5467\n"
     ]
    }
   ],
   "source": [
    "# Trainning the model\n",
    "h = dnnModel.fit(Xtrain,Ytrain,validation_data = (Xtest, Ytest), epochs = 25,verbose = 1)"
   ]
  },
  {
   "cell_type": "code",
   "execution_count": 60,
   "metadata": {},
   "outputs": [
    {
     "name": "stdout",
     "output_type": "stream",
     "text": [
      "Model: \"sequential_13\"\n",
      "_________________________________________________________________\n",
      " Layer (type)                Output Shape              Param #   \n",
      "=================================================================\n",
      " dense_52 (Dense)            (None, 8)                 24        \n",
      "                                                                 \n",
      " dense_53 (Dense)            (None, 4)                 36        \n",
      "                                                                 \n",
      " dense_54 (Dense)            (None, 12)                60        \n",
      "                                                                 \n",
      " dense_55 (Dense)            (None, 1)                 13        \n",
      "                                                                 \n",
      "=================================================================\n",
      "Total params: 133\n",
      "Trainable params: 133\n",
      "Non-trainable params: 0\n",
      "_________________________________________________________________\n"
     ]
    }
   ],
   "source": [
    "# Train two single/double hidden layer deep networks by varying the number of hidden nodes (4, 8, 12, 16) \n",
    "\n",
    "# Model 14\n",
    "\n",
    "\n",
    "dnnModel = Sequential()\n",
    "# layer 1 = input layer\n",
    "dnnModel.add(Dense(8, activation = 'relu', input_shape = (Xtrain_shape,)))\n",
    "# layer 2 = hidden layer\n",
    "dnnModel.add(Dense(4, activation = 'relu'))\n",
    "# layer 3 = hidden layer\n",
    "dnnModel.add(Dense(12, activation = 'relu'))\n",
    "# layer 4 = output layer\n",
    "dnnModel.add(Dense(1, activation = 'softmax'))\n",
    "dnnModel.compile(optimizer = 'adam', loss = 'binary_crossentropy', metrics = ['accuracy'])\n",
    "\n",
    "dnnModel.summary()"
   ]
  },
  {
   "cell_type": "code",
   "execution_count": 61,
   "metadata": {},
   "outputs": [
    {
     "name": "stdout",
     "output_type": "stream",
     "text": [
      "Epoch 1/25\n",
      "11/11 [==============================] - 1s 21ms/step - loss: 1.0138 - accuracy: 0.4841 - val_loss: 1.1745 - val_accuracy: 0.5467\n",
      "Epoch 2/25\n",
      "11/11 [==============================] - 0s 5ms/step - loss: 0.9547 - accuracy: 0.4841 - val_loss: 1.0976 - val_accuracy: 0.5467\n",
      "Epoch 3/25\n",
      "11/11 [==============================] - 0s 4ms/step - loss: 0.9094 - accuracy: 0.4841 - val_loss: 1.0275 - val_accuracy: 0.5467\n",
      "Epoch 4/25\n",
      "11/11 [==============================] - 0s 4ms/step - loss: 0.8627 - accuracy: 0.4841 - val_loss: 0.9701 - val_accuracy: 0.5467\n",
      "Epoch 5/25\n",
      "11/11 [==============================] - 0s 4ms/step - loss: 0.8261 - accuracy: 0.4841 - val_loss: 0.9166 - val_accuracy: 0.5467\n",
      "Epoch 6/25\n",
      "11/11 [==============================] - 0s 6ms/step - loss: 0.7962 - accuracy: 0.4841 - val_loss: 0.8705 - val_accuracy: 0.5467\n",
      "Epoch 7/25\n",
      "11/11 [==============================] - 0s 4ms/step - loss: 0.7687 - accuracy: 0.4841 - val_loss: 0.8388 - val_accuracy: 0.5467\n",
      "Epoch 8/25\n",
      "11/11 [==============================] - 0s 5ms/step - loss: 0.7504 - accuracy: 0.4841 - val_loss: 0.8129 - val_accuracy: 0.5467\n",
      "Epoch 9/25\n",
      "11/11 [==============================] - 0s 4ms/step - loss: 0.7354 - accuracy: 0.4841 - val_loss: 0.7932 - val_accuracy: 0.5467\n",
      "Epoch 10/25\n",
      "11/11 [==============================] - 0s 5ms/step - loss: 0.7249 - accuracy: 0.4841 - val_loss: 0.7777 - val_accuracy: 0.5467\n",
      "Epoch 11/25\n",
      "11/11 [==============================] - 0s 5ms/step - loss: 0.7182 - accuracy: 0.4841 - val_loss: 0.7644 - val_accuracy: 0.5467\n",
      "Epoch 12/25\n",
      "11/11 [==============================] - 0s 4ms/step - loss: 0.7118 - accuracy: 0.4841 - val_loss: 0.7551 - val_accuracy: 0.5467\n",
      "Epoch 13/25\n",
      "11/11 [==============================] - 0s 4ms/step - loss: 0.7057 - accuracy: 0.4841 - val_loss: 0.7493 - val_accuracy: 0.5467\n",
      "Epoch 14/25\n",
      "11/11 [==============================] - 0s 4ms/step - loss: 0.7037 - accuracy: 0.4841 - val_loss: 0.7421 - val_accuracy: 0.5467\n",
      "Epoch 15/25\n",
      "11/11 [==============================] - 0s 5ms/step - loss: 0.7001 - accuracy: 0.4841 - val_loss: 0.7380 - val_accuracy: 0.5467\n",
      "Epoch 16/25\n",
      "11/11 [==============================] - 0s 4ms/step - loss: 0.6973 - accuracy: 0.4841 - val_loss: 0.7344 - val_accuracy: 0.5467\n",
      "Epoch 17/25\n",
      "11/11 [==============================] - 0s 4ms/step - loss: 0.6954 - accuracy: 0.4841 - val_loss: 0.7305 - val_accuracy: 0.5467\n",
      "Epoch 18/25\n",
      "11/11 [==============================] - 0s 5ms/step - loss: 0.6936 - accuracy: 0.4841 - val_loss: 0.7284 - val_accuracy: 0.5467\n",
      "Epoch 19/25\n",
      "11/11 [==============================] - 0s 5ms/step - loss: 0.6920 - accuracy: 0.4841 - val_loss: 0.7268 - val_accuracy: 0.5467\n",
      "Epoch 20/25\n",
      "11/11 [==============================] - 0s 5ms/step - loss: 0.6911 - accuracy: 0.4841 - val_loss: 0.7245 - val_accuracy: 0.5467\n",
      "Epoch 21/25\n",
      "11/11 [==============================] - 0s 4ms/step - loss: 0.6900 - accuracy: 0.4841 - val_loss: 0.7231 - val_accuracy: 0.5467\n",
      "Epoch 22/25\n",
      "11/11 [==============================] - 0s 4ms/step - loss: 0.6887 - accuracy: 0.4841 - val_loss: 0.7225 - val_accuracy: 0.5467\n",
      "Epoch 23/25\n",
      "11/11 [==============================] - 0s 5ms/step - loss: 0.6881 - accuracy: 0.4841 - val_loss: 0.7216 - val_accuracy: 0.5467\n",
      "Epoch 24/25\n",
      "11/11 [==============================] - 0s 4ms/step - loss: 0.6872 - accuracy: 0.4841 - val_loss: 0.7209 - val_accuracy: 0.5467\n",
      "Epoch 25/25\n",
      "11/11 [==============================] - 0s 4ms/step - loss: 0.6866 - accuracy: 0.4841 - val_loss: 0.7209 - val_accuracy: 0.5467\n"
     ]
    }
   ],
   "source": [
    "# Trainning the model\n",
    "h = dnnModel.fit(Xtrain,Ytrain,validation_data = (Xtest, Ytest), epochs = 25,verbose = 1)"
   ]
  },
  {
   "cell_type": "code",
   "execution_count": 62,
   "metadata": {},
   "outputs": [
    {
     "name": "stdout",
     "output_type": "stream",
     "text": [
      "Model: \"sequential_14\"\n",
      "_________________________________________________________________\n",
      " Layer (type)                Output Shape              Param #   \n",
      "=================================================================\n",
      " dense_56 (Dense)            (None, 8)                 24        \n",
      "                                                                 \n",
      " dense_57 (Dense)            (None, 12)                108       \n",
      "                                                                 \n",
      " dense_58 (Dense)            (None, 4)                 52        \n",
      "                                                                 \n",
      " dense_59 (Dense)            (None, 1)                 5         \n",
      "                                                                 \n",
      "=================================================================\n",
      "Total params: 189\n",
      "Trainable params: 189\n",
      "Non-trainable params: 0\n",
      "_________________________________________________________________\n"
     ]
    }
   ],
   "source": [
    "# Train two single/double hidden layer deep networks by varying the number of hidden nodes (4, 8, 12, 16) \n",
    "\n",
    "# Model 15\n",
    "\n",
    "\n",
    "dnnModel = Sequential()\n",
    "# layer 1 = input layer\n",
    "dnnModel.add(Dense(8, activation = 'relu', input_shape = (Xtrain_shape,)))\n",
    "# layer 2 = hidden layer\n",
    "dnnModel.add(Dense(12, activation = 'relu'))\n",
    "# layer 3 = hidden layer\n",
    "dnnModel.add(Dense(4, activation = 'relu'))\n",
    "# layer 4 = output layer\n",
    "dnnModel.add(Dense(1, activation = 'softmax'))\n",
    "dnnModel.compile(optimizer = 'adam', loss = 'binary_crossentropy', metrics = ['accuracy'])\n",
    "\n",
    "dnnModel.summary()"
   ]
  },
  {
   "cell_type": "code",
   "execution_count": 63,
   "metadata": {},
   "outputs": [
    {
     "name": "stdout",
     "output_type": "stream",
     "text": [
      "Epoch 1/25\n",
      "11/11 [==============================] - 1s 21ms/step - loss: 1.0321 - accuracy: 0.4841 - val_loss: 1.0692 - val_accuracy: 0.5467\n",
      "Epoch 2/25\n",
      "11/11 [==============================] - 0s 5ms/step - loss: 0.9290 - accuracy: 0.4841 - val_loss: 0.9610 - val_accuracy: 0.5467\n",
      "Epoch 3/25\n",
      "11/11 [==============================] - 0s 5ms/step - loss: 0.8507 - accuracy: 0.4841 - val_loss: 0.8738 - val_accuracy: 0.5467\n",
      "Epoch 4/25\n",
      "11/11 [==============================] - 0s 6ms/step - loss: 0.7931 - accuracy: 0.4841 - val_loss: 0.8103 - val_accuracy: 0.5467\n",
      "Epoch 5/25\n",
      "11/11 [==============================] - 0s 5ms/step - loss: 0.7506 - accuracy: 0.4841 - val_loss: 0.7707 - val_accuracy: 0.5467\n",
      "Epoch 6/25\n",
      "11/11 [==============================] - 0s 5ms/step - loss: 0.7272 - accuracy: 0.4841 - val_loss: 0.7433 - val_accuracy: 0.5467\n",
      "Epoch 7/25\n",
      "11/11 [==============================] - 0s 5ms/step - loss: 0.7136 - accuracy: 0.4841 - val_loss: 0.7227 - val_accuracy: 0.5467\n",
      "Epoch 8/25\n",
      "11/11 [==============================] - 0s 4ms/step - loss: 0.7042 - accuracy: 0.4841 - val_loss: 0.7118 - val_accuracy: 0.5467\n",
      "Epoch 9/25\n",
      "11/11 [==============================] - 0s 4ms/step - loss: 0.6988 - accuracy: 0.4841 - val_loss: 0.7065 - val_accuracy: 0.5467\n",
      "Epoch 10/25\n",
      "11/11 [==============================] - 0s 4ms/step - loss: 0.6968 - accuracy: 0.4841 - val_loss: 0.7042 - val_accuracy: 0.5467\n",
      "Epoch 11/25\n",
      "11/11 [==============================] - 0s 4ms/step - loss: 0.6935 - accuracy: 0.4841 - val_loss: 0.7034 - val_accuracy: 0.5467\n",
      "Epoch 12/25\n",
      "11/11 [==============================] - 0s 5ms/step - loss: 0.6928 - accuracy: 0.4841 - val_loss: 0.7026 - val_accuracy: 0.5467\n",
      "Epoch 13/25\n",
      "11/11 [==============================] - 0s 5ms/step - loss: 0.6901 - accuracy: 0.4841 - val_loss: 0.7018 - val_accuracy: 0.5467\n",
      "Epoch 14/25\n",
      "11/11 [==============================] - 0s 5ms/step - loss: 0.6889 - accuracy: 0.4841 - val_loss: 0.7011 - val_accuracy: 0.5467\n",
      "Epoch 15/25\n",
      "11/11 [==============================] - 0s 4ms/step - loss: 0.6879 - accuracy: 0.4841 - val_loss: 0.7011 - val_accuracy: 0.5467\n",
      "Epoch 16/25\n",
      "11/11 [==============================] - 0s 4ms/step - loss: 0.6880 - accuracy: 0.4841 - val_loss: 0.7015 - val_accuracy: 0.5467\n",
      "Epoch 17/25\n",
      "11/11 [==============================] - 0s 5ms/step - loss: 0.6861 - accuracy: 0.4841 - val_loss: 0.7004 - val_accuracy: 0.5467\n",
      "Epoch 18/25\n",
      "11/11 [==============================] - 0s 5ms/step - loss: 0.6858 - accuracy: 0.4841 - val_loss: 0.6992 - val_accuracy: 0.5467\n",
      "Epoch 19/25\n",
      "11/11 [==============================] - 0s 5ms/step - loss: 0.6847 - accuracy: 0.4841 - val_loss: 0.6997 - val_accuracy: 0.5467\n",
      "Epoch 20/25\n",
      "11/11 [==============================] - 0s 5ms/step - loss: 0.6840 - accuracy: 0.4841 - val_loss: 0.7003 - val_accuracy: 0.5467\n",
      "Epoch 21/25\n",
      "11/11 [==============================] - 0s 5ms/step - loss: 0.6832 - accuracy: 0.4841 - val_loss: 0.7010 - val_accuracy: 0.5467\n",
      "Epoch 22/25\n",
      "11/11 [==============================] - 0s 5ms/step - loss: 0.6824 - accuracy: 0.4841 - val_loss: 0.6999 - val_accuracy: 0.5467\n",
      "Epoch 23/25\n",
      "11/11 [==============================] - 0s 4ms/step - loss: 0.6825 - accuracy: 0.4841 - val_loss: 0.6991 - val_accuracy: 0.5467\n",
      "Epoch 24/25\n",
      "11/11 [==============================] - 0s 5ms/step - loss: 0.6816 - accuracy: 0.4841 - val_loss: 0.7006 - val_accuracy: 0.5467\n",
      "Epoch 25/25\n",
      "11/11 [==============================] - 0s 4ms/step - loss: 0.6816 - accuracy: 0.4841 - val_loss: 0.7020 - val_accuracy: 0.5467\n"
     ]
    }
   ],
   "source": [
    "# Trainning the model\n",
    "h = dnnModel.fit(Xtrain,Ytrain,validation_data = (Xtest, Ytest), epochs = 25,verbose = 1)"
   ]
  },
  {
   "cell_type": "code",
   "execution_count": 64,
   "metadata": {},
   "outputs": [
    {
     "name": "stdout",
     "output_type": "stream",
     "text": [
      "Model: \"sequential_15\"\n",
      "_________________________________________________________________\n",
      " Layer (type)                Output Shape              Param #   \n",
      "=================================================================\n",
      " dense_60 (Dense)            (None, 12)                36        \n",
      "                                                                 \n",
      " dense_61 (Dense)            (None, 4)                 52        \n",
      "                                                                 \n",
      " dense_62 (Dense)            (None, 8)                 40        \n",
      "                                                                 \n",
      " dense_63 (Dense)            (None, 1)                 9         \n",
      "                                                                 \n",
      "=================================================================\n",
      "Total params: 137\n",
      "Trainable params: 137\n",
      "Non-trainable params: 0\n",
      "_________________________________________________________________\n"
     ]
    }
   ],
   "source": [
    "# Train two single/double hidden layer deep networks by varying the number of hidden nodes (4, 8, 12, 16) \n",
    "\n",
    "# Model 16\n",
    "\n",
    "\n",
    "dnnModel = Sequential()\n",
    "# layer 1 = input layer\n",
    "dnnModel.add(Dense(12, activation = 'relu', input_shape = (Xtrain_shape,)))\n",
    "# layer 2 = hidden layer\n",
    "dnnModel.add(Dense(4, activation = 'relu'))\n",
    "# layer 3 = hidden layer\n",
    "dnnModel.add(Dense(8, activation = 'relu'))\n",
    "# layer 4 = output layer\n",
    "dnnModel.add(Dense(1, activation = 'softmax'))\n",
    "dnnModel.compile(optimizer = 'adam', loss = 'binary_crossentropy', metrics = ['accuracy'])\n",
    "\n",
    "dnnModel.summary()"
   ]
  },
  {
   "cell_type": "code",
   "execution_count": 65,
   "metadata": {},
   "outputs": [
    {
     "name": "stdout",
     "output_type": "stream",
     "text": [
      "Epoch 1/25\n",
      "11/11 [==============================] - 1s 21ms/step - loss: 1.2835 - accuracy: 0.4841 - val_loss: 1.0314 - val_accuracy: 0.5467\n",
      "Epoch 2/25\n",
      "11/11 [==============================] - 0s 6ms/step - loss: 1.1544 - accuracy: 0.4841 - val_loss: 0.9482 - val_accuracy: 0.5467\n",
      "Epoch 3/25\n",
      "11/11 [==============================] - 0s 5ms/step - loss: 1.0570 - accuracy: 0.4841 - val_loss: 0.8825 - val_accuracy: 0.5467\n",
      "Epoch 4/25\n",
      "11/11 [==============================] - 0s 4ms/step - loss: 0.9731 - accuracy: 0.4841 - val_loss: 0.8354 - val_accuracy: 0.5467\n",
      "Epoch 5/25\n",
      "11/11 [==============================] - 0s 4ms/step - loss: 0.9166 - accuracy: 0.4841 - val_loss: 0.7977 - val_accuracy: 0.5467\n",
      "Epoch 6/25\n",
      "11/11 [==============================] - 0s 5ms/step - loss: 0.8674 - accuracy: 0.4841 - val_loss: 0.7709 - val_accuracy: 0.5467\n",
      "Epoch 7/25\n",
      "11/11 [==============================] - 0s 4ms/step - loss: 0.8318 - accuracy: 0.4841 - val_loss: 0.7502 - val_accuracy: 0.5467\n",
      "Epoch 8/25\n",
      "11/11 [==============================] - 0s 5ms/step - loss: 0.8038 - accuracy: 0.4841 - val_loss: 0.7345 - val_accuracy: 0.5467\n",
      "Epoch 9/25\n",
      "11/11 [==============================] - 0s 4ms/step - loss: 0.7812 - accuracy: 0.4841 - val_loss: 0.7230 - val_accuracy: 0.5467\n",
      "Epoch 10/25\n",
      "11/11 [==============================] - 0s 5ms/step - loss: 0.7630 - accuracy: 0.4841 - val_loss: 0.7151 - val_accuracy: 0.5467\n",
      "Epoch 11/25\n",
      "11/11 [==============================] - 0s 5ms/step - loss: 0.7493 - accuracy: 0.4841 - val_loss: 0.7094 - val_accuracy: 0.5467\n",
      "Epoch 12/25\n",
      "11/11 [==============================] - 0s 5ms/step - loss: 0.7384 - accuracy: 0.4841 - val_loss: 0.7057 - val_accuracy: 0.5467\n",
      "Epoch 13/25\n",
      "11/11 [==============================] - 0s 4ms/step - loss: 0.7291 - accuracy: 0.4841 - val_loss: 0.7031 - val_accuracy: 0.5467\n",
      "Epoch 14/25\n",
      "11/11 [==============================] - 0s 4ms/step - loss: 0.7221 - accuracy: 0.4841 - val_loss: 0.7017 - val_accuracy: 0.5467\n",
      "Epoch 15/25\n",
      "11/11 [==============================] - 0s 5ms/step - loss: 0.7166 - accuracy: 0.4841 - val_loss: 0.7007 - val_accuracy: 0.5467\n",
      "Epoch 16/25\n",
      "11/11 [==============================] - 0s 4ms/step - loss: 0.7112 - accuracy: 0.4841 - val_loss: 0.6995 - val_accuracy: 0.5467\n",
      "Epoch 17/25\n",
      "11/11 [==============================] - 0s 4ms/step - loss: 0.7075 - accuracy: 0.4841 - val_loss: 0.6980 - val_accuracy: 0.5467\n",
      "Epoch 18/25\n",
      "11/11 [==============================] - 0s 5ms/step - loss: 0.7038 - accuracy: 0.4841 - val_loss: 0.6972 - val_accuracy: 0.5467\n",
      "Epoch 19/25\n",
      "11/11 [==============================] - 0s 4ms/step - loss: 0.7014 - accuracy: 0.4841 - val_loss: 0.6971 - val_accuracy: 0.5467\n",
      "Epoch 20/25\n",
      "11/11 [==============================] - 0s 4ms/step - loss: 0.6990 - accuracy: 0.4841 - val_loss: 0.6967 - val_accuracy: 0.5467\n",
      "Epoch 21/25\n",
      "11/11 [==============================] - 0s 4ms/step - loss: 0.6972 - accuracy: 0.4841 - val_loss: 0.6968 - val_accuracy: 0.5467\n",
      "Epoch 22/25\n",
      "11/11 [==============================] - 0s 5ms/step - loss: 0.6956 - accuracy: 0.4841 - val_loss: 0.6970 - val_accuracy: 0.5467\n",
      "Epoch 23/25\n",
      "11/11 [==============================] - 0s 5ms/step - loss: 0.6942 - accuracy: 0.4841 - val_loss: 0.6964 - val_accuracy: 0.5467\n",
      "Epoch 24/25\n",
      "11/11 [==============================] - 0s 5ms/step - loss: 0.6931 - accuracy: 0.4841 - val_loss: 0.6958 - val_accuracy: 0.5467\n",
      "Epoch 25/25\n",
      "11/11 [==============================] - 0s 5ms/step - loss: 0.6920 - accuracy: 0.4841 - val_loss: 0.6961 - val_accuracy: 0.5467\n"
     ]
    }
   ],
   "source": [
    "# Trainning the model\n",
    "h = dnnModel.fit(Xtrain,Ytrain,validation_data = (Xtest, Ytest), epochs = 25,verbose = 1)"
   ]
  },
  {
   "cell_type": "code",
   "execution_count": 66,
   "metadata": {},
   "outputs": [
    {
     "name": "stdout",
     "output_type": "stream",
     "text": [
      "Model: \"sequential_16\"\n",
      "_________________________________________________________________\n",
      " Layer (type)                Output Shape              Param #   \n",
      "=================================================================\n",
      " dense_64 (Dense)            (None, 12)                36        \n",
      "                                                                 \n",
      " dense_65 (Dense)            (None, 8)                 104       \n",
      "                                                                 \n",
      " dense_66 (Dense)            (None, 4)                 36        \n",
      "                                                                 \n",
      " dense_67 (Dense)            (None, 1)                 5         \n",
      "                                                                 \n",
      "=================================================================\n",
      "Total params: 181\n",
      "Trainable params: 181\n",
      "Non-trainable params: 0\n",
      "_________________________________________________________________\n"
     ]
    }
   ],
   "source": [
    "# Train two single/double hidden layer deep networks by varying the number of hidden nodes (4, 8, 12, 16) \n",
    "\n",
    "# Model 17\n",
    "\n",
    "\n",
    "dnnModel = Sequential()\n",
    "# layer 1 = input layer\n",
    "dnnModel.add(Dense(12, activation = 'relu', input_shape = (Xtrain_shape,)))\n",
    "# layer 2 = hidden layer\n",
    "dnnModel.add(Dense(8, activation = 'relu'))\n",
    "# layer 3 = hidden layer\n",
    "dnnModel.add(Dense(4, activation = 'relu'))\n",
    "# layer 4 = output layer\n",
    "dnnModel.add(Dense(1, activation = 'softmax'))\n",
    "dnnModel.compile(optimizer = 'adam', loss = 'binary_crossentropy', metrics = ['accuracy'])\n",
    "\n",
    "dnnModel.summary()"
   ]
  },
  {
   "cell_type": "code",
   "execution_count": 67,
   "metadata": {},
   "outputs": [
    {
     "name": "stdout",
     "output_type": "stream",
     "text": [
      "Epoch 1/25\n",
      "11/11 [==============================] - 1s 21ms/step - loss: 0.7037 - accuracy: 0.4841 - val_loss: 0.7170 - val_accuracy: 0.5467\n",
      "Epoch 2/25\n",
      "11/11 [==============================] - 0s 5ms/step - loss: 0.6991 - accuracy: 0.4841 - val_loss: 0.7093 - val_accuracy: 0.5467\n",
      "Epoch 3/25\n",
      "11/11 [==============================] - 0s 5ms/step - loss: 0.6947 - accuracy: 0.4841 - val_loss: 0.7075 - val_accuracy: 0.5467\n",
      "Epoch 4/25\n",
      "11/11 [==============================] - 0s 4ms/step - loss: 0.6928 - accuracy: 0.4841 - val_loss: 0.7044 - val_accuracy: 0.5467\n",
      "Epoch 5/25\n",
      "11/11 [==============================] - 0s 4ms/step - loss: 0.6909 - accuracy: 0.4841 - val_loss: 0.7033 - val_accuracy: 0.5467\n",
      "Epoch 6/25\n",
      "11/11 [==============================] - 0s 6ms/step - loss: 0.6897 - accuracy: 0.4841 - val_loss: 0.7015 - val_accuracy: 0.5467\n",
      "Epoch 7/25\n",
      "11/11 [==============================] - 0s 5ms/step - loss: 0.6884 - accuracy: 0.4841 - val_loss: 0.6989 - val_accuracy: 0.5467\n",
      "Epoch 8/25\n",
      "11/11 [==============================] - 0s 4ms/step - loss: 0.6870 - accuracy: 0.4841 - val_loss: 0.6981 - val_accuracy: 0.5467\n",
      "Epoch 9/25\n",
      "11/11 [==============================] - 0s 4ms/step - loss: 0.6861 - accuracy: 0.4841 - val_loss: 0.6968 - val_accuracy: 0.5467\n",
      "Epoch 10/25\n",
      "11/11 [==============================] - 0s 4ms/step - loss: 0.6848 - accuracy: 0.4841 - val_loss: 0.6970 - val_accuracy: 0.5467\n",
      "Epoch 11/25\n",
      "11/11 [==============================] - 0s 5ms/step - loss: 0.6838 - accuracy: 0.4841 - val_loss: 0.6974 - val_accuracy: 0.5467\n",
      "Epoch 12/25\n",
      "11/11 [==============================] - 0s 5ms/step - loss: 0.6822 - accuracy: 0.4841 - val_loss: 0.6978 - val_accuracy: 0.5467\n",
      "Epoch 13/25\n",
      "11/11 [==============================] - 0s 4ms/step - loss: 0.6807 - accuracy: 0.4841 - val_loss: 0.6973 - val_accuracy: 0.5467\n",
      "Epoch 14/25\n",
      "11/11 [==============================] - 0s 5ms/step - loss: 0.6796 - accuracy: 0.4841 - val_loss: 0.6969 - val_accuracy: 0.5467\n",
      "Epoch 15/25\n",
      "11/11 [==============================] - 0s 5ms/step - loss: 0.6781 - accuracy: 0.4841 - val_loss: 0.6967 - val_accuracy: 0.5467\n",
      "Epoch 16/25\n",
      "11/11 [==============================] - 0s 4ms/step - loss: 0.6771 - accuracy: 0.4841 - val_loss: 0.6972 - val_accuracy: 0.5467\n",
      "Epoch 17/25\n",
      "11/11 [==============================] - 0s 6ms/step - loss: 0.6757 - accuracy: 0.4841 - val_loss: 0.6969 - val_accuracy: 0.5467\n",
      "Epoch 18/25\n",
      "11/11 [==============================] - 0s 5ms/step - loss: 0.6746 - accuracy: 0.4841 - val_loss: 0.6973 - val_accuracy: 0.5467\n",
      "Epoch 19/25\n",
      "11/11 [==============================] - 0s 7ms/step - loss: 0.6733 - accuracy: 0.4841 - val_loss: 0.6959 - val_accuracy: 0.5467\n",
      "Epoch 20/25\n",
      "11/11 [==============================] - 0s 4ms/step - loss: 0.6716 - accuracy: 0.4841 - val_loss: 0.6973 - val_accuracy: 0.5467\n",
      "Epoch 21/25\n",
      "11/11 [==============================] - 0s 4ms/step - loss: 0.6697 - accuracy: 0.4841 - val_loss: 0.6969 - val_accuracy: 0.5467\n",
      "Epoch 22/25\n",
      "11/11 [==============================] - 0s 5ms/step - loss: 0.6668 - accuracy: 0.4841 - val_loss: 0.6953 - val_accuracy: 0.5467\n",
      "Epoch 23/25\n",
      "11/11 [==============================] - 0s 5ms/step - loss: 0.6644 - accuracy: 0.4841 - val_loss: 0.6934 - val_accuracy: 0.5467\n",
      "Epoch 24/25\n",
      "11/11 [==============================] - 0s 4ms/step - loss: 0.6631 - accuracy: 0.4841 - val_loss: 0.6932 - val_accuracy: 0.5467\n",
      "Epoch 25/25\n",
      "11/11 [==============================] - 0s 5ms/step - loss: 0.6615 - accuracy: 0.4841 - val_loss: 0.6928 - val_accuracy: 0.5467\n"
     ]
    }
   ],
   "source": [
    "# Trainning the model\n",
    "h = dnnModel.fit(Xtrain,Ytrain,validation_data = (Xtest, Ytest), epochs = 25,verbose = 1)"
   ]
  },
  {
   "cell_type": "code",
   "execution_count": 68,
   "metadata": {},
   "outputs": [
    {
     "name": "stdout",
     "output_type": "stream",
     "text": [
      "Model: \"sequential_17\"\n",
      "_________________________________________________________________\n",
      " Layer (type)                Output Shape              Param #   \n",
      "=================================================================\n",
      " dense_68 (Dense)            (None, 12)                36        \n",
      "                                                                 \n",
      " dense_69 (Dense)            (None, 8)                 104       \n",
      "                                                                 \n",
      " dense_70 (Dense)            (None, 16)                144       \n",
      "                                                                 \n",
      " dense_71 (Dense)            (None, 1)                 17        \n",
      "                                                                 \n",
      "=================================================================\n",
      "Total params: 301\n",
      "Trainable params: 301\n",
      "Non-trainable params: 0\n",
      "_________________________________________________________________\n"
     ]
    }
   ],
   "source": [
    "# Train two single/double hidden layer deep networks by varying the number of hidden nodes (4, 8, 12, 16) \n",
    "\n",
    "# Model 18\n",
    "\n",
    "\n",
    "dnnModel = Sequential()\n",
    "# layer 1 = input layer\n",
    "dnnModel.add(Dense(12, activation = 'relu', input_shape = (Xtrain_shape,)))\n",
    "# layer 2 = hidden layer\n",
    "dnnModel.add(Dense(8, activation = 'relu'))\n",
    "# layer 3 = hidden layer\n",
    "dnnModel.add(Dense(16, activation = 'relu'))\n",
    "# layer 4 = output layer\n",
    "dnnModel.add(Dense(1, activation = 'softmax'))\n",
    "dnnModel.compile(optimizer = 'adam', loss = 'binary_crossentropy', metrics = ['accuracy'])\n",
    "\n",
    "dnnModel.summary()"
   ]
  },
  {
   "cell_type": "code",
   "execution_count": 69,
   "metadata": {},
   "outputs": [
    {
     "name": "stdout",
     "output_type": "stream",
     "text": [
      "Epoch 1/25\n",
      "11/11 [==============================] - 1s 22ms/step - loss: 0.7039 - accuracy: 0.4841 - val_loss: 0.7150 - val_accuracy: 0.5467\n",
      "Epoch 2/25\n",
      "11/11 [==============================] - 0s 5ms/step - loss: 0.6972 - accuracy: 0.4841 - val_loss: 0.7101 - val_accuracy: 0.5467\n",
      "Epoch 3/25\n",
      "11/11 [==============================] - 0s 5ms/step - loss: 0.6946 - accuracy: 0.4841 - val_loss: 0.7063 - val_accuracy: 0.5467\n",
      "Epoch 4/25\n",
      "11/11 [==============================] - 0s 5ms/step - loss: 0.6922 - accuracy: 0.4841 - val_loss: 0.7028 - val_accuracy: 0.5467\n",
      "Epoch 5/25\n",
      "11/11 [==============================] - 0s 5ms/step - loss: 0.6908 - accuracy: 0.4841 - val_loss: 0.7038 - val_accuracy: 0.5467\n",
      "Epoch 6/25\n",
      "11/11 [==============================] - 0s 4ms/step - loss: 0.6895 - accuracy: 0.4841 - val_loss: 0.7032 - val_accuracy: 0.5467\n",
      "Epoch 7/25\n",
      "11/11 [==============================] - 0s 5ms/step - loss: 0.6883 - accuracy: 0.4841 - val_loss: 0.7008 - val_accuracy: 0.5467\n",
      "Epoch 8/25\n",
      "11/11 [==============================] - 0s 4ms/step - loss: 0.6877 - accuracy: 0.4841 - val_loss: 0.7004 - val_accuracy: 0.5467\n",
      "Epoch 9/25\n",
      "11/11 [==============================] - 0s 4ms/step - loss: 0.6868 - accuracy: 0.4841 - val_loss: 0.7009 - val_accuracy: 0.5467\n",
      "Epoch 10/25\n",
      "11/11 [==============================] - 0s 4ms/step - loss: 0.6862 - accuracy: 0.4841 - val_loss: 0.7004 - val_accuracy: 0.5467\n",
      "Epoch 11/25\n",
      "11/11 [==============================] - 0s 4ms/step - loss: 0.6854 - accuracy: 0.4841 - val_loss: 0.7005 - val_accuracy: 0.5467\n",
      "Epoch 12/25\n",
      "11/11 [==============================] - 0s 5ms/step - loss: 0.6847 - accuracy: 0.4841 - val_loss: 0.7003 - val_accuracy: 0.5467\n",
      "Epoch 13/25\n",
      "11/11 [==============================] - 0s 5ms/step - loss: 0.6838 - accuracy: 0.4841 - val_loss: 0.7011 - val_accuracy: 0.5467\n",
      "Epoch 14/25\n",
      "11/11 [==============================] - 0s 4ms/step - loss: 0.6828 - accuracy: 0.4841 - val_loss: 0.7016 - val_accuracy: 0.5467\n",
      "Epoch 15/25\n",
      "11/11 [==============================] - 0s 4ms/step - loss: 0.6811 - accuracy: 0.4841 - val_loss: 0.6994 - val_accuracy: 0.5467\n",
      "Epoch 16/25\n",
      "11/11 [==============================] - 0s 4ms/step - loss: 0.6795 - accuracy: 0.4841 - val_loss: 0.6999 - val_accuracy: 0.5467\n",
      "Epoch 17/25\n",
      "11/11 [==============================] - 0s 4ms/step - loss: 0.6775 - accuracy: 0.4841 - val_loss: 0.6996 - val_accuracy: 0.5467\n",
      "Epoch 18/25\n",
      "11/11 [==============================] - 0s 5ms/step - loss: 0.6765 - accuracy: 0.4841 - val_loss: 0.7000 - val_accuracy: 0.5467\n",
      "Epoch 19/25\n",
      "11/11 [==============================] - 0s 5ms/step - loss: 0.6745 - accuracy: 0.4841 - val_loss: 0.7014 - val_accuracy: 0.5467\n",
      "Epoch 20/25\n",
      "11/11 [==============================] - 0s 4ms/step - loss: 0.6729 - accuracy: 0.4841 - val_loss: 0.7017 - val_accuracy: 0.5467\n",
      "Epoch 21/25\n",
      "11/11 [==============================] - 0s 5ms/step - loss: 0.6711 - accuracy: 0.4841 - val_loss: 0.7002 - val_accuracy: 0.5467\n",
      "Epoch 22/25\n",
      "11/11 [==============================] - 0s 5ms/step - loss: 0.6693 - accuracy: 0.4841 - val_loss: 0.7005 - val_accuracy: 0.5467\n",
      "Epoch 23/25\n",
      "11/11 [==============================] - 0s 4ms/step - loss: 0.6670 - accuracy: 0.4841 - val_loss: 0.7008 - val_accuracy: 0.5467\n",
      "Epoch 24/25\n",
      "11/11 [==============================] - 0s 5ms/step - loss: 0.6651 - accuracy: 0.4841 - val_loss: 0.7008 - val_accuracy: 0.5467\n",
      "Epoch 25/25\n",
      "11/11 [==============================] - 0s 4ms/step - loss: 0.6624 - accuracy: 0.4841 - val_loss: 0.7017 - val_accuracy: 0.5467\n"
     ]
    }
   ],
   "source": [
    "# Trainning the model\n",
    "h = dnnModel.fit(Xtrain,Ytrain,validation_data = (Xtest, Ytest), epochs = 25,verbose = 1)"
   ]
  },
  {
   "cell_type": "code",
   "execution_count": 70,
   "metadata": {},
   "outputs": [
    {
     "name": "stdout",
     "output_type": "stream",
     "text": [
      "Model: \"sequential_18\"\n",
      "_________________________________________________________________\n",
      " Layer (type)                Output Shape              Param #   \n",
      "=================================================================\n",
      " dense_72 (Dense)            (None, 16)                48        \n",
      "                                                                 \n",
      " dense_73 (Dense)            (None, 8)                 136       \n",
      "                                                                 \n",
      " dense_74 (Dense)            (None, 12)                108       \n",
      "                                                                 \n",
      " dense_75 (Dense)            (None, 1)                 13        \n",
      "                                                                 \n",
      "=================================================================\n",
      "Total params: 305\n",
      "Trainable params: 305\n",
      "Non-trainable params: 0\n",
      "_________________________________________________________________\n"
     ]
    }
   ],
   "source": [
    "# Train two single/double hidden layer deep networks by varying the number of hidden nodes (4, 8, 12, 16) \n",
    "\n",
    "# Model 19\n",
    "\n",
    "\n",
    "dnnModel = Sequential()\n",
    "# layer 1 = input layer\n",
    "dnnModel.add(Dense(16, activation = 'relu', input_shape = (Xtrain_shape,)))\n",
    "# layer 2 = hidden layer\n",
    "dnnModel.add(Dense(8, activation = 'relu'))\n",
    "# layer 3 = hidden layer\n",
    "dnnModel.add(Dense(12, activation = 'relu'))\n",
    "# layer 4 = output layer\n",
    "dnnModel.add(Dense(1, activation = 'softmax'))\n",
    "dnnModel.compile(optimizer = 'adam', loss = 'binary_crossentropy', metrics = ['accuracy'])\n",
    "\n",
    "dnnModel.summary()"
   ]
  },
  {
   "cell_type": "code",
   "execution_count": 71,
   "metadata": {},
   "outputs": [
    {
     "name": "stdout",
     "output_type": "stream",
     "text": [
      "Epoch 1/25\n",
      "11/11 [==============================] - 1s 22ms/step - loss: 0.7634 - accuracy: 0.4841 - val_loss: 0.6889 - val_accuracy: 0.5467\n",
      "Epoch 2/25\n",
      "11/11 [==============================] - 0s 6ms/step - loss: 0.6967 - accuracy: 0.4841 - val_loss: 0.7063 - val_accuracy: 0.5467\n",
      "Epoch 3/25\n",
      "11/11 [==============================] - 0s 6ms/step - loss: 0.6990 - accuracy: 0.4841 - val_loss: 0.7165 - val_accuracy: 0.5467\n",
      "Epoch 4/25\n",
      "11/11 [==============================] - 0s 5ms/step - loss: 0.6927 - accuracy: 0.4841 - val_loss: 0.7072 - val_accuracy: 0.5467\n",
      "Epoch 5/25\n",
      "11/11 [==============================] - 0s 5ms/step - loss: 0.6891 - accuracy: 0.4841 - val_loss: 0.7026 - val_accuracy: 0.5467\n",
      "Epoch 6/25\n",
      "11/11 [==============================] - 0s 5ms/step - loss: 0.6878 - accuracy: 0.4841 - val_loss: 0.6951 - val_accuracy: 0.5467\n",
      "Epoch 7/25\n",
      "11/11 [==============================] - 0s 5ms/step - loss: 0.6854 - accuracy: 0.4841 - val_loss: 0.7001 - val_accuracy: 0.5467\n",
      "Epoch 8/25\n",
      "11/11 [==============================] - 0s 4ms/step - loss: 0.6843 - accuracy: 0.4841 - val_loss: 0.6984 - val_accuracy: 0.5467\n",
      "Epoch 9/25\n",
      "11/11 [==============================] - 0s 4ms/step - loss: 0.6823 - accuracy: 0.4841 - val_loss: 0.7011 - val_accuracy: 0.5467\n",
      "Epoch 10/25\n",
      "11/11 [==============================] - 0s 5ms/step - loss: 0.6822 - accuracy: 0.4841 - val_loss: 0.7035 - val_accuracy: 0.5467\n",
      "Epoch 11/25\n",
      "11/11 [==============================] - 0s 4ms/step - loss: 0.6797 - accuracy: 0.4841 - val_loss: 0.6990 - val_accuracy: 0.5467\n",
      "Epoch 12/25\n",
      "11/11 [==============================] - 0s 5ms/step - loss: 0.6793 - accuracy: 0.4841 - val_loss: 0.6992 - val_accuracy: 0.5467\n",
      "Epoch 13/25\n",
      "11/11 [==============================] - 0s 4ms/step - loss: 0.6798 - accuracy: 0.4841 - val_loss: 0.6966 - val_accuracy: 0.5467\n",
      "Epoch 14/25\n",
      "11/11 [==============================] - 0s 5ms/step - loss: 0.6776 - accuracy: 0.4841 - val_loss: 0.7031 - val_accuracy: 0.5467\n",
      "Epoch 15/25\n",
      "11/11 [==============================] - 0s 5ms/step - loss: 0.6780 - accuracy: 0.4841 - val_loss: 0.7002 - val_accuracy: 0.5467\n",
      "Epoch 16/25\n",
      "11/11 [==============================] - 0s 4ms/step - loss: 0.6768 - accuracy: 0.4841 - val_loss: 0.7051 - val_accuracy: 0.5467\n",
      "Epoch 17/25\n",
      "11/11 [==============================] - 0s 4ms/step - loss: 0.6762 - accuracy: 0.4841 - val_loss: 0.7043 - val_accuracy: 0.5467\n",
      "Epoch 18/25\n",
      "11/11 [==============================] - 0s 6ms/step - loss: 0.6763 - accuracy: 0.4841 - val_loss: 0.6980 - val_accuracy: 0.5467\n",
      "Epoch 19/25\n",
      "11/11 [==============================] - 0s 6ms/step - loss: 0.6793 - accuracy: 0.4841 - val_loss: 0.7089 - val_accuracy: 0.5467\n",
      "Epoch 20/25\n",
      "11/11 [==============================] - 0s 5ms/step - loss: 0.6741 - accuracy: 0.4841 - val_loss: 0.7024 - val_accuracy: 0.5467\n",
      "Epoch 21/25\n",
      "11/11 [==============================] - 0s 4ms/step - loss: 0.6759 - accuracy: 0.4841 - val_loss: 0.6998 - val_accuracy: 0.5467\n",
      "Epoch 22/25\n",
      "11/11 [==============================] - 0s 5ms/step - loss: 0.6734 - accuracy: 0.4841 - val_loss: 0.6992 - val_accuracy: 0.5467\n",
      "Epoch 23/25\n",
      "11/11 [==============================] - 0s 4ms/step - loss: 0.6738 - accuracy: 0.4841 - val_loss: 0.7077 - val_accuracy: 0.5467\n",
      "Epoch 24/25\n",
      "11/11 [==============================] - 0s 4ms/step - loss: 0.6734 - accuracy: 0.4841 - val_loss: 0.7037 - val_accuracy: 0.5467\n",
      "Epoch 25/25\n",
      "11/11 [==============================] - 0s 5ms/step - loss: 0.6739 - accuracy: 0.4841 - val_loss: 0.7046 - val_accuracy: 0.5467\n"
     ]
    }
   ],
   "source": [
    "# Trainning the model\n",
    "h = dnnModel.fit(Xtrain,Ytrain,validation_data = (Xtest, Ytest), epochs = 25,verbose = 1)"
   ]
  },
  {
   "cell_type": "code",
   "execution_count": 72,
   "metadata": {},
   "outputs": [
    {
     "name": "stdout",
     "output_type": "stream",
     "text": [
      "Model: \"sequential_19\"\n",
      "_________________________________________________________________\n",
      " Layer (type)                Output Shape              Param #   \n",
      "=================================================================\n",
      " dense_76 (Dense)            (None, 16)                48        \n",
      "                                                                 \n",
      " dense_77 (Dense)            (None, 8)                 136       \n",
      "                                                                 \n",
      " dense_78 (Dense)            (None, 12)                108       \n",
      "                                                                 \n",
      " dense_79 (Dense)            (None, 1)                 13        \n",
      "                                                                 \n",
      "=================================================================\n",
      "Total params: 305\n",
      "Trainable params: 305\n",
      "Non-trainable params: 0\n",
      "_________________________________________________________________\n"
     ]
    }
   ],
   "source": [
    "# Train two single/double hidden layer deep networks by varying the number of hidden nodes (4, 8, 12, 16) \n",
    "\n",
    "# Model 20\n",
    "\n",
    "\n",
    "dnnModel = Sequential()\n",
    "# layer 1 = input layer\n",
    "dnnModel.add(Dense(16, activation = 'relu', input_shape = (Xtrain_shape,)))\n",
    "# layer 2 = hidden layer\n",
    "dnnModel.add(Dense(8, activation = 'relu'))\n",
    "# layer 3 = hidden layer\n",
    "dnnModel.add(Dense(12, activation = 'relu'))\n",
    "# layer 4 = output layer\n",
    "dnnModel.add(Dense(1, activation = 'sigmoid'))\n",
    "dnnModel.compile(optimizer = 'adam', loss = 'binary_crossentropy', metrics = ['accuracy'])\n",
    "\n",
    "dnnModel.summary()"
   ]
  },
  {
   "cell_type": "code",
   "execution_count": 73,
   "metadata": {},
   "outputs": [
    {
     "name": "stdout",
     "output_type": "stream",
     "text": [
      "Epoch 1/25\n",
      "11/11 [==============================] - 1s 21ms/step - loss: 0.7804 - accuracy: 0.4870 - val_loss: 0.7126 - val_accuracy: 0.4533\n",
      "Epoch 2/25\n",
      "11/11 [==============================] - 0s 5ms/step - loss: 0.7189 - accuracy: 0.5072 - val_loss: 0.6864 - val_accuracy: 0.5267\n",
      "Epoch 3/25\n",
      "11/11 [==============================] - 0s 5ms/step - loss: 0.7089 - accuracy: 0.5101 - val_loss: 0.6839 - val_accuracy: 0.5400\n",
      "Epoch 4/25\n",
      "11/11 [==============================] - 0s 4ms/step - loss: 0.6961 - accuracy: 0.5159 - val_loss: 0.6893 - val_accuracy: 0.5200\n",
      "Epoch 5/25\n",
      "11/11 [==============================] - 0s 5ms/step - loss: 0.6878 - accuracy: 0.5216 - val_loss: 0.6967 - val_accuracy: 0.5000\n",
      "Epoch 6/25\n",
      "11/11 [==============================] - 0s 5ms/step - loss: 0.6829 - accuracy: 0.5274 - val_loss: 0.6972 - val_accuracy: 0.4800\n",
      "Epoch 7/25\n",
      "11/11 [==============================] - 0s 5ms/step - loss: 0.6810 - accuracy: 0.5360 - val_loss: 0.7016 - val_accuracy: 0.4800\n",
      "Epoch 8/25\n",
      "11/11 [==============================] - 0s 4ms/step - loss: 0.6792 - accuracy: 0.5418 - val_loss: 0.7021 - val_accuracy: 0.4867\n",
      "Epoch 9/25\n",
      "11/11 [==============================] - 0s 5ms/step - loss: 0.6788 - accuracy: 0.5476 - val_loss: 0.7009 - val_accuracy: 0.4867\n",
      "Epoch 10/25\n",
      "11/11 [==============================] - 0s 5ms/step - loss: 0.6782 - accuracy: 0.5591 - val_loss: 0.7035 - val_accuracy: 0.4800\n",
      "Epoch 11/25\n",
      "11/11 [==============================] - 0s 4ms/step - loss: 0.6785 - accuracy: 0.5648 - val_loss: 0.7014 - val_accuracy: 0.4867\n",
      "Epoch 12/25\n",
      "11/11 [==============================] - 0s 4ms/step - loss: 0.6771 - accuracy: 0.5620 - val_loss: 0.7030 - val_accuracy: 0.4667\n",
      "Epoch 13/25\n",
      "11/11 [==============================] - 0s 5ms/step - loss: 0.6780 - accuracy: 0.5648 - val_loss: 0.7062 - val_accuracy: 0.4600\n",
      "Epoch 14/25\n",
      "11/11 [==============================] - 0s 5ms/step - loss: 0.6770 - accuracy: 0.5821 - val_loss: 0.6996 - val_accuracy: 0.5133\n",
      "Epoch 15/25\n",
      "11/11 [==============================] - 0s 4ms/step - loss: 0.6776 - accuracy: 0.5965 - val_loss: 0.6999 - val_accuracy: 0.5133\n",
      "Epoch 16/25\n",
      "11/11 [==============================] - 0s 4ms/step - loss: 0.6783 - accuracy: 0.5908 - val_loss: 0.7059 - val_accuracy: 0.4867\n",
      "Epoch 17/25\n",
      "11/11 [==============================] - 0s 4ms/step - loss: 0.6756 - accuracy: 0.5879 - val_loss: 0.7019 - val_accuracy: 0.5067\n",
      "Epoch 18/25\n",
      "11/11 [==============================] - 0s 5ms/step - loss: 0.6752 - accuracy: 0.5879 - val_loss: 0.7024 - val_accuracy: 0.5133\n",
      "Epoch 19/25\n",
      "11/11 [==============================] - 0s 4ms/step - loss: 0.6758 - accuracy: 0.5937 - val_loss: 0.7009 - val_accuracy: 0.5133\n",
      "Epoch 20/25\n",
      "11/11 [==============================] - 0s 5ms/step - loss: 0.6758 - accuracy: 0.5994 - val_loss: 0.7079 - val_accuracy: 0.4800\n",
      "Epoch 21/25\n",
      "11/11 [==============================] - 0s 5ms/step - loss: 0.6756 - accuracy: 0.5994 - val_loss: 0.7023 - val_accuracy: 0.5067\n",
      "Epoch 22/25\n",
      "11/11 [==============================] - 0s 5ms/step - loss: 0.6746 - accuracy: 0.5965 - val_loss: 0.7011 - val_accuracy: 0.5067\n",
      "Epoch 23/25\n",
      "11/11 [==============================] - 0s 5ms/step - loss: 0.6745 - accuracy: 0.5965 - val_loss: 0.7038 - val_accuracy: 0.5200\n",
      "Epoch 24/25\n",
      "11/11 [==============================] - 0s 4ms/step - loss: 0.6747 - accuracy: 0.5965 - val_loss: 0.7053 - val_accuracy: 0.5067\n",
      "Epoch 25/25\n",
      "11/11 [==============================] - 0s 4ms/step - loss: 0.6750 - accuracy: 0.5879 - val_loss: 0.7026 - val_accuracy: 0.5200\n"
     ]
    }
   ],
   "source": [
    "# Trainning the model\n",
    "h = dnnModel.fit(Xtrain,Ytrain,validation_data = (Xtest, Ytest), epochs = 25,verbose = 1)"
   ]
  },
  {
   "cell_type": "markdown",
   "metadata": {},
   "source": [
    "3. Visually observe the dataset and design an appropriate feature transformation (derived feature) such that after feature transformation, the dataset can be classified using a minimal network architecture (minimum number of parameters). Design, train this minimal network, and report training and validation errors, and trained parameters of the network. Use 70% training and 30% validation data, appropriate learning rate, activation and loss functions. Explain the final results. [1+1+0.5 marks]"
   ]
  },
  {
   "cell_type": "markdown",
   "metadata": {},
   "source": [
    "# Conclusion\n",
    "### 1. The order of the number of hidden layers does not have an impact on the accuracy\n",
    "### 2. Activation = 'softmax' for Output Layer performs better than other Activation functions\n",
    "### 3. Dropout does not have impact on the accuracy\n",
    "### 4. The validation loss is minimal in Model 11 where Activation = 'softmax' with layers 12-16-8 \n",
    "### 5. Dropout had no impact on the Accuracy\n",
    "### 6. High value of \"epochs\" had lower Accuracy but the Accuracy saturated with at the lower values of \"epochs\"\n",
    "### 7. Random state \"1\" had the best accuracy rate over \"0\" , \"7\", \"42\""
   ]
  },
  {
   "cell_type": "markdown",
   "metadata": {},
   "source": [
    "# Model 11 had the Best results"
   ]
  },
  {
   "cell_type": "code",
   "execution_count": 74,
   "metadata": {},
   "outputs": [],
   "source": [
    "# Splitting the dataset into 70% training and 30% validation data.\n",
    "\n",
    "Xtrain,Xtest,Ytrain,Ytest = train_test_split(X, Y, test_size = 0.3, random_state = 1)"
   ]
  },
  {
   "cell_type": "code",
   "execution_count": 75,
   "metadata": {},
   "outputs": [
    {
     "name": "stdout",
     "output_type": "stream",
     "text": [
      "2\n"
     ]
    }
   ],
   "source": [
    "Xtrain_shape = Xtrain.shape[1]\n",
    "print (Xtrain_shape)"
   ]
  },
  {
   "cell_type": "code",
   "execution_count": 76,
   "metadata": {},
   "outputs": [
    {
     "name": "stdout",
     "output_type": "stream",
     "text": [
      "Model: \"sequential_20\"\n",
      "_________________________________________________________________\n",
      " Layer (type)                Output Shape              Param #   \n",
      "=================================================================\n",
      " dense_80 (Dense)            (None, 12)                36        \n",
      "                                                                 \n",
      " dense_81 (Dense)            (None, 16)                208       \n",
      "                                                                 \n",
      " dropout_14 (Dropout)        (None, 16)                0         \n",
      "                                                                 \n",
      " dense_82 (Dense)            (None, 8)                 136       \n",
      "                                                                 \n",
      " dropout_15 (Dropout)        (None, 8)                 0         \n",
      "                                                                 \n",
      " dense_83 (Dense)            (None, 1)                 9         \n",
      "                                                                 \n",
      "=================================================================\n",
      "Total params: 389\n",
      "Trainable params: 389\n",
      "Non-trainable params: 0\n",
      "_________________________________________________________________\n"
     ]
    }
   ],
   "source": [
    "# Train two single/double hidden layer deep networks by varying the number of hidden nodes (4, 8, 12, 16) \n",
    "\n",
    "# Model 11\n",
    "\n",
    "\n",
    "dnnModel = Sequential()\n",
    "# layer 1 = input layer\n",
    "dnnModel.add(Dense(12, activation = 'relu', input_shape = (Xtrain_shape,)))\n",
    "# layer 2 = hidden layer\n",
    "dnnModel.add(Dense(16, activation = 'relu'))\n",
    "# Add dropout of 50% to layer 2\n",
    "dnnModel.add(Dropout(0.5))\n",
    "# layer 3 = hidden layer\n",
    "dnnModel.add(Dense(8, activation = 'relu'))\n",
    "# Add dropout of 50% to layer 3\n",
    "dnnModel.add(Dropout(0.5))\n",
    "# layer 4 = output layer\n",
    "dnnModel.add(Dense(1, activation = 'softmax'))\n",
    "dnnModel.compile(optimizer = 'adam', loss = 'binary_crossentropy', metrics = ['accuracy'])\n",
    "\n",
    "dnnModel.summary()"
   ]
  },
  {
   "cell_type": "code",
   "execution_count": 77,
   "metadata": {},
   "outputs": [
    {
     "name": "stdout",
     "output_type": "stream",
     "text": [
      "Epoch 1/25\n",
      "11/11 [==============================] - 1s 24ms/step - loss: 1.2861 - accuracy: 0.4841 - val_loss: 1.3374 - val_accuracy: 0.5467\n",
      "Epoch 2/25\n",
      "11/11 [==============================] - 0s 6ms/step - loss: 1.2642 - accuracy: 0.4841 - val_loss: 1.1471 - val_accuracy: 0.5467\n",
      "Epoch 3/25\n",
      "11/11 [==============================] - 0s 5ms/step - loss: 1.1472 - accuracy: 0.4841 - val_loss: 0.9765 - val_accuracy: 0.5467\n",
      "Epoch 4/25\n",
      "11/11 [==============================] - 0s 5ms/step - loss: 0.9671 - accuracy: 0.4841 - val_loss: 0.8717 - val_accuracy: 0.5467\n",
      "Epoch 5/25\n",
      "11/11 [==============================] - 0s 4ms/step - loss: 0.9146 - accuracy: 0.4841 - val_loss: 0.7817 - val_accuracy: 0.5467\n",
      "Epoch 6/25\n",
      "11/11 [==============================] - 0s 5ms/step - loss: 0.8438 - accuracy: 0.4841 - val_loss: 0.7248 - val_accuracy: 0.5467\n",
      "Epoch 7/25\n",
      "11/11 [==============================] - 0s 5ms/step - loss: 0.8360 - accuracy: 0.4841 - val_loss: 0.7039 - val_accuracy: 0.5467\n",
      "Epoch 8/25\n",
      "11/11 [==============================] - 0s 5ms/step - loss: 0.8230 - accuracy: 0.4841 - val_loss: 0.7000 - val_accuracy: 0.5467\n",
      "Epoch 9/25\n",
      "11/11 [==============================] - 0s 5ms/step - loss: 0.8223 - accuracy: 0.4841 - val_loss: 0.6977 - val_accuracy: 0.5467\n",
      "Epoch 10/25\n",
      "11/11 [==============================] - 0s 5ms/step - loss: 0.7939 - accuracy: 0.4841 - val_loss: 0.6956 - val_accuracy: 0.5467\n",
      "Epoch 11/25\n",
      "11/11 [==============================] - 0s 5ms/step - loss: 0.7178 - accuracy: 0.4841 - val_loss: 0.6945 - val_accuracy: 0.5467\n",
      "Epoch 12/25\n",
      "11/11 [==============================] - 0s 6ms/step - loss: 0.7393 - accuracy: 0.4841 - val_loss: 0.6929 - val_accuracy: 0.5467\n",
      "Epoch 13/25\n",
      "11/11 [==============================] - 0s 4ms/step - loss: 0.7304 - accuracy: 0.4841 - val_loss: 0.6916 - val_accuracy: 0.5467\n",
      "Epoch 14/25\n",
      "11/11 [==============================] - 0s 5ms/step - loss: 0.7572 - accuracy: 0.4841 - val_loss: 0.6904 - val_accuracy: 0.5467\n",
      "Epoch 15/25\n",
      "11/11 [==============================] - 0s 4ms/step - loss: 0.7404 - accuracy: 0.4841 - val_loss: 0.6893 - val_accuracy: 0.5467\n",
      "Epoch 16/25\n",
      "11/11 [==============================] - 0s 6ms/step - loss: 0.7181 - accuracy: 0.4841 - val_loss: 0.6888 - val_accuracy: 0.5467\n",
      "Epoch 17/25\n",
      "11/11 [==============================] - 0s 5ms/step - loss: 0.7312 - accuracy: 0.4841 - val_loss: 0.6878 - val_accuracy: 0.5467\n",
      "Epoch 18/25\n",
      "11/11 [==============================] - 0s 5ms/step - loss: 0.7117 - accuracy: 0.4841 - val_loss: 0.6869 - val_accuracy: 0.5467\n",
      "Epoch 19/25\n",
      "11/11 [==============================] - 0s 5ms/step - loss: 0.7155 - accuracy: 0.4841 - val_loss: 0.6869 - val_accuracy: 0.5467\n",
      "Epoch 20/25\n",
      "11/11 [==============================] - 0s 5ms/step - loss: 0.7008 - accuracy: 0.4841 - val_loss: 0.6866 - val_accuracy: 0.5467\n",
      "Epoch 21/25\n",
      "11/11 [==============================] - 0s 4ms/step - loss: 0.7120 - accuracy: 0.4841 - val_loss: 0.6868 - val_accuracy: 0.5467\n",
      "Epoch 22/25\n",
      "11/11 [==============================] - 0s 4ms/step - loss: 0.6916 - accuracy: 0.4841 - val_loss: 0.6872 - val_accuracy: 0.5467\n",
      "Epoch 23/25\n",
      "11/11 [==============================] - 0s 5ms/step - loss: 0.7064 - accuracy: 0.4841 - val_loss: 0.6875 - val_accuracy: 0.5467\n",
      "Epoch 24/25\n",
      "11/11 [==============================] - 0s 4ms/step - loss: 0.6939 - accuracy: 0.4841 - val_loss: 0.6876 - val_accuracy: 0.5467\n",
      "Epoch 25/25\n",
      "11/11 [==============================] - 0s 5ms/step - loss: 0.7122 - accuracy: 0.4841 - val_loss: 0.6881 - val_accuracy: 0.5467\n"
     ]
    }
   ],
   "source": [
    "# Trainning the model\n",
    "h = dnnModel.fit(Xtrain,Ytrain,validation_data = (Xtest, Ytest), epochs = 25,verbose = 1)"
   ]
  },
  {
   "cell_type": "code",
   "execution_count": 78,
   "metadata": {},
   "outputs": [],
   "source": [
    "# plotting the training accuracy\n",
    "def plot_history(h):\n",
    "   \n",
    "    plt.plot(h.history['val_accuracy'], label='validation accuracy')\n",
    "    plt.plot(h.history['accuracy'], label='train accuracy')\n",
    "    plt.xlabel('Epochs')\n",
    "    plt.ylabel('Accuracy')    \n",
    "    plt.legend()\n",
    "    plt.title(\"Plot of Accuracy\")\n",
    "    \n",
    "    plt.show()"
   ]
  },
  {
   "cell_type": "code",
   "execution_count": 79,
   "metadata": {},
   "outputs": [
    {
     "data": {
      "image/png": "[encoded data removed]",
      "text/plain": [
       "<Figure size 432x288 with 1 Axes>"
      ]
     },
     "metadata": {
      "needs_background": "light"
     },
     "output_type": "display_data"
    }
   ],
   "source": [
    "hist = plot_history(h)"
   ]
  },
  {
   "cell_type": "code",
   "execution_count": 80,
   "metadata": {},
   "outputs": [],
   "source": [
    "# plotting the training accuracy\n",
    "def plot_history(h):\n",
    "    \n",
    "    plt.plot(h.history['val_loss'], label='validation loss')\n",
    "    plt.plot(h.history['loss'], label='train loss')\n",
    "    plt.xlabel('Epochs')\n",
    "    plt.ylabel('Loss')\n",
    "    plt.legend()\n",
    "    plt.title(\"Plot of Loss\")\n",
    "    \n",
    "    \n",
    "\n",
    "    plt.show()"
   ]
  },
  {
   "cell_type": "code",
   "execution_count": 81,
   "metadata": {},
   "outputs": [
    {
     "data": {
      "image/png": "[encoded data removed]",
      "text/plain": [
       "<Figure size 432x288 with 1 Axes>"
      ]
     },
     "metadata": {
      "needs_background": "light"
     },
     "output_type": "display_data"
    }
   ],
   "source": [
    "hist = plot_history(h)"
   ]
  },
  {
   "cell_type": "code",
   "execution_count": 82,
   "metadata": {},
   "outputs": [
    {
     "name": "stdout",
     "output_type": "stream",
     "text": [
      "====================== Description of the dataset =======================================\n",
      "        Feature_1   Feature_2  Class_Label\n",
      "count  497.000000  497.000000   497.000000\n",
      "mean     0.030889   -0.000024     0.503018\n",
      "std      5.803289    5.771313     0.500495\n",
      "min    -13.940352  -13.080541     0.000000\n",
      "25%     -3.641686   -3.591419     0.000000\n",
      "50%      0.043100    0.000000     1.000000\n",
      "75%      3.717234    3.471271     1.000000\n",
      "max     15.607963   12.880863     1.000000\n",
      "====================== Detailed Information of the dataset ==============================\n",
      "<class 'pandas.core.frame.DataFrame'>\n",
      "RangeIndex: 497 entries, 0 to 496\n",
      "Data columns (total 3 columns):\n",
      " #   Column       Non-Null Count  Dtype  \n",
      "---  ------       --------------  -----  \n",
      " 0   Feature_1    497 non-null    float64\n",
      " 1   Feature_2    497 non-null    float64\n",
      " 2   Class_Label  497 non-null    int64  \n",
      "dtypes: float64(2), int64(1)\n",
      "memory usage: 11.8 KB\n",
      "None\n",
      "====================== Shape of the dataset =============================================\n",
      "(497, 3)\n"
     ]
    }
   ],
   "source": [
    "# b.Print the description and shape of the dataset.\n",
    "\n",
    "print(\"====================== Description of the dataset =======================================\")\n",
    "print(df.describe())\n",
    "print(\"====================== Detailed Information of the dataset ==============================\")\n",
    "print(df.info())\n",
    "print(\"====================== Shape of the dataset =============================================\")\n",
    "print(df.shape)"
   ]
  },
  {
   "cell_type": "code",
   "execution_count": 86,
   "metadata": {},
   "outputs": [
    {
     "name": "stdout",
     "output_type": "stream",
     "text": [
      " Class_Labels_0 :  247\n",
      "  Class_Labels_1 :  250\n"
     ]
    }
   ],
   "source": [
    "Class_Labels = df.groupby('Class_Label')['Class_Label'].apply(lambda x: x.count()) #defect rates (Fixed/IncorrectlyFixed)\n",
    "print(' Class_Labels_0 : ' , Class_Labels[0])\n",
    "print('  Class_Labels_1 : ' , Class_Labels[1])"
   ]
  },
  {
   "cell_type": "code",
   "execution_count": 87,
   "metadata": {},
   "outputs": [],
   "source": [
    "# visualization to get an insight about the dataset."
   ]
  },
  {
   "cell_type": "code",
   "execution_count": 89,
   "metadata": {},
   "outputs": [
    {
     "name": "stderr",
     "output_type": "stream",
     "text": [
      "C:\\ProgramData\\Anaconda3\\lib\\site-packages\\seaborn\\_decorators.py:36: FutureWarning: Pass the following variable as a keyword arg: x. From version 0.12, the only valid positional argument will be `data`, and passing other arguments without an explicit keyword will result in an error or misinterpretation.\n",
      "  warnings.warn(\n"
     ]
    },
    {
     "data": {
      "text/plain": [
       "<AxesSubplot:xlabel='Class_Label', ylabel='count'>"
      ]
     },
     "execution_count": 89,
     "metadata": {},
     "output_type": "execute_result"
    },
    {
     "data": {
      "image/png": "[encoded data removed]",
      "text/plain": [
       "<Figure size 432x288 with 1 Axes>"
      ]
     },
     "metadata": {
      "needs_background": "light"
     },
     "output_type": "display_data"
    }
   ],
   "source": [
    "#Visualize the count of labels\n",
    "sns.countplot(df['Class_Label'], label = 'Class_Labels')"
   ]
  },
  {
   "cell_type": "code",
   "execution_count": 90,
   "metadata": {},
   "outputs": [
    {
     "data": {
      "text/plain": [
       "<seaborn.axisgrid.PairGrid at 0x1ba836145b0>"
      ]
     },
     "execution_count": 90,
     "metadata": {},
     "output_type": "execute_result"
    },
    {
     "data": {
      "image/png": "[encoded data removed]",
      "text/plain": [
       "<Figure size 434.55x360 with 6 Axes>"
      ]
     },
     "metadata": {},
     "output_type": "display_data"
    }
   ],
   "source": [
    "#Create a pair plot\n",
    "sns.set()\n",
    "sns.pairplot(df, hue = 'Class_Label')"
   ]
  },
  {
   "cell_type": "code",
   "execution_count": null,
   "metadata": {},
   "outputs": [],
   "source": []
  }
 ],
 "metadata": {
  "kernelspec": {
   "display_name": "Python 3",
   "language": "python",
   "name": "python3"
  },
  "language_info": {
   "codemirror_mode": {
    "name": "ipython",
    "version": 3
   },
   "file_extension": ".py",
   "mimetype": "text/x-python",
   "name": "python",
   "nbconvert_exporter": "python",
   "pygments_lexer": "ipython3",
   "version": "3.8.5"
  }
 },
 "nbformat": 4,
 "nbformat_minor": 4
}
