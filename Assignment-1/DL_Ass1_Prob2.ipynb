{
  "cells": [
    {
      "cell_type": "markdown",
      "metadata": {
        "id": "view-in-github",
        "colab_type": "text"
      },
      "source": [
        "<a href=\"https://colab.research.google.com/github/bits-mtech/DL/blob/main/DL_Ass1_Prob2.ipynb\" target=\"_parent\"><img src=\"https://colab.research.google.com/assets/colab-badge.svg\" alt=\"Open In Colab\"/></a>"
      ]
    },
    {
      "cell_type": "code",
      "execution_count": 1,
      "metadata": {
        "id": "O2hmPVBBLR9Y"
      },
      "outputs": [],
      "source": [
        "# Assignment : DL Assignment 1 Question 2\n",
        "# Group No. 82\n",
        "# Mriganka Gayen\n",
        "# Subodh Kant Mishra\n",
        "# Ashutosh Sahebrao Dhok"
      ]
    },
    {
      "cell_type": "code",
      "execution_count": 2,
      "metadata": {
        "scrolled": true,
        "id": "7_Yryc4sLR9c"
      },
      "outputs": [],
      "source": [
        "# Importing all the necessary libraries\n",
        "\n",
        "import pandas as pd\n",
        "import numpy as np\n",
        "import tensorflow\n",
        "import keras\n",
        "from tensorflow.keras.models import Sequential\n",
        "from tensorflow.keras.layers import Dense\n",
        "from tensorflow.keras.layers import Dropout\n",
        "from tensorflow.keras import regularizers\n",
        "import matplotlib.pyplot as plt\n",
        "import seaborn as sns\n",
        "from sklearn.preprocessing import MinMaxScaler\n",
        "from sklearn.model_selection import train_test_split"
      ]
    },
    {
      "cell_type": "code",
      "execution_count": 3,
      "metadata": {
        "id": "lda1KmTWLR9d",
        "outputId": "a8f5e9cd-fc36-4ac2-b6cc-8f3d824a2bc2",
        "colab": {
          "base_uri": "https://localhost:8080/",
          "height": 206
        }
      },
      "outputs": [
        {
          "output_type": "execute_result",
          "data": {
            "text/html": [
              "\n",
              "  <div id=\"df-c6ad7460-4a8b-4aee-b8c6-702977f8cb68\">\n",
              "    <div class=\"colab-df-container\">\n",
              "      <div>\n",
              "<style scoped>\n",
              "    .dataframe tbody tr th:only-of-type {\n",
              "        vertical-align: middle;\n",
              "    }\n",
              "\n",
              "    .dataframe tbody tr th {\n",
              "        vertical-align: top;\n",
              "    }\n",
              "\n",
              "    .dataframe thead th {\n",
              "        text-align: right;\n",
              "    }\n",
              "</style>\n",
              "<table border=\"1\" class=\"dataframe\">\n",
              "  <thead>\n",
              "    <tr style=\"text-align: right;\">\n",
              "      <th></th>\n",
              "      <th>0.156326772</th>\n",
              "      <th>0.011856755</th>\n",
              "      <th>0</th>\n",
              "    </tr>\n",
              "  </thead>\n",
              "  <tbody>\n",
              "    <tr>\n",
              "      <th>0</th>\n",
              "      <td>0.211109</td>\n",
              "      <td>0.032209</td>\n",
              "      <td>0</td>\n",
              "    </tr>\n",
              "    <tr>\n",
              "      <th>1</th>\n",
              "      <td>0.263386</td>\n",
              "      <td>0.060866</td>\n",
              "      <td>0</td>\n",
              "    </tr>\n",
              "    <tr>\n",
              "      <th>2</th>\n",
              "      <td>0.312221</td>\n",
              "      <td>0.097541</td>\n",
              "      <td>0</td>\n",
              "    </tr>\n",
              "    <tr>\n",
              "      <th>3</th>\n",
              "      <td>0.356707</td>\n",
              "      <td>0.141855</td>\n",
              "      <td>0</td>\n",
              "    </tr>\n",
              "    <tr>\n",
              "      <th>4</th>\n",
              "      <td>0.395976</td>\n",
              "      <td>0.193337</td>\n",
              "      <td>0</td>\n",
              "    </tr>\n",
              "  </tbody>\n",
              "</table>\n",
              "</div>\n",
              "      <button class=\"colab-df-convert\" onclick=\"convertToInteractive('df-c6ad7460-4a8b-4aee-b8c6-702977f8cb68')\"\n",
              "              title=\"Convert this dataframe to an interactive table.\"\n",
              "              style=\"display:none;\">\n",
              "        \n",
              "  <svg xmlns=\"http://www.w3.org/2000/svg\" height=\"24px\"viewBox=\"0 0 24 24\"\n",
              "       width=\"24px\">\n",
              "    <path d=\"M0 0h24v24H0V0z\" fill=\"none\"/>\n",
              "    <path d=\"M18.56 5.44l.94 2.06.94-2.06 2.06-.94-2.06-.94-.94-2.06-.94 2.06-2.06.94zm-11 1L8.5 8.5l.94-2.06 2.06-.94-2.06-.94L8.5 2.5l-.94 2.06-2.06.94zm10 10l.94 2.06.94-2.06 2.06-.94-2.06-.94-.94-2.06-.94 2.06-2.06.94z\"/><path d=\"M17.41 7.96l-1.37-1.37c-.4-.4-.92-.59-1.43-.59-.52 0-1.04.2-1.43.59L10.3 9.45l-7.72 7.72c-.78.78-.78 2.05 0 2.83L4 21.41c.39.39.9.59 1.41.59.51 0 1.02-.2 1.41-.59l7.78-7.78 2.81-2.81c.8-.78.8-2.07 0-2.86zM5.41 20L4 18.59l7.72-7.72 1.47 1.35L5.41 20z\"/>\n",
              "  </svg>\n",
              "      </button>\n",
              "      \n",
              "  <style>\n",
              "    .colab-df-container {\n",
              "      display:flex;\n",
              "      flex-wrap:wrap;\n",
              "      gap: 12px;\n",
              "    }\n",
              "\n",
              "    .colab-df-convert {\n",
              "      background-color: #E8F0FE;\n",
              "      border: none;\n",
              "      border-radius: 50%;\n",
              "      cursor: pointer;\n",
              "      display: none;\n",
              "      fill: #1967D2;\n",
              "      height: 32px;\n",
              "      padding: 0 0 0 0;\n",
              "      width: 32px;\n",
              "    }\n",
              "\n",
              "    .colab-df-convert:hover {\n",
              "      background-color: #E2EBFA;\n",
              "      box-shadow: 0px 1px 2px rgba(60, 64, 67, 0.3), 0px 1px 3px 1px rgba(60, 64, 67, 0.15);\n",
              "      fill: #174EA6;\n",
              "    }\n",
              "\n",
              "    [theme=dark] .colab-df-convert {\n",
              "      background-color: #3B4455;\n",
              "      fill: #D2E3FC;\n",
              "    }\n",
              "\n",
              "    [theme=dark] .colab-df-convert:hover {\n",
              "      background-color: #434B5C;\n",
              "      box-shadow: 0px 1px 3px 1px rgba(0, 0, 0, 0.15);\n",
              "      filter: drop-shadow(0px 1px 2px rgba(0, 0, 0, 0.3));\n",
              "      fill: #FFFFFF;\n",
              "    }\n",
              "  </style>\n",
              "\n",
              "      <script>\n",
              "        const buttonEl =\n",
              "          document.querySelector('#df-c6ad7460-4a8b-4aee-b8c6-702977f8cb68 button.colab-df-convert');\n",
              "        buttonEl.style.display =\n",
              "          google.colab.kernel.accessAllowed ? 'block' : 'none';\n",
              "\n",
              "        async function convertToInteractive(key) {\n",
              "          const element = document.querySelector('#df-c6ad7460-4a8b-4aee-b8c6-702977f8cb68');\n",
              "          const dataTable =\n",
              "            await google.colab.kernel.invokeFunction('convertToInteractive',\n",
              "                                                     [key], {});\n",
              "          if (!dataTable) return;\n",
              "\n",
              "          const docLinkHtml = 'Like what you see? Visit the ' +\n",
              "            '<a target=\"_blank\" href=https://colab.research.google.com/notebooks/data_table.ipynb>data table notebook</a>'\n",
              "            + ' to learn more about interactive tables.';\n",
              "          element.innerHTML = '';\n",
              "          dataTable['output_type'] = 'display_data';\n",
              "          await google.colab.output.renderOutput(dataTable, element);\n",
              "          const docLink = document.createElement('div');\n",
              "          docLink.innerHTML = docLinkHtml;\n",
              "          element.appendChild(docLink);\n",
              "        }\n",
              "      </script>\n",
              "    </div>\n",
              "  </div>\n",
              "  "
            ],
            "text/plain": [
              "   0.156326772  0.011856755  0\n",
              "0     0.211109     0.032209  0\n",
              "1     0.263386     0.060866  0\n",
              "2     0.312221     0.097541  0\n",
              "3     0.356707     0.141855  0\n",
              "4     0.395976     0.193337  0"
            ]
          },
          "metadata": {},
          "execution_count": 3
        }
      ],
      "source": [
        "# Reading the data from csv\n",
        "df=pd.read_csv(\"https://raw.githubusercontent.com/bits-mtech/DL/main/data2_0.75_6.csv\")\n",
        "df.head()"
      ]
    },
    {
      "cell_type": "code",
      "execution_count": 4,
      "metadata": {
        "id": "Wtw2G-rbLR9e",
        "outputId": "3d894313-8b3d-4311-f693-7c03852763ac",
        "colab": {
          "base_uri": "https://localhost:8080/",
          "height": 206
        }
      },
      "outputs": [
        {
          "output_type": "execute_result",
          "data": {
            "text/html": [
              "\n",
              "  <div id=\"df-c0278dff-d742-425a-80ca-ee3b701b7819\">\n",
              "    <div class=\"colab-df-container\">\n",
              "      <div>\n",
              "<style scoped>\n",
              "    .dataframe tbody tr th:only-of-type {\n",
              "        vertical-align: middle;\n",
              "    }\n",
              "\n",
              "    .dataframe tbody tr th {\n",
              "        vertical-align: top;\n",
              "    }\n",
              "\n",
              "    .dataframe thead th {\n",
              "        text-align: right;\n",
              "    }\n",
              "</style>\n",
              "<table border=\"1\" class=\"dataframe\">\n",
              "  <thead>\n",
              "    <tr style=\"text-align: right;\">\n",
              "      <th></th>\n",
              "      <th>Feature_1</th>\n",
              "      <th>Feature_2</th>\n",
              "      <th>Class_Label</th>\n",
              "    </tr>\n",
              "  </thead>\n",
              "  <tbody>\n",
              "    <tr>\n",
              "      <th>0</th>\n",
              "      <td>0.211109</td>\n",
              "      <td>0.032209</td>\n",
              "      <td>0</td>\n",
              "    </tr>\n",
              "    <tr>\n",
              "      <th>1</th>\n",
              "      <td>0.263386</td>\n",
              "      <td>0.060866</td>\n",
              "      <td>0</td>\n",
              "    </tr>\n",
              "    <tr>\n",
              "      <th>2</th>\n",
              "      <td>0.312221</td>\n",
              "      <td>0.097541</td>\n",
              "      <td>0</td>\n",
              "    </tr>\n",
              "    <tr>\n",
              "      <th>3</th>\n",
              "      <td>0.356707</td>\n",
              "      <td>0.141855</td>\n",
              "      <td>0</td>\n",
              "    </tr>\n",
              "    <tr>\n",
              "      <th>4</th>\n",
              "      <td>0.395976</td>\n",
              "      <td>0.193337</td>\n",
              "      <td>0</td>\n",
              "    </tr>\n",
              "  </tbody>\n",
              "</table>\n",
              "</div>\n",
              "      <button class=\"colab-df-convert\" onclick=\"convertToInteractive('df-c0278dff-d742-425a-80ca-ee3b701b7819')\"\n",
              "              title=\"Convert this dataframe to an interactive table.\"\n",
              "              style=\"display:none;\">\n",
              "        \n",
              "  <svg xmlns=\"http://www.w3.org/2000/svg\" height=\"24px\"viewBox=\"0 0 24 24\"\n",
              "       width=\"24px\">\n",
              "    <path d=\"M0 0h24v24H0V0z\" fill=\"none\"/>\n",
              "    <path d=\"M18.56 5.44l.94 2.06.94-2.06 2.06-.94-2.06-.94-.94-2.06-.94 2.06-2.06.94zm-11 1L8.5 8.5l.94-2.06 2.06-.94-2.06-.94L8.5 2.5l-.94 2.06-2.06.94zm10 10l.94 2.06.94-2.06 2.06-.94-2.06-.94-.94-2.06-.94 2.06-2.06.94z\"/><path d=\"M17.41 7.96l-1.37-1.37c-.4-.4-.92-.59-1.43-.59-.52 0-1.04.2-1.43.59L10.3 9.45l-7.72 7.72c-.78.78-.78 2.05 0 2.83L4 21.41c.39.39.9.59 1.41.59.51 0 1.02-.2 1.41-.59l7.78-7.78 2.81-2.81c.8-.78.8-2.07 0-2.86zM5.41 20L4 18.59l7.72-7.72 1.47 1.35L5.41 20z\"/>\n",
              "  </svg>\n",
              "      </button>\n",
              "      \n",
              "  <style>\n",
              "    .colab-df-container {\n",
              "      display:flex;\n",
              "      flex-wrap:wrap;\n",
              "      gap: 12px;\n",
              "    }\n",
              "\n",
              "    .colab-df-convert {\n",
              "      background-color: #E8F0FE;\n",
              "      border: none;\n",
              "      border-radius: 50%;\n",
              "      cursor: pointer;\n",
              "      display: none;\n",
              "      fill: #1967D2;\n",
              "      height: 32px;\n",
              "      padding: 0 0 0 0;\n",
              "      width: 32px;\n",
              "    }\n",
              "\n",
              "    .colab-df-convert:hover {\n",
              "      background-color: #E2EBFA;\n",
              "      box-shadow: 0px 1px 2px rgba(60, 64, 67, 0.3), 0px 1px 3px 1px rgba(60, 64, 67, 0.15);\n",
              "      fill: #174EA6;\n",
              "    }\n",
              "\n",
              "    [theme=dark] .colab-df-convert {\n",
              "      background-color: #3B4455;\n",
              "      fill: #D2E3FC;\n",
              "    }\n",
              "\n",
              "    [theme=dark] .colab-df-convert:hover {\n",
              "      background-color: #434B5C;\n",
              "      box-shadow: 0px 1px 3px 1px rgba(0, 0, 0, 0.15);\n",
              "      filter: drop-shadow(0px 1px 2px rgba(0, 0, 0, 0.3));\n",
              "      fill: #FFFFFF;\n",
              "    }\n",
              "  </style>\n",
              "\n",
              "      <script>\n",
              "        const buttonEl =\n",
              "          document.querySelector('#df-c0278dff-d742-425a-80ca-ee3b701b7819 button.colab-df-convert');\n",
              "        buttonEl.style.display =\n",
              "          google.colab.kernel.accessAllowed ? 'block' : 'none';\n",
              "\n",
              "        async function convertToInteractive(key) {\n",
              "          const element = document.querySelector('#df-c0278dff-d742-425a-80ca-ee3b701b7819');\n",
              "          const dataTable =\n",
              "            await google.colab.kernel.invokeFunction('convertToInteractive',\n",
              "                                                     [key], {});\n",
              "          if (!dataTable) return;\n",
              "\n",
              "          const docLinkHtml = 'Like what you see? Visit the ' +\n",
              "            '<a target=\"_blank\" href=https://colab.research.google.com/notebooks/data_table.ipynb>data table notebook</a>'\n",
              "            + ' to learn more about interactive tables.';\n",
              "          element.innerHTML = '';\n",
              "          dataTable['output_type'] = 'display_data';\n",
              "          await google.colab.output.renderOutput(dataTable, element);\n",
              "          const docLink = document.createElement('div');\n",
              "          docLink.innerHTML = docLinkHtml;\n",
              "          element.appendChild(docLink);\n",
              "        }\n",
              "      </script>\n",
              "    </div>\n",
              "  </div>\n",
              "  "
            ],
            "text/plain": [
              "   Feature_1  Feature_2  Class_Label\n",
              "0   0.211109   0.032209            0\n",
              "1   0.263386   0.060866            0\n",
              "2   0.312221   0.097541            0\n",
              "3   0.356707   0.141855            0\n",
              "4   0.395976   0.193337            0"
            ]
          },
          "metadata": {},
          "execution_count": 4
        }
      ],
      "source": [
        "# Including the header for each row - feature 1, feature 2, class label.\n",
        "\n",
        "df.columns = [\"Feature_1\", \"Feature_2\", \"Class_Label\"]\n",
        "df.head()"
      ]
    },
    {
      "cell_type": "code",
      "execution_count": 5,
      "metadata": {
        "id": "sk5zeRVBLR9f"
      },
      "outputs": [],
      "source": [
        "# a. Train two single/double hidden layer deep networks\n",
        "# b. By varying the number of hidden nodes (4, 8, 12, 16) in each layer \n",
        "# c. with 70% training and 30% validation data. \n",
        "# d. Use appropriate learning rate, activation, and loss functions and also mention the reason for choosing the same. \n",
        "# e. Report, compare, and explain the observed accuracy and minimum loss achieved."
      ]
    },
    {
      "cell_type": "code",
      "execution_count": 6,
      "metadata": {
        "id": "5pbXMYwrLR9f"
      },
      "outputs": [],
      "source": [
        "# Seperating the input variables and the output variables\n",
        "\n",
        "X = df.drop(\"Class_Label\",axis=1)\n",
        "Y = df[\"Class_Label\"]\n"
      ]
    },
    {
      "cell_type": "code",
      "execution_count": 7,
      "metadata": {
        "id": "kO4Hl1-4LR9g"
      },
      "outputs": [],
      "source": [
        "# Splitting the dataset into 70% training and 30% validation data.\n",
        "\n",
        "Xtrain,Xtest,Ytrain,Ytest = train_test_split(X, Y, test_size = 0.3, random_state = 42)"
      ]
    },
    {
      "cell_type": "code",
      "execution_count": 54,
      "metadata": {
        "id": "p49vp12rLR9h",
        "outputId": "1f484946-b618-4dd4-e710-1577a03a15a3",
        "colab": {
          "base_uri": "https://localhost:8080/"
        }
      },
      "outputs": [
        {
          "output_type": "stream",
          "name": "stdout",
          "text": [
            "2\n"
          ]
        }
      ],
      "source": [
        "Xtrain_shape = Xtrain.shape[1]\n",
        "print (Xtrain_shape)"
      ]
    },
    {
      "cell_type": "code",
      "source": [
        ""
      ],
      "metadata": {
        "id": "Ajp_ZqobufLv"
      },
      "execution_count": 74,
      "outputs": []
    },
    {
      "cell_type": "code",
      "source": [
        "fig, axes = plt.subplots(ncols=2, nrows=2)\n",
        "fig.set_figwidth(10)\n",
        "fig.set_figheight(8)\n",
        "\n",
        "sns.distplot(df[\"Feature_2\"],kde = True,hist=False, ax=axes[0,0])\n",
        "sns.distplot(df[\"Feature_1\"],kde = True,hist=False, ax=axes[0,1])\n",
        "sns.countplot(x='Class_Label', data=df, ax=axes[1,0])\n",
        "sns.scatterplot(data=df, x=\"Feature_1\", y=\"Feature_2\",hue=\"Class_Label\",ax=axes[1,1])"
      ],
      "metadata": {
        "colab": {
          "base_uri": "https://localhost:8080/",
          "height": 605
        },
        "id": "8ZHoaSi-XKtX",
        "outputId": "f5dee14a-5f1f-417c-9d21-2c1a366420ad"
      },
      "execution_count": 86,
      "outputs": [
        {
          "output_type": "stream",
          "name": "stderr",
          "text": [
            "/usr/local/lib/python3.7/dist-packages/seaborn/distributions.py:2619: FutureWarning: `distplot` is a deprecated function and will be removed in a future version. Please adapt your code to use either `displot` (a figure-level function with similar flexibility) or `kdeplot` (an axes-level function for kernel density plots).\n",
            "  warnings.warn(msg, FutureWarning)\n",
            "/usr/local/lib/python3.7/dist-packages/seaborn/distributions.py:2619: FutureWarning: `distplot` is a deprecated function and will be removed in a future version. Please adapt your code to use either `displot` (a figure-level function with similar flexibility) or `kdeplot` (an axes-level function for kernel density plots).\n",
            "  warnings.warn(msg, FutureWarning)\n"
          ]
        },
        {
          "output_type": "execute_result",
          "data": {
            "text/plain": [
              "<matplotlib.axes._subplots.AxesSubplot at 0x7f5ad3237c10>"
            ]
          },
          "metadata": {},
          "execution_count": 86
        },
        {
          "output_type": "display_data",
          "data": {
            "image/png": "[encoded data removed]",
            "text/plain": [
              "<Figure size 720x576 with 4 Axes>"
            ]
          },
          "metadata": {
            "needs_background": "light"
          }
        }
      ]
    },
    {
      "cell_type": "code",
      "source": [
        "sns.scatterplot(data=df, x=\"Feature_1\", y=\"Feature_2\",hue=\"Class_Label\")"
      ],
      "metadata": {
        "id": "T27B8UnMsWGs",
        "outputId": "1f655919-ab23-4d86-d80b-5a58babbaa77",
        "colab": {
          "base_uri": "https://localhost:8080/",
          "height": 298
        }
      },
      "execution_count": 9,
      "outputs": [
        {
          "output_type": "execute_result",
          "data": {
            "text/plain": [
              "<matplotlib.axes._subplots.AxesSubplot at 0x7f5adb92a810>"
            ]
          },
          "metadata": {},
          "execution_count": 9
        },
        {
          "output_type": "display_data",
          "data": {
            "image/png": "[encoded data removed]",
            "text/plain": [
              "<Figure size 432x288 with 1 Axes>"
            ]
          },
          "metadata": {
            "needs_background": "light"
          }
        }
      ]
    },
    {
      "cell_type": "code",
      "source": [
        "X.corr()"
      ],
      "metadata": {
        "colab": {
          "base_uri": "https://localhost:8080/",
          "height": 112
        },
        "id": "HDIYVTkP0_h8",
        "outputId": "e890babd-563b-4377-ad54-2f95b777e9f6"
      },
      "execution_count": 49,
      "outputs": [
        {
          "output_type": "execute_result",
          "data": {
            "text/html": [
              "\n",
              "  <div id=\"df-b4bda1cc-d1fb-45a9-9181-89230f53b66a\">\n",
              "    <div class=\"colab-df-container\">\n",
              "      <div>\n",
              "<style scoped>\n",
              "    .dataframe tbody tr th:only-of-type {\n",
              "        vertical-align: middle;\n",
              "    }\n",
              "\n",
              "    .dataframe tbody tr th {\n",
              "        vertical-align: top;\n",
              "    }\n",
              "\n",
              "    .dataframe thead th {\n",
              "        text-align: right;\n",
              "    }\n",
              "</style>\n",
              "<table border=\"1\" class=\"dataframe\">\n",
              "  <thead>\n",
              "    <tr style=\"text-align: right;\">\n",
              "      <th></th>\n",
              "      <th>Feature_1</th>\n",
              "      <th>Feature_2</th>\n",
              "    </tr>\n",
              "  </thead>\n",
              "  <tbody>\n",
              "    <tr>\n",
              "      <th>Feature_1</th>\n",
              "      <td>1.000000</td>\n",
              "      <td>-0.079311</td>\n",
              "    </tr>\n",
              "    <tr>\n",
              "      <th>Feature_2</th>\n",
              "      <td>-0.079311</td>\n",
              "      <td>1.000000</td>\n",
              "    </tr>\n",
              "  </tbody>\n",
              "</table>\n",
              "</div>\n",
              "      <button class=\"colab-df-convert\" onclick=\"convertToInteractive('df-b4bda1cc-d1fb-45a9-9181-89230f53b66a')\"\n",
              "              title=\"Convert this dataframe to an interactive table.\"\n",
              "              style=\"display:none;\">\n",
              "        \n",
              "  <svg xmlns=\"http://www.w3.org/2000/svg\" height=\"24px\"viewBox=\"0 0 24 24\"\n",
              "       width=\"24px\">\n",
              "    <path d=\"M0 0h24v24H0V0z\" fill=\"none\"/>\n",
              "    <path d=\"M18.56 5.44l.94 2.06.94-2.06 2.06-.94-2.06-.94-.94-2.06-.94 2.06-2.06.94zm-11 1L8.5 8.5l.94-2.06 2.06-.94-2.06-.94L8.5 2.5l-.94 2.06-2.06.94zm10 10l.94 2.06.94-2.06 2.06-.94-2.06-.94-.94-2.06-.94 2.06-2.06.94z\"/><path d=\"M17.41 7.96l-1.37-1.37c-.4-.4-.92-.59-1.43-.59-.52 0-1.04.2-1.43.59L10.3 9.45l-7.72 7.72c-.78.78-.78 2.05 0 2.83L4 21.41c.39.39.9.59 1.41.59.51 0 1.02-.2 1.41-.59l7.78-7.78 2.81-2.81c.8-.78.8-2.07 0-2.86zM5.41 20L4 18.59l7.72-7.72 1.47 1.35L5.41 20z\"/>\n",
              "  </svg>\n",
              "      </button>\n",
              "      \n",
              "  <style>\n",
              "    .colab-df-container {\n",
              "      display:flex;\n",
              "      flex-wrap:wrap;\n",
              "      gap: 12px;\n",
              "    }\n",
              "\n",
              "    .colab-df-convert {\n",
              "      background-color: #E8F0FE;\n",
              "      border: none;\n",
              "      border-radius: 50%;\n",
              "      cursor: pointer;\n",
              "      display: none;\n",
              "      fill: #1967D2;\n",
              "      height: 32px;\n",
              "      padding: 0 0 0 0;\n",
              "      width: 32px;\n",
              "    }\n",
              "\n",
              "    .colab-df-convert:hover {\n",
              "      background-color: #E2EBFA;\n",
              "      box-shadow: 0px 1px 2px rgba(60, 64, 67, 0.3), 0px 1px 3px 1px rgba(60, 64, 67, 0.15);\n",
              "      fill: #174EA6;\n",
              "    }\n",
              "\n",
              "    [theme=dark] .colab-df-convert {\n",
              "      background-color: #3B4455;\n",
              "      fill: #D2E3FC;\n",
              "    }\n",
              "\n",
              "    [theme=dark] .colab-df-convert:hover {\n",
              "      background-color: #434B5C;\n",
              "      box-shadow: 0px 1px 3px 1px rgba(0, 0, 0, 0.15);\n",
              "      filter: drop-shadow(0px 1px 2px rgba(0, 0, 0, 0.3));\n",
              "      fill: #FFFFFF;\n",
              "    }\n",
              "  </style>\n",
              "\n",
              "      <script>\n",
              "        const buttonEl =\n",
              "          document.querySelector('#df-b4bda1cc-d1fb-45a9-9181-89230f53b66a button.colab-df-convert');\n",
              "        buttonEl.style.display =\n",
              "          google.colab.kernel.accessAllowed ? 'block' : 'none';\n",
              "\n",
              "        async function convertToInteractive(key) {\n",
              "          const element = document.querySelector('#df-b4bda1cc-d1fb-45a9-9181-89230f53b66a');\n",
              "          const dataTable =\n",
              "            await google.colab.kernel.invokeFunction('convertToInteractive',\n",
              "                                                     [key], {});\n",
              "          if (!dataTable) return;\n",
              "\n",
              "          const docLinkHtml = 'Like what you see? Visit the ' +\n",
              "            '<a target=\"_blank\" href=https://colab.research.google.com/notebooks/data_table.ipynb>data table notebook</a>'\n",
              "            + ' to learn more about interactive tables.';\n",
              "          element.innerHTML = '';\n",
              "          dataTable['output_type'] = 'display_data';\n",
              "          await google.colab.output.renderOutput(dataTable, element);\n",
              "          const docLink = document.createElement('div');\n",
              "          docLink.innerHTML = docLinkHtml;\n",
              "          element.appendChild(docLink);\n",
              "        }\n",
              "      </script>\n",
              "    </div>\n",
              "  </div>\n",
              "  "
            ],
            "text/plain": [
              "           Feature_1  Feature_2\n",
              "Feature_1   1.000000  -0.079311\n",
              "Feature_2  -0.079311   1.000000"
            ]
          },
          "metadata": {},
          "execution_count": 49
        }
      ]
    },
    {
      "cell_type": "code",
      "source": [
        "Feature_1_log = np.log(df[\"Feature_1\"].copy()) # log \n",
        "Feature_1_square_root = np.sqrt(df[\"Feature_1\"].copy())\n",
        "Feature_2_log = np.log(df[\"Feature_2\"].copy()) # log \n",
        "Feature_2_square_root = np.sqrt(df[\"Feature_2\"].copy())"
      ],
      "metadata": {
        "id": "LZZrafKKvv-6"
      },
      "execution_count": null,
      "outputs": []
    },
    {
      "cell_type": "code",
      "execution_count": 58,
      "metadata": {
        "id": "PE1N9Jh-LR9i",
        "outputId": "0814667a-8b80-4de0-c57f-f00cb714c192",
        "colab": {
          "base_uri": "https://localhost:8080/"
        }
      },
      "outputs": [
        {
          "output_type": "stream",
          "name": "stdout",
          "text": [
            "Model: \"sequential_11\"\n",
            "_________________________________________________________________\n",
            " Layer (type)                Output Shape              Param #   \n",
            "=================================================================\n",
            " dense_44 (Dense)            (None, 4)                 12        \n",
            "                                                                 \n",
            " dense_45 (Dense)            (None, 8)                 40        \n",
            "                                                                 \n",
            " dense_46 (Dense)            (None, 12)                108       \n",
            "                                                                 \n",
            " dense_47 (Dense)            (None, 1)                 13        \n",
            "                                                                 \n",
            "=================================================================\n",
            "Total params: 173\n",
            "Trainable params: 173\n",
            "Non-trainable params: 0\n",
            "_________________________________________________________________\n"
          ]
        }
      ],
      "source": [
        "# Train two single/double hidden layer deep networks by varying the number of hidden nodes (4, 8, 12, 16) \n",
        "\n",
        "# Model 1\n",
        "dnnModel = Sequential()\n",
        "# layer 1 = input layer\n",
        "dnnModel.add(Dense(4, activation = 'relu', input_shape = (Xtrain_shape,)))\n",
        "# layer 2 = hidden layer\n",
        "dnnModel.add(Dense(8, activation = 'relu'))\n",
        "# layer 3 = hidden layer\n",
        "dnnModel.add(Dense(12, activation = 'relu'))\n",
        "# layer 4 = output layer\n",
        "dnnModel.add(Dense(1, activation = 'softmax'))\n",
        "dnnModel.compile(optimizer = 'adam', loss = 'binary_crossentropy', metrics = ['accuracy'])\n",
        "\n",
        "dnnModel.summary()"
      ]
    },
    {
      "cell_type": "code",
      "source": [
        "tensorflow.keras.utils.plot_model(dnnModel, show_shapes=True, rankdir=\"LR\")"
      ],
      "metadata": {
        "colab": {
          "base_uri": "https://localhost:8080/",
          "height": 152
        },
        "id": "DX672mtLAfqk",
        "outputId": "18965ece-7c2d-44e6-8186-fd1f956f7a18"
      },
      "execution_count": 59,
      "outputs": [
        {
          "output_type": "execute_result",
          "data": {
            "image/png": "[encoded data removed]",
            "text/plain": [
              "<IPython.core.display.Image object>"
            ]
          },
          "metadata": {},
          "execution_count": 59
        }
      ]
    },
    {
      "cell_type": "code",
      "execution_count": 60,
      "metadata": {
        "id": "byoQE80JLR9j",
        "outputId": "aa9dce65-8abf-4895-b052-bfe685f6b985",
        "colab": {
          "base_uri": "https://localhost:8080/",
          "height": 1000
        }
      },
      "outputs": [
        {
          "output_type": "stream",
          "name": "stdout",
          "text": [
            "Epoch 1/25\n",
            "11/11 [==============================] - 1s 20ms/step - loss: 0.7221 - accuracy: 0.5014 - val_loss: 0.7090 - val_accuracy: 0.5067\n",
            "Epoch 2/25\n",
            "11/11 [==============================] - 0s 6ms/step - loss: 0.7000 - accuracy: 0.5014 - val_loss: 0.6984 - val_accuracy: 0.5067\n",
            "Epoch 3/25\n",
            "11/11 [==============================] - 0s 5ms/step - loss: 0.6958 - accuracy: 0.5014 - val_loss: 0.6951 - val_accuracy: 0.5067\n",
            "Epoch 4/25\n",
            "11/11 [==============================] - 0s 5ms/step - loss: 0.6903 - accuracy: 0.5014 - val_loss: 0.6934 - val_accuracy: 0.5067\n",
            "Epoch 5/25\n",
            "11/11 [==============================] - 0s 6ms/step - loss: 0.6888 - accuracy: 0.5014 - val_loss: 0.6938 - val_accuracy: 0.5067\n",
            "Epoch 6/25\n",
            "11/11 [==============================] - 0s 7ms/step - loss: 0.6864 - accuracy: 0.5014 - val_loss: 0.6926 - val_accuracy: 0.5067\n",
            "Epoch 7/25\n",
            "11/11 [==============================] - 0s 4ms/step - loss: 0.6851 - accuracy: 0.5014 - val_loss: 0.6922 - val_accuracy: 0.5067\n",
            "Epoch 8/25\n",
            "11/11 [==============================] - 0s 6ms/step - loss: 0.6847 - accuracy: 0.5014 - val_loss: 0.6922 - val_accuracy: 0.5067\n",
            "Epoch 9/25\n",
            "11/11 [==============================] - 0s 7ms/step - loss: 0.6841 - accuracy: 0.5014 - val_loss: 0.6923 - val_accuracy: 0.5067\n",
            "Epoch 10/25\n",
            "11/11 [==============================] - 0s 6ms/step - loss: 0.6831 - accuracy: 0.5014 - val_loss: 0.6933 - val_accuracy: 0.5067\n",
            "Epoch 11/25\n",
            "11/11 [==============================] - 0s 5ms/step - loss: 0.6829 - accuracy: 0.5014 - val_loss: 0.6940 - val_accuracy: 0.5067\n",
            "Epoch 12/25\n",
            "11/11 [==============================] - 0s 6ms/step - loss: 0.6826 - accuracy: 0.5014 - val_loss: 0.6937 - val_accuracy: 0.5067\n",
            "Epoch 13/25\n",
            "11/11 [==============================] - 0s 5ms/step - loss: 0.6826 - accuracy: 0.5014 - val_loss: 0.6937 - val_accuracy: 0.5067\n",
            "Epoch 14/25\n",
            "11/11 [==============================] - 0s 5ms/step - loss: 0.6817 - accuracy: 0.5014 - val_loss: 0.6945 - val_accuracy: 0.5067\n",
            "Epoch 15/25\n",
            "11/11 [==============================] - 0s 6ms/step - loss: 0.6818 - accuracy: 0.5014 - val_loss: 0.6955 - val_accuracy: 0.5067\n",
            "Epoch 16/25\n",
            "11/11 [==============================] - 0s 6ms/step - loss: 0.6806 - accuracy: 0.5014 - val_loss: 0.6946 - val_accuracy: 0.5067\n",
            "Epoch 17/25\n",
            "11/11 [==============================] - 0s 6ms/step - loss: 0.6806 - accuracy: 0.5014 - val_loss: 0.6946 - val_accuracy: 0.5067\n",
            "Epoch 18/25\n",
            "11/11 [==============================] - 0s 5ms/step - loss: 0.6804 - accuracy: 0.5014 - val_loss: 0.6948 - val_accuracy: 0.5067\n",
            "Epoch 19/25\n",
            "11/11 [==============================] - 0s 6ms/step - loss: 0.6811 - accuracy: 0.5014 - val_loss: 0.6955 - val_accuracy: 0.5067\n",
            "Epoch 20/25\n",
            "11/11 [==============================] - 0s 6ms/step - loss: 0.6798 - accuracy: 0.5014 - val_loss: 0.6956 - val_accuracy: 0.5067\n",
            "Epoch 21/25\n",
            "11/11 [==============================] - 0s 6ms/step - loss: 0.6802 - accuracy: 0.5014 - val_loss: 0.6958 - val_accuracy: 0.5067\n",
            "Epoch 22/25\n",
            "11/11 [==============================] - 0s 6ms/step - loss: 0.6819 - accuracy: 0.5014 - val_loss: 0.6973 - val_accuracy: 0.5067\n",
            "Epoch 23/25\n",
            "11/11 [==============================] - 0s 7ms/step - loss: 0.6794 - accuracy: 0.5014 - val_loss: 0.6960 - val_accuracy: 0.5067\n",
            "Epoch 24/25\n",
            "11/11 [==============================] - 0s 5ms/step - loss: 0.6789 - accuracy: 0.5014 - val_loss: 0.6959 - val_accuracy: 0.5067\n",
            "Epoch 25/25\n",
            "11/11 [==============================] - 0s 5ms/step - loss: 0.6793 - accuracy: 0.5014 - val_loss: 0.6960 - val_accuracy: 0.5067\n"
          ]
        },
        {
          "output_type": "error",
          "ename": "NameError",
          "evalue": "ignored",
          "traceback": [
            "\u001b[0;31m---------------------------------------------------------------------------\u001b[0m",
            "\u001b[0;31mNameError\u001b[0m                                 Traceback (most recent call last)",
            "\u001b[0;32m<ipython-input-60-3e462df9cb50>\u001b[0m in \u001b[0;36m<module>\u001b[0;34m()\u001b[0m\n\u001b[1;32m      1\u001b[0m \u001b[0;31m# Trainning the model\u001b[0m\u001b[0;34m\u001b[0m\u001b[0;34m\u001b[0m\u001b[0;34m\u001b[0m\u001b[0m\n\u001b[1;32m      2\u001b[0m \u001b[0mh\u001b[0m \u001b[0;34m=\u001b[0m \u001b[0mdnnModel\u001b[0m\u001b[0;34m.\u001b[0m\u001b[0mfit\u001b[0m\u001b[0;34m(\u001b[0m\u001b[0mXtrain\u001b[0m\u001b[0;34m,\u001b[0m\u001b[0mYtrain\u001b[0m\u001b[0;34m,\u001b[0m\u001b[0mvalidation_data\u001b[0m \u001b[0;34m=\u001b[0m \u001b[0;34m(\u001b[0m\u001b[0mXtest\u001b[0m\u001b[0;34m,\u001b[0m \u001b[0mYtest\u001b[0m\u001b[0;34m)\u001b[0m\u001b[0;34m,\u001b[0m \u001b[0mepochs\u001b[0m \u001b[0;34m=\u001b[0m \u001b[0;36m25\u001b[0m\u001b[0;34m,\u001b[0m\u001b[0mverbose\u001b[0m \u001b[0;34m=\u001b[0m \u001b[0;36m1\u001b[0m\u001b[0;34m)\u001b[0m\u001b[0;34m\u001b[0m\u001b[0;34m\u001b[0m\u001b[0m\n\u001b[0;32m----> 3\u001b[0;31m \u001b[0m_\u001b[0m\u001b[0;34m,\u001b[0m \u001b[0mtrain_acc\u001b[0m \u001b[0;34m=\u001b[0m \u001b[0mdnnModel\u001b[0m\u001b[0;34m.\u001b[0m\u001b[0mevaluate\u001b[0m\u001b[0;34m(\u001b[0m\u001b[0mx_train\u001b[0m\u001b[0;34m,\u001b[0m \u001b[0my_train\u001b[0m\u001b[0;34m,\u001b[0m \u001b[0mverbose\u001b[0m\u001b[0;34m=\u001b[0m\u001b[0;36m1\u001b[0m\u001b[0;34m)\u001b[0m\u001b[0;34m\u001b[0m\u001b[0;34m\u001b[0m\u001b[0m\n\u001b[0m\u001b[1;32m      4\u001b[0m \u001b[0m_\u001b[0m\u001b[0;34m,\u001b[0m \u001b[0mtest_acc\u001b[0m \u001b[0;34m=\u001b[0m \u001b[0mdnnModel\u001b[0m\u001b[0;34m.\u001b[0m\u001b[0mevaluate\u001b[0m\u001b[0;34m(\u001b[0m\u001b[0mtest_images\u001b[0m\u001b[0;34m,\u001b[0m \u001b[0mtest_labels\u001b[0m\u001b[0;34m,\u001b[0m \u001b[0mverbose\u001b[0m\u001b[0;34m=\u001b[0m\u001b[0;36m1\u001b[0m\u001b[0;34m)\u001b[0m\u001b[0;34m\u001b[0m\u001b[0;34m\u001b[0m\u001b[0m\n\u001b[1;32m      5\u001b[0m \u001b[0mprint\u001b[0m\u001b[0;34m(\u001b[0m\u001b[0;34m'Train: %.3f, Test: %.3f'\u001b[0m \u001b[0;34m%\u001b[0m \u001b[0;34m(\u001b[0m\u001b[0mtrain_acc\u001b[0m\u001b[0;34m,\u001b[0m \u001b[0mtest_acc\u001b[0m\u001b[0;34m)\u001b[0m\u001b[0;34m)\u001b[0m\u001b[0;34m\u001b[0m\u001b[0;34m\u001b[0m\u001b[0m\n",
            "\u001b[0;31mNameError\u001b[0m: name 'x_train' is not defined"
          ]
        }
      ],
      "source": [
        "# Trainning the model\n",
        "h = dnnModel.fit(Xtrain,Ytrain,validation_data = (Xtest, Ytest), epochs = 25,verbose = 1)\n",
        "_, train_acc = dnnModel.evaluate(Xtrain, Ytrain, verbose=1)\n",
        "_, test_acc = dnnModel.evaluate(test_images, test_labels, verbose=1)\n",
        "print('Train: %.3f, Test: %.3f' % (train_acc, test_acc))"
      ]
    },
    {
      "cell_type": "code",
      "execution_count": 12,
      "metadata": {
        "id": "sH_We4RNLR9j"
      },
      "outputs": [],
      "source": [
        "# plotting the training accuracy\n",
        "def plot_history(h):\n",
        " \n",
        "    plt.plot(h.history['val_accuracy'], label='validation accuracy')\n",
        "    plt.plot(h.history['accuracy'], label='train accuracy')\n",
        "    plt.xlabel('Epochs')\n",
        "    plt.ylabel('Accuracy')    \n",
        "    plt.legend()\n",
        "    plt.title(\"Plot of Accuracy\")\n",
        "    \n",
        "    plt.show()"
      ]
    },
    {
      "cell_type": "code",
      "execution_count": 13,
      "metadata": {
        "id": "3e_r_bgWLR9k",
        "outputId": "c48b0a85-30b0-4df9-c230-e5d203ab1406",
        "colab": {
          "base_uri": "https://localhost:8080/",
          "height": 295
        }
      },
      "outputs": [
        {
          "output_type": "display_data",
          "data": {
            "image/png": "[encoded data removed]",
            "text/plain": [
              "<Figure size 432x288 with 1 Axes>"
            ]
          },
          "metadata": {
            "needs_background": "light"
          }
        }
      ],
      "source": [
        "hist = plot_history(h)"
      ]
    },
    {
      "cell_type": "code",
      "execution_count": 14,
      "metadata": {
        "id": "-Mu-BS9pLR9k"
      },
      "outputs": [],
      "source": [
        "# plotting the training accuracy\n",
        "def plot_history(h):\n",
        "    \n",
        "    plt.plot(h.history['val_loss'], label='validation loss')\n",
        "    plt.plot(h.history['loss'], label='train loss')\n",
        "    plt.xlabel('Epochs')\n",
        "    plt.ylabel('Loss')\n",
        "    plt.legend()\n",
        "    plt.title(\"Plot of Loss\")\n",
        "    \n",
        "    \n",
        "\n",
        "    plt.show()"
      ]
    },
    {
      "cell_type": "code",
      "execution_count": 15,
      "metadata": {
        "id": "lDESR-V8LR9l",
        "outputId": "3ce0ca05-f9c1-4cca-8a09-d1190bf62a80",
        "colab": {
          "base_uri": "https://localhost:8080/",
          "height": 295
        }
      },
      "outputs": [
        {
          "output_type": "display_data",
          "data": {
            "image/png": "[encoded data removed]",
            "text/plain": [
              "<Figure size 432x288 with 1 Axes>"
            ]
          },
          "metadata": {
            "needs_background": "light"
          }
        }
      ],
      "source": [
        "hist = plot_history(h)"
      ]
    },
    {
      "cell_type": "code",
      "execution_count": 16,
      "metadata": {
        "id": "AtDmTcYULR9l",
        "outputId": "d154d6f7-7329-4119-bc1c-53e97b179b36",
        "colab": {
          "base_uri": "https://localhost:8080/"
        }
      },
      "outputs": [
        {
          "output_type": "stream",
          "name": "stdout",
          "text": [
            "Model: \"sequential_1\"\n",
            "_________________________________________________________________\n",
            " Layer (type)                Output Shape              Param #   \n",
            "=================================================================\n",
            " dense_4 (Dense)             (None, 4)                 12        \n",
            "                                                                 \n",
            " dense_5 (Dense)             (None, 8)                 40        \n",
            "                                                                 \n",
            " dropout (Dropout)           (None, 8)                 0         \n",
            "                                                                 \n",
            " dense_6 (Dense)             (None, 12)                108       \n",
            "                                                                 \n",
            " dropout_1 (Dropout)         (None, 12)                0         \n",
            "                                                                 \n",
            " dense_7 (Dense)             (None, 1)                 13        \n",
            "                                                                 \n",
            "=================================================================\n",
            "Total params: 173\n",
            "Trainable params: 173\n",
            "Non-trainable params: 0\n",
            "_________________________________________________________________\n"
          ]
        }
      ],
      "source": [
        "# Train two single/double hidden layer deep networks by varying the number of hidden nodes (4, 8, 12, 16) \n",
        "\n",
        "# Model 2\n",
        "\n",
        "\n",
        "dnnModel = Sequential()\n",
        "# layer 1 = input layer\n",
        "dnnModel.add(Dense(4, activation = 'relu', input_shape = (Xtrain_shape,)))\n",
        "# layer 2 = hidden layer\n",
        "dnnModel.add(Dense(8, activation = 'relu'))\n",
        "# Add dropout of 25% to layer 2\n",
        "dnnModel.add(Dropout(0.25))\n",
        "# layer 3 = hidden layer\n",
        "dnnModel.add(Dense(12, activation = 'relu'))\n",
        "# Add dropout of 25% to layer 3\n",
        "dnnModel.add(Dropout(0.25))\n",
        "# layer 4 = output layer\n",
        "dnnModel.add(Dense(1, activation = 'softmax'))\n",
        "dnnModel.compile(optimizer = 'adam', loss = 'binary_crossentropy', metrics = ['accuracy'])\n",
        "\n",
        "dnnModel.summary()"
      ]
    },
    {
      "cell_type": "code",
      "execution_count": 17,
      "metadata": {
        "id": "ZR737JZqLR9m",
        "outputId": "48e65925-155a-477a-dda8-eec52fa5b514",
        "colab": {
          "base_uri": "https://localhost:8080/"
        }
      },
      "outputs": [
        {
          "output_type": "stream",
          "name": "stdout",
          "text": [
            "Epoch 1/25\n",
            "11/11 [==============================] - 2s 43ms/step - loss: 1.0700 - accuracy: 0.5072 - val_loss: 0.7874 - val_accuracy: 0.4933\n",
            "Epoch 2/25\n",
            "11/11 [==============================] - 0s 14ms/step - loss: 1.0655 - accuracy: 0.5072 - val_loss: 0.7458 - val_accuracy: 0.4933\n",
            "Epoch 3/25\n",
            "11/11 [==============================] - 0s 8ms/step - loss: 0.8864 - accuracy: 0.5072 - val_loss: 0.7256 - val_accuracy: 0.4933\n",
            "Epoch 4/25\n",
            "11/11 [==============================] - 0s 10ms/step - loss: 0.8514 - accuracy: 0.5072 - val_loss: 0.7152 - val_accuracy: 0.4933\n",
            "Epoch 5/25\n",
            "11/11 [==============================] - 0s 10ms/step - loss: 0.8153 - accuracy: 0.5072 - val_loss: 0.7079 - val_accuracy: 0.4933\n",
            "Epoch 6/25\n",
            "11/11 [==============================] - 0s 9ms/step - loss: 0.8349 - accuracy: 0.5072 - val_loss: 0.7044 - val_accuracy: 0.4933\n",
            "Epoch 7/25\n",
            "11/11 [==============================] - 0s 15ms/step - loss: 0.7970 - accuracy: 0.5072 - val_loss: 0.7030 - val_accuracy: 0.4933\n",
            "Epoch 8/25\n",
            "11/11 [==============================] - 0s 10ms/step - loss: 0.8126 - accuracy: 0.5072 - val_loss: 0.7013 - val_accuracy: 0.4933\n",
            "Epoch 9/25\n",
            "11/11 [==============================] - 0s 8ms/step - loss: 0.8125 - accuracy: 0.5072 - val_loss: 0.7004 - val_accuracy: 0.4933\n",
            "Epoch 10/25\n",
            "11/11 [==============================] - 0s 9ms/step - loss: 0.8238 - accuracy: 0.5072 - val_loss: 0.6991 - val_accuracy: 0.4933\n",
            "Epoch 11/25\n",
            "11/11 [==============================] - 0s 9ms/step - loss: 0.8103 - accuracy: 0.5072 - val_loss: 0.6984 - val_accuracy: 0.4933\n",
            "Epoch 12/25\n",
            "11/11 [==============================] - 0s 9ms/step - loss: 0.7658 - accuracy: 0.5072 - val_loss: 0.6972 - val_accuracy: 0.4933\n",
            "Epoch 13/25\n",
            "11/11 [==============================] - 0s 12ms/step - loss: 0.7541 - accuracy: 0.5072 - val_loss: 0.6965 - val_accuracy: 0.4933\n",
            "Epoch 14/25\n",
            "11/11 [==============================] - 0s 13ms/step - loss: 0.7272 - accuracy: 0.5072 - val_loss: 0.6966 - val_accuracy: 0.4933\n",
            "Epoch 15/25\n",
            "11/11 [==============================] - 0s 21ms/step - loss: 0.7376 - accuracy: 0.5072 - val_loss: 0.6964 - val_accuracy: 0.4933\n",
            "Epoch 16/25\n",
            "11/11 [==============================] - 0s 13ms/step - loss: 0.7761 - accuracy: 0.5072 - val_loss: 0.6960 - val_accuracy: 0.4933\n",
            "Epoch 17/25\n",
            "11/11 [==============================] - 0s 11ms/step - loss: 0.7748 - accuracy: 0.5072 - val_loss: 0.6957 - val_accuracy: 0.4933\n",
            "Epoch 18/25\n",
            "11/11 [==============================] - 0s 18ms/step - loss: 0.7534 - accuracy: 0.5072 - val_loss: 0.6954 - val_accuracy: 0.4933\n",
            "Epoch 19/25\n",
            "11/11 [==============================] - 0s 15ms/step - loss: 0.7107 - accuracy: 0.5072 - val_loss: 0.6954 - val_accuracy: 0.4933\n",
            "Epoch 20/25\n",
            "11/11 [==============================] - 0s 9ms/step - loss: 0.7278 - accuracy: 0.5072 - val_loss: 0.6955 - val_accuracy: 0.4933\n",
            "Epoch 21/25\n",
            "11/11 [==============================] - 0s 9ms/step - loss: 0.7125 - accuracy: 0.5072 - val_loss: 0.6962 - val_accuracy: 0.4933\n",
            "Epoch 22/25\n",
            "11/11 [==============================] - 0s 13ms/step - loss: 0.7113 - accuracy: 0.5072 - val_loss: 0.6961 - val_accuracy: 0.4933\n",
            "Epoch 23/25\n",
            "11/11 [==============================] - 0s 11ms/step - loss: 0.7255 - accuracy: 0.5072 - val_loss: 0.6965 - val_accuracy: 0.4933\n",
            "Epoch 24/25\n",
            "11/11 [==============================] - 0s 9ms/step - loss: 0.7126 - accuracy: 0.5072 - val_loss: 0.6964 - val_accuracy: 0.4933\n",
            "Epoch 25/25\n",
            "11/11 [==============================] - 0s 8ms/step - loss: 0.7208 - accuracy: 0.5072 - val_loss: 0.6961 - val_accuracy: 0.4933\n"
          ]
        }
      ],
      "source": [
        "# Trainning the model\n",
        "h = dnnModel.fit(Xtrain,Ytrain,validation_data = (Xtest, Ytest), epochs = 25,verbose = 1)"
      ]
    },
    {
      "cell_type": "code",
      "execution_count": 18,
      "metadata": {
        "id": "PbI3NT1cLR9m"
      },
      "outputs": [],
      "source": [
        "# plotting the training accuracy\n",
        "def plot_history(h):\n",
        "   \n",
        "    plt.plot(h.history['val_accuracy'], label='validation accuracy')\n",
        "    plt.plot(h.history['accuracy'], label='train accuracy')\n",
        "    plt.xlabel('Epochs')\n",
        "    plt.ylabel('Accuracy')    \n",
        "    plt.legend()\n",
        "    plt.title(\"Plot of Accuracy\")\n",
        "    \n",
        "    plt.show()"
      ]
    },
    {
      "cell_type": "code",
      "execution_count": 19,
      "metadata": {
        "id": "LC4_rquXLR9m",
        "outputId": "7a3fa494-ca8c-47fb-e7a4-c80d9c786971",
        "colab": {
          "base_uri": "https://localhost:8080/",
          "height": 295
        }
      },
      "outputs": [
        {
          "output_type": "display_data",
          "data": {
            "image/png": "[encoded data removed]",
            "text/plain": [
              "<Figure size 432x288 with 1 Axes>"
            ]
          },
          "metadata": {
            "needs_background": "light"
          }
        }
      ],
      "source": [
        "hist = plot_history(h)"
      ]
    },
    {
      "cell_type": "code",
      "execution_count": 20,
      "metadata": {
        "id": "nqCDYW9gLR9n"
      },
      "outputs": [],
      "source": [
        "# plotting the training accuracy\n",
        "def plot_history(h):\n",
        "    \n",
        "    plt.plot(h.history['val_loss'], label='validation loss')\n",
        "    plt.plot(h.history['loss'], label='train loss')\n",
        "    plt.xlabel('Epochs')\n",
        "    plt.ylabel('Loss')\n",
        "    plt.legend()\n",
        "    plt.title(\"Plot of Loss\")\n",
        "    \n",
        "    \n",
        "\n",
        "    plt.show()"
      ]
    },
    {
      "cell_type": "code",
      "execution_count": 21,
      "metadata": {
        "id": "qNmEQD5qLR9n",
        "outputId": "649e5d5f-27c5-469a-cc57-bbb7c24ad617",
        "colab": {
          "base_uri": "https://localhost:8080/",
          "height": 295
        }
      },
      "outputs": [
        {
          "output_type": "display_data",
          "data": {
            "image/png": "[encoded data removed]",
            "text/plain": [
              "<Figure size 432x288 with 1 Axes>"
            ]
          },
          "metadata": {
            "needs_background": "light"
          }
        }
      ],
      "source": [
        "hist = plot_history(h)"
      ]
    },
    {
      "cell_type": "code",
      "execution_count": 22,
      "metadata": {
        "id": "jCT0rqbWLR9o",
        "outputId": "8d6cc1e9-ce7d-49e3-a6cc-51c07e8b9c9a",
        "colab": {
          "base_uri": "https://localhost:8080/"
        }
      },
      "outputs": [
        {
          "output_type": "stream",
          "name": "stdout",
          "text": [
            "Model: \"sequential_2\"\n",
            "_________________________________________________________________\n",
            " Layer (type)                Output Shape              Param #   \n",
            "=================================================================\n",
            " dense_8 (Dense)             (None, 8)                 24        \n",
            "                                                                 \n",
            " dense_9 (Dense)             (None, 12)                108       \n",
            "                                                                 \n",
            " dense_10 (Dense)            (None, 16)                208       \n",
            "                                                                 \n",
            " dense_11 (Dense)            (None, 1)                 17        \n",
            "                                                                 \n",
            "=================================================================\n",
            "Total params: 357\n",
            "Trainable params: 357\n",
            "Non-trainable params: 0\n",
            "_________________________________________________________________\n"
          ]
        }
      ],
      "source": [
        "# Train two single/double hidden layer deep networks by varying the number of hidden nodes (4, 8, 12, 16) \n",
        "\n",
        "# Model 3\n",
        "\n",
        "\n",
        "dnnModel = Sequential()\n",
        "# layer 1 = input layer\n",
        "dnnModel.add(Dense(8, activation = 'relu', input_shape = (Xtrain_shape,)))\n",
        "# layer 2 = hidden layer\n",
        "dnnModel.add(Dense(12, activation = 'relu'))\n",
        "# layer 3 = hidden layer\n",
        "dnnModel.add(Dense(16, activation = 'relu'))\n",
        "# layer 4 = output layer\n",
        "dnnModel.add(Dense(1, activation = 'softmax'))\n",
        "dnnModel.compile(optimizer = 'adam', loss = 'binary_crossentropy', metrics = ['accuracy'])\n",
        "\n",
        "dnnModel.summary()"
      ]
    },
    {
      "cell_type": "code",
      "execution_count": 23,
      "metadata": {
        "id": "HUOQ6zWILR9o",
        "outputId": "4349940f-05f6-4424-a339-ff232856b61b",
        "colab": {
          "base_uri": "https://localhost:8080/"
        }
      },
      "outputs": [
        {
          "output_type": "stream",
          "name": "stdout",
          "text": [
            "Epoch 1/25\n",
            "11/11 [==============================] - 2s 61ms/step - loss: 0.8377 - accuracy: 0.5072 - val_loss: 0.8834 - val_accuracy: 0.4933\n",
            "Epoch 2/25\n",
            "11/11 [==============================] - 0s 13ms/step - loss: 0.7759 - accuracy: 0.5072 - val_loss: 0.8233 - val_accuracy: 0.4933\n",
            "Epoch 3/25\n",
            "11/11 [==============================] - 0s 13ms/step - loss: 0.7330 - accuracy: 0.5072 - val_loss: 0.7783 - val_accuracy: 0.4933\n",
            "Epoch 4/25\n",
            "11/11 [==============================] - 0s 13ms/step - loss: 0.7074 - accuracy: 0.5072 - val_loss: 0.7527 - val_accuracy: 0.4933\n",
            "Epoch 5/25\n",
            "11/11 [==============================] - 0s 10ms/step - loss: 0.6925 - accuracy: 0.5072 - val_loss: 0.7394 - val_accuracy: 0.4933\n",
            "Epoch 6/25\n",
            "11/11 [==============================] - 0s 24ms/step - loss: 0.6862 - accuracy: 0.5072 - val_loss: 0.7271 - val_accuracy: 0.4933\n",
            "Epoch 7/25\n",
            "11/11 [==============================] - 0s 12ms/step - loss: 0.6824 - accuracy: 0.5072 - val_loss: 0.7216 - val_accuracy: 0.4933\n",
            "Epoch 8/25\n",
            "11/11 [==============================] - 0s 18ms/step - loss: 0.6804 - accuracy: 0.5072 - val_loss: 0.7212 - val_accuracy: 0.4933\n",
            "Epoch 9/25\n",
            "11/11 [==============================] - 0s 15ms/step - loss: 0.6794 - accuracy: 0.5072 - val_loss: 0.7235 - val_accuracy: 0.4933\n",
            "Epoch 10/25\n",
            "11/11 [==============================] - 0s 18ms/step - loss: 0.6780 - accuracy: 0.5072 - val_loss: 0.7230 - val_accuracy: 0.4933\n",
            "Epoch 11/25\n",
            "11/11 [==============================] - 0s 19ms/step - loss: 0.6771 - accuracy: 0.5072 - val_loss: 0.7237 - val_accuracy: 0.4933\n",
            "Epoch 12/25\n",
            "11/11 [==============================] - 0s 20ms/step - loss: 0.6766 - accuracy: 0.5072 - val_loss: 0.7244 - val_accuracy: 0.4933\n",
            "Epoch 13/25\n",
            "11/11 [==============================] - 0s 8ms/step - loss: 0.6759 - accuracy: 0.5072 - val_loss: 0.7267 - val_accuracy: 0.4933\n",
            "Epoch 14/25\n",
            "11/11 [==============================] - 0s 11ms/step - loss: 0.6751 - accuracy: 0.5072 - val_loss: 0.7271 - val_accuracy: 0.4933\n",
            "Epoch 15/25\n",
            "11/11 [==============================] - 0s 13ms/step - loss: 0.6753 - accuracy: 0.5072 - val_loss: 0.7306 - val_accuracy: 0.4933\n",
            "Epoch 16/25\n",
            "11/11 [==============================] - 0s 9ms/step - loss: 0.6737 - accuracy: 0.5072 - val_loss: 0.7278 - val_accuracy: 0.4933\n",
            "Epoch 17/25\n",
            "11/11 [==============================] - 0s 13ms/step - loss: 0.6736 - accuracy: 0.5072 - val_loss: 0.7250 - val_accuracy: 0.4933\n",
            "Epoch 18/25\n",
            "11/11 [==============================] - 0s 23ms/step - loss: 0.6728 - accuracy: 0.5072 - val_loss: 0.7293 - val_accuracy: 0.4933\n",
            "Epoch 19/25\n",
            "11/11 [==============================] - 0s 16ms/step - loss: 0.6728 - accuracy: 0.5072 - val_loss: 0.7279 - val_accuracy: 0.4933\n",
            "Epoch 20/25\n",
            "11/11 [==============================] - 0s 19ms/step - loss: 0.6719 - accuracy: 0.5072 - val_loss: 0.7290 - val_accuracy: 0.4933\n",
            "Epoch 21/25\n",
            "11/11 [==============================] - 0s 12ms/step - loss: 0.6716 - accuracy: 0.5072 - val_loss: 0.7294 - val_accuracy: 0.4933\n",
            "Epoch 22/25\n",
            "11/11 [==============================] - 0s 15ms/step - loss: 0.6714 - accuracy: 0.5072 - val_loss: 0.7298 - val_accuracy: 0.4933\n",
            "Epoch 23/25\n",
            "11/11 [==============================] - 0s 9ms/step - loss: 0.6707 - accuracy: 0.5072 - val_loss: 0.7303 - val_accuracy: 0.4933\n",
            "Epoch 24/25\n",
            "11/11 [==============================] - 0s 10ms/step - loss: 0.6705 - accuracy: 0.5072 - val_loss: 0.7300 - val_accuracy: 0.4933\n",
            "Epoch 25/25\n",
            "11/11 [==============================] - 0s 11ms/step - loss: 0.6698 - accuracy: 0.5072 - val_loss: 0.7330 - val_accuracy: 0.4933\n"
          ]
        }
      ],
      "source": [
        "# Trainning the model\n",
        "h = dnnModel.fit(Xtrain,Ytrain,validation_data = (Xtest, Ytest), epochs = 25,verbose = 1)"
      ]
    },
    {
      "cell_type": "code",
      "execution_count": 24,
      "metadata": {
        "id": "Gs98O717LR9o"
      },
      "outputs": [],
      "source": [
        "# plotting the training accuracy\n",
        "def plot_history(h):\n",
        "   \n",
        "    plt.plot(h.history['val_accuracy'], label='validation accuracy')\n",
        "    plt.plot(h.history['accuracy'], label='train accuracy')\n",
        "    plt.xlabel('Epochs')\n",
        "    plt.ylabel('Accuracy')    \n",
        "    plt.legend()\n",
        "    plt.title(\"Plot of Accuracy\")\n",
        "    \n",
        "    plt.show()"
      ]
    },
    {
      "cell_type": "code",
      "execution_count": 25,
      "metadata": {
        "id": "lDVhL2-eLR9p",
        "outputId": "2f34e1b3-d0f4-4832-c78c-9592b3543765",
        "colab": {
          "base_uri": "https://localhost:8080/",
          "height": 295
        }
      },
      "outputs": [
        {
          "output_type": "display_data",
          "data": {
            "image/png": "[encoded data removed]",
            "text/plain": [
              "<Figure size 432x288 with 1 Axes>"
            ]
          },
          "metadata": {
            "needs_background": "light"
          }
        }
      ],
      "source": [
        "hist = plot_history(h)"
      ]
    },
    {
      "cell_type": "code",
      "execution_count": 26,
      "metadata": {
        "id": "LlY8xgRBLR9q"
      },
      "outputs": [],
      "source": [
        "# plotting the training accuracy\n",
        "def plot_history(h):\n",
        "    \n",
        "    plt.plot(h.history['val_loss'], label='validation loss')\n",
        "    plt.plot(h.history['loss'], label='train loss')\n",
        "    plt.xlabel('Epochs')\n",
        "    plt.ylabel('Loss')\n",
        "    plt.legend()\n",
        "    plt.title(\"Plot of Loss\")\n",
        "    \n",
        "    \n",
        "\n",
        "    plt.show()"
      ]
    },
    {
      "cell_type": "code",
      "execution_count": 27,
      "metadata": {
        "id": "pZOBJ12FLR9q",
        "outputId": "8add9888-b17f-454c-d0a2-9733745ed19e",
        "colab": {
          "base_uri": "https://localhost:8080/",
          "height": 295
        }
      },
      "outputs": [
        {
          "output_type": "display_data",
          "data": {
            "image/png": "[encoded data removed]",
            "text/plain": [
              "<Figure size 432x288 with 1 Axes>"
            ]
          },
          "metadata": {
            "needs_background": "light"
          }
        }
      ],
      "source": [
        "hist = plot_history(h)"
      ]
    },
    {
      "cell_type": "code",
      "execution_count": 28,
      "metadata": {
        "id": "MLxQB9y4LR9q",
        "outputId": "67e1987a-19a9-4fa4-e3cc-354e158326ca",
        "colab": {
          "base_uri": "https://localhost:8080/"
        }
      },
      "outputs": [
        {
          "output_type": "stream",
          "name": "stdout",
          "text": [
            "Model: \"sequential_3\"\n",
            "_________________________________________________________________\n",
            " Layer (type)                Output Shape              Param #   \n",
            "=================================================================\n",
            " dense_12 (Dense)            (None, 8)                 24        \n",
            "                                                                 \n",
            " dense_13 (Dense)            (None, 12)                108       \n",
            "                                                                 \n",
            " dropout_2 (Dropout)         (None, 12)                0         \n",
            "                                                                 \n",
            " dense_14 (Dense)            (None, 16)                208       \n",
            "                                                                 \n",
            " dropout_3 (Dropout)         (None, 16)                0         \n",
            "                                                                 \n",
            " dense_15 (Dense)            (None, 1)                 17        \n",
            "                                                                 \n",
            "=================================================================\n",
            "Total params: 357\n",
            "Trainable params: 357\n",
            "Non-trainable params: 0\n",
            "_________________________________________________________________\n"
          ]
        }
      ],
      "source": [
        "# Train two single/double hidden layer deep networks by varying the number of hidden nodes (4, 8, 12, 16) \n",
        "\n",
        "# Model 4\n",
        "\n",
        "\n",
        "dnnModel = Sequential()\n",
        "# layer 1 = input layer\n",
        "dnnModel.add(Dense(8, activation = 'relu', input_shape = (Xtrain_shape,)))\n",
        "# layer 2 = hidden layer\n",
        "dnnModel.add(Dense(12, activation = 'relu'))\n",
        "# Add dropout of 25% to layer 2\n",
        "dnnModel.add(Dropout(0.25))\n",
        "# layer 3 = hidden layer\n",
        "dnnModel.add(Dense(16, activation = 'relu'))\n",
        "# Add dropout of 25% to layer 3\n",
        "dnnModel.add(Dropout(0.25))\n",
        "# layer 4 = output layer\n",
        "dnnModel.add(Dense(1, activation = 'softmax'))\n",
        "dnnModel.compile(optimizer = 'adam', loss = 'binary_crossentropy', metrics = ['accuracy'])\n",
        "\n",
        "dnnModel.summary()"
      ]
    },
    {
      "cell_type": "code",
      "execution_count": 29,
      "metadata": {
        "id": "PqRub7IxLR9q",
        "outputId": "485c8a21-267a-4399-d586-6e426f7f3336",
        "colab": {
          "base_uri": "https://localhost:8080/"
        }
      },
      "outputs": [
        {
          "output_type": "stream",
          "name": "stdout",
          "text": [
            "Epoch 1/25\n",
            "11/11 [==============================] - 1s 34ms/step - loss: 0.9690 - accuracy: 0.5072 - val_loss: 0.7549 - val_accuracy: 0.4933\n",
            "Epoch 2/25\n",
            "11/11 [==============================] - 0s 12ms/step - loss: 0.9211 - accuracy: 0.5072 - val_loss: 0.7092 - val_accuracy: 0.4933\n",
            "Epoch 3/25\n",
            "11/11 [==============================] - 0s 9ms/step - loss: 0.8408 - accuracy: 0.5072 - val_loss: 0.6921 - val_accuracy: 0.4933\n",
            "Epoch 4/25\n",
            "11/11 [==============================] - 0s 8ms/step - loss: 0.8485 - accuracy: 0.5072 - val_loss: 0.6936 - val_accuracy: 0.4933\n",
            "Epoch 5/25\n",
            "11/11 [==============================] - 0s 12ms/step - loss: 0.8199 - accuracy: 0.5072 - val_loss: 0.6994 - val_accuracy: 0.4933\n",
            "Epoch 6/25\n",
            "11/11 [==============================] - 0s 10ms/step - loss: 0.8500 - accuracy: 0.5072 - val_loss: 0.7043 - val_accuracy: 0.4933\n",
            "Epoch 7/25\n",
            "11/11 [==============================] - 0s 9ms/step - loss: 0.8198 - accuracy: 0.5072 - val_loss: 0.7082 - val_accuracy: 0.4933\n",
            "Epoch 8/25\n",
            "11/11 [==============================] - 0s 10ms/step - loss: 0.7433 - accuracy: 0.5072 - val_loss: 0.7098 - val_accuracy: 0.4933\n",
            "Epoch 9/25\n",
            "11/11 [==============================] - 0s 9ms/step - loss: 0.7730 - accuracy: 0.5072 - val_loss: 0.7112 - val_accuracy: 0.4933\n",
            "Epoch 10/25\n",
            "11/11 [==============================] - 0s 9ms/step - loss: 0.7428 - accuracy: 0.5072 - val_loss: 0.7112 - val_accuracy: 0.4933\n",
            "Epoch 11/25\n",
            "11/11 [==============================] - 0s 9ms/step - loss: 0.7768 - accuracy: 0.5072 - val_loss: 0.7111 - val_accuracy: 0.4933\n",
            "Epoch 12/25\n",
            "11/11 [==============================] - 0s 11ms/step - loss: 0.7403 - accuracy: 0.5072 - val_loss: 0.7132 - val_accuracy: 0.4933\n",
            "Epoch 13/25\n",
            "11/11 [==============================] - 0s 12ms/step - loss: 0.7329 - accuracy: 0.5072 - val_loss: 0.7164 - val_accuracy: 0.4933\n",
            "Epoch 14/25\n",
            "11/11 [==============================] - 0s 9ms/step - loss: 0.7418 - accuracy: 0.5072 - val_loss: 0.7166 - val_accuracy: 0.4933\n",
            "Epoch 15/25\n",
            "11/11 [==============================] - 0s 13ms/step - loss: 0.7195 - accuracy: 0.5072 - val_loss: 0.7164 - val_accuracy: 0.4933\n",
            "Epoch 16/25\n",
            "11/11 [==============================] - 0s 9ms/step - loss: 0.7387 - accuracy: 0.5072 - val_loss: 0.7163 - val_accuracy: 0.4933\n",
            "Epoch 17/25\n",
            "11/11 [==============================] - 0s 9ms/step - loss: 0.7292 - accuracy: 0.5072 - val_loss: 0.7164 - val_accuracy: 0.4933\n",
            "Epoch 18/25\n",
            "11/11 [==============================] - 0s 12ms/step - loss: 0.7229 - accuracy: 0.5072 - val_loss: 0.7125 - val_accuracy: 0.4933\n",
            "Epoch 19/25\n",
            "11/11 [==============================] - 0s 13ms/step - loss: 0.7021 - accuracy: 0.5072 - val_loss: 0.7114 - val_accuracy: 0.4933\n",
            "Epoch 20/25\n",
            "11/11 [==============================] - 0s 13ms/step - loss: 0.7174 - accuracy: 0.5072 - val_loss: 0.7114 - val_accuracy: 0.4933\n",
            "Epoch 21/25\n",
            "11/11 [==============================] - 0s 17ms/step - loss: 0.7117 - accuracy: 0.5072 - val_loss: 0.7116 - val_accuracy: 0.4933\n",
            "Epoch 22/25\n",
            "11/11 [==============================] - 0s 13ms/step - loss: 0.7449 - accuracy: 0.5072 - val_loss: 0.7131 - val_accuracy: 0.4933\n",
            "Epoch 23/25\n",
            "11/11 [==============================] - 0s 6ms/step - loss: 0.7283 - accuracy: 0.5072 - val_loss: 0.7134 - val_accuracy: 0.4933\n",
            "Epoch 24/25\n",
            "11/11 [==============================] - 0s 9ms/step - loss: 0.7168 - accuracy: 0.5072 - val_loss: 0.7101 - val_accuracy: 0.4933\n",
            "Epoch 25/25\n",
            "11/11 [==============================] - 0s 9ms/step - loss: 0.7026 - accuracy: 0.5072 - val_loss: 0.7099 - val_accuracy: 0.4933\n"
          ]
        }
      ],
      "source": [
        "# Trainning the model\n",
        "h = dnnModel.fit(Xtrain,Ytrain,validation_data = (Xtest, Ytest), epochs = 25,verbose = 1)"
      ]
    },
    {
      "cell_type": "code",
      "execution_count": 30,
      "metadata": {
        "id": "JJ0LdOTHLR9r",
        "outputId": "ee438327-4a17-44a2-95aa-974d1e565d48",
        "colab": {
          "base_uri": "https://localhost:8080/"
        }
      },
      "outputs": [
        {
          "output_type": "stream",
          "name": "stdout",
          "text": [
            "Model: \"sequential_4\"\n",
            "_________________________________________________________________\n",
            " Layer (type)                Output Shape              Param #   \n",
            "=================================================================\n",
            " dense_16 (Dense)            (None, 8)                 24        \n",
            "                                                                 \n",
            " dense_17 (Dense)            (None, 12)                108       \n",
            "                                                                 \n",
            " dropout_4 (Dropout)         (None, 12)                0         \n",
            "                                                                 \n",
            " dense_18 (Dense)            (None, 16)                208       \n",
            "                                                                 \n",
            " dropout_5 (Dropout)         (None, 16)                0         \n",
            "                                                                 \n",
            " dense_19 (Dense)            (None, 1)                 17        \n",
            "                                                                 \n",
            "=================================================================\n",
            "Total params: 357\n",
            "Trainable params: 357\n",
            "Non-trainable params: 0\n",
            "_________________________________________________________________\n"
          ]
        }
      ],
      "source": [
        "# Train two single/double hidden layer deep networks by varying the number of hidden nodes (4, 8, 12, 16) \n",
        "\n",
        "# Model 5\n",
        "\n",
        "\n",
        "dnnModel = Sequential()\n",
        "# layer 1 = input layer\n",
        "dnnModel.add(Dense(8, activation = 'relu', input_shape = (Xtrain_shape,)))\n",
        "# layer 2 = hidden layer\n",
        "dnnModel.add(Dense(12, activation = 'relu'))\n",
        "# Add dropout of 5% to layer 2\n",
        "dnnModel.add(Dropout(0.5))\n",
        "# layer 3 = hidden layer\n",
        "dnnModel.add(Dense(16, activation = 'relu'))\n",
        "# Add dropout of 5% to layer 3\n",
        "dnnModel.add(Dropout(0.5))\n",
        "# layer 4 = output layer\n",
        "dnnModel.add(Dense(1, activation = 'softmax'))\n",
        "dnnModel.compile(optimizer = 'adam', loss = 'binary_crossentropy', metrics = ['accuracy'])\n",
        "\n",
        "dnnModel.summary()"
      ]
    },
    {
      "cell_type": "code",
      "execution_count": 31,
      "metadata": {
        "id": "NwtrwRolLR9r",
        "outputId": "50cacef4-3ef4-46c2-d6af-6f9889454a8b",
        "colab": {
          "base_uri": "https://localhost:8080/"
        }
      },
      "outputs": [
        {
          "output_type": "stream",
          "name": "stdout",
          "text": [
            "Epoch 1/25\n",
            "11/11 [==============================] - 2s 42ms/step - loss: 1.3686 - accuracy: 0.5072 - val_loss: 0.8395 - val_accuracy: 0.4933\n",
            "Epoch 2/25\n",
            "11/11 [==============================] - 0s 14ms/step - loss: 1.2965 - accuracy: 0.5072 - val_loss: 0.7885 - val_accuracy: 0.4933\n",
            "Epoch 3/25\n",
            "11/11 [==============================] - 0s 12ms/step - loss: 1.4463 - accuracy: 0.5072 - val_loss: 0.7684 - val_accuracy: 0.4933\n",
            "Epoch 4/25\n",
            "11/11 [==============================] - 0s 21ms/step - loss: 1.1970 - accuracy: 0.5072 - val_loss: 0.7723 - val_accuracy: 0.4933\n",
            "Epoch 5/25\n",
            "11/11 [==============================] - 0s 15ms/step - loss: 1.1907 - accuracy: 0.5072 - val_loss: 0.7802 - val_accuracy: 0.4933\n",
            "Epoch 6/25\n",
            "11/11 [==============================] - 0s 12ms/step - loss: 1.1327 - accuracy: 0.5072 - val_loss: 0.7949 - val_accuracy: 0.4933\n",
            "Epoch 7/25\n",
            "11/11 [==============================] - 0s 9ms/step - loss: 1.0550 - accuracy: 0.5072 - val_loss: 0.7940 - val_accuracy: 0.4933\n",
            "Epoch 8/25\n",
            "11/11 [==============================] - 0s 12ms/step - loss: 0.9906 - accuracy: 0.5072 - val_loss: 0.7899 - val_accuracy: 0.4933\n",
            "Epoch 9/25\n",
            "11/11 [==============================] - 0s 15ms/step - loss: 0.9199 - accuracy: 0.5072 - val_loss: 0.7822 - val_accuracy: 0.4933\n",
            "Epoch 10/25\n",
            "11/11 [==============================] - 0s 19ms/step - loss: 1.0118 - accuracy: 0.5072 - val_loss: 0.7753 - val_accuracy: 0.4933\n",
            "Epoch 11/25\n",
            "11/11 [==============================] - 0s 17ms/step - loss: 0.9761 - accuracy: 0.5072 - val_loss: 0.7674 - val_accuracy: 0.4933\n",
            "Epoch 12/25\n",
            "11/11 [==============================] - 0s 22ms/step - loss: 0.8631 - accuracy: 0.5072 - val_loss: 0.7573 - val_accuracy: 0.4933\n",
            "Epoch 13/25\n",
            "11/11 [==============================] - 0s 19ms/step - loss: 0.9446 - accuracy: 0.5072 - val_loss: 0.7441 - val_accuracy: 0.4933\n",
            "Epoch 14/25\n",
            "11/11 [==============================] - 0s 15ms/step - loss: 0.9503 - accuracy: 0.5072 - val_loss: 0.7366 - val_accuracy: 0.4933\n",
            "Epoch 15/25\n",
            "11/11 [==============================] - 0s 17ms/step - loss: 0.8344 - accuracy: 0.5072 - val_loss: 0.7348 - val_accuracy: 0.4933\n",
            "Epoch 16/25\n",
            "11/11 [==============================] - 0s 13ms/step - loss: 0.8780 - accuracy: 0.5072 - val_loss: 0.7329 - val_accuracy: 0.4933\n",
            "Epoch 17/25\n",
            "11/11 [==============================] - 0s 9ms/step - loss: 0.8509 - accuracy: 0.5072 - val_loss: 0.7269 - val_accuracy: 0.4933\n",
            "Epoch 18/25\n",
            "11/11 [==============================] - 0s 8ms/step - loss: 0.8390 - accuracy: 0.5072 - val_loss: 0.7233 - val_accuracy: 0.4933\n",
            "Epoch 19/25\n",
            "11/11 [==============================] - 0s 15ms/step - loss: 0.8287 - accuracy: 0.5072 - val_loss: 0.7206 - val_accuracy: 0.4933\n",
            "Epoch 20/25\n",
            "11/11 [==============================] - 0s 11ms/step - loss: 0.8589 - accuracy: 0.5072 - val_loss: 0.7190 - val_accuracy: 0.4933\n",
            "Epoch 21/25\n",
            "11/11 [==============================] - 0s 9ms/step - loss: 0.7402 - accuracy: 0.5072 - val_loss: 0.7170 - val_accuracy: 0.4933\n",
            "Epoch 22/25\n",
            "11/11 [==============================] - 0s 8ms/step - loss: 0.8748 - accuracy: 0.5072 - val_loss: 0.7149 - val_accuracy: 0.4933\n",
            "Epoch 23/25\n",
            "11/11 [==============================] - 0s 8ms/step - loss: 0.8000 - accuracy: 0.5072 - val_loss: 0.7121 - val_accuracy: 0.4933\n",
            "Epoch 24/25\n",
            "11/11 [==============================] - 0s 12ms/step - loss: 0.8183 - accuracy: 0.5072 - val_loss: 0.7112 - val_accuracy: 0.4933\n",
            "Epoch 25/25\n",
            "11/11 [==============================] - 0s 15ms/step - loss: 0.7526 - accuracy: 0.5072 - val_loss: 0.7134 - val_accuracy: 0.4933\n"
          ]
        }
      ],
      "source": [
        "# Trainning the model\n",
        "h = dnnModel.fit(Xtrain,Ytrain,validation_data = (Xtest, Ytest), epochs = 25,verbose = 1)"
      ]
    },
    {
      "cell_type": "code",
      "execution_count": 32,
      "metadata": {
        "id": "-DaXSnKgLR9r",
        "outputId": "8cfe09d8-6409-402d-c9c5-65d4a322531f",
        "colab": {
          "base_uri": "https://localhost:8080/"
        }
      },
      "outputs": [
        {
          "output_type": "stream",
          "name": "stdout",
          "text": [
            "Model: \"sequential_5\"\n",
            "_________________________________________________________________\n",
            " Layer (type)                Output Shape              Param #   \n",
            "=================================================================\n",
            " dense_20 (Dense)            (None, 16)                48        \n",
            "                                                                 \n",
            " dense_21 (Dense)            (None, 12)                204       \n",
            "                                                                 \n",
            " dense_22 (Dense)            (None, 8)                 104       \n",
            "                                                                 \n",
            " dense_23 (Dense)            (None, 1)                 9         \n",
            "                                                                 \n",
            "=================================================================\n",
            "Total params: 365\n",
            "Trainable params: 365\n",
            "Non-trainable params: 0\n",
            "_________________________________________________________________\n"
          ]
        }
      ],
      "source": [
        "# Train two single/double hidden layer deep networks by varying the number of hidden nodes (4, 8, 12, 16) \n",
        "\n",
        "# Model 6\n",
        "\n",
        "\n",
        "dnnModel = Sequential()\n",
        "# layer 1 = input layer\n",
        "dnnModel.add(Dense(16, activation = 'relu', input_shape = (Xtrain_shape,)))\n",
        "# layer 2 = hidden layer\n",
        "dnnModel.add(Dense(12, activation = 'relu'))\n",
        "# layer 3 = hidden layer\n",
        "dnnModel.add(Dense(8, activation = 'relu'))\n",
        "# layer 4 = output layer\n",
        "dnnModel.add(Dense(1, activation = 'softmax'))\n",
        "dnnModel.compile(optimizer = 'adam', loss = 'binary_crossentropy', metrics = ['accuracy'])\n",
        "\n",
        "dnnModel.summary()"
      ]
    },
    {
      "cell_type": "code",
      "execution_count": 33,
      "metadata": {
        "id": "lI4nP3VYLR9s",
        "outputId": "08ecd841-a6b4-4fb3-fde6-edda08eab953",
        "colab": {
          "base_uri": "https://localhost:8080/"
        }
      },
      "outputs": [
        {
          "output_type": "stream",
          "name": "stdout",
          "text": [
            "Epoch 1/25\n",
            "11/11 [==============================] - 2s 35ms/step - loss: 0.8335 - accuracy: 0.5072 - val_loss: 0.9196 - val_accuracy: 0.4933\n",
            "Epoch 2/25\n",
            "11/11 [==============================] - 0s 7ms/step - loss: 0.7368 - accuracy: 0.5072 - val_loss: 0.8006 - val_accuracy: 0.4933\n",
            "Epoch 3/25\n",
            "11/11 [==============================] - 0s 12ms/step - loss: 0.6959 - accuracy: 0.5072 - val_loss: 0.7648 - val_accuracy: 0.4933\n",
            "Epoch 4/25\n",
            "11/11 [==============================] - 0s 10ms/step - loss: 0.6912 - accuracy: 0.5072 - val_loss: 0.7493 - val_accuracy: 0.4933\n",
            "Epoch 5/25\n",
            "11/11 [==============================] - 0s 8ms/step - loss: 0.6822 - accuracy: 0.5072 - val_loss: 0.7478 - val_accuracy: 0.4933\n",
            "Epoch 6/25\n",
            "11/11 [==============================] - 0s 10ms/step - loss: 0.6797 - accuracy: 0.5072 - val_loss: 0.7461 - val_accuracy: 0.4933\n",
            "Epoch 7/25\n",
            "11/11 [==============================] - 0s 12ms/step - loss: 0.6775 - accuracy: 0.5072 - val_loss: 0.7446 - val_accuracy: 0.4933\n",
            "Epoch 8/25\n",
            "11/11 [==============================] - 0s 11ms/step - loss: 0.6771 - accuracy: 0.5072 - val_loss: 0.7410 - val_accuracy: 0.4933\n",
            "Epoch 9/25\n",
            "11/11 [==============================] - 0s 10ms/step - loss: 0.6750 - accuracy: 0.5072 - val_loss: 0.7382 - val_accuracy: 0.4933\n",
            "Epoch 10/25\n",
            "11/11 [==============================] - 0s 10ms/step - loss: 0.6747 - accuracy: 0.5072 - val_loss: 0.7386 - val_accuracy: 0.4933\n",
            "Epoch 11/25\n",
            "11/11 [==============================] - 0s 8ms/step - loss: 0.6731 - accuracy: 0.5072 - val_loss: 0.7417 - val_accuracy: 0.4933\n",
            "Epoch 12/25\n",
            "11/11 [==============================] - 0s 8ms/step - loss: 0.6729 - accuracy: 0.5072 - val_loss: 0.7444 - val_accuracy: 0.4933\n",
            "Epoch 13/25\n",
            "11/11 [==============================] - 0s 10ms/step - loss: 0.6719 - accuracy: 0.5072 - val_loss: 0.7383 - val_accuracy: 0.4933\n",
            "Epoch 14/25\n",
            "11/11 [==============================] - 0s 9ms/step - loss: 0.6708 - accuracy: 0.5072 - val_loss: 0.7375 - val_accuracy: 0.4933\n",
            "Epoch 15/25\n",
            "11/11 [==============================] - 0s 9ms/step - loss: 0.6707 - accuracy: 0.5072 - val_loss: 0.7373 - val_accuracy: 0.4933\n",
            "Epoch 16/25\n",
            "11/11 [==============================] - 0s 14ms/step - loss: 0.6697 - accuracy: 0.5072 - val_loss: 0.7382 - val_accuracy: 0.4933\n",
            "Epoch 17/25\n",
            "11/11 [==============================] - 0s 11ms/step - loss: 0.6697 - accuracy: 0.5072 - val_loss: 0.7399 - val_accuracy: 0.4933\n",
            "Epoch 18/25\n",
            "11/11 [==============================] - 0s 10ms/step - loss: 0.6693 - accuracy: 0.5072 - val_loss: 0.7364 - val_accuracy: 0.4933\n",
            "Epoch 19/25\n",
            "11/11 [==============================] - 0s 12ms/step - loss: 0.6685 - accuracy: 0.5072 - val_loss: 0.7356 - val_accuracy: 0.4933\n",
            "Epoch 20/25\n",
            "11/11 [==============================] - 0s 12ms/step - loss: 0.6693 - accuracy: 0.5072 - val_loss: 0.7362 - val_accuracy: 0.4933\n",
            "Epoch 21/25\n",
            "11/11 [==============================] - 0s 7ms/step - loss: 0.6700 - accuracy: 0.5072 - val_loss: 0.7379 - val_accuracy: 0.4933\n",
            "Epoch 22/25\n",
            "11/11 [==============================] - 0s 9ms/step - loss: 0.6679 - accuracy: 0.5072 - val_loss: 0.7371 - val_accuracy: 0.4933\n",
            "Epoch 23/25\n",
            "11/11 [==============================] - 0s 8ms/step - loss: 0.6671 - accuracy: 0.5072 - val_loss: 0.7394 - val_accuracy: 0.4933\n",
            "Epoch 24/25\n",
            "11/11 [==============================] - 0s 9ms/step - loss: 0.6675 - accuracy: 0.5072 - val_loss: 0.7347 - val_accuracy: 0.4933\n",
            "Epoch 25/25\n",
            "11/11 [==============================] - 0s 8ms/step - loss: 0.6667 - accuracy: 0.5072 - val_loss: 0.7406 - val_accuracy: 0.4933\n"
          ]
        }
      ],
      "source": [
        "# Trainning the model\n",
        "h = dnnModel.fit(Xtrain,Ytrain,validation_data = (Xtest, Ytest), epochs = 25,verbose = 1)"
      ]
    },
    {
      "cell_type": "code",
      "execution_count": 34,
      "metadata": {
        "id": "blJUUeMaLR9s"
      },
      "outputs": [],
      "source": [
        "# Splitting the dataset into 70% training and 30% validation data.\n",
        "\n",
        "Xtrain,Xtest,Ytrain,Ytest = train_test_split(X, Y, test_size = 0.3, random_state = 0)"
      ]
    },
    {
      "cell_type": "code",
      "execution_count": 35,
      "metadata": {
        "id": "KzhDp4CkLR9s",
        "outputId": "3034aca0-117c-48d9-e460-c371c4998390",
        "colab": {
          "base_uri": "https://localhost:8080/"
        }
      },
      "outputs": [
        {
          "output_type": "stream",
          "name": "stdout",
          "text": [
            "2\n"
          ]
        }
      ],
      "source": [
        "Xtrain_shape = Xtrain.shape[1]\n",
        "print (Xtrain_shape)"
      ]
    },
    {
      "cell_type": "code",
      "execution_count": 36,
      "metadata": {
        "id": "cBNHhBMTLR9s",
        "outputId": "5f93dca8-f053-49dc-89e2-61edfe05d072",
        "colab": {
          "base_uri": "https://localhost:8080/"
        }
      },
      "outputs": [
        {
          "output_type": "stream",
          "name": "stdout",
          "text": [
            "Model: \"sequential_6\"\n",
            "_________________________________________________________________\n",
            " Layer (type)                Output Shape              Param #   \n",
            "=================================================================\n",
            " dense_24 (Dense)            (None, 16)                48        \n",
            "                                                                 \n",
            " dense_25 (Dense)            (None, 12)                204       \n",
            "                                                                 \n",
            " dense_26 (Dense)            (None, 8)                 104       \n",
            "                                                                 \n",
            " dense_27 (Dense)            (None, 1)                 9         \n",
            "                                                                 \n",
            "=================================================================\n",
            "Total params: 365\n",
            "Trainable params: 365\n",
            "Non-trainable params: 0\n",
            "_________________________________________________________________\n"
          ]
        }
      ],
      "source": [
        "# Train two single/double hidden layer deep networks by varying the number of hidden nodes (4, 8, 12, 16) \n",
        "\n",
        "# Model 7\n",
        "\n",
        "\n",
        "dnnModel = Sequential()\n",
        "# layer 1 = input layer\n",
        "dnnModel.add(Dense(16, activation = 'relu', input_shape = (Xtrain_shape,)))\n",
        "# layer 2 = hidden layer\n",
        "dnnModel.add(Dense(12, activation = 'relu'))\n",
        "# layer 3 = hidden layer\n",
        "dnnModel.add(Dense(8, activation = 'relu'))\n",
        "# layer 4 = output layer\n",
        "dnnModel.add(Dense(1, activation = 'softmax'))\n",
        "dnnModel.compile(optimizer = 'adam', loss = 'binary_crossentropy', metrics = ['accuracy'])\n",
        "\n",
        "dnnModel.summary()"
      ]
    },
    {
      "cell_type": "code",
      "execution_count": 37,
      "metadata": {
        "id": "VV1JzoK1LR9t",
        "outputId": "cfdef271-e644-48e6-837d-624b9e2bba0e",
        "colab": {
          "base_uri": "https://localhost:8080/"
        }
      },
      "outputs": [
        {
          "output_type": "stream",
          "name": "stdout",
          "text": [
            "Epoch 1/25\n",
            "11/11 [==============================] - 1s 20ms/step - loss: 0.8888 - accuracy: 0.5014 - val_loss: 0.8674 - val_accuracy: 0.5067\n",
            "Epoch 2/25\n",
            "11/11 [==============================] - 0s 4ms/step - loss: 0.7775 - accuracy: 0.5014 - val_loss: 0.7625 - val_accuracy: 0.5067\n",
            "Epoch 3/25\n",
            "11/11 [==============================] - 0s 4ms/step - loss: 0.7234 - accuracy: 0.5014 - val_loss: 0.7190 - val_accuracy: 0.5067\n",
            "Epoch 4/25\n",
            "11/11 [==============================] - 0s 4ms/step - loss: 0.6970 - accuracy: 0.5014 - val_loss: 0.7069 - val_accuracy: 0.5067\n",
            "Epoch 5/25\n",
            "11/11 [==============================] - 0s 5ms/step - loss: 0.6923 - accuracy: 0.5014 - val_loss: 0.7004 - val_accuracy: 0.5067\n",
            "Epoch 6/25\n",
            "11/11 [==============================] - 0s 5ms/step - loss: 0.6882 - accuracy: 0.5014 - val_loss: 0.7000 - val_accuracy: 0.5067\n",
            "Epoch 7/25\n",
            "11/11 [==============================] - 0s 6ms/step - loss: 0.6877 - accuracy: 0.5014 - val_loss: 0.6953 - val_accuracy: 0.5067\n",
            "Epoch 8/25\n",
            "11/11 [==============================] - 0s 6ms/step - loss: 0.6850 - accuracy: 0.5014 - val_loss: 0.6977 - val_accuracy: 0.5067\n",
            "Epoch 9/25\n",
            "11/11 [==============================] - 0s 5ms/step - loss: 0.6847 - accuracy: 0.5014 - val_loss: 0.6988 - val_accuracy: 0.5067\n",
            "Epoch 10/25\n",
            "11/11 [==============================] - 0s 5ms/step - loss: 0.6825 - accuracy: 0.5014 - val_loss: 0.6963 - val_accuracy: 0.5067\n",
            "Epoch 11/25\n",
            "11/11 [==============================] - 0s 7ms/step - loss: 0.6830 - accuracy: 0.5014 - val_loss: 0.6972 - val_accuracy: 0.5067\n",
            "Epoch 12/25\n",
            "11/11 [==============================] - 0s 5ms/step - loss: 0.6820 - accuracy: 0.5014 - val_loss: 0.6960 - val_accuracy: 0.5067\n",
            "Epoch 13/25\n",
            "11/11 [==============================] - 0s 5ms/step - loss: 0.6811 - accuracy: 0.5014 - val_loss: 0.6976 - val_accuracy: 0.5067\n",
            "Epoch 14/25\n",
            "11/11 [==============================] - 0s 5ms/step - loss: 0.6807 - accuracy: 0.5014 - val_loss: 0.6981 - val_accuracy: 0.5067\n",
            "Epoch 15/25\n",
            "11/11 [==============================] - 0s 4ms/step - loss: 0.6805 - accuracy: 0.5014 - val_loss: 0.6954 - val_accuracy: 0.5067\n",
            "Epoch 16/25\n",
            "11/11 [==============================] - 0s 4ms/step - loss: 0.6800 - accuracy: 0.5014 - val_loss: 0.6968 - val_accuracy: 0.5067\n",
            "Epoch 17/25\n",
            "11/11 [==============================] - 0s 5ms/step - loss: 0.6792 - accuracy: 0.5014 - val_loss: 0.6998 - val_accuracy: 0.5067\n",
            "Epoch 18/25\n",
            "11/11 [==============================] - 0s 5ms/step - loss: 0.6794 - accuracy: 0.5014 - val_loss: 0.6975 - val_accuracy: 0.5067\n",
            "Epoch 19/25\n",
            "11/11 [==============================] - 0s 5ms/step - loss: 0.6781 - accuracy: 0.5014 - val_loss: 0.7003 - val_accuracy: 0.5067\n",
            "Epoch 20/25\n",
            "11/11 [==============================] - 0s 4ms/step - loss: 0.6783 - accuracy: 0.5014 - val_loss: 0.6969 - val_accuracy: 0.5067\n",
            "Epoch 21/25\n",
            "11/11 [==============================] - 0s 5ms/step - loss: 0.6783 - accuracy: 0.5014 - val_loss: 0.6983 - val_accuracy: 0.5067\n",
            "Epoch 22/25\n",
            "11/11 [==============================] - 0s 5ms/step - loss: 0.6784 - accuracy: 0.5014 - val_loss: 0.6977 - val_accuracy: 0.5067\n",
            "Epoch 23/25\n",
            "11/11 [==============================] - 0s 6ms/step - loss: 0.6767 - accuracy: 0.5014 - val_loss: 0.6983 - val_accuracy: 0.5067\n",
            "Epoch 24/25\n",
            "11/11 [==============================] - 0s 7ms/step - loss: 0.6765 - accuracy: 0.5014 - val_loss: 0.6990 - val_accuracy: 0.5067\n",
            "Epoch 25/25\n",
            "11/11 [==============================] - 0s 6ms/step - loss: 0.6762 - accuracy: 0.5014 - val_loss: 0.6991 - val_accuracy: 0.5067\n"
          ]
        }
      ],
      "source": [
        "# Trainning the model\n",
        "h = dnnModel.fit(Xtrain,Ytrain,validation_data = (Xtest, Ytest), epochs = 25,verbose = 1)"
      ]
    },
    {
      "cell_type": "code",
      "execution_count": 38,
      "metadata": {
        "id": "JTJ1WxbcLR9t"
      },
      "outputs": [],
      "source": [
        "# Splitting the dataset into 70% training and 30% validation data.\n",
        "\n",
        "Xtrain,Xtest,Ytrain,Ytest = train_test_split(X, Y, test_size = 0.3, random_state = 1)"
      ]
    },
    {
      "cell_type": "code",
      "execution_count": 39,
      "metadata": {
        "id": "gdg81Up_LR9t",
        "outputId": "4a81213d-27da-40da-ba1a-8b130613e470",
        "colab": {
          "base_uri": "https://localhost:8080/"
        }
      },
      "outputs": [
        {
          "output_type": "stream",
          "name": "stdout",
          "text": [
            "2\n"
          ]
        }
      ],
      "source": [
        "Xtrain_shape = Xtrain.shape[1]\n",
        "print (Xtrain_shape)"
      ]
    },
    {
      "cell_type": "code",
      "execution_count": 40,
      "metadata": {
        "id": "oBB3s2tcLR9u",
        "outputId": "490806f9-5baa-469e-a6a6-9844b2d7d496",
        "colab": {
          "base_uri": "https://localhost:8080/"
        }
      },
      "outputs": [
        {
          "output_type": "stream",
          "name": "stdout",
          "text": [
            "Model: \"sequential_7\"\n",
            "_________________________________________________________________\n",
            " Layer (type)                Output Shape              Param #   \n",
            "=================================================================\n",
            " dense_28 (Dense)            (None, 16)                48        \n",
            "                                                                 \n",
            " dense_29 (Dense)            (None, 12)                204       \n",
            "                                                                 \n",
            " dense_30 (Dense)            (None, 8)                 104       \n",
            "                                                                 \n",
            " dense_31 (Dense)            (None, 1)                 9         \n",
            "                                                                 \n",
            "=================================================================\n",
            "Total params: 365\n",
            "Trainable params: 365\n",
            "Non-trainable params: 0\n",
            "_________________________________________________________________\n"
          ]
        }
      ],
      "source": [
        "# Train two single/double hidden layer deep networks by varying the number of hidden nodes (4, 8, 12, 16) \n",
        "\n",
        "# Model 8\n",
        "\n",
        "\n",
        "dnnModel = Sequential()\n",
        "# layer 1 = input layer\n",
        "dnnModel.add(Dense(16, activation = 'relu', input_shape = (Xtrain_shape,)))\n",
        "# layer 2 = hidden layer\n",
        "dnnModel.add(Dense(12, activation = 'relu'))\n",
        "# layer 3 = hidden layer\n",
        "dnnModel.add(Dense(8, activation = 'relu'))\n",
        "# layer 4 = output layer\n",
        "dnnModel.add(Dense(1, activation = 'softmax'))\n",
        "dnnModel.compile(optimizer = 'adam', loss = 'binary_crossentropy', metrics = ['accuracy'])\n",
        "\n",
        "dnnModel.summary()"
      ]
    },
    {
      "cell_type": "code",
      "execution_count": 41,
      "metadata": {
        "id": "1ZNsv76tLR9u",
        "outputId": "aff53af9-fcd6-42a2-b374-7443ecaacbfd",
        "colab": {
          "base_uri": "https://localhost:8080/"
        }
      },
      "outputs": [
        {
          "output_type": "stream",
          "name": "stdout",
          "text": [
            "Epoch 1/25\n",
            "11/11 [==============================] - 1s 20ms/step - loss: 0.7461 - accuracy: 0.4841 - val_loss: 0.7590 - val_accuracy: 0.5467\n",
            "Epoch 2/25\n",
            "11/11 [==============================] - 0s 6ms/step - loss: 0.7204 - accuracy: 0.4841 - val_loss: 0.7392 - val_accuracy: 0.5467\n",
            "Epoch 3/25\n",
            "11/11 [==============================] - 0s 7ms/step - loss: 0.7039 - accuracy: 0.4841 - val_loss: 0.7293 - val_accuracy: 0.5467\n",
            "Epoch 4/25\n",
            "11/11 [==============================] - 0s 7ms/step - loss: 0.6976 - accuracy: 0.4841 - val_loss: 0.7179 - val_accuracy: 0.5467\n",
            "Epoch 5/25\n",
            "11/11 [==============================] - 0s 5ms/step - loss: 0.6903 - accuracy: 0.4841 - val_loss: 0.7147 - val_accuracy: 0.5467\n",
            "Epoch 6/25\n",
            "11/11 [==============================] - 0s 6ms/step - loss: 0.6869 - accuracy: 0.4841 - val_loss: 0.7110 - val_accuracy: 0.5467\n",
            "Epoch 7/25\n",
            "11/11 [==============================] - 0s 7ms/step - loss: 0.6839 - accuracy: 0.4841 - val_loss: 0.7100 - val_accuracy: 0.5467\n",
            "Epoch 8/25\n",
            "11/11 [==============================] - 0s 6ms/step - loss: 0.6829 - accuracy: 0.4841 - val_loss: 0.7091 - val_accuracy: 0.5467\n",
            "Epoch 9/25\n",
            "11/11 [==============================] - 0s 5ms/step - loss: 0.6818 - accuracy: 0.4841 - val_loss: 0.7083 - val_accuracy: 0.5467\n",
            "Epoch 10/25\n",
            "11/11 [==============================] - 0s 6ms/step - loss: 0.6818 - accuracy: 0.4841 - val_loss: 0.7072 - val_accuracy: 0.5467\n",
            "Epoch 11/25\n",
            "11/11 [==============================] - 0s 6ms/step - loss: 0.6808 - accuracy: 0.4841 - val_loss: 0.7099 - val_accuracy: 0.5467\n",
            "Epoch 12/25\n",
            "11/11 [==============================] - 0s 5ms/step - loss: 0.6800 - accuracy: 0.4841 - val_loss: 0.7088 - val_accuracy: 0.5467\n",
            "Epoch 13/25\n",
            "11/11 [==============================] - 0s 7ms/step - loss: 0.6799 - accuracy: 0.4841 - val_loss: 0.7083 - val_accuracy: 0.5467\n",
            "Epoch 14/25\n",
            "11/11 [==============================] - 0s 7ms/step - loss: 0.6792 - accuracy: 0.4841 - val_loss: 0.7065 - val_accuracy: 0.5467\n",
            "Epoch 15/25\n",
            "11/11 [==============================] - 0s 5ms/step - loss: 0.6786 - accuracy: 0.4841 - val_loss: 0.7061 - val_accuracy: 0.5467\n",
            "Epoch 16/25\n",
            "11/11 [==============================] - 0s 6ms/step - loss: 0.6780 - accuracy: 0.4841 - val_loss: 0.7069 - val_accuracy: 0.5467\n",
            "Epoch 17/25\n",
            "11/11 [==============================] - 0s 7ms/step - loss: 0.6773 - accuracy: 0.4841 - val_loss: 0.7077 - val_accuracy: 0.5467\n",
            "Epoch 18/25\n",
            "11/11 [==============================] - 0s 7ms/step - loss: 0.6770 - accuracy: 0.4841 - val_loss: 0.7059 - val_accuracy: 0.5467\n",
            "Epoch 19/25\n",
            "11/11 [==============================] - 0s 6ms/step - loss: 0.6772 - accuracy: 0.4841 - val_loss: 0.7061 - val_accuracy: 0.5467\n",
            "Epoch 20/25\n",
            "11/11 [==============================] - 0s 5ms/step - loss: 0.6766 - accuracy: 0.4841 - val_loss: 0.7062 - val_accuracy: 0.5467\n",
            "Epoch 21/25\n",
            "11/11 [==============================] - 0s 5ms/step - loss: 0.6762 - accuracy: 0.4841 - val_loss: 0.7063 - val_accuracy: 0.5467\n",
            "Epoch 22/25\n",
            "11/11 [==============================] - 0s 6ms/step - loss: 0.6765 - accuracy: 0.4841 - val_loss: 0.7055 - val_accuracy: 0.5467\n",
            "Epoch 23/25\n",
            "11/11 [==============================] - 0s 7ms/step - loss: 0.6760 - accuracy: 0.4841 - val_loss: 0.7067 - val_accuracy: 0.5467\n",
            "Epoch 24/25\n",
            "11/11 [==============================] - 0s 7ms/step - loss: 0.6755 - accuracy: 0.4841 - val_loss: 0.7070 - val_accuracy: 0.5467\n",
            "Epoch 25/25\n",
            "11/11 [==============================] - 0s 6ms/step - loss: 0.6753 - accuracy: 0.4841 - val_loss: 0.7065 - val_accuracy: 0.5467\n"
          ]
        }
      ],
      "source": [
        "# Trainning the model\n",
        "h = dnnModel.fit(Xtrain,Ytrain,validation_data = (Xtest, Ytest), epochs = 25,verbose = 1)"
      ]
    },
    {
      "cell_type": "code",
      "execution_count": 42,
      "metadata": {
        "id": "FuQ9nG47LR9v"
      },
      "outputs": [],
      "source": [
        "# Splitting the dataset into 70% training and 30% validation data.\n",
        "\n",
        "Xtrain,Xtest,Ytrain,Ytest = train_test_split(X, Y, test_size = 0.3, random_state = 7)"
      ]
    },
    {
      "cell_type": "code",
      "execution_count": 43,
      "metadata": {
        "id": "hPMO5yrtLR9v",
        "outputId": "405c38f4-59e0-4451-899d-1be69ca3cccb",
        "colab": {
          "base_uri": "https://localhost:8080/"
        }
      },
      "outputs": [
        {
          "output_type": "stream",
          "name": "stdout",
          "text": [
            "2\n"
          ]
        }
      ],
      "source": [
        "Xtrain_shape = Xtrain.shape[1]\n",
        "print (Xtrain_shape)"
      ]
    },
    {
      "cell_type": "code",
      "execution_count": 44,
      "metadata": {
        "id": "jvp35Mr3LR9v",
        "outputId": "7dcaa902-f127-480c-a0b3-2aa6185fb123",
        "colab": {
          "base_uri": "https://localhost:8080/"
        }
      },
      "outputs": [
        {
          "output_type": "stream",
          "name": "stdout",
          "text": [
            "Model: \"sequential_8\"\n",
            "_________________________________________________________________\n",
            " Layer (type)                Output Shape              Param #   \n",
            "=================================================================\n",
            " dense_32 (Dense)            (None, 16)                48        \n",
            "                                                                 \n",
            " dense_33 (Dense)            (None, 12)                204       \n",
            "                                                                 \n",
            " dense_34 (Dense)            (None, 8)                 104       \n",
            "                                                                 \n",
            " dense_35 (Dense)            (None, 1)                 9         \n",
            "                                                                 \n",
            "=================================================================\n",
            "Total params: 365\n",
            "Trainable params: 365\n",
            "Non-trainable params: 0\n",
            "_________________________________________________________________\n"
          ]
        }
      ],
      "source": [
        "# Train two single/double hidden layer deep networks by varying the number of hidden nodes (4, 8, 12, 16) \n",
        "\n",
        "# Model 9\n",
        "\n",
        "\n",
        "dnnModel = Sequential()\n",
        "# layer 1 = input layer\n",
        "dnnModel.add(Dense(16, activation = 'relu', input_shape = (Xtrain_shape,)))\n",
        "# layer 2 = hidden layer\n",
        "dnnModel.add(Dense(12, activation = 'relu'))\n",
        "# layer 3 = hidden layer\n",
        "dnnModel.add(Dense(8, activation = 'relu'))\n",
        "# layer 4 = output layer\n",
        "dnnModel.add(Dense(1, activation = 'softmax'))\n",
        "dnnModel.compile(optimizer = 'adam', loss = 'binary_crossentropy', metrics = ['accuracy'])\n",
        "\n",
        "dnnModel.summary()"
      ]
    },
    {
      "cell_type": "code",
      "execution_count": 45,
      "metadata": {
        "id": "UoxqwH6ALR9w",
        "outputId": "2ed2345e-5b6c-4796-b5ce-ece7512ec3ff",
        "colab": {
          "base_uri": "https://localhost:8080/"
        }
      },
      "outputs": [
        {
          "output_type": "stream",
          "name": "stdout",
          "text": [
            "Epoch 1/25\n",
            "11/11 [==============================] - 1s 21ms/step - loss: 0.7316 - accuracy: 0.5014 - val_loss: 0.7000 - val_accuracy: 0.5067\n",
            "Epoch 2/25\n",
            "11/11 [==============================] - 0s 5ms/step - loss: 0.7047 - accuracy: 0.5014 - val_loss: 0.6895 - val_accuracy: 0.5067\n",
            "Epoch 3/25\n",
            "11/11 [==============================] - 0s 6ms/step - loss: 0.6942 - accuracy: 0.5014 - val_loss: 0.6863 - val_accuracy: 0.5067\n",
            "Epoch 4/25\n",
            "11/11 [==============================] - 0s 6ms/step - loss: 0.6926 - accuracy: 0.5014 - val_loss: 0.6864 - val_accuracy: 0.5067\n",
            "Epoch 5/25\n",
            "11/11 [==============================] - 0s 6ms/step - loss: 0.6908 - accuracy: 0.5014 - val_loss: 0.6861 - val_accuracy: 0.5067\n",
            "Epoch 6/25\n",
            "11/11 [==============================] - 0s 5ms/step - loss: 0.6908 - accuracy: 0.5014 - val_loss: 0.6865 - val_accuracy: 0.5067\n",
            "Epoch 7/25\n",
            "11/11 [==============================] - 0s 6ms/step - loss: 0.6884 - accuracy: 0.5014 - val_loss: 0.6858 - val_accuracy: 0.5067\n",
            "Epoch 8/25\n",
            "11/11 [==============================] - 0s 7ms/step - loss: 0.6880 - accuracy: 0.5014 - val_loss: 0.6853 - val_accuracy: 0.5067\n",
            "Epoch 9/25\n",
            "11/11 [==============================] - 0s 7ms/step - loss: 0.6870 - accuracy: 0.5014 - val_loss: 0.6854 - val_accuracy: 0.5067\n",
            "Epoch 10/25\n",
            "11/11 [==============================] - 0s 7ms/step - loss: 0.6862 - accuracy: 0.5014 - val_loss: 0.6851 - val_accuracy: 0.5067\n",
            "Epoch 11/25\n",
            "11/11 [==============================] - 0s 6ms/step - loss: 0.6860 - accuracy: 0.5014 - val_loss: 0.6850 - val_accuracy: 0.5067\n",
            "Epoch 12/25\n",
            "11/11 [==============================] - 0s 7ms/step - loss: 0.6855 - accuracy: 0.5014 - val_loss: 0.6851 - val_accuracy: 0.5067\n",
            "Epoch 13/25\n",
            "11/11 [==============================] - 0s 7ms/step - loss: 0.6855 - accuracy: 0.5014 - val_loss: 0.6850 - val_accuracy: 0.5067\n",
            "Epoch 14/25\n",
            "11/11 [==============================] - 0s 5ms/step - loss: 0.6851 - accuracy: 0.5014 - val_loss: 0.6852 - val_accuracy: 0.5067\n",
            "Epoch 15/25\n",
            "11/11 [==============================] - 0s 7ms/step - loss: 0.6848 - accuracy: 0.5014 - val_loss: 0.6853 - val_accuracy: 0.5067\n",
            "Epoch 16/25\n",
            "11/11 [==============================] - 0s 6ms/step - loss: 0.6845 - accuracy: 0.5014 - val_loss: 0.6853 - val_accuracy: 0.5067\n",
            "Epoch 17/25\n",
            "11/11 [==============================] - 0s 5ms/step - loss: 0.6843 - accuracy: 0.5014 - val_loss: 0.6854 - val_accuracy: 0.5067\n",
            "Epoch 18/25\n",
            "11/11 [==============================] - 0s 5ms/step - loss: 0.6853 - accuracy: 0.5014 - val_loss: 0.6853 - val_accuracy: 0.5067\n",
            "Epoch 19/25\n",
            "11/11 [==============================] - 0s 5ms/step - loss: 0.6840 - accuracy: 0.5014 - val_loss: 0.6851 - val_accuracy: 0.5067\n",
            "Epoch 20/25\n",
            "11/11 [==============================] - 0s 6ms/step - loss: 0.6836 - accuracy: 0.5014 - val_loss: 0.6858 - val_accuracy: 0.5067\n",
            "Epoch 21/25\n",
            "11/11 [==============================] - 0s 7ms/step - loss: 0.6835 - accuracy: 0.5014 - val_loss: 0.6862 - val_accuracy: 0.5067\n",
            "Epoch 22/25\n",
            "11/11 [==============================] - 0s 5ms/step - loss: 0.6829 - accuracy: 0.5014 - val_loss: 0.6872 - val_accuracy: 0.5067\n",
            "Epoch 23/25\n",
            "11/11 [==============================] - 0s 6ms/step - loss: 0.6826 - accuracy: 0.5014 - val_loss: 0.6867 - val_accuracy: 0.5067\n",
            "Epoch 24/25\n",
            "11/11 [==============================] - 0s 5ms/step - loss: 0.6817 - accuracy: 0.5014 - val_loss: 0.6862 - val_accuracy: 0.5067\n",
            "Epoch 25/25\n",
            "11/11 [==============================] - 0s 6ms/step - loss: 0.6819 - accuracy: 0.5014 - val_loss: 0.6865 - val_accuracy: 0.5067\n"
          ]
        }
      ],
      "source": [
        "# Trainning the model\n",
        "h = dnnModel.fit(Xtrain,Ytrain,validation_data = (Xtest, Ytest), epochs = 25,verbose = 1)"
      ]
    },
    {
      "cell_type": "code",
      "execution_count": 45,
      "metadata": {
        "id": "WHbd6l5BLR9w"
      },
      "outputs": [],
      "source": [
        ""
      ]
    }
  ],
  "metadata": {
    "kernelspec": {
      "display_name": "Python 3 (ipykernel)",
      "language": "python",
      "name": "python3"
    },
    "language_info": {
      "codemirror_mode": {
        "name": "ipython",
        "version": 3
      },
      "file_extension": ".py",
      "mimetype": "text/x-python",
      "name": "python",
      "nbconvert_exporter": "python",
      "pygments_lexer": "ipython3",
      "version": "3.7.11"
    },
    "colab": {
      "name": "Copy of DL_Ass1_Prob2.ipynb",
      "provenance": [],
      "collapsed_sections": [],
      "include_colab_link": true
    }
  },
  "nbformat": 4,
  "nbformat_minor": 0
}