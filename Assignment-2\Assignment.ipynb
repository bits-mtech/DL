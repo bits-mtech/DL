{
  "cells": [
    {
      "cell_type": "markdown",
      "metadata": {
        "id": "view-in-github",
        "colab_type": "text"
      },
      "source": [
        "<a href=\"https://colab.research.google.com/github/bits-mtech/DL/blob/main/Assignment-2%5CAssignment.ipynb\" target=\"_parent\"><img src=\"https://colab.research.google.com/assets/colab-badge.svg\" alt=\"Open In Colab\"/></a>"
      ]
    },
    {
      "cell_type": "code",
      "execution_count": 12,
      "metadata": {
        "id": "OCGBvJmmuH3g"
      },
      "outputs": [],
      "source": [
        "# Import Libraries\n",
        "# - Tensorflow\n",
        "# - Keras\n",
        "# - numpy and random\n",
        "\n",
        "import tensorflow as tf\n",
        "from tensorflow.keras import models\n",
        "from tensorflow.keras import layers\n",
        "\n",
        "import random\n",
        "import numpy as np\n",
        "import pandas as pd\n",
        "\n",
        "import matplotlib.pyplot as plt\n",
        "%matplotlib inline\n",
        "import pickle \n",
        "import re"
      ]
    },
    {
      "cell_type": "code",
      "source": [
        "from google.colab import drive\n",
        "drive.mount('/content/drive/')"
      ],
      "metadata": {
        "colab": {
          "base_uri": "https://localhost:8080/"
        },
        "id": "C1-ZJsAs2glz",
        "outputId": "b0ac4840-9857-439f-e0de-dcc06ebf6adf"
      },
      "execution_count": 6,
      "outputs": [
        {
          "output_type": "stream",
          "name": "stdout",
          "text": [
            "Mounted at /content/drive/\n"
          ]
        }
      ]
    },
    {
      "cell_type": "code",
      "execution_count": 2,
      "metadata": {
        "id": "uN0qv841uH3w"
      },
      "outputs": [],
      "source": [
        "random.seed(42)         # Initialize the random number generator.\n",
        "np.random.seed(42)      # With the seed reset, the same set of numbers will appear every time. \n",
        "tf.random.set_seed(42)  # sets the graph-level random seed"
      ]
    },
    {
      "cell_type": "code",
      "source": [
        "# Read the data from the file\n",
        "\n",
        "with open('/content/drive/MyDrive/Colab_Notebooks/set_1.pkl', 'rb') as fid:\n",
        "     data3 = pickle.load(fid)"
      ],
      "metadata": {
        "id": "ZNIN1IDPvD_f"
      },
      "execution_count": 8,
      "outputs": []
    },
    {
      "cell_type": "code",
      "source": [
        "def check_find_punctuations(text):\n",
        "    \n",
        "    # regular expression containing\n",
        "    # all punctuation\n",
        "    result = re.findall(r'[#\\t]*', \n",
        "                        text)\n",
        "      \n",
        "    # form a string\n",
        "    string = \"\".join(result)\n",
        "      \n",
        "    # list of strings return\n",
        "    return list(string)"
      ],
      "metadata": {
        "id": "Buxe1uJV5OJr"
      },
      "execution_count": 13,
      "outputs": []
    },
    {
      "cell_type": "code",
      "source": [
        "image_list = []\n",
        "comment_list = []\n",
        "comment_id_list = []\n",
        "for line in data3:\n",
        "  a = re.split('[?#\\t]', line)\n",
        "  image_list.append(a[0])\n",
        "  comment_id_list.append(a[1])\n",
        "  comment_list.append(a[2])\n",
        "# intialise data of lists.\n",
        "data = {'Image':image_list, 'comment_id':comment_id_list, 'comment': comment_list}\n",
        " \n",
        "# Create DataFrame\n",
        "df = pd.DataFrame(data)\n",
        "df.sort_values(by=['Image','comment_id'],inplace=True)\n",
        "df.reset_index()\n",
        "df.head(10)"
      ],
      "metadata": {
        "colab": {
          "base_uri": "https://localhost:8080/",
          "height": 363
        },
        "id": "By6Md6Uv220k",
        "outputId": "4d065c19-ee26-4be8-83fb-4ef06eee314b"
      },
      "execution_count": 32,
      "outputs": [
        {
          "output_type": "execute_result",
          "data": {
            "text/html": [
              "\n",
              "  <div id=\"df-a0b42702-894c-42b4-926a-b164663b687b\">\n",
              "    <div class=\"colab-df-container\">\n",
              "      <div>\n",
              "<style scoped>\n",
              "    .dataframe tbody tr th:only-of-type {\n",
              "        vertical-align: middle;\n",
              "    }\n",
              "\n",
              "    .dataframe tbody tr th {\n",
              "        vertical-align: top;\n",
              "    }\n",
              "\n",
              "    .dataframe thead th {\n",
              "        text-align: right;\n",
              "    }\n",
              "</style>\n",
              "<table border=\"1\" class=\"dataframe\">\n",
              "  <thead>\n",
              "    <tr style=\"text-align: right;\">\n",
              "      <th></th>\n",
              "      <th>Image</th>\n",
              "      <th>comment_id</th>\n",
              "      <th>comment</th>\n",
              "    </tr>\n",
              "  </thead>\n",
              "  <tbody>\n",
              "    <tr>\n",
              "      <th>10060</th>\n",
              "      <td>1000268201_693b08cb0e.jpg</td>\n",
              "      <td>0</td>\n",
              "      <td>A child in a pink dress be climb up a set of s...</td>\n",
              "    </tr>\n",
              "    <tr>\n",
              "      <th>9037</th>\n",
              "      <td>1000268201_693b08cb0e.jpg</td>\n",
              "      <td>1</td>\n",
              "      <td>A girl go into a wooden building .</td>\n",
              "    </tr>\n",
              "    <tr>\n",
              "      <th>17952</th>\n",
              "      <td>1000268201_693b08cb0e.jpg</td>\n",
              "      <td>2</td>\n",
              "      <td>A little girl climb into a wooden playhouse .</td>\n",
              "    </tr>\n",
              "    <tr>\n",
              "      <th>20907</th>\n",
              "      <td>1000268201_693b08cb0e.jpg</td>\n",
              "      <td>3</td>\n",
              "      <td>A little girl climb the stair to her playhouse .</td>\n",
              "    </tr>\n",
              "    <tr>\n",
              "      <th>22408</th>\n",
              "      <td>1000268201_693b08cb0e.jpg</td>\n",
              "      <td>4</td>\n",
              "      <td>A little girl in a pink dress go into a wooden...</td>\n",
              "    </tr>\n",
              "    <tr>\n",
              "      <th>3144</th>\n",
              "      <td>1001773457_577c3a7d70.jpg</td>\n",
              "      <td>1</td>\n",
              "      <td>A black dog and a tri-colored dog play with ea...</td>\n",
              "    </tr>\n",
              "    <tr>\n",
              "      <th>22138</th>\n",
              "      <td>1001773457_577c3a7d70.jpg</td>\n",
              "      <td>2</td>\n",
              "      <td>A black dog and a white dog with brown spot be...</td>\n",
              "    </tr>\n",
              "    <tr>\n",
              "      <th>23829</th>\n",
              "      <td>1001773457_577c3a7d70.jpg</td>\n",
              "      <td>4</td>\n",
              "      <td>Two dog on pavement move toward each other .</td>\n",
              "    </tr>\n",
              "    <tr>\n",
              "      <th>22788</th>\n",
              "      <td>1002674143_1b742ab4b8.jpg</td>\n",
              "      <td>1</td>\n",
              "      <td>A little girl be sit in front of a large paint...</td>\n",
              "    </tr>\n",
              "    <tr>\n",
              "      <th>17907</th>\n",
              "      <td>1002674143_1b742ab4b8.jpg</td>\n",
              "      <td>3</td>\n",
              "      <td>There be a girl with pigtail sit in front of a...</td>\n",
              "    </tr>\n",
              "  </tbody>\n",
              "</table>\n",
              "</div>\n",
              "      <button class=\"colab-df-convert\" onclick=\"convertToInteractive('df-a0b42702-894c-42b4-926a-b164663b687b')\"\n",
              "              title=\"Convert this dataframe to an interactive table.\"\n",
              "              style=\"display:none;\">\n",
              "        \n",
              "  <svg xmlns=\"http://www.w3.org/2000/svg\" height=\"24px\"viewBox=\"0 0 24 24\"\n",
              "       width=\"24px\">\n",
              "    <path d=\"M0 0h24v24H0V0z\" fill=\"none\"/>\n",
              "    <path d=\"M18.56 5.44l.94 2.06.94-2.06 2.06-.94-2.06-.94-.94-2.06-.94 2.06-2.06.94zm-11 1L8.5 8.5l.94-2.06 2.06-.94-2.06-.94L8.5 2.5l-.94 2.06-2.06.94zm10 10l.94 2.06.94-2.06 2.06-.94-2.06-.94-.94-2.06-.94 2.06-2.06.94z\"/><path d=\"M17.41 7.96l-1.37-1.37c-.4-.4-.92-.59-1.43-.59-.52 0-1.04.2-1.43.59L10.3 9.45l-7.72 7.72c-.78.78-.78 2.05 0 2.83L4 21.41c.39.39.9.59 1.41.59.51 0 1.02-.2 1.41-.59l7.78-7.78 2.81-2.81c.8-.78.8-2.07 0-2.86zM5.41 20L4 18.59l7.72-7.72 1.47 1.35L5.41 20z\"/>\n",
              "  </svg>\n",
              "      </button>\n",
              "      \n",
              "  <style>\n",
              "    .colab-df-container {\n",
              "      display:flex;\n",
              "      flex-wrap:wrap;\n",
              "      gap: 12px;\n",
              "    }\n",
              "\n",
              "    .colab-df-convert {\n",
              "      background-color: #E8F0FE;\n",
              "      border: none;\n",
              "      border-radius: 50%;\n",
              "      cursor: pointer;\n",
              "      display: none;\n",
              "      fill: #1967D2;\n",
              "      height: 32px;\n",
              "      padding: 0 0 0 0;\n",
              "      width: 32px;\n",
              "    }\n",
              "\n",
              "    .colab-df-convert:hover {\n",
              "      background-color: #E2EBFA;\n",
              "      box-shadow: 0px 1px 2px rgba(60, 64, 67, 0.3), 0px 1px 3px 1px rgba(60, 64, 67, 0.15);\n",
              "      fill: #174EA6;\n",
              "    }\n",
              "\n",
              "    [theme=dark] .colab-df-convert {\n",
              "      background-color: #3B4455;\n",
              "      fill: #D2E3FC;\n",
              "    }\n",
              "\n",
              "    [theme=dark] .colab-df-convert:hover {\n",
              "      background-color: #434B5C;\n",
              "      box-shadow: 0px 1px 3px 1px rgba(0, 0, 0, 0.15);\n",
              "      filter: drop-shadow(0px 1px 2px rgba(0, 0, 0, 0.3));\n",
              "      fill: #FFFFFF;\n",
              "    }\n",
              "  </style>\n",
              "\n",
              "      <script>\n",
              "        const buttonEl =\n",
              "          document.querySelector('#df-a0b42702-894c-42b4-926a-b164663b687b button.colab-df-convert');\n",
              "        buttonEl.style.display =\n",
              "          google.colab.kernel.accessAllowed ? 'block' : 'none';\n",
              "\n",
              "        async function convertToInteractive(key) {\n",
              "          const element = document.querySelector('#df-a0b42702-894c-42b4-926a-b164663b687b');\n",
              "          const dataTable =\n",
              "            await google.colab.kernel.invokeFunction('convertToInteractive',\n",
              "                                                     [key], {});\n",
              "          if (!dataTable) return;\n",
              "\n",
              "          const docLinkHtml = 'Like what you see? Visit the ' +\n",
              "            '<a target=\"_blank\" href=https://colab.research.google.com/notebooks/data_table.ipynb>data table notebook</a>'\n",
              "            + ' to learn more about interactive tables.';\n",
              "          element.innerHTML = '';\n",
              "          dataTable['output_type'] = 'display_data';\n",
              "          await google.colab.output.renderOutput(dataTable, element);\n",
              "          const docLink = document.createElement('div');\n",
              "          docLink.innerHTML = docLinkHtml;\n",
              "          element.appendChild(docLink);\n",
              "        }\n",
              "      </script>\n",
              "    </div>\n",
              "  </div>\n",
              "  "
            ],
            "text/plain": [
              "                           Image  ...                                            comment\n",
              "10060  1000268201_693b08cb0e.jpg  ...  A child in a pink dress be climb up a set of s...\n",
              "9037   1000268201_693b08cb0e.jpg  ...                 A girl go into a wooden building .\n",
              "17952  1000268201_693b08cb0e.jpg  ...      A little girl climb into a wooden playhouse .\n",
              "20907  1000268201_693b08cb0e.jpg  ...   A little girl climb the stair to her playhouse .\n",
              "22408  1000268201_693b08cb0e.jpg  ...  A little girl in a pink dress go into a wooden...\n",
              "3144   1001773457_577c3a7d70.jpg  ...  A black dog and a tri-colored dog play with ea...\n",
              "22138  1001773457_577c3a7d70.jpg  ...  A black dog and a white dog with brown spot be...\n",
              "23829  1001773457_577c3a7d70.jpg  ...       Two dog on pavement move toward each other .\n",
              "22788  1002674143_1b742ab4b8.jpg  ...  A little girl be sit in front of a large paint...\n",
              "17907  1002674143_1b742ab4b8.jpg  ...  There be a girl with pigtail sit in front of a...\n",
              "\n",
              "[10 rows x 3 columns]"
            ]
          },
          "metadata": {},
          "execution_count": 32
        }
      ]
    }
  ],
  "metadata": {
    "interpreter": {
      "hash": "73e03da126b73bfff3642ec5261d56fa25c444ea595de51041687efaa60dda41"
    },
    "kernelspec": {
      "display_name": "Python 3.9.7 ('base')",
      "language": "python",
      "name": "python3"
    },
    "language_info": {
      "codemirror_mode": {
        "name": "ipython",
        "version": 3
      },
      "file_extension": ".py",
      "mimetype": "text/x-python",
      "name": "python",
      "nbconvert_exporter": "python",
      "pygments_lexer": "ipython3",
      "version": "3.9.7"
    },
    "orig_nbformat": 4,
    "colab": {
      "name": "Copy of Assignment.ipynb",
      "provenance": [],
      "collapsed_sections": [],
      "include_colab_link": true
    }
  },
  "nbformat": 4,
  "nbformat_minor": 0
}